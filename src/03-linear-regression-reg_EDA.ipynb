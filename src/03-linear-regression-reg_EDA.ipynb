{
 "cells": [
  {
   "cell_type": "markdown",
   "id": "04c07063",
   "metadata": {},
   "source": [
    "# Regularized Linear Regression - EDA and Preprocessing\n",
    "\n",
    "In this notebook, we will perform comprehensive **Exploratory Data Analysis (EDA)** and **data preprocessing** to prepare a US county-level sociodemographic and health dataset for regularized linear regression modeling.\n",
    "\n",
    "The main steps are:\n",
    "1. **Data Loading and Exploration**: Load and examine the dataset structure, target variable, and key features\n",
    "2. **Feature Engineering**: Create meaningful features, handle categorical variables, and consolidate age groups\n",
    "3. **Feature Selection**: Select relevant features based on correlation analysis and domain knowledge\n",
    "4. **Data Preprocessing**: Handle outliers, split data, and scale features for modeling\n",
    "\n",
    "**Target Variable**: `Heart disease_prevalence` - Percentage of adults with heart disease in each US county\n",
    "\n",
    "This analysis will prepare clean, well-engineered features ready for regularized linear regression modeling."
   ]
  },
  {
   "cell_type": "markdown",
   "id": "ebfe97b0",
   "metadata": {},
   "source": [
    "## 1. Data Loading and Exploration"
   ]
  },
  {
   "cell_type": "code",
   "execution_count": 4,
   "id": "cbe8d10c",
   "metadata": {},
   "outputs": [],
   "source": [
    "import pandas as pd\n",
    "import numpy as np\n",
    "import matplotlib.pyplot as plt\n",
    "import seaborn as sns\n",
    "from sklearn.model_selection import train_test_split\n",
    "from sklearn.linear_model import LinearRegression, Lasso\n",
    "from sklearn.preprocessing import StandardScaler, LabelEncoder\n",
    "from sklearn.metrics import mean_squared_error, r2_score, mean_absolute_error\n",
    "from scipy.stats import mstats\n",
    "import warnings\n",
    "import os\n",
    "\n",
    "warnings.filterwarnings('ignore')\n"
   ]
  },
  {
   "cell_type": "code",
   "execution_count": 5,
   "id": "3c5207bc",
   "metadata": {},
   "outputs": [
    {
     "data": {
      "application/vnd.microsoft.datawrangler.viewer.v0+json": {
       "columns": [
        {
         "name": "index",
         "rawType": "int64",
         "type": "integer"
        },
        {
         "name": "fips",
         "rawType": "int64",
         "type": "integer"
        },
        {
         "name": "TOT_POP",
         "rawType": "int64",
         "type": "integer"
        },
        {
         "name": "0-9",
         "rawType": "int64",
         "type": "integer"
        },
        {
         "name": "0-9 y/o % of total pop",
         "rawType": "float64",
         "type": "float"
        },
        {
         "name": "19-Oct",
         "rawType": "int64",
         "type": "integer"
        },
        {
         "name": "10-19 y/o % of total pop",
         "rawType": "float64",
         "type": "float"
        },
        {
         "name": "20-29",
         "rawType": "int64",
         "type": "integer"
        },
        {
         "name": "20-29 y/o % of total pop",
         "rawType": "float64",
         "type": "float"
        },
        {
         "name": "30-39",
         "rawType": "int64",
         "type": "integer"
        },
        {
         "name": "30-39 y/o % of total pop",
         "rawType": "float64",
         "type": "float"
        },
        {
         "name": "40-49",
         "rawType": "int64",
         "type": "integer"
        },
        {
         "name": "40-49 y/o % of total pop",
         "rawType": "float64",
         "type": "float"
        },
        {
         "name": "50-59",
         "rawType": "int64",
         "type": "integer"
        },
        {
         "name": "50-59 y/o % of total pop",
         "rawType": "float64",
         "type": "float"
        },
        {
         "name": "60-69",
         "rawType": "int64",
         "type": "integer"
        },
        {
         "name": "60-69 y/o % of total pop",
         "rawType": "float64",
         "type": "float"
        },
        {
         "name": "70-79",
         "rawType": "int64",
         "type": "integer"
        },
        {
         "name": "70-79 y/o % of total pop",
         "rawType": "float64",
         "type": "float"
        },
        {
         "name": "80+",
         "rawType": "int64",
         "type": "integer"
        },
        {
         "name": "80+ y/o % of total pop",
         "rawType": "float64",
         "type": "float"
        },
        {
         "name": "White-alone pop",
         "rawType": "int64",
         "type": "integer"
        },
        {
         "name": "% White-alone",
         "rawType": "float64",
         "type": "float"
        },
        {
         "name": "Black-alone pop",
         "rawType": "int64",
         "type": "integer"
        },
        {
         "name": "% Black-alone",
         "rawType": "float64",
         "type": "float"
        },
        {
         "name": "Native American/American Indian-alone pop",
         "rawType": "int64",
         "type": "integer"
        },
        {
         "name": "% NA/AI-alone",
         "rawType": "float64",
         "type": "float"
        },
        {
         "name": "Asian-alone pop",
         "rawType": "int64",
         "type": "integer"
        },
        {
         "name": "% Asian-alone",
         "rawType": "float64",
         "type": "float"
        },
        {
         "name": "Hawaiian/Pacific Islander-alone pop",
         "rawType": "int64",
         "type": "integer"
        },
        {
         "name": "% Hawaiian/PI-alone",
         "rawType": "float64",
         "type": "float"
        },
        {
         "name": "Two or more races pop",
         "rawType": "int64",
         "type": "integer"
        },
        {
         "name": "% Two or more races",
         "rawType": "float64",
         "type": "float"
        },
        {
         "name": "POP_ESTIMATE_2018",
         "rawType": "int64",
         "type": "integer"
        },
        {
         "name": "N_POP_CHG_2018",
         "rawType": "int64",
         "type": "integer"
        },
        {
         "name": "GQ_ESTIMATES_2018",
         "rawType": "int64",
         "type": "integer"
        },
        {
         "name": "R_birth_2018",
         "rawType": "float64",
         "type": "float"
        },
        {
         "name": "R_death_2018",
         "rawType": "float64",
         "type": "float"
        },
        {
         "name": "R_NATURAL_INC_2018",
         "rawType": "float64",
         "type": "float"
        },
        {
         "name": "R_INTERNATIONAL_MIG_2018",
         "rawType": "float64",
         "type": "float"
        },
        {
         "name": "R_DOMESTIC_MIG_2018",
         "rawType": "float64",
         "type": "float"
        },
        {
         "name": "R_NET_MIG_2018",
         "rawType": "float64",
         "type": "float"
        },
        {
         "name": "Less than a high school diploma 2014-18",
         "rawType": "int64",
         "type": "integer"
        },
        {
         "name": "High school diploma only 2014-18",
         "rawType": "int64",
         "type": "integer"
        },
        {
         "name": "Some college or associate's degree 2014-18",
         "rawType": "int64",
         "type": "integer"
        },
        {
         "name": "Bachelor's degree or higher 2014-18",
         "rawType": "int64",
         "type": "integer"
        },
        {
         "name": "Percent of adults with less than a high school diploma 2014-18",
         "rawType": "float64",
         "type": "float"
        },
        {
         "name": "Percent of adults with a high school diploma only 2014-18",
         "rawType": "float64",
         "type": "float"
        },
        {
         "name": "Percent of adults completing some college or associate's degree 2014-18",
         "rawType": "float64",
         "type": "float"
        },
        {
         "name": "Percent of adults with a bachelor's degree or higher 2014-18",
         "rawType": "float64",
         "type": "float"
        },
        {
         "name": "POVALL_2018",
         "rawType": "int64",
         "type": "integer"
        },
        {
         "name": "PCTPOVALL_2018",
         "rawType": "float64",
         "type": "float"
        },
        {
         "name": "PCTPOV017_2018",
         "rawType": "float64",
         "type": "float"
        },
        {
         "name": "PCTPOV517_2018",
         "rawType": "float64",
         "type": "float"
        },
        {
         "name": "MEDHHINC_2018",
         "rawType": "int64",
         "type": "integer"
        },
        {
         "name": "CI90LBINC_2018",
         "rawType": "int64",
         "type": "integer"
        },
        {
         "name": "CI90UBINC_2018",
         "rawType": "int64",
         "type": "integer"
        },
        {
         "name": "Civilian_labor_force_2018",
         "rawType": "int64",
         "type": "integer"
        },
        {
         "name": "Employed_2018",
         "rawType": "int64",
         "type": "integer"
        },
        {
         "name": "Unemployed_2018",
         "rawType": "int64",
         "type": "integer"
        },
        {
         "name": "Unemployment_rate_2018",
         "rawType": "float64",
         "type": "float"
        },
        {
         "name": "Median_Household_Income_2018",
         "rawType": "int64",
         "type": "integer"
        },
        {
         "name": "Med_HH_Income_Percent_of_State_Total_2018",
         "rawType": "float64",
         "type": "float"
        },
        {
         "name": "Active Physicians per 100000 Population 2018 (AAMC)",
         "rawType": "float64",
         "type": "float"
        },
        {
         "name": "Total Active Patient Care Physicians per 100000 Population 2018 (AAMC)",
         "rawType": "float64",
         "type": "float"
        },
        {
         "name": "Active Primary Care Physicians per 100000 Population 2018 (AAMC)",
         "rawType": "float64",
         "type": "float"
        },
        {
         "name": "Active Patient Care Primary Care Physicians per 100000 Population 2018 (AAMC)",
         "rawType": "float64",
         "type": "float"
        },
        {
         "name": "Active General Surgeons per 100000 Population 2018 (AAMC)",
         "rawType": "float64",
         "type": "float"
        },
        {
         "name": "Active Patient Care General Surgeons per 100000 Population 2018 (AAMC)",
         "rawType": "float64",
         "type": "float"
        },
        {
         "name": "Total nurse practitioners (2019)",
         "rawType": "float64",
         "type": "float"
        },
        {
         "name": "Total physician assistants (2019)",
         "rawType": "float64",
         "type": "float"
        },
        {
         "name": "Total Hospitals (2019)",
         "rawType": "float64",
         "type": "float"
        },
        {
         "name": "Internal Medicine Primary Care (2019)",
         "rawType": "float64",
         "type": "float"
        },
        {
         "name": "Family Medicine/General Practice Primary Care (2019)",
         "rawType": "float64",
         "type": "float"
        },
        {
         "name": "Total Specialist Physicians (2019)",
         "rawType": "float64",
         "type": "float"
        },
        {
         "name": "ICU Beds_x",
         "rawType": "int64",
         "type": "integer"
        },
        {
         "name": "Total Population",
         "rawType": "int64",
         "type": "integer"
        },
        {
         "name": "Population Aged 60+",
         "rawType": "int64",
         "type": "integer"
        },
        {
         "name": "Percent of Population Aged 60+",
         "rawType": "float64",
         "type": "float"
        },
        {
         "name": "COUNTY_NAME",
         "rawType": "object",
         "type": "string"
        },
        {
         "name": "STATE_NAME",
         "rawType": "object",
         "type": "string"
        },
        {
         "name": "STATE_FIPS",
         "rawType": "int64",
         "type": "integer"
        },
        {
         "name": "CNTY_FIPS",
         "rawType": "int64",
         "type": "integer"
        },
        {
         "name": "county_pop2018_18 and older",
         "rawType": "int64",
         "type": "integer"
        },
        {
         "name": "anycondition_prevalence",
         "rawType": "float64",
         "type": "float"
        },
        {
         "name": "anycondition_Lower 95% CI",
         "rawType": "float64",
         "type": "float"
        },
        {
         "name": "anycondition_Upper 95% CI",
         "rawType": "float64",
         "type": "float"
        },
        {
         "name": "anycondition_number",
         "rawType": "int64",
         "type": "integer"
        },
        {
         "name": "Obesity_prevalence",
         "rawType": "float64",
         "type": "float"
        },
        {
         "name": "Obesity_Lower 95% CI",
         "rawType": "float64",
         "type": "float"
        },
        {
         "name": "Obesity_Upper 95% CI",
         "rawType": "float64",
         "type": "float"
        },
        {
         "name": "Obesity_number",
         "rawType": "int64",
         "type": "integer"
        },
        {
         "name": "Heart disease_prevalence",
         "rawType": "float64",
         "type": "float"
        },
        {
         "name": "Heart disease_Lower 95% CI",
         "rawType": "float64",
         "type": "float"
        },
        {
         "name": "Heart disease_Upper 95% CI",
         "rawType": "float64",
         "type": "float"
        },
        {
         "name": "Heart disease_number",
         "rawType": "int64",
         "type": "integer"
        },
        {
         "name": "COPD_prevalence",
         "rawType": "float64",
         "type": "float"
        },
        {
         "name": "COPD_Lower 95% CI",
         "rawType": "float64",
         "type": "float"
        },
        {
         "name": "COPD_Upper 95% CI",
         "rawType": "float64",
         "type": "float"
        },
        {
         "name": "COPD_number",
         "rawType": "int64",
         "type": "integer"
        },
        {
         "name": "diabetes_prevalence",
         "rawType": "float64",
         "type": "float"
        },
        {
         "name": "diabetes_Lower 95% CI",
         "rawType": "float64",
         "type": "float"
        },
        {
         "name": "diabetes_Upper 95% CI",
         "rawType": "float64",
         "type": "float"
        },
        {
         "name": "diabetes_number",
         "rawType": "int64",
         "type": "integer"
        },
        {
         "name": "CKD_prevalence",
         "rawType": "float64",
         "type": "float"
        },
        {
         "name": "CKD_Lower 95% CI",
         "rawType": "float64",
         "type": "float"
        },
        {
         "name": "CKD_Upper 95% CI",
         "rawType": "float64",
         "type": "float"
        },
        {
         "name": "CKD_number",
         "rawType": "int64",
         "type": "integer"
        },
        {
         "name": "Urban_rural_code",
         "rawType": "int64",
         "type": "integer"
        }
       ],
       "ref": "cd044323-ebd0-48d8-b208-2a95338c805c",
       "rows": [
        [
         "0",
         "1001",
         "55601",
         "6787",
         "12.20661499",
         "7637",
         "13.73536447",
         "6878",
         "12.37028111",
         "7089",
         "12.74977069",
         "7582",
         "13.63644539",
         "7738",
         "13.91701588",
         "5826",
         "10.47822881",
         "4050",
         "7.284041654",
         "2014",
         "3.62223701",
         "42660",
         "76.72523875",
         "10915",
         "19.63094189",
         "267",
         "0.480207191",
         "681",
         "1.224798115",
         "62",
         "0.111508786",
         "1016",
         "1.827305264",
         "55601",
         "158",
         "455",
         "11.8",
         "9.6",
         "2.2",
         "0.0",
         "0.7",
         "0.6",
         "4204",
         "12119",
         "10552",
         "10291",
         "11.3",
         "32.6",
         "28.4",
         "27.7",
         "7587",
         "13.8",
         "19.3",
         "19.5",
         "59338",
         "53628",
         "65048",
         "25957",
         "25015",
         "942",
         "3.6",
         "59338",
         "119.0",
         "217.1",
         "196.7",
         "77.2",
         "71.2",
         "7.6",
         "6.9",
         "28.85913663",
         "6.085785611",
         "1.148905321",
         "25.99256097",
         "21.24906079",
         "72.14215392",
         "6",
         "55036",
         "10523",
         "19.1",
         "Autauga",
         "Alabama",
         "1",
         "1",
         "42438",
         "47.6",
         "45.4",
         "49.4",
         "20181",
         "35.8",
         "34.2",
         "37.3",
         "15193",
         "7.9",
         "7.2",
         "8.7",
         "3345",
         "8.6",
         "7.3",
         "9.9",
         "3644",
         "12.9",
         "11.9",
         "13.8",
         "5462",
         "3.1",
         "2.9",
         "3.3",
         "1326",
         "3"
        ],
        [
         "1",
         "1003",
         "218022",
         "24757",
         "11.35527607",
         "26913",
         "12.3441671",
         "23579",
         "10.81496363",
         "25213",
         "11.56442928",
         "27338",
         "12.53910156",
         "29986",
         "13.75365789",
         "29932",
         "13.72888975",
         "20936",
         "9.602700645",
         "9368",
         "4.296814083",
         "190301",
         "87.2852281",
         "19492",
         "8.940382163",
         "1684",
         "0.772399116",
         "2508",
         "1.150342626",
         "146",
         "0.066965719",
         "3891",
         "1.78468228",
         "218022",
         "5403",
         "2190",
         "10.5",
         "10.3",
         "0.1",
         "0.5",
         "24.3",
         "24.8",
         "14310",
         "40579",
         "46025",
         "46075",
         "9.7",
         "27.6",
         "31.3",
         "31.3",
         "21069",
         "9.8",
         "13.9",
         "13.1",
         "57588",
         "54437",
         "60739",
         "93849",
         "90456",
         "3393",
         "3.6",
         "57588",
         "115.5",
         "217.1",
         "196.7",
         "77.2",
         "71.2",
         "7.6",
         "6.9",
         "113.1621137",
         "23.86351236",
         "4.505074295",
         "101.9217303",
         "83.32157211",
         "282.882982",
         "51",
         "203360",
         "53519",
         "26.3",
         "Baldwin",
         "Alabama",
         "1",
         "3",
         "170912",
         "40.2",
         "38.2",
         "42.3",
         "68790",
         "29.7",
         "28.4",
         "31.0",
         "50761",
         "7.8",
         "7.0",
         "8.7",
         "13414",
         "8.6",
         "7.2",
         "10.1",
         "14692",
         "12.0",
         "11.0",
         "13.1",
         "20520",
         "3.2",
         "3.0",
         "3.5",
         "5479",
         "4"
        ],
        [
         "2",
         "1005",
         "24881",
         "2732",
         "10.98026607",
         "2960",
         "11.89662795",
         "3268",
         "13.13452032",
         "3201",
         "12.86523854",
         "3074",
         "12.35480889",
         "3278",
         "13.17471163",
         "3076",
         "12.36284715",
         "2244",
         "9.018930107",
         "1048",
         "4.212049355",
         "12209",
         "49.06957116",
         "12042",
         "48.39837627",
         "164",
         "0.659137495",
         "113",
         "0.45416181",
         "46",
         "0.184880029",
         "307",
         "1.233873237",
         "24881",
         "-277",
         "2820",
         "10.4",
         "12.9",
         "-2.5",
         "0.5",
         "-9.1",
         "-8.6",
         "4901",
         "6486",
         "4566",
         "2220",
         "27.0",
         "35.7",
         "25.1",
         "12.2",
         "6788",
         "30.9",
         "43.9",
         "36.7",
         "34382",
         "31157",
         "37607",
         "8373",
         "7940",
         "433",
         "5.2",
         "34382",
         "68.9",
         "217.1",
         "196.7",
         "77.2",
         "71.2",
         "7.6",
         "6.9",
         "12.91423137",
         "2.72334008",
         "0.514125884",
         "11.63146184",
         "9.508783681",
         "32.28303325",
         "5",
         "26201",
         "6150",
         "23.5",
         "Barbour",
         "Alabama",
         "1",
         "5",
         "19689",
         "57.5",
         "55.6",
         "59.1",
         "11325",
         "40.7",
         "39.5",
         "41.9",
         "8013",
         "11.0",
         "10.1",
         "11.8",
         "2159",
         "12.1",
         "10.7",
         "13.3",
         "2373",
         "19.7",
         "18.6",
         "20.6",
         "3870",
         "4.5",
         "4.2",
         "4.8",
         "887",
         "6"
        ],
        [
         "3",
         "1007",
         "22400",
         "2456",
         "10.96428571",
         "2596",
         "11.58928571",
         "3029",
         "13.52232143",
         "3113",
         "13.89732143",
         "3038",
         "13.5625",
         "3115",
         "13.90625",
         "2545",
         "11.36160714",
         "1723",
         "7.691964286",
         "785",
         "3.504464286",
         "17211",
         "76.83482143",
         "4770",
         "21.29464286",
         "98",
         "0.4375",
         "53",
         "0.236607143",
         "26",
         "0.116071429",
         "242",
         "1.080357143",
         "22400",
         "-155",
         "2151",
         "11.1",
         "11.4",
         "-0.3",
         "0.4",
         "-7.0",
         "-6.6",
         "2650",
         "7471",
         "3846",
         "1813",
         "16.8",
         "47.3",
         "24.4",
         "11.5",
         "4400",
         "21.8",
         "27.8",
         "26.3",
         "46064",
         "41283",
         "50845",
         "8661",
         "8317",
         "344",
         "4.0",
         "46064",
         "92.3",
         "217.1",
         "196.7",
         "77.2",
         "71.2",
         "7.6",
         "6.9",
         "11.62649342",
         "2.4517832",
         "0.462860006",
         "10.47163479",
         "8.560618723",
         "29.06394215",
         "0",
         "22580",
         "4773",
         "21.1",
         "Bibb",
         "Alabama",
         "1",
         "7",
         "17813",
         "51.6",
         "49.6",
         "53.4",
         "9190",
         "38.7",
         "37.4",
         "40.2",
         "6894",
         "8.6",
         "7.9",
         "9.3",
         "1533",
         "10.0",
         "8.8",
         "11.3",
         "1789",
         "14.1",
         "13.2",
         "14.9",
         "2511",
         "3.3",
         "3.1",
         "3.6",
         "595",
         "2"
        ],
        [
         "4",
         "1009",
         "57840",
         "7095",
         "12.26659751",
         "7570",
         "13.08782849",
         "6742",
         "11.65629322",
         "6884",
         "11.90179806",
         "7474",
         "12.92185339",
         "7844",
         "13.5615491",
         "6965",
         "12.04183956",
         "4931",
         "8.525242047",
         "2335",
         "4.036998617",
         "55456",
         "95.87828492",
         "950",
         "1.642461964",
         "378",
         "0.653526971",
         "185",
         "0.319847856",
         "70",
         "0.121023513",
         "801",
         "1.384854772",
         "57840",
         "13",
         "489",
         "11.8",
         "11.4",
         "0.3",
         "0.1",
         "-0.2",
         "0.0",
         "7861",
         "13489",
         "13267",
         "5010",
         "19.8",
         "34.0",
         "33.5",
         "12.6",
         "7527",
         "13.2",
         "18.0",
         "15.5",
         "50412",
         "46157",
         "54667",
         "25006",
         "24128",
         "878",
         "3.5",
         "50412",
         "101.1",
         "217.1",
         "196.7",
         "77.2",
         "71.2",
         "7.6",
         "6.9",
         "30.02126693",
         "6.330854476",
         "1.195170658",
         "27.03925697",
         "22.10474049",
         "75.04725063",
         "6",
         "57667",
         "13600",
         "23.6",
         "Blount",
         "Alabama",
         "1",
         "9",
         "44448",
         "46.3",
         "44.3",
         "48.4",
         "20584",
         "34.0",
         "32.4",
         "35.5",
         "15112",
         "9.2",
         "8.4",
         "10.1",
         "4101",
         "10.5",
         "9.1",
         "12.0",
         "4661",
         "13.5",
         "12.6",
         "14.5",
         "6017",
         "3.4",
         "3.2",
         "3.7",
         "1507",
         "2"
        ]
       ],
       "shape": {
        "columns": 108,
        "rows": 5
       }
      },
      "text/html": [
       "<div>\n",
       "<style scoped>\n",
       "    .dataframe tbody tr th:only-of-type {\n",
       "        vertical-align: middle;\n",
       "    }\n",
       "\n",
       "    .dataframe tbody tr th {\n",
       "        vertical-align: top;\n",
       "    }\n",
       "\n",
       "    .dataframe thead th {\n",
       "        text-align: right;\n",
       "    }\n",
       "</style>\n",
       "<table border=\"1\" class=\"dataframe\">\n",
       "  <thead>\n",
       "    <tr style=\"text-align: right;\">\n",
       "      <th></th>\n",
       "      <th>fips</th>\n",
       "      <th>TOT_POP</th>\n",
       "      <th>0-9</th>\n",
       "      <th>0-9 y/o % of total pop</th>\n",
       "      <th>19-Oct</th>\n",
       "      <th>10-19 y/o % of total pop</th>\n",
       "      <th>20-29</th>\n",
       "      <th>20-29 y/o % of total pop</th>\n",
       "      <th>30-39</th>\n",
       "      <th>30-39 y/o % of total pop</th>\n",
       "      <th>...</th>\n",
       "      <th>COPD_number</th>\n",
       "      <th>diabetes_prevalence</th>\n",
       "      <th>diabetes_Lower 95% CI</th>\n",
       "      <th>diabetes_Upper 95% CI</th>\n",
       "      <th>diabetes_number</th>\n",
       "      <th>CKD_prevalence</th>\n",
       "      <th>CKD_Lower 95% CI</th>\n",
       "      <th>CKD_Upper 95% CI</th>\n",
       "      <th>CKD_number</th>\n",
       "      <th>Urban_rural_code</th>\n",
       "    </tr>\n",
       "  </thead>\n",
       "  <tbody>\n",
       "    <tr>\n",
       "      <th>0</th>\n",
       "      <td>1001</td>\n",
       "      <td>55601</td>\n",
       "      <td>6787</td>\n",
       "      <td>12.206615</td>\n",
       "      <td>7637</td>\n",
       "      <td>13.735364</td>\n",
       "      <td>6878</td>\n",
       "      <td>12.370281</td>\n",
       "      <td>7089</td>\n",
       "      <td>12.749771</td>\n",
       "      <td>...</td>\n",
       "      <td>3644</td>\n",
       "      <td>12.9</td>\n",
       "      <td>11.9</td>\n",
       "      <td>13.8</td>\n",
       "      <td>5462</td>\n",
       "      <td>3.1</td>\n",
       "      <td>2.9</td>\n",
       "      <td>3.3</td>\n",
       "      <td>1326</td>\n",
       "      <td>3</td>\n",
       "    </tr>\n",
       "    <tr>\n",
       "      <th>1</th>\n",
       "      <td>1003</td>\n",
       "      <td>218022</td>\n",
       "      <td>24757</td>\n",
       "      <td>11.355276</td>\n",
       "      <td>26913</td>\n",
       "      <td>12.344167</td>\n",
       "      <td>23579</td>\n",
       "      <td>10.814964</td>\n",
       "      <td>25213</td>\n",
       "      <td>11.564429</td>\n",
       "      <td>...</td>\n",
       "      <td>14692</td>\n",
       "      <td>12.0</td>\n",
       "      <td>11.0</td>\n",
       "      <td>13.1</td>\n",
       "      <td>20520</td>\n",
       "      <td>3.2</td>\n",
       "      <td>3.0</td>\n",
       "      <td>3.5</td>\n",
       "      <td>5479</td>\n",
       "      <td>4</td>\n",
       "    </tr>\n",
       "    <tr>\n",
       "      <th>2</th>\n",
       "      <td>1005</td>\n",
       "      <td>24881</td>\n",
       "      <td>2732</td>\n",
       "      <td>10.980266</td>\n",
       "      <td>2960</td>\n",
       "      <td>11.896628</td>\n",
       "      <td>3268</td>\n",
       "      <td>13.134520</td>\n",
       "      <td>3201</td>\n",
       "      <td>12.865239</td>\n",
       "      <td>...</td>\n",
       "      <td>2373</td>\n",
       "      <td>19.7</td>\n",
       "      <td>18.6</td>\n",
       "      <td>20.6</td>\n",
       "      <td>3870</td>\n",
       "      <td>4.5</td>\n",
       "      <td>4.2</td>\n",
       "      <td>4.8</td>\n",
       "      <td>887</td>\n",
       "      <td>6</td>\n",
       "    </tr>\n",
       "    <tr>\n",
       "      <th>3</th>\n",
       "      <td>1007</td>\n",
       "      <td>22400</td>\n",
       "      <td>2456</td>\n",
       "      <td>10.964286</td>\n",
       "      <td>2596</td>\n",
       "      <td>11.589286</td>\n",
       "      <td>3029</td>\n",
       "      <td>13.522321</td>\n",
       "      <td>3113</td>\n",
       "      <td>13.897321</td>\n",
       "      <td>...</td>\n",
       "      <td>1789</td>\n",
       "      <td>14.1</td>\n",
       "      <td>13.2</td>\n",
       "      <td>14.9</td>\n",
       "      <td>2511</td>\n",
       "      <td>3.3</td>\n",
       "      <td>3.1</td>\n",
       "      <td>3.6</td>\n",
       "      <td>595</td>\n",
       "      <td>2</td>\n",
       "    </tr>\n",
       "    <tr>\n",
       "      <th>4</th>\n",
       "      <td>1009</td>\n",
       "      <td>57840</td>\n",
       "      <td>7095</td>\n",
       "      <td>12.266598</td>\n",
       "      <td>7570</td>\n",
       "      <td>13.087828</td>\n",
       "      <td>6742</td>\n",
       "      <td>11.656293</td>\n",
       "      <td>6884</td>\n",
       "      <td>11.901798</td>\n",
       "      <td>...</td>\n",
       "      <td>4661</td>\n",
       "      <td>13.5</td>\n",
       "      <td>12.6</td>\n",
       "      <td>14.5</td>\n",
       "      <td>6017</td>\n",
       "      <td>3.4</td>\n",
       "      <td>3.2</td>\n",
       "      <td>3.7</td>\n",
       "      <td>1507</td>\n",
       "      <td>2</td>\n",
       "    </tr>\n",
       "  </tbody>\n",
       "</table>\n",
       "<p>5 rows × 108 columns</p>\n",
       "</div>"
      ],
      "text/plain": [
       "   fips  TOT_POP    0-9  0-9 y/o % of total pop  19-Oct  \\\n",
       "0  1001    55601   6787               12.206615    7637   \n",
       "1  1003   218022  24757               11.355276   26913   \n",
       "2  1005    24881   2732               10.980266    2960   \n",
       "3  1007    22400   2456               10.964286    2596   \n",
       "4  1009    57840   7095               12.266598    7570   \n",
       "\n",
       "   10-19 y/o % of total pop  20-29  20-29 y/o % of total pop  30-39  \\\n",
       "0                 13.735364   6878                 12.370281   7089   \n",
       "1                 12.344167  23579                 10.814964  25213   \n",
       "2                 11.896628   3268                 13.134520   3201   \n",
       "3                 11.589286   3029                 13.522321   3113   \n",
       "4                 13.087828   6742                 11.656293   6884   \n",
       "\n",
       "   30-39 y/o % of total pop  ...  COPD_number  diabetes_prevalence  \\\n",
       "0                 12.749771  ...         3644                 12.9   \n",
       "1                 11.564429  ...        14692                 12.0   \n",
       "2                 12.865239  ...         2373                 19.7   \n",
       "3                 13.897321  ...         1789                 14.1   \n",
       "4                 11.901798  ...         4661                 13.5   \n",
       "\n",
       "   diabetes_Lower 95% CI  diabetes_Upper 95% CI  diabetes_number  \\\n",
       "0                   11.9                   13.8             5462   \n",
       "1                   11.0                   13.1            20520   \n",
       "2                   18.6                   20.6             3870   \n",
       "3                   13.2                   14.9             2511   \n",
       "4                   12.6                   14.5             6017   \n",
       "\n",
       "   CKD_prevalence  CKD_Lower 95% CI  CKD_Upper 95% CI  CKD_number  \\\n",
       "0             3.1               2.9               3.3        1326   \n",
       "1             3.2               3.0               3.5        5479   \n",
       "2             4.5               4.2               4.8         887   \n",
       "3             3.3               3.1               3.6         595   \n",
       "4             3.4               3.2               3.7        1507   \n",
       "\n",
       "   Urban_rural_code  \n",
       "0                 3  \n",
       "1                 4  \n",
       "2                 6  \n",
       "3                 2  \n",
       "4                 2  \n",
       "\n",
       "[5 rows x 108 columns]"
      ]
     },
     "execution_count": 5,
     "metadata": {},
     "output_type": "execute_result"
    }
   ],
   "source": [
    "\n",
    "df = pd.read_csv('/workspaces/tgedin_machine_learning_python_template/data/demographic_health_data.csv')\n",
    "\n",
    "df.head()\n"
   ]
  },
  {
   "cell_type": "code",
   "execution_count": 6,
   "id": "8e0d7abf",
   "metadata": {},
   "outputs": [
    {
     "data": {
      "application/vnd.microsoft.datawrangler.viewer.v0+json": {
       "columns": [
        {
         "name": "index",
         "rawType": "object",
         "type": "string"
        },
        {
         "name": "0",
         "rawType": "object",
         "type": "unknown"
        }
       ],
       "ref": "aa6d8ef4-0067-4cb8-9ee3-72181db9636e",
       "rows": [
        [
         "fips",
         "int64"
        ],
        [
         "TOT_POP",
         "int64"
        ],
        [
         "0-9",
         "int64"
        ],
        [
         "0-9 y/o % of total pop",
         "float64"
        ],
        [
         "19-Oct",
         "int64"
        ],
        [
         "10-19 y/o % of total pop",
         "float64"
        ],
        [
         "20-29",
         "int64"
        ],
        [
         "20-29 y/o % of total pop",
         "float64"
        ],
        [
         "30-39",
         "int64"
        ],
        [
         "30-39 y/o % of total pop",
         "float64"
        ],
        [
         "40-49",
         "int64"
        ],
        [
         "40-49 y/o % of total pop",
         "float64"
        ],
        [
         "50-59",
         "int64"
        ],
        [
         "50-59 y/o % of total pop",
         "float64"
        ],
        [
         "60-69",
         "int64"
        ],
        [
         "60-69 y/o % of total pop",
         "float64"
        ],
        [
         "70-79",
         "int64"
        ],
        [
         "70-79 y/o % of total pop",
         "float64"
        ],
        [
         "80+",
         "int64"
        ],
        [
         "80+ y/o % of total pop",
         "float64"
        ],
        [
         "White-alone pop",
         "int64"
        ],
        [
         "% White-alone",
         "float64"
        ],
        [
         "Black-alone pop",
         "int64"
        ],
        [
         "% Black-alone",
         "float64"
        ],
        [
         "Native American/American Indian-alone pop",
         "int64"
        ],
        [
         "% NA/AI-alone",
         "float64"
        ],
        [
         "Asian-alone pop",
         "int64"
        ],
        [
         "% Asian-alone",
         "float64"
        ],
        [
         "Hawaiian/Pacific Islander-alone pop",
         "int64"
        ],
        [
         "% Hawaiian/PI-alone",
         "float64"
        ],
        [
         "Two or more races pop",
         "int64"
        ],
        [
         "% Two or more races",
         "float64"
        ],
        [
         "POP_ESTIMATE_2018",
         "int64"
        ],
        [
         "N_POP_CHG_2018",
         "int64"
        ],
        [
         "GQ_ESTIMATES_2018",
         "int64"
        ],
        [
         "R_birth_2018",
         "float64"
        ],
        [
         "R_death_2018",
         "float64"
        ],
        [
         "R_NATURAL_INC_2018",
         "float64"
        ],
        [
         "R_INTERNATIONAL_MIG_2018",
         "float64"
        ],
        [
         "R_DOMESTIC_MIG_2018",
         "float64"
        ],
        [
         "R_NET_MIG_2018",
         "float64"
        ],
        [
         "Less than a high school diploma 2014-18",
         "int64"
        ],
        [
         "High school diploma only 2014-18",
         "int64"
        ],
        [
         "Some college or associate's degree 2014-18",
         "int64"
        ],
        [
         "Bachelor's degree or higher 2014-18",
         "int64"
        ],
        [
         "Percent of adults with less than a high school diploma 2014-18",
         "float64"
        ],
        [
         "Percent of adults with a high school diploma only 2014-18",
         "float64"
        ],
        [
         "Percent of adults completing some college or associate's degree 2014-18",
         "float64"
        ],
        [
         "Percent of adults with a bachelor's degree or higher 2014-18",
         "float64"
        ],
        [
         "POVALL_2018",
         "int64"
        ]
       ],
       "shape": {
        "columns": 1,
        "rows": 108
       }
      },
      "text/plain": [
       "fips                        int64\n",
       "TOT_POP                     int64\n",
       "0-9                         int64\n",
       "0-9 y/o % of total pop    float64\n",
       "19-Oct                      int64\n",
       "                           ...   \n",
       "CKD_prevalence            float64\n",
       "CKD_Lower 95% CI          float64\n",
       "CKD_Upper 95% CI          float64\n",
       "CKD_number                  int64\n",
       "Urban_rural_code            int64\n",
       "Length: 108, dtype: object"
      ]
     },
     "execution_count": 6,
     "metadata": {},
     "output_type": "execute_result"
    }
   ],
   "source": [
    "df.dtypes"
   ]
  },
  {
   "cell_type": "markdown",
   "id": "de659a60",
   "metadata": {},
   "source": [
    "### Data Dictionary"
   ]
  },
  {
   "cell_type": "code",
   "execution_count": 7,
   "id": "ef2925b1",
   "metadata": {},
   "outputs": [
    {
     "data": {
      "application/vnd.microsoft.datawrangler.viewer.v0+json": {
       "columns": [
        {
         "name": "index",
         "rawType": "int64",
         "type": "integer"
        },
        {
         "name": "Feature",
         "rawType": "object",
         "type": "unknown"
        },
        {
         "name": "Unnamed: 1",
         "rawType": "object",
         "type": "unknown"
        },
        {
         "name": "Unnamed: 2",
         "rawType": "object",
         "type": "unknown"
        }
       ],
       "ref": "116f2eee-09d1-481a-ad33-ba9b5e33bc36",
       "rows": [
        [
         "0",
         "fips",
         "FIPS Code for the County",
         null
        ],
        [
         "1",
         "TOT_POP",
         "Total Population",
         "This data as well as all Age and Race data is pulled from the 2019 Population Estimates of the US Census"
        ],
        [
         "2",
         "0-9",
         "Population aged 0-9",
         "All of the other age columns are the same but with varying age"
        ],
        [
         "3",
         "0-9 y/o % of total pop",
         "% of the population aged 0-9",
         null
        ],
        [
         "4",
         "10-19'",
         null,
         null
        ],
        [
         "5",
         "10-19 y/o % of total pop",
         null,
         null
        ],
        [
         "6",
         "20-29",
         null,
         null
        ],
        [
         "7",
         "20-29 y/o % of total pop",
         null,
         null
        ],
        [
         "8",
         "30-39",
         null,
         null
        ],
        [
         "9",
         "30-39 y/o % of total pop",
         null,
         null
        ],
        [
         "10",
         "40-49",
         null,
         null
        ],
        [
         "11",
         "40-49 y/o % of total pop",
         null,
         null
        ],
        [
         "12",
         "50-59",
         null,
         null
        ],
        [
         "13",
         "50-59 y/o % of total pop",
         null,
         null
        ],
        [
         "14",
         "60-69",
         null,
         null
        ],
        [
         "15",
         "60-69 y/o % of total pop",
         null,
         null
        ],
        [
         "16",
         "70-79",
         null,
         null
        ],
        [
         "17",
         "70-79 y/o % of total pop",
         null,
         null
        ],
        [
         "18",
         "80+",
         null,
         null
        ],
        [
         "19",
         "80+ y/o % of total pop",
         null,
         null
        ],
        [
         "20",
         "White-alone pop",
         "Population that is White only",
         "All of the other age columns are the same but with varying age"
        ],
        [
         "21",
         "% White-alone",
         "% of population that is White only",
         null
        ],
        [
         "22",
         "Black-alone pop",
         null,
         null
        ],
        [
         "23",
         "% Black-alone",
         null,
         null
        ],
        [
         "24",
         "Native American/American Indian-alone pop",
         null,
         null
        ],
        [
         "25",
         "% NA/AI-alone",
         null,
         null
        ],
        [
         "26",
         "Asian-alone pop",
         null,
         null
        ],
        [
         "27",
         "% Asian-alone",
         null,
         null
        ],
        [
         "28",
         "Hawaiian/Pacific Islander-alone pop",
         null,
         null
        ],
        [
         "29",
         "% Hawaiian/PI-alone",
         null,
         null
        ],
        [
         "30",
         "Two or more races pop",
         null,
         null
        ],
        [
         "31",
         "% Two or more races",
         null,
         null
        ],
        [
         "32",
         "N_POP_CHG_2018",
         "Numeric Change in resident total population 7/1/2017 to 7/1/2018",
         null
        ],
        [
         "33",
         "GQ_ESTIMATES_2018",
         "7/1/2018 Group Quarters total population estimate",
         null
        ],
        [
         "34",
         "R_birth_2018",
         "Birth rate in period 7/1/2017 to 6/30/2018",
         null
        ],
        [
         "35",
         "R_death_2018",
         "Death rate in period 7/1/2017 to 6/30/2018",
         null
        ],
        [
         "36",
         "R_NATURAL_INC_2018",
         "Natural increase rate in period 7/1/2016 to 6/30/2017",
         null
        ],
        [
         "37",
         "R_INTERNATIONAL_MIG_2018",
         "Net international migration rate in period 7/1/2017 to 6/30/2018",
         null
        ],
        [
         "38",
         "R_DOMESTIC_MIG_2018",
         "Net domestic migration rate in period 7/1/2017 to 6/30/2018",
         null
        ],
        [
         "39",
         "R_NET_MIG_2018",
         "Net migration rate in period 7/1/2017 to 6/30/2018",
         null
        ],
        [
         "40",
         "Less than a high school diploma 2014-18",
         "Education variables are self explanatory, first 4 are number and second 4 are %",
         null
        ],
        [
         "41",
         "High school diploma only 2014-18",
         null,
         null
        ],
        [
         "42",
         "Some college or associate's degree 2014-18",
         null,
         null
        ],
        [
         "43",
         "Bachelor's degree or higher 2014-18",
         null,
         null
        ],
        [
         "44",
         "Percent of adults with less than a high school diploma 2014-18",
         null,
         null
        ],
        [
         "45",
         "Percent of adults with a high school diploma only 2014-18",
         null,
         null
        ],
        [
         "46",
         "Percent of adults completing some college or associate's degree 2014-18",
         null,
         null
        ],
        [
         "47",
         "Percent of adults with a bachelor's degree or higher 2014-18",
         null,
         null
        ],
        [
         "48",
         "POVALL_2018",
         "Estimate of people of all ages in poverty 2018",
         null
        ],
        [
         "49",
         "PCTPOVALL_2018",
         "Estimated percent of people of all ages in poverty 2018",
         null
        ]
       ],
       "shape": {
        "columns": 3,
        "rows": 117
       }
      },
      "text/html": [
       "<div>\n",
       "<style scoped>\n",
       "    .dataframe tbody tr th:only-of-type {\n",
       "        vertical-align: middle;\n",
       "    }\n",
       "\n",
       "    .dataframe tbody tr th {\n",
       "        vertical-align: top;\n",
       "    }\n",
       "\n",
       "    .dataframe thead th {\n",
       "        text-align: right;\n",
       "    }\n",
       "</style>\n",
       "<table border=\"1\" class=\"dataframe\">\n",
       "  <thead>\n",
       "    <tr style=\"text-align: right;\">\n",
       "      <th></th>\n",
       "      <th>Feature</th>\n",
       "      <th>Unnamed: 1</th>\n",
       "      <th>Unnamed: 2</th>\n",
       "    </tr>\n",
       "  </thead>\n",
       "  <tbody>\n",
       "    <tr>\n",
       "      <th>0</th>\n",
       "      <td>fips</td>\n",
       "      <td>FIPS Code for the County</td>\n",
       "      <td>NaN</td>\n",
       "    </tr>\n",
       "    <tr>\n",
       "      <th>1</th>\n",
       "      <td>TOT_POP</td>\n",
       "      <td>Total Population</td>\n",
       "      <td>This data as well as all Age and Race data is ...</td>\n",
       "    </tr>\n",
       "    <tr>\n",
       "      <th>2</th>\n",
       "      <td>0-9</td>\n",
       "      <td>Population aged 0-9</td>\n",
       "      <td>All of the other age columns are the same but ...</td>\n",
       "    </tr>\n",
       "    <tr>\n",
       "      <th>3</th>\n",
       "      <td>0-9 y/o % of total pop</td>\n",
       "      <td>% of the population aged 0-9</td>\n",
       "      <td>NaN</td>\n",
       "    </tr>\n",
       "    <tr>\n",
       "      <th>4</th>\n",
       "      <td>10-19'</td>\n",
       "      <td>NaN</td>\n",
       "      <td>NaN</td>\n",
       "    </tr>\n",
       "    <tr>\n",
       "      <th>...</th>\n",
       "      <td>...</td>\n",
       "      <td>...</td>\n",
       "      <td>...</td>\n",
       "    </tr>\n",
       "    <tr>\n",
       "      <th>112</th>\n",
       "      <td>NaN</td>\n",
       "      <td>7 (Urban population of 2,500 to 19,999, not ad...</td>\n",
       "      <td>NaN</td>\n",
       "    </tr>\n",
       "    <tr>\n",
       "      <th>113</th>\n",
       "      <td>NaN</td>\n",
       "      <td>8 (Completely rural or less than 2,500 urban p...</td>\n",
       "      <td>NaN</td>\n",
       "    </tr>\n",
       "    <tr>\n",
       "      <th>114</th>\n",
       "      <td>NaN</td>\n",
       "      <td>9 (Completely rural or less than 2,500 urban p...</td>\n",
       "      <td>NaN</td>\n",
       "    </tr>\n",
       "    <tr>\n",
       "      <th>115</th>\n",
       "      <td>NaN</td>\n",
       "      <td>88 (Unknown-Alaska/Hawaii State/not official U...</td>\n",
       "      <td>NaN</td>\n",
       "    </tr>\n",
       "    <tr>\n",
       "      <th>116</th>\n",
       "      <td>NaN</td>\n",
       "      <td>99 (Unknown/not official USDA Rural-Urban Cont...</td>\n",
       "      <td>NaN</td>\n",
       "    </tr>\n",
       "  </tbody>\n",
       "</table>\n",
       "<p>117 rows × 3 columns</p>\n",
       "</div>"
      ],
      "text/plain": [
       "                    Feature  \\\n",
       "0                      fips   \n",
       "1                   TOT_POP   \n",
       "2                       0-9   \n",
       "3    0-9 y/o % of total pop   \n",
       "4                    10-19'   \n",
       "..                      ...   \n",
       "112                     NaN   \n",
       "113                     NaN   \n",
       "114                     NaN   \n",
       "115                     NaN   \n",
       "116                     NaN   \n",
       "\n",
       "                                            Unnamed: 1  \\\n",
       "0                             FIPS Code for the County   \n",
       "1                                     Total Population   \n",
       "2                                  Population aged 0-9   \n",
       "3                         % of the population aged 0-9   \n",
       "4                                                  NaN   \n",
       "..                                                 ...   \n",
       "112  7 (Urban population of 2,500 to 19,999, not ad...   \n",
       "113  8 (Completely rural or less than 2,500 urban p...   \n",
       "114  9 (Completely rural or less than 2,500 urban p...   \n",
       "115  88 (Unknown-Alaska/Hawaii State/not official U...   \n",
       "116  99 (Unknown/not official USDA Rural-Urban Cont...   \n",
       "\n",
       "                                            Unnamed: 2  \n",
       "0                                                  NaN  \n",
       "1    This data as well as all Age and Race data is ...  \n",
       "2    All of the other age columns are the same but ...  \n",
       "3                                                  NaN  \n",
       "4                                                  NaN  \n",
       "..                                                 ...  \n",
       "112                                                NaN  \n",
       "113                                                NaN  \n",
       "114                                                NaN  \n",
       "115                                                NaN  \n",
       "116                                                NaN  \n",
       "\n",
       "[117 rows x 3 columns]"
      ]
     },
     "execution_count": 7,
     "metadata": {},
     "output_type": "execute_result"
    }
   ],
   "source": [
    "data_dict = pd.read_csv('/workspaces/tgedin_machine_learning_python_template/data/data_dict.csv', encoding='latin-1')\n",
    "data_dict"
   ]
  },
  {
   "cell_type": "markdown",
   "id": "04c64347",
   "metadata": {},
   "source": [
    "### Dataset Overview\n",
    "\n",
    "This dataset contains **US county-level sociodemographic and health resource data (2018-2019)** with **3,140 counties** and **108 features**. The data includes:\n",
    "\n",
    "#### **Demographic Variables:**\n",
    "- **Population data**: Total population, age distributions (0-9, 10-19, ..., 80+)\n",
    "- **Race/ethnicity**: White, Black, Native American, Asian, Hawaiian/Pacific Islander, Two or more races\n",
    "- **Geographic**: FIPS codes, county/state names, urban-rural classification\n",
    "\n",
    "#### **Socioeconomic Variables:**\n",
    "- **Education**: High school completion rates, bachelor's degrees, etc.\n",
    "- **Income**: Median household income, poverty rates\n",
    "- **Employment**: Labor force participation, unemployment rates\n",
    "- **Population dynamics**: Birth/death rates, migration patterns\n",
    "\n",
    "#### **Health Resources:**\n",
    "- **Healthcare providers**: Physicians per 100k population, nurse practitioners, physician assistants\n",
    "- **Medical specialties**: Primary care, internal medicine, family medicine, specialists\n",
    "- **Infrastructure**: Total hospitals, ICU beds\n",
    "\n",
    "#### **Health Outcomes (Prevalence Rates):**\n",
    "- **Chronic conditions**: Diabetes, obesity, heart disease, COPD, chronic kidney disease (CKD)\n",
    "- **General health**: Any condition prevalence\n",
    "- **Confidence intervals**: Lower and upper 95% CI for each prevalence rate\n",
    "\n",
    "### **Target Variable Selection**\n",
    "\n",
    "For this regression analysis, we will use **`Heart disease_prevalence`** as our target variable because:\n",
    "\n",
    "1. **Clinical Relevance**: Heart disease is the leading cause of death in the US with strong socioeconomic determinants\n",
    "2. **Data Quality**: Continuous variable with confidence intervals available\n",
    "3. **Interpretability**: Results will provide actionable insights for cardiovascular health policy\n",
    "4. **Predictability**: Heart disease prevalence is strongly correlated with demographic, socioeconomic, and lifestyle factors\n",
    "\n",
    "**Target**: `Heart disease_prevalence` - Percentage of population with heart disease in each county\n",
    "\n",
    "This will help us understand how sociodemographic factors influence heart disease prevalence across US counties."
   ]
  },
  {
   "cell_type": "code",
   "execution_count": 8,
   "id": "3fd33608",
   "metadata": {},
   "outputs": [
    {
     "name": "stdout",
     "output_type": "stream",
     "text": [
      "Dataset shape: (3140, 108)\n",
      "Number of counties: 3140\n",
      "Number of features: 108\n",
      "\n",
      "Column names:\n",
      "['fips', 'TOT_POP', '0-9', '0-9 y/o % of total pop', '19-Oct', '10-19 y/o % of total pop', '20-29', '20-29 y/o % of total pop', '30-39', '30-39 y/o % of total pop', '40-49', '40-49 y/o % of total pop', '50-59', '50-59 y/o % of total pop', '60-69', '60-69 y/o % of total pop', '70-79', '70-79 y/o % of total pop', '80+', '80+ y/o % of total pop', 'White-alone pop', '% White-alone', 'Black-alone pop', '% Black-alone', 'Native American/American Indian-alone pop', '% NA/AI-alone', 'Asian-alone pop', '% Asian-alone', 'Hawaiian/Pacific Islander-alone pop', '% Hawaiian/PI-alone', 'Two or more races pop', '% Two or more races', 'POP_ESTIMATE_2018', 'N_POP_CHG_2018', 'GQ_ESTIMATES_2018', 'R_birth_2018', 'R_death_2018', 'R_NATURAL_INC_2018', 'R_INTERNATIONAL_MIG_2018', 'R_DOMESTIC_MIG_2018', 'R_NET_MIG_2018', 'Less than a high school diploma 2014-18', 'High school diploma only 2014-18', \"Some college or associate's degree 2014-18\", \"Bachelor's degree or higher 2014-18\", 'Percent of adults with less than a high school diploma 2014-18', 'Percent of adults with a high school diploma only 2014-18', \"Percent of adults completing some college or associate's degree 2014-18\", \"Percent of adults with a bachelor's degree or higher 2014-18\", 'POVALL_2018', 'PCTPOVALL_2018', 'PCTPOV017_2018', 'PCTPOV517_2018', 'MEDHHINC_2018', 'CI90LBINC_2018', 'CI90UBINC_2018', 'Civilian_labor_force_2018', 'Employed_2018', 'Unemployed_2018', 'Unemployment_rate_2018', 'Median_Household_Income_2018', 'Med_HH_Income_Percent_of_State_Total_2018', 'Active Physicians per 100000 Population 2018 (AAMC)', 'Total Active Patient Care Physicians per 100000 Population 2018 (AAMC)', 'Active Primary Care Physicians per 100000 Population 2018 (AAMC)', 'Active Patient Care Primary Care Physicians per 100000 Population 2018 (AAMC)', 'Active General Surgeons per 100000 Population 2018 (AAMC)', 'Active Patient Care General Surgeons per 100000 Population 2018 (AAMC)', 'Total nurse practitioners (2019)', 'Total physician assistants (2019)', 'Total Hospitals (2019)', 'Internal Medicine Primary Care (2019)', 'Family Medicine/General Practice Primary Care (2019)', 'Total Specialist Physicians (2019)', 'ICU Beds_x', 'Total Population', 'Population Aged 60+', 'Percent of Population Aged 60+', 'COUNTY_NAME', 'STATE_NAME', 'STATE_FIPS', 'CNTY_FIPS', 'county_pop2018_18 and older', 'anycondition_prevalence', 'anycondition_Lower 95% CI', 'anycondition_Upper 95% CI', 'anycondition_number', 'Obesity_prevalence', 'Obesity_Lower 95% CI', 'Obesity_Upper 95% CI', 'Obesity_number', 'Heart disease_prevalence', 'Heart disease_Lower 95% CI', 'Heart disease_Upper 95% CI', 'Heart disease_number', 'COPD_prevalence', 'COPD_Lower 95% CI', 'COPD_Upper 95% CI', 'COPD_number', 'diabetes_prevalence', 'diabetes_Lower 95% CI', 'diabetes_Upper 95% CI', 'diabetes_number', 'CKD_prevalence', 'CKD_Lower 95% CI', 'CKD_Upper 95% CI', 'CKD_number', 'Urban_rural_code']\n"
     ]
    }
   ],
   "source": [
    "# Basic dataset information\n",
    "print(f\"Dataset shape: {df.shape}\")\n",
    "print(f\"Number of counties: {df.shape[0]}\")\n",
    "print(f\"Number of features: {df.shape[1]}\")\n",
    "print(f\"\\nColumn names:\")\n",
    "print(df.columns.tolist())"
   ]
  },
  {
   "cell_type": "code",
   "execution_count": 9,
   "id": "8a0d6d85",
   "metadata": {},
   "outputs": [
    {
     "name": "stdout",
     "output_type": "stream",
     "text": [
      "Target Variable: Heart disease_prevalence\n",
      "Data type: float64\n",
      "Missing values: 0\n",
      "Min: 3.50%\n",
      "Max: 15.10%\n",
      "Mean: 8.61%\n",
      "Median: 8.60%\n",
      "Standard deviation: 1.76%\n",
      "\n",
      "Missing values per column:\n",
      "Empty DataFrame\n",
      "Columns: [Missing Count, Missing Percentage]\n",
      "Index: []\n"
     ]
    }
   ],
   "source": [
    "# Examine the target variable - heart disease prevalence\n",
    "print(\"Target Variable: Heart disease_prevalence\")\n",
    "print(f\"Data type: {df['Heart disease_prevalence'].dtype}\")\n",
    "print(f\"Missing values: {df['Heart disease_prevalence'].isnull().sum()}\")\n",
    "print(f\"Min: {df['Heart disease_prevalence'].min():.2f}%\")\n",
    "print(f\"Max: {df['Heart disease_prevalence'].max():.2f}%\")\n",
    "print(f\"Mean: {df['Heart disease_prevalence'].mean():.2f}%\")\n",
    "print(f\"Median: {df['Heart disease_prevalence'].median():.2f}%\")\n",
    "print(f\"Standard deviation: {df['Heart disease_prevalence'].std():.2f}%\")\n",
    "\n",
    "# Check for missing values in the entire dataset\n",
    "print(f\"\\nMissing values per column:\")\n",
    "missing_counts = df.isnull().sum()\n",
    "missing_percentages = (missing_counts / len(df)) * 100\n",
    "missing_data = pd.DataFrame({\n",
    "    'Missing Count': missing_counts,\n",
    "    'Missing Percentage': missing_percentages\n",
    "}).sort_values('Missing Count', ascending=False)\n",
    "\n",
    "# Show only columns with missing values\n",
    "print(missing_data[missing_data['Missing Count'] > 0].head(10))"
   ]
  },
  {
   "cell_type": "markdown",
   "id": "e766e541",
   "metadata": {},
   "source": [
    "### Dataset Analysis Results\n",
    "\n",
    "**Target Variable Analysis:**\n",
    "- **Variable**: `Heart disease_prevalence`\n",
    "- **Data type**: float64\n",
    "- **Missing values**: 0 (complete data - excellent!)\n",
    "- **Range**: 3.50% - 15.10%\n",
    "- **Mean**: 8.61%\n",
    "- **Median**: 8.60% (very close to mean, indicating good distribution)\n",
    "- **Standard deviation**: 1.76%\n",
    "\n",
    "**Key Observations:**\n",
    "- **No missing values** in the target variable\n",
    "- **No missing values** in the entire dataset\n",
    "- **Good distribution** with mean ≈ median\n",
    "- **Reasonable variance** (1.76% std dev) for modeling\n",
    "- **Realistic range** for heart disease prevalence across US counties\n",
    "\n",
    "This clean dataset with complete data will allow us to proceed directly to modeling without extensive data cleaning."
   ]
  },
  {
   "cell_type": "markdown",
   "id": "0e011be2",
   "metadata": {},
   "source": [
    "## 2. Data Preprocessing"
   ]
  },
  {
   "cell_type": "markdown",
   "id": "f63d1cb1",
   "metadata": {},
   "source": [
    "### Feature Selection and Engineering\n",
    "\n",
    "We'll start by selecting and engineering the most relevant features for predicting heart disease prevalence. Since we have 108 features, we need to be strategic about which ones to include.\n",
    "\n",
    "#### Age Variables Processing\n",
    "\n",
    "Age is a critical factor in heart disease risk. Let's examine and consolidate the age-related variables:"
   ]
  },
  {
   "cell_type": "markdown",
   "id": "365efeb2",
   "metadata": {},
   "source": [
    "#### Categorical Variables Encoding\n",
    "\n",
    "First, let's handle the categorical variables (COUNTY_NAME and STATE_NAME) by encoding them numerically so we can include them in our correlation analysis:"
   ]
  },
  {
   "cell_type": "code",
   "execution_count": 10,
   "id": "c70b64ef",
   "metadata": {},
   "outputs": [
    {
     "name": "stdout",
     "output_type": "stream",
     "text": [
      "Categorical columns found:\n",
      "- COUNTY_NAME: 1841 unique values\n",
      "- STATE_NAME: 51 unique values\n",
      "\n",
      "Encoded COUNTY_NAME:\n",
      "- Original unique values: 1841\n",
      "- Encoded range: 0 to 1840\n",
      "\n",
      "Encoded STATE_NAME:\n",
      "- Original unique values: 51\n",
      "- Encoded range: 0 to 50\n",
      "\n",
      "Encoded COUNTY_NAME:\n",
      "- Original unique values: 1841\n",
      "- Encoded range: 0 to 1840\n",
      "\n",
      "Encoded STATE_NAME:\n",
      "- Original unique values: 51\n",
      "- Encoded range: 0 to 50\n"
     ]
    }
   ],
   "source": [
    "# Identify categorical columns\n",
    "categorical_cols = df.select_dtypes(include=['object']).columns.tolist()\n",
    "print(\"Categorical columns found:\")\n",
    "for col in categorical_cols:\n",
    "    print(f\"- {col}: {df[col].nunique()} unique values\")\n",
    "\n",
    "# Create a copy of the dataframe for processing\n",
    "df_encoded = df.copy()\n",
    "\n",
    "# Apply Label Encoding to categorical variables\n",
    "label_encoders = {}\n",
    "for col in categorical_cols:\n",
    "    if col in ['COUNTY_NAME', 'STATE_NAME']:  # Only encode these specific columns\n",
    "        le = LabelEncoder()\n",
    "        df_encoded[col + '_encoded'] = le.fit_transform(df_encoded[col])\n",
    "        label_encoders[col] = le\n",
    "        print(f\"\\nEncoded {col}:\")\n",
    "        print(f\"- Original unique values: {df[col].nunique()}\")\n",
    "        print(f\"- Encoded range: {df_encoded[col + '_encoded'].min()} to {df_encoded[col + '_encoded'].max()}\")\n",
    "\n"
   ]
  },
  {
   "cell_type": "markdown",
   "id": "99b1c073",
   "metadata": {},
   "source": [
    "#### Correlation Analysis\n",
    "\n",
    "Now let's examine the correlations between our target variable (Heart disease prevalence) and other features to identify the most relevant predictors:"
   ]
  },
  {
   "cell_type": "code",
   "execution_count": 11,
   "id": "85df1d6b",
   "metadata": {},
   "outputs": [
    {
     "name": "stdout",
     "output_type": "stream",
     "text": [
      "Top 50 features most correlated with Heart disease prevalence:\n",
      "============================================================\n",
      " 1. Heart disease_prevalence                           1.0000\n",
      " 2. Heart disease_Upper 95% CI                         0.9978\n",
      " 3. Heart disease_Lower 95% CI                         0.9974\n",
      " 4. CKD_Upper 95% CI                                   0.9081\n",
      " 5. CKD_prevalence                                     0.8928\n",
      " 6. COPD_Upper 95% CI                                  0.8901\n",
      " 7. COPD_prevalence                                    0.8867\n",
      " 8. COPD_Lower 95% CI                                  0.8779\n",
      " 9. CKD_Lower 95% CI                                   0.8748\n",
      "10. diabetes_Upper 95% CI                              0.8507\n",
      "11. diabetes_prevalence                                0.8310\n",
      "12. diabetes_Lower 95% CI                              0.8063\n",
      "13. anycondition_Upper 95% CI                          0.7928\n",
      "14. anycondition_prevalence                            0.7841\n",
      "15. anycondition_Lower 95% CI                          0.7719\n",
      "16. CI90LBINC_2018                                     0.7376\n",
      "17. MEDHHINC_2018                                      0.7305\n",
      "18. Median_Household_Income_2018                       0.7305\n",
      "19. CI90UBINC_2018                                     0.7185\n",
      "20. Percent of adults with a bachelor's degree or higher 2014-18 0.6872\n",
      "21. R_death_2018                                       0.6832\n",
      "22. PCTPOV017_2018                                     0.6659\n",
      "23. PCTPOV517_2018                                     0.6507\n",
      "24. 70-79 y/o % of total pop                           0.6417\n",
      "25. Percent of adults with a high school diploma only 2014-18 0.6026\n",
      "26. Percent of Population Aged 60+                     0.5958\n",
      "27. R_NATURAL_INC_2018                                 0.5865\n",
      "28. 30-39 y/o % of total pop                           0.5774\n",
      "29. Obesity_Upper 95% CI                               0.5701\n",
      "30. Med_HH_Income_Percent_of_State_Total_2018          0.5672\n",
      "31. Obesity_prevalence                                 0.5593\n",
      "32. PCTPOVALL_2018                                     0.5463\n",
      "33. Obesity_Lower 95% CI                               0.5460\n",
      "34. Urban_rural_code                                   0.5182\n",
      "35. 60-69 y/o % of total pop                           0.5161\n",
      "36. Percent of adults with less than a high school diploma 2014-18 0.4745\n",
      "37. 80+ y/o % of total pop                             0.4724\n",
      "38. 20-29 y/o % of total pop                           0.4599\n",
      "39. % Asian-alone                                      0.4505\n",
      "40. Unemployment_rate_2018                             0.3889\n",
      "41. 10-19 y/o % of total pop                           0.3541\n",
      "42. GQ_ESTIMATES_2018                                  0.3472\n",
      "43. Total Hospitals (2019)                             0.3382\n",
      "44. Bachelor's degree or higher 2014-18                0.3226\n",
      "45. Total physician assistants (2019)                  0.3206\n",
      "46. Total nurse practitioners (2019)                   0.3192\n",
      "47. Employed_2018                                      0.3127\n",
      "48. Family Medicine/General Practice Primary Care (2019) 0.3120\n",
      "49. 19-Oct                                             0.3118\n",
      "50. Civilian_labor_force_2018                          0.3112\n"
     ]
    }
   ],
   "source": [
    "# Select only numeric columns for correlation analysis\n",
    "numeric_cols = df_encoded.select_dtypes(include=[np.number]).columns.tolist()\n",
    "\n",
    "# Calculate correlation with target variable\n",
    "target_correlations = df_encoded[numeric_cols].corr()['Heart disease_prevalence'].abs().sort_values(ascending=False)\n",
    "\n",
    "print(\"Top 50 features most correlated with Heart disease prevalence:\")\n",
    "print(\"=\" * 60)\n",
    "for i, (feature, corr) in enumerate(target_correlations.head(50).items(), 1):\n",
    "    print(f\"{i:2d}. {feature:<50} {corr:.4f}\")\n",
    "\n"
   ]
  },
  {
   "cell_type": "code",
   "execution_count": 12,
   "id": "1cce495f",
   "metadata": {},
   "outputs": [
    {
     "name": "stdout",
     "output_type": "stream",
     "text": [
      "\n",
      "Correlation Analysis Summary:\n",
      "- Total numeric features analyzed: 108\n",
      "- Features with correlation > 0.3: 57\n",
      "- Features with correlation > 0.5: 35\n",
      "- Highest correlation: 1.0000 (Heart disease_prevalence)\n"
     ]
    }
   ],
   "source": [
    "# Display correlation statistics\n",
    "print(f\"\\nCorrelation Analysis Summary:\")\n",
    "print(f\"- Total numeric features analyzed: {len(numeric_cols)}\")\n",
    "print(f\"- Features with correlation > 0.3: {(target_correlations > 0.3).sum()}\")\n",
    "print(f\"- Features with correlation > 0.5: {(target_correlations > 0.5).sum()}\")\n",
    "print(f\"- Highest correlation: {target_correlations.max():.4f} ({target_correlations.idxmax()})\")"
   ]
  },
  {
   "cell_type": "markdown",
   "id": "639e3d58",
   "metadata": {},
   "source": [
    "**Correlation Analysis Results:**\n",
    "\n",
    "The correlation analysis reveals strong relationships between heart disease prevalence and other health/socioeconomic factors:\n",
    "\n",
    "**Very High Correlations (0.8-0.9):**\n",
    "- Chronic kidney disease (CKD): 0.8928\n",
    "- COPD: 0.8867\n",
    "- Diabetes: 0.8310\n",
    "- General health conditions: 0.7841\n",
    "\n",
    "**Strong Socioeconomic Correlations (0.6-0.8):**\n",
    "- Median household income: 0.7305\n",
    "- Bachelor's degree education: 0.6872\n",
    "- Child poverty rate: 0.6659\n",
    "- Death rate: 0.6832\n",
    "\n",
    "**Moderate Correlations (0.4-0.6):**\n",
    "- Age groups (60+): 0.5958\n",
    "- Obesity: 0.5593\n",
    "- Urban-rural classification: 0.5182\n",
    "- Asian population: 0.4505\n",
    "\n",
    "**Critical Observations:**\n",
    "- Many health conditions show extremely high correlations (>0.8) with heart disease\n",
    "- Strong socioeconomic gradients evident (income, education, poverty)\n",
    "- Age and demographic factors show expected relationships\n",
    "- **Multicollinearity Risk**: High correlations between health outcomes require regularization\n",
    "\n",
    "**Strategy**: Use Lasso regression to automatically handle feature selection and multicollinearity while preserving predictive power."
   ]
  },
  {
   "cell_type": "code",
   "execution_count": 13,
   "id": "125590f2",
   "metadata": {},
   "outputs": [
    {
     "name": "stdout",
     "output_type": "stream",
     "text": [
      "Age-related columns:\n",
      "- 0-9\n",
      "- 0-9 y/o % of total pop\n",
      "- 10-19 y/o % of total pop\n",
      "- 20-29\n",
      "- 20-29 y/o % of total pop\n",
      "- 30-39\n",
      "- 30-39 y/o % of total pop\n",
      "- 40-49\n",
      "- 40-49 y/o % of total pop\n",
      "- 50-59\n",
      "- 50-59 y/o % of total pop\n",
      "- 60-69\n",
      "- 60-69 y/o % of total pop\n",
      "- 70-79\n",
      "- 70-79 y/o % of total pop\n",
      "- 80+\n",
      "- 80+ y/o % of total pop\n",
      "- Population Aged 60+\n",
      "- Percent of Population Aged 60+\n",
      "\n",
      "Total age-related columns: 19\n"
     ]
    }
   ],
   "source": [
    "# Identify age-related columns\n",
    "age_cols = [col for col in df.columns if 'y/o' in col or 'Aged' in col or any(age in col for age in ['0-9', '10-19', '20-29', '30-39', '40-49', '50-59', '60-69', '70-79', '80+'])]\n",
    "\n",
    "print(\"Age-related columns:\")\n",
    "for col in age_cols:\n",
    "    print(f\"- {col}\")\n",
    "    \n",
    "print(f\"\\nTotal age-related columns: {len(age_cols)}\")\n"
   ]
  },
  {
   "cell_type": "markdown",
   "id": "c8fdbdda",
   "metadata": {},
   "source": [
    "**Age Variable Analysis:**\n",
    "\n",
    "Instead of using all individual age groups, we'll create meaningful age categories that are known to be relevant for heart disease risk:\n",
    "\n",
    "- **Younger adults (0-39)**: Lower risk group\n",
    "- **Middle-aged (40-59)**: Moderate risk group  \n",
    "- **Older adults (60+)**: Higher risk group\n",
    "\n",
    "This consolidation will reduce dimensionality while maintaining clinical relevance."
   ]
  },
  {
   "cell_type": "code",
   "execution_count": 14,
   "id": "1eb6edd3",
   "metadata": {},
   "outputs": [
    {
     "name": "stdout",
     "output_type": "stream",
     "text": [
      "New age group variables created:\n",
      "- young_adults_pct (0-39): Mean = 48.60%\n",
      "- middle_aged_pct (40-59): Mean = 25.08%\n",
      "- older_adults_pct (60+): Mean = 26.32%\n",
      "- total_age_pct: Mean = 100.00% (should be ~100%)\n",
      "\n",
      "Sample of new age variables:\n",
      "   young_adults_pct  middle_aged_pct  older_adults_pct  total_age_pct\n",
      "0         51.062031        27.553461         21.384507          100.0\n",
      "1         46.078836        26.292759         27.628404          100.0\n",
      "2         48.876653        25.529521         25.593827          100.0\n",
      "3         49.973214        27.468750         22.558036          100.0\n",
      "4         48.912517        26.483402         24.604080          100.0\n"
     ]
    }
   ],
   "source": [
    "# Create consolidated age groups (using percentage columns for consistency)\n",
    "df['young_adults_pct'] = df['0-9 y/o % of total pop'] + df['10-19 y/o % of total pop'] + df['20-29 y/o % of total pop'] + df['30-39 y/o % of total pop']\n",
    "df['middle_aged_pct'] = df['40-49 y/o % of total pop'] + df['50-59 y/o % of total pop'] \n",
    "df['older_adults_pct'] = df['60-69 y/o % of total pop'] + df['70-79 y/o % of total pop'] + df['80+ y/o % of total pop']\n",
    "\n",
    "# Verify our age groups sum to 100% (accounting for rounding)\n",
    "df['total_age_pct'] = df['young_adults_pct'] + df['middle_aged_pct'] + df['older_adults_pct']\n",
    "\n",
    "print(\"New age group variables created:\")\n",
    "print(f\"- young_adults_pct (0-39): Mean = {df['young_adults_pct'].mean():.2f}%\")\n",
    "print(f\"- middle_aged_pct (40-59): Mean = {df['middle_aged_pct'].mean():.2f}%\") \n",
    "print(f\"- older_adults_pct (60+): Mean = {df['older_adults_pct'].mean():.2f}%\")\n",
    "print(f\"- total_age_pct: Mean = {df['total_age_pct'].mean():.2f}% (should be ~100%)\")\n",
    "\n",
    "# Check the data\n",
    "print(\"\\nSample of new age variables:\")\n",
    "print(df[['young_adults_pct', 'middle_aged_pct', 'older_adults_pct', 'total_age_pct']].head())"
   ]
  },
  {
   "cell_type": "markdown",
   "id": "8c37db4c",
   "metadata": {},
   "source": [
    "**Age Variable Results:**\n",
    "\n",
    "We successfully consolidated the individual age groups into three meaningful categories. The total percentage sums to approximately 100%, confirming our calculations are correct.\n",
    "\n",
    "**Next Steps:** We'll use these three age variables (`young_adults_pct`, `middle_aged_pct`, `older_adults_pct`) instead of the original 10+ individual age columns, reducing our feature space significantly while maintaining clinical relevance."
   ]
  },
  {
   "cell_type": "markdown",
   "id": "3439bcfa",
   "metadata": {},
   "source": [
    "### Comprehensive Feature Engineering Strategy\n",
    "\n",
    "Based on our correlation analysis, we need to systematically engineer features to create a robust dataset for regularized regression. We'll focus on reducing multicollinearity while preserving predictive power.\n",
    "\n",
    "#### Step 1: Remove Redundant Features\n",
    "\n",
    "First, we'll remove features that are redundant or derived from others to reduce multicollinearity:"
   ]
  },
  {
   "cell_type": "code",
   "execution_count": 15,
   "id": "2d801b72",
   "metadata": {},
   "outputs": [
    {
     "name": "stdout",
     "output_type": "stream",
     "text": [
      "Removing 33 redundant features:\n",
      "- Heart disease_Lower 95% CI\n",
      "- Heart disease_Upper 95% CI\n",
      "- CKD_Lower 95% CI\n",
      "- CKD_Upper 95% CI\n",
      "- COPD_Lower 95% CI\n",
      "- COPD_Upper 95% CI\n",
      "- diabetes_Lower 95% CI\n",
      "- diabetes_Upper 95% CI\n",
      "- anycondition_Lower 95% CI\n",
      "- anycondition_Upper 95% CI\n",
      "- Obesity_Lower 95% CI\n",
      "- Obesity_Upper 95% CI\n",
      "- CI90LBINC_2018\n",
      "- CI90UBINC_2018\n",
      "- Median_Household_Income_2018\n",
      "- 0-9\n",
      "- 20-29\n",
      "- 30-39\n",
      "- 40-49\n",
      "- 50-59\n",
      "- 60-69\n",
      "- 70-79\n",
      "- 80+\n",
      "- 0-9 y/o % of total pop\n",
      "- 10-19 y/o % of total pop\n",
      "- 20-29 y/o % of total pop\n",
      "- 30-39 y/o % of total pop\n",
      "- 40-49 y/o % of total pop\n",
      "- 50-59 y/o % of total pop\n",
      "- 60-69 y/o % of total pop\n",
      "- 70-79 y/o % of total pop\n",
      "- 80+ y/o % of total pop\n",
      "- total_age_pct\n",
      "\n",
      "Dataset shape after removing redundant features: (3140, 79)\n",
      "Removed 33 features, 79 features remaining\n"
     ]
    }
   ],
   "source": [
    "# Remove redundant features and confidence intervals\n",
    "# We'll keep only the prevalence rates, not their confidence intervals\n",
    "redundant_features = [\n",
    "    # Remove confidence intervals as they're highly correlated with prevalence rates\n",
    "    'Heart disease_Lower 95% CI', 'Heart disease_Upper 95% CI',\n",
    "    'CKD_Lower 95% CI', 'CKD_Upper 95% CI',\n",
    "    'COPD_Lower 95% CI', 'COPD_Upper 95% CI',\n",
    "    'diabetes_Lower 95% CI', 'diabetes_Upper 95% CI',\n",
    "    'anycondition_Lower 95% CI', 'anycondition_Upper 95% CI',\n",
    "    'Obesity_Lower 95% CI', 'Obesity_Upper 95% CI',\n",
    "    \n",
    "    # Remove duplicate income variables\n",
    "    'CI90LBINC_2018', 'CI90UBINC_2018',  # Keep MEDHHINC_2018 instead\n",
    "    'Median_Household_Income_2018',  # Duplicate of MEDHHINC_2018\n",
    "    \n",
    "    # Remove individual age columns (we'll use our consolidated ones)\n",
    "    '0-9', '10-19', '20-29', '30-39', '40-49', '50-59', '60-69', '70-79', '80+',\n",
    "    '0-9 y/o % of total pop', '10-19 y/o % of total pop', '20-29 y/o % of total pop',\n",
    "    '30-39 y/o % of total pop', '40-49 y/o % of total pop', '50-59 y/o % of total pop',\n",
    "    '60-69 y/o % of total pop', '70-79 y/o % of total pop', '80+ y/o % of total pop',\n",
    "    \n",
    "    # Remove verification column\n",
    "    'total_age_pct'\n",
    "]\n",
    "\n",
    "# Remove redundant features that exist in the dataset\n",
    "features_to_remove = [col for col in redundant_features if col in df.columns]\n",
    "print(f\"Removing {len(features_to_remove)} redundant features:\")\n",
    "for feature in features_to_remove:\n",
    "    print(f\"- {feature}\")\n",
    "\n",
    "# Create cleaned dataset\n",
    "df_clean = df.drop(columns=features_to_remove)\n",
    "print(f\"\\nDataset shape after removing redundant features: {df_clean.shape}\")\n",
    "print(f\"Removed {len(features_to_remove)} features, {df_clean.shape[1]} features remaining\")"
   ]
  },
  {
   "cell_type": "markdown",
   "id": "c2cbda38",
   "metadata": {},
   "source": [
    "**Feature Removal Results:**\n",
    "\n",
    "We successfully removed highly correlated and redundant features, particularly confidence intervals that were creating multicollinearity. Our consolidated age groups will replace individual age columns, significantly reducing dimensionality while maintaining clinical relevance.\n",
    "\n",
    "#### Step 2: Feature Selection and Categorization\n",
    "\n",
    "Now we'll identify and categorize the remaining features for systematic selection:"
   ]
  },
  {
   "cell_type": "code",
   "execution_count": 16,
   "id": "6c0e57df",
   "metadata": {},
   "outputs": [
    {
     "name": "stdout",
     "output_type": "stream",
     "text": [
      "\n",
      "Demographic Features (13 features):\n",
      "  - young_adults_pct\n",
      "  - middle_aged_pct\n",
      "  - older_adults_pct\n",
      "  - TOT_POP\n",
      "  - Population Aged 60+\n",
      "  - Percent of Population Aged 60+\n",
      "  - % White-alone\n",
      "  - % Black-alone\n",
      "  - % Asian-alone\n",
      "  - % NA/AI-alone\n",
      "  - % Hawaiian/PI-alone\n",
      "  - % Two or more races\n",
      "  - Urban_rural_code\n",
      "\n",
      "Socioeconomic Features (12 features):\n",
      "  - MEDHHINC_2018\n",
      "  - Med_HH_Income_Percent_of_State_Total_2018\n",
      "  - PCTPOVALL_2018\n",
      "  - PCTPOV017_2018\n",
      "  - PCTPOV517_2018\n",
      "  - Percent of adults with less than a high school diploma 2014-18\n",
      "  - Percent of adults with a high school diploma only 2014-18\n",
      "  - Percent of adults completing some college or associate's degree 2014-18\n",
      "  - Percent of adults with a bachelor's degree or higher 2014-18\n",
      "  - Unemployment_rate_2018\n",
      "  - Employed_2018\n",
      "  - Civilian_labor_force_2018\n",
      "\n",
      "Health Outcome Features (5 features):\n",
      "  - anycondition_prevalence\n",
      "  - Obesity_prevalence\n",
      "  - COPD_prevalence\n",
      "  - diabetes_prevalence\n",
      "  - CKD_prevalence\n",
      "\n",
      "Health Resource Features (6 features):\n",
      "  - Active Physicians per 100000 Population 2018 (AAMC)\n",
      "  - Total Active Patient Care Physicians per 100000 Population 2018 (AAMC)\n",
      "  - Total nurse practitioners (2019)\n",
      "  - Total physician assistants (2019)\n",
      "  - Total Hospitals (2019)\n",
      "  - ICU Beds_x\n",
      "\n",
      "Population Dynamics Features (6 features):\n",
      "  - R_birth_2018\n",
      "  - R_death_2018\n",
      "  - R_NATURAL_INC_2018\n",
      "  - R_INTERNATIONAL_MIG_2018\n",
      "  - R_DOMESTIC_MIG_2018\n",
      "  - R_NET_MIG_2018\n",
      "\n",
      "Total categorized features: 42\n",
      "Total features in cleaned dataset: 79\n"
     ]
    }
   ],
   "source": [
    "# Categorize remaining features for systematic selection\n",
    "all_features = df_clean.columns.tolist()\n",
    "\n",
    "# Define feature categories\n",
    "demographic_features = [\n",
    "    'young_adults_pct', 'middle_aged_pct', 'older_adults_pct',\n",
    "    'TOT_POP', 'Population Aged 60+', 'Percent of Population Aged 60+',\n",
    "    '% White-alone', '% Black-alone', '% Asian-alone', '% NA/AI-alone',\n",
    "    '% Hawaiian/PI-alone', '% Two or more races',\n",
    "    'Urban_rural_code'\n",
    "]\n",
    "\n",
    "socioeconomic_features = [\n",
    "    'MEDHHINC_2018', 'Med_HH_Income_Percent_of_State_Total_2018',\n",
    "    'PCTPOVALL_2018', 'PCTPOV017_2018', 'PCTPOV517_2018',\n",
    "    'Percent of adults with less than a high school diploma 2014-18',\n",
    "    'Percent of adults with a high school diploma only 2014-18',\n",
    "    'Percent of adults completing some college or associate\\'s degree 2014-18',\n",
    "    'Percent of adults with a bachelor\\'s degree or higher 2014-18',\n",
    "    'Unemployment_rate_2018', 'Employed_2018', 'Civilian_labor_force_2018'\n",
    "]\n",
    "\n",
    "health_outcome_features = [\n",
    "    'anycondition_prevalence', 'Obesity_prevalence', \n",
    "    'COPD_prevalence', 'diabetes_prevalence', 'CKD_prevalence'\n",
    "]\n",
    "\n",
    "health_resource_features = [\n",
    "    'Active Physicians per 100000 Population 2018 (AAMC)',\n",
    "    'Total Active Patient Care Physicians per 100000 Population 2018 (AAMC)',\n",
    "    'Total nurse practitioners (2019)', 'Total physician assistants (2019)',\n",
    "    'Total Hospitals (2019)', 'ICU Beds_x'\n",
    "]\n",
    "\n",
    "population_dynamics_features = [\n",
    "    'R_birth_2018', 'R_death_2018', 'R_NATURAL_INC_2018',\n",
    "    'R_INTERNATIONAL_MIG_2018', 'R_DOMESTIC_MIG_2018', 'R_NET_MIG_2018'\n",
    "]\n",
    "\n",
    "# Check which features exist in our cleaned dataset\n",
    "def check_features(feature_list, category_name):\n",
    "    existing = [f for f in feature_list if f in all_features]\n",
    "    print(f\"\\n{category_name} ({len(existing)} features):\")\n",
    "    for f in existing:\n",
    "        print(f\"  - {f}\")\n",
    "    return existing\n",
    "\n",
    "demo_features = check_features(demographic_features, \"Demographic Features\")\n",
    "socio_features = check_features(socioeconomic_features, \"Socioeconomic Features\")\n",
    "health_out_features = check_features(health_outcome_features, \"Health Outcome Features\")\n",
    "health_res_features = check_features(health_resource_features, \"Health Resource Features\")\n",
    "pop_dyn_features = check_features(population_dynamics_features, \"Population Dynamics Features\")\n",
    "\n",
    "print(f\"\\nTotal categorized features: {len(demo_features + socio_features + health_out_features + health_res_features + pop_dyn_features)}\")\n",
    "print(f\"Total features in cleaned dataset: {len(all_features)}\")"
   ]
  },
  {
   "cell_type": "markdown",
   "id": "82a0d62c",
   "metadata": {},
   "source": [
    "**Feature Categorization Results:**\n",
    "\n",
    "We've systematically categorized our features into meaningful groups that represent different aspects of county-level health determinants. This organization will help us ensure balanced representation across all domains in our final model.\n",
    "\n",
    "#### Step 3: Create Final Feature Set\n",
    "\n",
    "We'll create a comprehensive feature set that includes the most relevant features from each category based on:\n",
    "- **Clinical Relevance**: Features with established relationships to heart disease\n",
    "- **Statistical Power**: Features showing meaningful correlations (>0.3) with our target\n",
    "- **Representation Balance**: Features from all major domains\n",
    "- **Multicollinearity Management**: Avoid highly redundant features while preserving predictive diversity\n",
    "\n",
    "**Domain-Specific Selection Logic:**\n",
    "\n",
    "**Demographic Features**: Focus on age structure (our engineered groups), population size, key racial/ethnic groups with known health disparities, and urban-rural classification for healthcare access patterns.\n",
    "\n",
    "**Socioeconomic Features**: Include primary economic indicators (income, poverty) and education levels, which are fundamental social determinants of health. We selected the most direct measures to avoid redundancy.\n",
    "\n",
    "**Health Outcomes**: These chronic conditions are highly predictive and represent different pathways to heart disease. We keep all major prevalence rates as they capture complementary health patterns.\n",
    "\n",
    "**Health Resources**: Selected key indicators of healthcare capacity and access that directly impact heart disease prevention and management.\n",
    "\n",
    "**Population Dynamics**: Birth/death rates and natural increase reflect community vitality and health patterns, providing additional demographic context.\n",
    "\n",
    "**Geographic Encoding**: County and state codes capture unmeasured regional factors, healthcare policies, and environmental influences."
   ]
  },
  {
   "cell_type": "code",
   "execution_count": 23,
   "id": "f449c443",
   "metadata": {},
   "outputs": [
    {
     "name": "stdout",
     "output_type": "stream",
     "text": [
      "Selected 29 features for modeling (all with correlation >0.31):\n",
      " 1. young_adults_pct\n",
      " 2. middle_aged_pct\n",
      " 3. older_adults_pct\n",
      " 4. Percent of Population Aged 60+\n",
      " 5. % Asian-alone\n",
      " 6. Urban_rural_code\n",
      " 7. MEDHHINC_2018\n",
      " 8. Med_HH_Income_Percent_of_State_Total_2018\n",
      " 9. PCTPOV017_2018\n",
      "10. PCTPOVALL_2018\n",
      "11. Percent of adults with less than a high school diploma 2014-18\n",
      "12. Percent of adults with a bachelor's degree or higher 2014-18\n",
      "13. Percent of adults with a high school diploma only 2014-18\n",
      "14. Unemployment_rate_2018\n",
      "15. CKD_prevalence\n",
      "16. COPD_prevalence\n",
      "17. diabetes_prevalence\n",
      "18. anycondition_prevalence\n",
      "19. Obesity_prevalence\n",
      "20. Total nurse practitioners (2019)\n",
      "21. Total physician assistants (2019)\n",
      "22. Total Hospitals (2019)\n",
      "23. Family Medicine/General Practice Primary Care (2019)\n",
      "24. R_death_2018\n",
      "25. R_NATURAL_INC_2018\n",
      "26. Employed_2018\n",
      "27. Civilian_labor_force_2018\n",
      "28. COUNTY_NAME_encoded\n",
      "29. STATE_NAME_encoded\n"
     ]
    }
   ],
   "source": [
    "# Create final feature set by combining all relevant features\n",
    "# Based on correlation analysis, prioritize features with correlations >0.3\n",
    "final_features = []\n",
    "\n",
    "# Include demographic features (keeping our engineered age groups + high correlation individual features)\n",
    "final_features.extend([\n",
    "    'young_adults_pct', 'middle_aged_pct', 'older_adults_pct',  # Our engineered features\n",
    "    'Percent of Population Aged 60+',  # 0.5958 correlation\n",
    "    '% Asian-alone',  # 0.4505 correlation\n",
    "    'Urban_rural_code'  # 0.5182 correlation\n",
    "])\n",
    "\n",
    "# Include socioeconomic features (prioritizing highest correlations)\n",
    "final_features.extend([\n",
    "    'MEDHHINC_2018',  # 0.7305 correlation - keep this over duplicates\n",
    "    'Med_HH_Income_Percent_of_State_Total_2018',  # 0.5672 correlation\n",
    "    'PCTPOV017_2018',  # 0.6659 correlation - child poverty (strongest poverty indicator)\n",
    "    'PCTPOVALL_2018',  # 0.5463 correlation - general poverty\n",
    "    'Percent of adults with less than a high school diploma 2014-18',  # 0.4745 correlation\n",
    "    'Percent of adults with a bachelor\\'s degree or higher 2014-18',  # 0.6872 correlation\n",
    "    'Percent of adults with a high school diploma only 2014-18',  # 0.6026 correlation\n",
    "    'Unemployment_rate_2018'  # 0.3889 correlation\n",
    "])\n",
    "\n",
    "# Include health outcomes (these are highly predictive - all >0.5 correlation)\n",
    "final_features.extend([\n",
    "    'CKD_prevalence',  # 0.8928 correlation - strongest health predictor\n",
    "    'COPD_prevalence',  # 0.8867 correlation\n",
    "    'diabetes_prevalence',  # 0.8310 correlation\n",
    "    'anycondition_prevalence',  # 0.7841 correlation\n",
    "    'Obesity_prevalence'  # 0.5593 correlation\n",
    "])\n",
    "\n",
    "# Include health resources (those with meaningful correlations)\n",
    "final_features.extend([\n",
    "    'Total nurse practitioners (2019)',  # 0.3192 correlation\n",
    "    'Total physician assistants (2019)',  # 0.3206 correlation\n",
    "    'Total Hospitals (2019)',  # 0.3382 correlation\n",
    "    'Family Medicine/General Practice Primary Care (2019)'  # 0.3120 correlation\n",
    "])\n",
    "\n",
    "# Include population dynamics (select highest correlation ones)\n",
    "final_features.extend([\n",
    "    'R_death_2018',  # 0.6832 correlation - very strong predictor\n",
    "    'R_NATURAL_INC_2018'  # 0.5865 correlation\n",
    "])\n",
    "\n",
    "# Include employment (additional socioeconomic context)\n",
    "final_features.extend([\n",
    "    'Employed_2018',  # 0.3127 correlation\n",
    "    'Civilian_labor_force_2018'  # 0.3112 correlation\n",
    "])\n",
    "\n",
    "# Include geographic encoding\n",
    "final_features.extend([\n",
    "    'COUNTY_NAME_encoded', 'STATE_NAME_encoded'\n",
    "])\n",
    "\n",
    "# Filter to features that exist in our datasets\n",
    "existing_features = [f for f in final_features if f in df_clean.columns or f in df_encoded.columns]\n",
    "print(f\"Selected {len(existing_features)} features for modeling (all with correlation >0.31):\")\n",
    "for i, feature in enumerate(existing_features, 1):\n",
    "    print(f\"{i:2d}. {feature}\")\n",
    "\n"
   ]
  },
  {
   "cell_type": "markdown",
   "id": "e9b16e54",
   "metadata": {},
   "source": [
    "**Final Feature Set Results:**\n",
    "\n",
    "We've created a comprehensive feature set that balances coverage across all important domains while avoiding the most problematic multicollinearity issues. Our engineered age groups successfully replace individual age columns.\n",
    "\n",
    "#### Step 4: Prepare Modeling Dataset\n",
    "\n",
    "Now we'll create the final dataset with all features properly prepared for modeling:"
   ]
  },
  {
   "cell_type": "code",
   "execution_count": 18,
   "id": "fabf0896",
   "metadata": {},
   "outputs": [
    {
     "name": "stdout",
     "output_type": "stream",
     "text": [
      "Final modeling dataset prepared:\n",
      "- Feature matrix X: (3140, 29)\n",
      "- Target vector y: (3140,)\n",
      "- Total features: 29\n",
      "- Total samples: 3140\n",
      "\n",
      "Missing values check:\n",
      "- Features with missing values: 0\n",
      "- Target missing values: 0\n",
      "\n",
      "Features selected for modeling:\n",
      " 1. young_adults_pct\n",
      " 2. middle_aged_pct\n",
      " 3. older_adults_pct\n",
      " 4. Percent of Population Aged 60+\n",
      " 5. % Asian-alone\n",
      " 6. Urban_rural_code\n",
      " 7. MEDHHINC_2018\n",
      " 8. Med_HH_Income_Percent_of_State_Total_2018\n",
      " 9. PCTPOV017_2018\n",
      "10. PCTPOVALL_2018\n",
      "11. Percent of adults with less than a high school diploma 2014-18\n",
      "12. Percent of adults with a bachelor's degree or higher 2014-18\n",
      "13. Percent of adults with a high school diploma only 2014-18\n",
      "14. Unemployment_rate_2018\n",
      "15. CKD_prevalence\n",
      "16. COPD_prevalence\n",
      "17. diabetes_prevalence\n",
      "18. anycondition_prevalence\n",
      "19. Obesity_prevalence\n",
      "20. Total nurse practitioners (2019)\n",
      "21. Total physician assistants (2019)\n",
      "22. Total Hospitals (2019)\n",
      "23. Family Medicine/General Practice Primary Care (2019)\n",
      "24. R_death_2018\n",
      "25. R_NATURAL_INC_2018\n",
      "26. Employed_2018\n",
      "27. Civilian_labor_force_2018\n",
      "28. COUNTY_NAME_encoded\n",
      "29. STATE_NAME_encoded\n",
      "\n",
      "Target variable: Heart disease_prevalence\n",
      "Target range: 3.50% to 15.10%\n",
      "Target mean: 8.61%\n"
     ]
    }
   ],
   "source": [
    "# Create final modeling dataset\n",
    "# Combine features from both clean and encoded datasets\n",
    "modeling_data = df_clean.copy()\n",
    "\n",
    "# Add encoded geographic features\n",
    "modeling_data['COUNTY_NAME_encoded'] = df_encoded['COUNTY_NAME_encoded']\n",
    "modeling_data['STATE_NAME_encoded'] = df_encoded['STATE_NAME_encoded']\n",
    "\n",
    "# Select only the features we want for modeling\n",
    "X_features = [f for f in existing_features if f != 'Heart disease_prevalence']\n",
    "y_target = 'Heart disease_prevalence'\n",
    "\n",
    "# Create feature matrix X and target vector y\n",
    "X = modeling_data[X_features].copy()\n",
    "y = modeling_data[y_target].copy()\n",
    "\n",
    "print(f\"Final modeling dataset prepared:\")\n",
    "print(f\"- Feature matrix X: {X.shape}\")\n",
    "print(f\"- Target vector y: {y.shape}\")\n",
    "print(f\"- Total features: {len(X_features)}\")\n",
    "print(f\"- Total samples: {len(y)}\")\n",
    "\n",
    "# Check for any missing values\n",
    "print(f\"\\nMissing values check:\")\n",
    "print(f\"- Features with missing values: {X.isnull().sum().sum()}\")\n",
    "print(f\"- Target missing values: {y.isnull().sum()}\")\n",
    "\n",
    "# Display feature names for reference\n",
    "print(f\"\\nFeatures selected for modeling:\")\n",
    "for i, feature in enumerate(X_features, 1):\n",
    "    print(f\"{i:2d}. {feature}\")\n",
    "    \n",
    "print(f\"\\nTarget variable: {y_target}\")\n",
    "print(f\"Target range: {y.min():.2f}% to {y.max():.2f}%\")\n",
    "print(f\"Target mean: {y.mean():.2f}%\")"
   ]
  },
  {
   "cell_type": "markdown",
   "id": "0241b83b",
   "metadata": {},
   "source": [
    "### Outlier Detection and Handling\n",
    "\n",
    "Before splitting our data into training and test sets, we need to detect and handle outliers that could negatively impact our regression model. We'll use the IQR method to identify and handle extreme values:"
   ]
  },
  {
   "cell_type": "code",
   "execution_count": 19,
   "id": "dee14652",
   "metadata": {},
   "outputs": [
    {
     "name": "stdout",
     "output_type": "stream",
     "text": [
      "Features with >10% outliers (will be winsorized): 7\n",
      "- % Asian-alone: 12.1%\n",
      "- Total nurse practitioners (2019): 13.5%\n",
      "- Total physician assistants (2019): 13.3%\n",
      "- Total Hospitals (2019): 12.4%\n",
      "- Family Medicine/General Practice Primary Care (2019): 13.2%\n",
      "- Employed_2018: 14.2%\n",
      "- Civilian_labor_force_2018: 14.2%\n"
     ]
    }
   ],
   "source": [
    "# Outlier detection using IQR method\n",
    "def detect_outliers_iqr(df, column):\n",
    "    \"\"\"Detect outliers using IQR method\"\"\"\n",
    "    Q1 = df[column].quantile(0.25)\n",
    "    Q3 = df[column].quantile(0.75)\n",
    "    IQR = Q3 - Q1\n",
    "    lower_bound = Q1 - 1.5 * IQR\n",
    "    upper_bound = Q3 + 1.5 * IQR\n",
    "    return df[(df[column] < lower_bound) | (df[column] > upper_bound)]\n",
    "\n",
    "# Identify features with high outlier percentages\n",
    "numeric_features = X.select_dtypes(include=[np.number]).columns.tolist()\n",
    "outlier_percentages = {}\n",
    "\n",
    "for feature in numeric_features:\n",
    "    outliers = detect_outliers_iqr(X, feature)\n",
    "    outlier_percentages[feature] = len(outliers) / len(X) * 100\n",
    "\n",
    "# Find features with >10% outliers\n",
    "features_to_winsorize = [f for f, pct in outlier_percentages.items() if pct > 10.0]\n",
    "\n",
    "print(f\"Features with >10% outliers (will be winsorized): {len(features_to_winsorize)}\")\n",
    "for feature in features_to_winsorize:\n",
    "    print(f\"- {feature}: {outlier_percentages[feature]:.1f}%\")"
   ]
  },
  {
   "cell_type": "markdown",
   "id": "bb07e44a",
   "metadata": {},
   "source": [
    "### Outlier Handling Strategy\n",
    "\n",
    "**Approach:**\n",
    "Since this is demographic/health data, extreme values often represent real variation (urban vs rural counties). We'll apply winsorization only to features with >10% outliers to reduce extreme influence while preserving important population variation.\n",
    "\n",
    "**Method:**\n",
    "- Use IQR method to identify outliers\n",
    "- Apply winsorization (cap at 5th and 95th percentiles) to high-outlier features\n",
    "- Keep all data points (no row removal)\n",
    "- Apply before train-test split to maintain proper preprocessing order"
   ]
  },
  {
   "cell_type": "code",
   "execution_count": 20,
   "id": "cd506ae4",
   "metadata": {},
   "outputs": [
    {
     "name": "stdout",
     "output_type": "stream",
     "text": [
      "Outlier handling completed on 7 features\n",
      "Dataset ready for train-test split: (3140, 29)\n"
     ]
    }
   ],
   "source": [
    "# Apply winsorization to identified features\n",
    "def winsorize_outliers(df, column, lower_percentile=0.05, upper_percentile=0.95):\n",
    "    \"\"\"Apply winsorization to cap outliers at specified percentiles\"\"\"\n",
    "    return mstats.winsorize(df[column], limits=(lower_percentile, 1-upper_percentile))\n",
    "\n",
    "# Create processed dataset\n",
    "X_processed = X.copy()\n",
    "\n",
    "for feature in features_to_winsorize:\n",
    "    X_processed[feature] = winsorize_outliers(X_processed, feature)\n",
    "\n",
    "# Verify outlier reduction\n",
    "print(f\"Outlier handling completed on {len(features_to_winsorize)} features\")\n",
    "print(f\"Dataset ready for train-test split: {X_processed.shape}\")"
   ]
  },
  {
   "cell_type": "markdown",
   "id": "946e2223",
   "metadata": {},
   "source": [
    "**Modeling Dataset Preparation Results:**\n",
    "\n",
    "We've successfully created a comprehensive dataset ready for regularized regression modeling. The dataset includes all important feature categories with proper outlier handling applied before the train-test split.\n",
    "\n",
    "#### Step 5: Train-Test Split and Feature Scaling\n",
    "\n",
    "Now we'll split the processed data (after outlier handling) and prepare it for modeling with proper scaling:"
   ]
  },
  {
   "cell_type": "code",
   "execution_count": 21,
   "id": "1a7c4a2e",
   "metadata": {},
   "outputs": [
    {
     "name": "stdout",
     "output_type": "stream",
     "text": [
      "Train-test split completed:\n",
      "- Training set: X_train (2512, 29), y_train (2512,)\n",
      "- Test set: X_test (628, 29), y_test (628,)\n",
      "- Train/test ratio: 2512/628 = 4.0:1\n",
      "\n",
      "Feature scaling completed:\n",
      "- Scaled training features: (2512, 29)\n",
      "- Scaled test features: (628, 29)\n",
      "\n",
      "Scaling verification (training set):\n",
      "- Mean of scaled features: -0.000000 (should be ~0)\n",
      "- Std of scaled features: 1.000199 (should be ~1)\n",
      "\n",
      "Target variable statistics:\n",
      "- Training target mean: 8.59%\n",
      "- Test target mean: 8.69%\n",
      "- Training target std: 1.75%\n",
      "- Test target std: 1.80%\n"
     ]
    }
   ],
   "source": [
    "# Train-test split using processed data (after outlier handling)\n",
    "X_train, X_test, y_train, y_test = train_test_split(\n",
    "    X_processed, y, \n",
    "    test_size=0.2, \n",
    "    random_state=42, \n",
    "    stratify=None  # Can't stratify continuous target\n",
    ")\n",
    "\n",
    "print(f\"Train-test split completed:\")\n",
    "print(f\"- Training set: X_train {X_train.shape}, y_train {y_train.shape}\")\n",
    "print(f\"- Test set: X_test {X_test.shape}, y_test {y_test.shape}\")\n",
    "print(f\"- Train/test ratio: {len(X_train)}/{len(X_test)} = {len(X_train)/len(X_test):.1f}:1\")\n",
    "\n",
    "# Feature scaling (important for regularized regression)\n",
    "scaler = StandardScaler()\n",
    "X_train_scaled = scaler.fit_transform(X_train)\n",
    "X_test_scaled = scaler.transform(X_test)\n",
    "\n",
    "# Convert back to DataFrames for easier handling\n",
    "X_train_scaled = pd.DataFrame(X_train_scaled, columns=X_features, index=X_train.index)\n",
    "X_test_scaled = pd.DataFrame(X_test_scaled, columns=X_features, index=X_test.index)\n",
    "\n",
    "print(f\"\\nFeature scaling completed:\")\n",
    "print(f\"- Scaled training features: {X_train_scaled.shape}\")\n",
    "print(f\"- Scaled test features: {X_test_scaled.shape}\")\n",
    "\n",
    "# Display scaling statistics\n",
    "print(f\"\\nScaling verification (training set):\")\n",
    "print(f\"- Mean of scaled features: {X_train_scaled.mean().mean():.6f} (should be ~0)\")\n",
    "print(f\"- Std of scaled features: {X_train_scaled.std().mean():.6f} (should be ~1)\")\n",
    "\n",
    "print(f\"\\nTarget variable statistics:\")\n",
    "print(f\"- Training target mean: {y_train.mean():.2f}%\")\n",
    "print(f\"- Test target mean: {y_test.mean():.2f}%\")\n",
    "print(f\"- Training target std: {y_train.std():.2f}%\")\n",
    "print(f\"- Test target std: {y_test.std():.2f}%\")"
   ]
  },
  {
   "cell_type": "markdown",
   "id": "7d5a587d",
   "metadata": {},
   "source": [
    "**Data Preparation Complete!**\n",
    "\n",
    "We have successfully completed comprehensive EDA and feature engineering with proper preprocessing order:\n",
    "\n",
    "**Final Dataset Summary:**\n",
    "- Clean feature matrix with balanced representation across all domains\n",
    "- Removed redundant features and confidence intervals to reduce multicollinearity\n",
    "- Engineered age groups that maintain clinical relevance while reducing dimensionality\n",
    "- Applied outlier handling using winsorization before data splitting\n",
    "- Proper train-test split (80/20) with scaled features\n",
    "- All missing values handled (none found)\n",
    "- Ready for regularized regression modeling\n",
    "\n",
    "**Preprocessing Order:**\n",
    "1. **Feature Engineering**: Consolidated age groups, removed redundant features\n",
    "2. **Outlier Detection & Handling**: Applied winsorization to features with >10% outliers\n",
    "3. **Train-Test Split**: Split processed data into training and test sets\n",
    "4. **Feature Scaling**: Applied StandardScaler to maintain proper data leakage prevention\n",
    "\n",
    "The data is now ready for model training with Lasso regression to handle remaining feature selection and multicollinearity."
   ]
  },
  {
   "cell_type": "markdown",
   "id": "cba8937e",
   "metadata": {},
   "source": [
    "## 3. Save Processed Data\n",
    "\n",
    "Now that we have completed all preprocessing steps, we'll save the processed data to be used in other notebooks for model training."
   ]
  },
  {
   "cell_type": "code",
   "execution_count": 22,
   "id": "05180dda",
   "metadata": {},
   "outputs": [],
   "source": [
    "# Create heart disease prediction dataset directory\n",
    "dataset_dir = '/workspaces/tgedin_machine_learning_python_template/data/processed/heart_disease_prediction_dataset'\n",
    "os.makedirs(dataset_dir, exist_ok=True)\n",
    "\n",
    "# Save only the essential processed datasets (scaled versions ready for modeling)\n",
    "X_train_scaled.to_csv(os.path.join(dataset_dir, 'X_train.csv'), index=False)\n",
    "X_test_scaled.to_csv(os.path.join(dataset_dir, 'X_test.csv'), index=False)\n",
    "y_train.to_csv(os.path.join(dataset_dir, 'y_train.csv'), index=False)\n",
    "y_test.to_csv(os.path.join(dataset_dir, 'y_test.csv'), index=False)\n"
   ]
  },
  {
   "cell_type": "markdown",
   "id": "57ba307c",
   "metadata": {},
   "source": [
    "## Final Summary: Dataset Ready for Regularized Linear Regression\n",
    "\n",
    "### **Comprehensive EDA and Preprocessing Completed**\n",
    "\n",
    "This notebook has successfully prepared a US county-level sociodemographic and health dataset for regularized linear regression analysis.\n",
    "\n",
    "#### **1. Data Quality Assessment**\n",
    "- **Dataset**: 3,140 counties × 108 original features (2018-2019 data)\n",
    "- **Target**: Heart disease prevalence (3.50% - 15.10%, mean: 8.61%)\n",
    "- **Missing Values**: None (complete dataset)\n",
    "- **Data Types**: Properly validated and handled\n",
    "\n",
    "#### **2. Feature Engineering and Selection**\n",
    "- **Categorical Encoding**: County and state names encoded using LabelEncoder\n",
    "- **Age Group Consolidation**: Created meaningful age groups (young_adults_pct, middle_aged_pct, older_adults_pct) from individual age columns\n",
    "- **Feature Selection**: Selected 29 features based on:\n",
    "  - Correlation analysis (>0.31 with target)\n",
    "  - Domain knowledge for health outcomes\n",
    "  - Multicollinearity considerations\n",
    "  - Representation across all feature categories\n",
    "\n",
    "#### **3. Outlier Detection and Handling**\n",
    "- **Method**: IQR-based detection (Q1 - 1.5*IQR, Q3 + 1.5*IQR)\n",
    "- **Approach**: Selective winsorization (5th-95th percentile capping)\n",
    "- **Criteria**: Applied only to features with >10% outliers\n",
    "- **Rationale**: Preserves population variation while reducing extreme influence\n",
    "\n",
    "#### **4. Data Splitting and Scaling**\n",
    "- **Split**: 80% training, 20% testing (2,512 train / 628 test samples)\n",
    "- **Scaling**: StandardScaler applied to all features\n",
    "- **Validation**: Proper preprocessing order maintained (outlier handling → split → scale)\n",
    "\n",
    "#### **5. Final Dataset Characteristics**\n",
    "- **Training Set**: 2,512 counties × 29 features\n",
    "- **Test Set**: 628 counties × 29 features\n",
    "- **Feature Coverage**: \n",
    "  - Demographics: Age groups, race/ethnicity, urban-rural classification\n",
    "  - Socioeconomics: Education, income, employment, poverty\n",
    "  - Health outcomes: Diabetes, obesity, COPD, CKD prevalence\n",
    "  - Health resources: Healthcare provider ratios\n",
    "  - Population dynamics: Birth/death rates, natural increase\n",
    "  - Geographic: County/state encoded variables\n",
    "\n",
    "#### **6. Data Export and Accessibility**\n",
    "- **Processed Data Saved**: Essential modeling datasets exported to `/data/processed/heart_disease_prediction_dataset/`\n",
    "- **Files Available**: Training/test sets (scaled and ready for modeling) and target variables\n",
    "- **Ready for Modeling**: Data can be easily loaded in other notebooks for immediate model training\n"
   ]
  },
  {
   "cell_type": "markdown",
   "id": "13443b49",
   "metadata": {},
   "source": []
  }
 ],
 "metadata": {
  "kernelspec": {
   "display_name": ".venv",
   "language": "python",
   "name": "python3"
  },
  "language_info": {
   "codemirror_mode": {
    "name": "ipython",
    "version": 3
   },
   "file_extension": ".py",
   "mimetype": "text/x-python",
   "name": "python",
   "nbconvert_exporter": "python",
   "pygments_lexer": "ipython3",
   "version": "3.11.4"
  }
 },
 "nbformat": 4,
 "nbformat_minor": 5
}
