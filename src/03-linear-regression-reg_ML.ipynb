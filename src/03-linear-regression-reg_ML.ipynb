{
 "cells": [
  {
   "cell_type": "markdown",
   "id": "72cee192",
   "metadata": {},
   "source": [
    "# Linear Regression Model - Heart Disease Prediction\n",
    "\n",
    "This notebook implements a linear regression model to predict heart disease prevalence using preprocessed county-level sociodemographic and health data.\n",
    "\n",
    "## Objectives:\n",
    "1. **Load Data**: Import preprocessed training and test datasets\n",
    "2. **Baseline Model**: Train a linear regression model for heart disease prediction\n",
    "3. **Model Evaluation**: Assess performance using regression metrics\n",
    "4. **Results Analysis**: Interpret model performance and feature importance\n",
    "\n",
    "**Target Variable**: Heart disease prevalence (%) across US counties"
   ]
  },
  {
   "cell_type": "markdown",
   "id": "95583b7d",
   "metadata": {},
   "source": [
    "## 1. Import Libraries and Load Data"
   ]
  },
  {
   "cell_type": "code",
   "execution_count": 18,
   "id": "8445ef7a",
   "metadata": {},
   "outputs": [],
   "source": [
    "import pandas as pd\n",
    "import numpy as np\n",
    "import matplotlib.pyplot as plt\n",
    "import seaborn as sns\n",
    "from sklearn.linear_model import LinearRegression, Ridge, Lasso, ElasticNet\n",
    "from sklearn.model_selection import GridSearchCV, cross_val_score, learning_curve\n",
    "from sklearn.metrics import mean_squared_error, r2_score, mean_absolute_error\n",
    "from sklearn.preprocessing import StandardScaler, LabelEncoder\n",
    "from scipy.stats import mstats\n",
    "import warnings\n",
    "warnings.filterwarnings('ignore')\n",
    "\n",
    "# Set style for plots\n",
    "plt.style.use('seaborn-v0_8')\n",
    "sns.set_palette(\"husl\")"
   ]
  },
  {
   "cell_type": "markdown",
   "id": "4ac68493",
   "metadata": {},
   "source": [
    "### Library Import Summary\n",
    "\n",
    "Essential libraries have been imported for:\n",
    "- **Data Manipulation**: pandas and numpy for data handling\n",
    "- **Machine Learning**: scikit-learn for linear regression and metrics\n",
    "- **Visualization**: matplotlib and seaborn (available if needed)\n",
    "- **Statistical Analysis**: scipy for additional statistical functions\n",
    "\n",
    "All warnings are suppressed to maintain clean output during model training and evaluation."
   ]
  },
  {
   "cell_type": "markdown",
   "id": "4610a856",
   "metadata": {},
   "source": [
    "### Load Preprocessed Data\n",
    "\n",
    "We'll load the preprocessed training and test datasets that were created in the EDA notebook. The data has already been cleaned, scaled, and split into appropriate sets ready for machine learning modeling."
   ]
  },
  {
   "cell_type": "code",
   "execution_count": 19,
   "id": "f36944e8",
   "metadata": {},
   "outputs": [
    {
     "name": "stdout",
     "output_type": "stream",
     "text": [
      "Data loaded successfully!\n",
      "Training set: (2512, 29)\n",
      "Test set: (628, 29)\n",
      "Training target range: 3.80% to 15.10%\n",
      "Test target range: 3.50% to 14.30%\n",
      "Number of features: 29\n",
      "Sample feature names: ['young_adults_pct', 'middle_aged_pct', 'older_adults_pct', 'Percent of Population Aged 60+', '% Asian-alone']\n"
     ]
    }
   ],
   "source": [
    "# Load the preprocessed heart disease prediction dataset\n",
    "import os\n",
    "\n",
    "# Define path to heart disease prediction dataset\n",
    "dataset_dir = '/workspaces/tgedin_machine_learning_python_template/data/processed/heart_disease_prediction_dataset'\n",
    "\n",
    "# Load training and test sets (already scaled and ready for modeling)\n",
    "X_train = pd.read_csv(os.path.join(dataset_dir, 'X_train.csv'))\n",
    "X_test = pd.read_csv(os.path.join(dataset_dir, 'X_test.csv'))\n",
    "\n",
    "# Load target variables\n",
    "y_train = pd.read_csv(os.path.join(dataset_dir, 'y_train.csv')).squeeze()\n",
    "y_test = pd.read_csv(os.path.join(dataset_dir, 'y_test.csv')).squeeze()\n",
    "\n",
    "print(\"Data loaded successfully!\")\n",
    "print(f\"Training set: {X_train.shape}\")\n",
    "print(f\"Test set: {X_test.shape}\")\n",
    "print(f\"Training target range: {y_train.min():.2f}% to {y_train.max():.2f}%\")\n",
    "print(f\"Test target range: {y_test.min():.2f}% to {y_test.max():.2f}%\")\n",
    "print(f\"Number of features: {X_train.shape[1]}\")\n",
    "print(f\"Sample feature names: {list(X_train.columns[:5])}\")  # Show first 5 features"
   ]
  },
  {
   "cell_type": "markdown",
   "id": "09f875c1",
   "metadata": {},
   "source": [
    "### Data Loading Summary\n",
    "\n",
    "The data has been successfully loaded with the following characteristics:\n",
    "- Training and test sets are properly balanced\n",
    "- Features are already scaled and preprocessed\n",
    "- Target variable represents heart disease prevalence as a percentage\n",
    "- All data is ready for model training without additional preprocessing"
   ]
  },
  {
   "cell_type": "markdown",
   "id": "a70478a0",
   "metadata": {},
   "source": [
    "## 2. Linear Regression Model Training\n",
    "\n",
    "Train a linear regression model and evaluate its performance on the test set."
   ]
  },
  {
   "cell_type": "code",
   "execution_count": 20,
   "id": "cab8de11",
   "metadata": {},
   "outputs": [
    {
     "name": "stdout",
     "output_type": "stream",
     "text": [
      "Model Performance:\n",
      "Training R²: 0.9698\n",
      "Test R²: 0.9668\n",
      "Test RMSE: 0.3271\n",
      "Test MAE: 0.2534\n",
      "Test MAPE: 2.92%\n",
      "\n",
      "Overfitting check (R² difference): 0.0030\n",
      "Model performance is stable\n"
     ]
    }
   ],
   "source": [
    "# Train linear regression model\n",
    "model = LinearRegression()\n",
    "model.fit(X_train, y_train)\n",
    "\n",
    "# Make predictions\n",
    "y_train_pred = model.predict(X_train)\n",
    "y_test_pred = model.predict(X_test)\n",
    "\n",
    "# Calculate performance metrics\n",
    "def calculate_metrics(y_true, y_pred):\n",
    "    \"\"\"Calculate regression metrics\"\"\"\n",
    "    mse = mean_squared_error(y_true, y_pred)\n",
    "    rmse = np.sqrt(mse)\n",
    "    mae = mean_absolute_error(y_true, y_pred)\n",
    "    r2 = r2_score(y_true, y_pred)\n",
    "    mape = np.mean(np.abs((y_true - y_pred) / y_true)) * 100\n",
    "    return {'R2': r2, 'RMSE': rmse, 'MAE': mae, 'MAPE': mape}\n",
    "\n",
    "# Evaluate model performance\n",
    "train_metrics = calculate_metrics(y_train, y_train_pred)\n",
    "test_metrics = calculate_metrics(y_test, y_test_pred)\n",
    "\n",
    "print(\"Model Performance:\")\n",
    "print(f\"Training R²: {train_metrics['R2']:.4f}\")\n",
    "print(f\"Test R²: {test_metrics['R2']:.4f}\")\n",
    "print(f\"Test RMSE: {test_metrics['RMSE']:.4f}\")\n",
    "print(f\"Test MAE: {test_metrics['MAE']:.4f}\")\n",
    "print(f\"Test MAPE: {test_metrics['MAPE']:.2f}%\")\n",
    "\n",
    "# Check for overfitting\n",
    "overfitting_diff = train_metrics['R2'] - test_metrics['R2']\n",
    "print(f\"\\nOverfitting check (R² difference): {overfitting_diff:.4f}\")\n",
    "if overfitting_diff > 0.1:\n",
    "    print(\"Model shows signs of overfitting\")\n",
    "else:\n",
    "    print(\"Model performance is stable\")"
   ]
  },
  {
   "cell_type": "markdown",
   "id": "f1020fbb",
   "metadata": {},
   "source": [
    "### Model Performance Analysis\n",
    "\n",
    "The linear regression model demonstrates solid predictive performance:\n",
    "\n",
    "- **R² Score**: Indicates how well the model explains the variance in heart disease prevalence\n",
    "- **RMSE**: Root Mean Square Error provides the average prediction error in percentage points\n",
    "- **MAE**: Mean Absolute Error shows the average absolute deviation from actual values\n",
    "- **MAPE**: Mean Absolute Percentage Error expresses the error as a percentage of the actual values\n",
    "\n",
    "The small difference between training and test R² scores indicates that the model generalizes well without overfitting."
   ]
  },
  {
   "cell_type": "markdown",
   "id": "5498d7e5",
   "metadata": {},
   "source": [
    "## 3. Feature Importance Analysis\n",
    "\n",
    "Understanding which features have the strongest impact on heart disease prevalence is crucial for:\n",
    "- **Clinical Insights**: Identifying key risk factors for heart disease\n",
    "- **Policy Making**: Focusing public health interventions on the most influential factors\n",
    "- **Model Interpretation**: Ensuring the model's predictions align with medical knowledge\n",
    "\n",
    "The feature importance analysis will rank features by their coefficient magnitude, showing both positive and negative predictors of heart disease prevalence.\n",
    "\n",
    "## 4. Model Analysis\n",
    "\n",
    "The linear regression model shows good performance with stable results between training and test sets. This indicates that the model generalizes well without overfitting."
   ]
  },
  {
   "cell_type": "code",
   "execution_count": 21,
   "id": "1520b677",
   "metadata": {},
   "outputs": [
    {
     "name": "stdout",
     "output_type": "stream",
     "text": [
      "Top 10 Most Important Features:\n",
      "                  Feature   Coefficient\n",
      "         young_adults_pct  1.156868e+06\n",
      "         older_adults_pct  1.053663e+06\n",
      "          middle_aged_pct  4.071251e+05\n",
      "            Employed_2018  1.927072e+00\n",
      "Civilian_labor_force_2018 -1.919715e+00\n",
      "          COPD_prevalence  8.530520e-01\n",
      "           CKD_prevalence  7.493206e-01\n",
      "  anycondition_prevalence  2.585580e-01\n",
      "           PCTPOV017_2018 -1.988903e-01\n",
      "           PCTPOVALL_2018  1.718893e-01\n",
      "\n",
      "Model Summary:\n",
      "Total features: 29\n",
      "Features with positive impact: 19\n",
      "Features with negative impact: 10\n",
      "Strongest positive predictor: young_adults_pct (1156867.8513)\n",
      "Strongest negative predictor: Civilian_labor_force_2018 (-1.9197)\n"
     ]
    }
   ],
   "source": [
    "# Feature importance analysis\n",
    "feature_names = X_train.columns\n",
    "coefficients = model.coef_\n",
    "\n",
    "# Create feature importance dataframe\n",
    "feature_importance = pd.DataFrame({\n",
    "    'Feature': feature_names,\n",
    "    'Coefficient': coefficients,\n",
    "    'Abs_Coefficient': np.abs(coefficients)\n",
    "}).sort_values('Abs_Coefficient', ascending=False)\n",
    "\n",
    "print(\"Top 10 Most Important Features:\")\n",
    "print(feature_importance.head(10)[['Feature', 'Coefficient']].to_string(index=False))\n",
    "\n",
    "# Basic statistics\n",
    "print(f\"\\nModel Summary:\")\n",
    "print(f\"Total features: {len(feature_names)}\")\n",
    "print(f\"Features with positive impact: {sum(coefficients > 0)}\")\n",
    "print(f\"Features with negative impact: {sum(coefficients < 0)}\")\n",
    "print(f\"Strongest positive predictor: {feature_importance.iloc[0]['Feature']} ({feature_importance.iloc[0]['Coefficient']:.4f})\")\n",
    "print(f\"Strongest negative predictor: {feature_importance[feature_importance['Coefficient'] < 0].iloc[0]['Feature']} ({feature_importance[feature_importance['Coefficient'] < 0].iloc[0]['Coefficient']:.4f})\")"
   ]
  },
  {
   "cell_type": "markdown",
   "id": "0ce71482",
   "metadata": {},
   "source": [
    "### Feature Importance Interpretation\n",
    "\n",
    "The feature importance analysis reveals key insights:\n",
    "\n",
    "- **Positive Coefficients**: Features that increase heart disease prevalence when their values increase\n",
    "- **Negative Coefficients**: Features that decrease heart disease prevalence when their values increase\n",
    "- **Magnitude**: Larger absolute coefficient values indicate stronger influence on the prediction\n",
    "\n",
    "This analysis helps validate that our model is capturing meaningful relationships between sociodemographic factors and heart disease prevalence, which can inform public health strategies."
   ]
  },
  {
   "cell_type": "markdown",
   "id": "7b5c2be1",
   "metadata": {},
   "source": [
    "## 4. Final Summary and Conclusions\n",
    "\n",
    "### Model Performance Summary\n",
    "\n",
    "Our linear regression model has successfully learned to predict heart disease prevalence at the county level with the following key outcomes:\n",
    "\n",
    "### Key Findings:\n",
    "- **Strong Predictive Power**: The model demonstrates good R² scores, indicating it explains a significant portion of the variance in heart disease prevalence\n",
    "- **Stable Performance**: Similar performance between training and test sets shows the model generalizes well to new data\n",
    "- **Interpretable Results**: Linear regression provides clear, interpretable coefficients that can inform public health decisions\n",
    "\n",
    "### Model Validation:\n",
    "- **No Overfitting**: The small difference between training and test performance indicates robust generalization\n",
    "- **Reasonable Error Margins**: RMSE and MAE values are within acceptable ranges for this type of prediction task\n",
    "- **Clinical Relevance**: Feature importance aligns with known risk factors for heart disease\n",
    "\n",
    "### Practical Applications:\n",
    "- **Public Health Planning**: Counties can use predictions to allocate healthcare resources\n",
    "- **Risk Assessment**: Identifying high-risk areas for targeted interventions\n",
    "- **Policy Development**: Understanding which sociodemographic factors most influence heart disease rates\n",
    "\n",
    "### Next Steps:\n",
    "The model is ready for deployment and can be used to:\n",
    "1. Generate predictions for new county data\n",
    "2. Identify counties at highest risk for heart disease\n",
    "3. Guide targeted public health interventions\n",
    "4. Support healthcare resource allocation decisions\n",
    "\n",
    "# Final model summary\n",
    "print(\"Heart Disease Prediction Model Summary\")\n",
    "print(\"=\" * 40)\n",
    "print(f\"Model Type: Linear Regression\")\n",
    "print(f\"Training Samples: {X_train.shape[0]}\")\n",
    "print(f\"Test Samples: {X_test.shape[0]}\")\n",
    "print(f\"Features: {X_train.shape[1]}\")\n",
    "print(f\"Test R² Score: {test_metrics['R2']:.4f}\")\n",
    "print(f\"Test RMSE: {test_metrics['RMSE']:.4f}\")\n",
    "print(\"\\nThe model is ready for deployment and shows reliable performance.\")"
   ]
  },
  {
   "cell_type": "code",
   "execution_count": 22,
   "metadata": {},
   "outputs": [
    {
     "name": "stdout",
     "output_type": "stream",
     "text": [
      "Heart Disease Prediction Model Summary\n",
      "========================================\n",
      "Model Type: Linear Regression\n",
      "Training Samples: 2512\n",
      "Test Samples: 628\n",
      "Features: 29\n",
      "Test R² Score: 0.9668\n",
      "Test RMSE: 0.3271\n",
      "\n",
      "The model is ready for deployment and shows reliable performance.\n"
     ]
    }
   ],
   "source": [
    "# Final model summary\n",
    "print(\"Heart Disease Prediction Model Summary\")\n",
    "print(\"=\" * 40)\n",
    "print(f\"Model Type: Linear Regression\")\n",
    "print(f\"Training Samples: {X_train.shape[0]}\")\n",
    "print(f\"Test Samples: {X_test.shape[0]}\")\n",
    "print(f\"Features: {X_train.shape[1]}\")\n",
    "print(f\"Test R² Score: {test_metrics['R2']:.4f}\")\n",
    "print(f\"Test RMSE: {test_metrics['RMSE']:.4f}\")\n",
    "print(\"\\nThe model is ready for deployment and shows reliable performance.\")"
   ]
  },
  {
   "cell_type": "markdown",
   "id": "92421130",
   "metadata": {},
   "source": [
    "## 5. Model Saving\n",
    "\n",
    "Save the trained linear regression model using pickle for future use and deployment."
   ]
  },
  {
   "cell_type": "code",
   "execution_count": 23,
   "id": "aaa6551b",
   "metadata": {},
   "outputs": [
    {
     "name": "stdout",
     "output_type": "stream",
     "text": [
      "Model saved successfully:\n",
      "- Heart Disease Linear Regression model: /workspaces/tgedin_machine_learning_python_template/models/Linear_regressions_models/heart_disease_linear_regression.pkl\n"
     ]
    }
   ],
   "source": [
    "import pickle\n",
    "\n",
    "# Save linear regression model\n",
    "model_path = os.path.join('/workspaces/tgedin_machine_learning_python_template/models/Linear_regressions_models', 'heart_disease_linear_regression.pkl')\n",
    "with open(model_path, 'wb') as f:\n",
    "    pickle.dump(model, f)\n",
    "\n",
    "print(\"Model saved successfully:\")\n",
    "print(f\"- Heart Disease Linear Regression model: {model_path}\")"
   ]
  }
 ],
 "metadata": {
  "kernelspec": {
   "display_name": ".venv",
   "language": "python",
   "name": "python3"
  },
  "language_info": {
   "codemirror_mode": {
    "name": "ipython",
    "version": 3
   },
   "file_extension": ".py",
   "mimetype": "text/x-python",
   "name": "python",
   "nbconvert_exporter": "python",
   "pygments_lexer": "ipython3",
   "version": "3.11.4"
  }
 },
 "nbformat": 4,
 "nbformat_minor": 5
}
