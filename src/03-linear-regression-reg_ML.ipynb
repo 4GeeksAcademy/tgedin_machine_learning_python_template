{
 "cells": [
  {
   "cell_type": "markdown",
   "id": "72cee192",
   "metadata": {},
   "source": [
    "# Linear Regression Model - Heart Disease Prediction\n",
    "\n",
    "This notebook implements a linear regression model to predict heart disease prevalence using preprocessed county-level sociodemographic and health data.\n",
    "\n",
    "## Objectives:\n",
    "1. **Load Data**: Import preprocessed training and test datasets\n",
    "2. **Baseline Model**: Train a linear regression model for heart disease prediction\n",
    "3. **Model Evaluation**: Assess performance using regression metrics\n",
    "4. **Results Analysis**: Interpret model performance and feature importance\n",
    "\n",
    "**Target Variable**: Heart disease prevalence (%) across US counties"
   ]
  },
  {
   "cell_type": "markdown",
   "id": "95583b7d",
   "metadata": {},
   "source": [
    "## 1. Import Libraries and Load Data"
   ]
  },
  {
   "cell_type": "code",
   "execution_count": 1,
   "id": "8445ef7a",
   "metadata": {},
   "outputs": [],
   "source": [
    "import pandas as pd\n",
    "import numpy as np\n",
    "import matplotlib.pyplot as plt\n",
    "import seaborn as sns\n",
    "from sklearn.linear_model import LinearRegression, Ridge, Lasso, ElasticNet\n",
    "from sklearn.model_selection import GridSearchCV, cross_val_score, learning_curve\n",
    "from sklearn.metrics import mean_squared_error, r2_score, mean_absolute_error\n",
    "from sklearn.preprocessing import StandardScaler, LabelEncoder\n",
    "from scipy.stats import mstats\n",
    "import warnings\n",
    "warnings.filterwarnings('ignore')\n",
    "\n",
    "# Set style for plots\n",
    "plt.style.use('seaborn-v0_8')\n",
    "sns.set_palette(\"husl\")"
   ]
  },
  {
   "cell_type": "markdown",
   "id": "4ac68493",
   "metadata": {},
   "source": [
    "### Library Import Summary\n",
    "\n",
    "Essential libraries have been imported for:\n",
    "- **Data Manipulation**: pandas and numpy for data handling\n",
    "- **Machine Learning**: scikit-learn for linear regression and metrics\n",
    "- **Visualization**: matplotlib and seaborn (available if needed)\n",
    "- **Statistical Analysis**: scipy for additional statistical functions\n",
    "\n",
    "All warnings are suppressed to maintain clean output during model training and evaluation."
   ]
  },
  {
   "cell_type": "markdown",
   "id": "4610a856",
   "metadata": {},
   "source": [
    "### Load Preprocessed Data\n",
    "\n",
    "We'll load the preprocessed training and test datasets that were created in the EDA notebook. The data has already been cleaned, scaled, and split into appropriate sets ready for machine learning modeling."
   ]
  },
  {
   "cell_type": "code",
   "execution_count": 2,
   "id": "f36944e8",
   "metadata": {},
   "outputs": [
    {
     "name": "stdout",
     "output_type": "stream",
     "text": [
      "Data loaded successfully!\n",
      "Training set: (2512, 29)\n",
      "Test set: (628, 29)\n",
      "Training target range: 3.80% to 15.10%\n",
      "Test target range: 3.50% to 14.30%\n",
      "Number of features: 29\n",
      "Sample feature names: ['young_adults_pct', 'middle_aged_pct', 'older_adults_pct', 'Percent of Population Aged 60+', '% Asian-alone']\n"
     ]
    }
   ],
   "source": [
    "# Load the preprocessed heart disease prediction dataset\n",
    "import os\n",
    "\n",
    "# Define path to heart disease prediction dataset (relative path)\n",
    "dataset_dir = '../data/processed/heart_disease_prediction_dataset'\n",
    "\n",
    "# Load training and test sets (already scaled and ready for modeling)\n",
    "X_train = pd.read_csv(os.path.join(dataset_dir, 'X_train.csv'))\n",
    "X_test = pd.read_csv(os.path.join(dataset_dir, 'X_test.csv'))\n",
    "\n",
    "# Load target variables\n",
    "y_train = pd.read_csv(os.path.join(dataset_dir, 'y_train.csv')).squeeze()\n",
    "y_test = pd.read_csv(os.path.join(dataset_dir, 'y_test.csv')).squeeze()\n",
    "\n",
    "print(\"Data loaded successfully!\")\n",
    "print(f\"Training set: {X_train.shape}\")\n",
    "print(f\"Test set: {X_test.shape}\")\n",
    "print(f\"Training target range: {y_train.min():.2f}% to {y_train.max():.2f}%\")\n",
    "print(f\"Test target range: {y_test.min():.2f}% to {y_test.max():.2f}%\")\n",
    "print(f\"Number of features: {X_train.shape[1]}\")\n",
    "print(f\"Sample feature names: {list(X_train.columns[:5])}\")  # Show first 5 features"
   ]
  },
  {
   "cell_type": "markdown",
   "id": "09f875c1",
   "metadata": {},
   "source": [
    "### Data Loading Summary\n",
    "\n",
    "The data has been successfully loaded with the following characteristics:\n",
    "- Training and test sets are properly balanced\n",
    "- Features are already scaled and preprocessed\n",
    "- Target variable represents heart disease prevalence as a percentage\n",
    "- All data is ready for model training without additional preprocessing"
   ]
  },
  {
   "cell_type": "markdown",
   "id": "a70478a0",
   "metadata": {},
   "source": [
    "## 2. Linear Regression Models with Regularization\n",
    "\n",
    "Train and compare Linear Regression, Ridge, Lasso, and ElasticNet models."
   ]
  },
  {
   "cell_type": "code",
   "execution_count": 3,
   "id": "cab8de11",
   "metadata": {},
   "outputs": [
    {
     "name": "stdout",
     "output_type": "stream",
     "text": [
      "Model Comparison:\n",
      "----------------------------------------------------------------------\n",
      "Linear Regression | R2: 0.9668 | RMSE: 0.3271 | Overfitting: 0.0030\n",
      "Ridge           | R2: 0.9672 | RMSE: 0.3251 | Overfitting: 0.0025\n",
      "Lasso           | R2: 0.5398 | RMSE: 1.2184 | Overfitting: -0.0047\n",
      "ElasticNet      | R2: 0.7694 | RMSE: 0.8626 | Overfitting: -0.0033\n",
      "\n",
      "Best Model: Ridge (R² = 0.9672)\n"
     ]
    }
   ],
   "source": [
    "# Train multiple regression models\n",
    "models = {\n",
    "    'Linear Regression': LinearRegression(),\n",
    "    'Ridge': Ridge(alpha=1.0),\n",
    "    'Lasso': Lasso(alpha=1.0),\n",
    "    'ElasticNet': ElasticNet(alpha=1.0, l1_ratio=0.5)\n",
    "}\n",
    "\n",
    "# Calculate performance metrics\n",
    "def calculate_metrics(y_true, y_pred):\n",
    "    \"\"\"Calculate regression metrics\"\"\"\n",
    "    mse = mean_squared_error(y_true, y_pred)\n",
    "    rmse = np.sqrt(mse)\n",
    "    mae = mean_absolute_error(y_true, y_pred)\n",
    "    r2 = r2_score(y_true, y_pred)\n",
    "    mape = np.mean(np.abs((y_true - y_pred) / y_true)) * 100\n",
    "    return {'R2': r2, 'RMSE': rmse, 'MAE': mae, 'MAPE': mape}\n",
    "\n",
    "# Train and evaluate all models\n",
    "results = {}\n",
    "predictions = {}\n",
    "\n",
    "for name, model in models.items():\n",
    "    # Train model\n",
    "    model.fit(X_train, y_train)\n",
    "    \n",
    "    # Make predictions\n",
    "    y_train_pred = model.predict(X_train)\n",
    "    y_test_pred = model.predict(X_test)\n",
    "    \n",
    "    # Store predictions for best model\n",
    "    predictions[name] = y_test_pred\n",
    "    \n",
    "    # Calculate metrics\n",
    "    train_metrics = calculate_metrics(y_train, y_train_pred)\n",
    "    test_metrics = calculate_metrics(y_test, y_test_pred)\n",
    "    \n",
    "    results[name] = {\n",
    "        'Train R2': train_metrics['R2'],\n",
    "        'Test R2': test_metrics['R2'],\n",
    "        'Test RMSE': test_metrics['RMSE'],\n",
    "        'Test MAE': test_metrics['MAE'],\n",
    "        'Overfitting': train_metrics['R2'] - test_metrics['R2']\n",
    "    }\n",
    "\n",
    "# Display results\n",
    "print(\"Model Comparison:\")\n",
    "print(\"-\" * 70)\n",
    "for name, metrics in results.items():\n",
    "    print(f\"{name:15} | R2: {metrics['Test R2']:.4f} | RMSE: {metrics['Test RMSE']:.4f} | Overfitting: {metrics['Overfitting']:.4f}\")\n",
    "\n",
    "# Find best model\n",
    "best_model_name = max(results.keys(), key=lambda k: results[k]['Test R2'])\n",
    "print(f\"\\nBest Model: {best_model_name} (R² = {results[best_model_name]['Test R2']:.4f})\")\n",
    "\n",
    "# Store best model for feature analysis\n",
    "best_model = models[best_model_name]"
   ]
  },
  {
   "cell_type": "markdown",
   "id": "f1020fbb",
   "metadata": {},
   "source": [
    "### Regularization Models Performance Analysis\n",
    "\n",
    "Results show clear differences between regularization techniques:\n",
    "\n",
    "- **Ridge (Winner)**: R² = 0.9672, best performance with minimal overfitting (0.0025)\n",
    "- **Linear Regression**: R² = 0.9668, very close performance but slightly more overfitting (0.0030)\n",
    "- **ElasticNet**: R² = 0.7694, moderate performance with good generalization\n",
    "- **Lasso**: R² = 0.5398, poor performance likely due to aggressive feature selection\n",
    "\n",
    "**Ridge regression** achieved the best results by effectively reducing overfitting while maintaining all features. The excellent R² of 96.72% indicates the model explains nearly all variance in heart disease prevalence."
   ]
  },
  {
   "cell_type": "markdown",
   "id": "5498d7e5",
   "metadata": {},
   "source": [
    "## 3. Feature Importance Analysis\n",
    "\n",
    "Understanding which features have the strongest impact on heart disease prevalence is crucial for:\n",
    "- **Clinical Insights**: Identifying key risk factors for heart disease\n",
    "- **Policy Making**: Focusing public health interventions on the most influential factors\n",
    "- **Model Interpretation**: Ensuring the model's predictions align with medical knowledge\n",
    "\n",
    "The feature importance analysis will rank features by their coefficient magnitude, showing both positive and negative predictors of heart disease prevalence.\n",
    "\n",
    "## 4. Model Analysis\n",
    "\n",
    "The linear regression model shows good performance with stable results between training and test sets. This indicates that the model generalizes well without overfitting."
   ]
  },
  {
   "cell_type": "code",
   "execution_count": 4,
   "id": "1520b677",
   "metadata": {},
   "outputs": [
    {
     "name": "stdout",
     "output_type": "stream",
     "text": [
      "Feature Importance Analysis (Ridge):\n",
      "Top 10 Most Important Features:\n",
      "                  Feature  Coefficient\n",
      "          COPD_prevalence     0.854022\n",
      "           CKD_prevalence     0.745077\n",
      "  anycondition_prevalence     0.256354\n",
      "         older_adults_pct     0.213297\n",
      "           PCTPOV017_2018    -0.199034\n",
      "            Employed_2018     0.190107\n",
      "           PCTPOVALL_2018     0.174112\n",
      "         young_adults_pct    -0.165090\n",
      "      diabetes_prevalence    -0.162272\n",
      "Civilian_labor_force_2018    -0.161072\n",
      "\n",
      "Model Summary:\n",
      "Total features: 29\n",
      "Non-zero features: 29\n",
      "Features with positive impact: 17\n",
      "Features with negative impact: 12\n",
      "Strongest positive predictor: COPD_prevalence (0.8540)\n",
      "Strongest negative predictor: PCTPOV017_2018 (-0.1990)\n",
      "                  Feature  Coefficient\n",
      "          COPD_prevalence     0.854022\n",
      "           CKD_prevalence     0.745077\n",
      "  anycondition_prevalence     0.256354\n",
      "         older_adults_pct     0.213297\n",
      "           PCTPOV017_2018    -0.199034\n",
      "            Employed_2018     0.190107\n",
      "           PCTPOVALL_2018     0.174112\n",
      "         young_adults_pct    -0.165090\n",
      "      diabetes_prevalence    -0.162272\n",
      "Civilian_labor_force_2018    -0.161072\n",
      "\n",
      "Model Summary:\n",
      "Total features: 29\n",
      "Non-zero features: 29\n",
      "Features with positive impact: 17\n",
      "Features with negative impact: 12\n",
      "Strongest positive predictor: COPD_prevalence (0.8540)\n",
      "Strongest negative predictor: PCTPOV017_2018 (-0.1990)\n"
     ]
    }
   ],
   "source": [
    "# Feature importance analysis using best model\n",
    "feature_names = X_train.columns\n",
    "coefficients = best_model.coef_\n",
    "\n",
    "# Create feature importance dataframe\n",
    "feature_importance = pd.DataFrame({\n",
    "    'Feature': feature_names,\n",
    "    'Coefficient': coefficients,\n",
    "    'Abs_Coefficient': np.abs(coefficients)\n",
    "}).sort_values('Abs_Coefficient', ascending=False)\n",
    "\n",
    "print(f\"Feature Importance Analysis ({best_model_name}):\")\n",
    "print(\"Top 10 Most Important Features:\")\n",
    "print(feature_importance.head(10)[['Feature', 'Coefficient']].to_string(index=False))\n",
    "\n",
    "# Basic statistics\n",
    "print(f\"\\nModel Summary:\")\n",
    "print(f\"Total features: {len(feature_names)}\")\n",
    "print(f\"Non-zero features: {sum(np.abs(coefficients) > 1e-6)}\")  # For Lasso feature selection\n",
    "print(f\"Features with positive impact: {sum(coefficients > 0)}\")\n",
    "print(f\"Features with negative impact: {sum(coefficients < 0)}\")\n",
    "if len(feature_importance) > 0:\n",
    "    print(f\"Strongest positive predictor: {feature_importance.iloc[0]['Feature']} ({feature_importance.iloc[0]['Coefficient']:.4f})\")\n",
    "    negative_features = feature_importance[feature_importance['Coefficient'] < 0]\n",
    "    if len(negative_features) > 0:\n",
    "        print(f\"Strongest negative predictor: {negative_features.iloc[0]['Feature']} ({negative_features.iloc[0]['Coefficient']:.4f})\")"
   ]
  },
  {
   "cell_type": "markdown",
   "id": "0ce71482",
   "metadata": {},
   "source": [
    "### Feature Importance Interpretation\n",
    "\n",
    "The feature importance analysis reveals key insights:\n",
    "\n",
    "- **Positive Coefficients**: Features that increase heart disease prevalence when their values increase\n",
    "- **Negative Coefficients**: Features that decrease heart disease prevalence when their values increase\n",
    "- **Magnitude**: Larger absolute coefficient values indicate stronger influence on the prediction\n",
    "\n",
    "This analysis helps validate that our model is capturing meaningful relationships between sociodemographic factors and heart disease prevalence, which can inform public health strategies."
   ]
  },
  {
   "cell_type": "markdown",
   "id": "7b5c2be1",
   "metadata": {},
   "source": [
    "## 4. Final Summary and Conclusions\n",
    "\n",
    "### Model Performance Summary\n",
    "\n",
    "Our Ridge regression model has achieved excellent results for predicting heart disease prevalence:\n",
    "\n",
    "### Key Findings:\n",
    "- **Outstanding Predictive Power**: Ridge model achieved R² = 0.9672 (96.72% variance explained)\n",
    "- **Excellent Generalization**: Minimal overfitting (0.0025) shows robust performance on new data\n",
    "- **Low Error Rate**: RMSE = 0.3251% indicates very accurate predictions\n",
    "- **Optimal Regularization**: Ridge outperformed all other models including baseline Linear Regression\n",
    "\n",
    "### Model Comparison Results:\n",
    "- **Ridge (Best)**: R² = 0.9672, RMSE = 0.3251, Overfitting = 0.0025\n",
    "- **Linear Regression**: R² = 0.9668, RMSE = 0.3271, Overfitting = 0.0030  \n",
    "- **ElasticNet**: R² = 0.7694, RMSE = 0.8626\n",
    "- **Lasso**: R² = 0.5398, RMSE = 1.2184"
   ]
  },
  {
   "cell_type": "code",
   "execution_count": 5,
   "metadata": {},
   "outputs": [
    {
     "name": "stdout",
     "output_type": "stream",
     "text": [
      "Heart Disease Prediction Model Summary\n",
      "========================================\n",
      "Best Model: Ridge\n",
      "Training Samples: 2512\n",
      "Test Samples: 628\n",
      "Features: 29\n",
      "Test R² Score: 0.9672\n",
      "Test RMSE: 0.3251\n",
      "Overfitting Score: 0.0025\n",
      "\n",
      "Regularization comparison completed. Best model selected for deployment.\n"
     ]
    }
   ],
   "source": [
    "# Final model summary\n",
    "print(\"Heart Disease Prediction Model Summary\")\n",
    "print(\"=\" * 40)\n",
    "print(f\"Best Model: {best_model_name}\")\n",
    "print(f\"Training Samples: {X_train.shape[0]}\")\n",
    "print(f\"Test Samples: {X_test.shape[0]}\")\n",
    "print(f\"Features: {X_train.shape[1]}\")\n",
    "print(f\"Test R² Score: {results[best_model_name]['Test R2']:.4f}\")\n",
    "print(f\"Test RMSE: {results[best_model_name]['Test RMSE']:.4f}\")\n",
    "print(f\"Overfitting Score: {results[best_model_name]['Overfitting']:.4f}\")\n",
    "print(\"\\nRegularization comparison completed. Best model selected for deployment.\")"
   ]
  },
  {
   "cell_type": "markdown",
   "id": "92421130",
   "metadata": {},
   "source": [
    "## 5. Model Saving\n",
    "\n",
    "Save the trained linear regression model using pickle for future use and deployment."
   ]
  },
  {
   "cell_type": "code",
   "execution_count": 6,
   "id": "aaa6551b",
   "metadata": {},
   "outputs": [
    {
     "name": "stdout",
     "output_type": "stream",
     "text": [
      "Best model saved successfully:\n",
      "- Ridge model: ../models/Linear_regressions_models/heart_disease_linear_regression.pkl\n",
      "- Performance: R² = 0.9672\n"
     ]
    }
   ],
   "source": [
    "import pickle\n",
    "import os\n",
    "\n",
    "# Save best model using relative path\n",
    "model_path = os.path.join('../models/Linear_regressions_models', 'heart_disease_linear_regression.pkl')\n",
    "with open(model_path, 'wb') as f:\n",
    "    pickle.dump(best_model, f)\n",
    "\n",
    "print(\"Best model saved successfully:\")\n",
    "print(f\"- {best_model_name} model: {model_path}\")\n",
    "print(f\"- Performance: R² = {results[best_model_name]['Test R2']:.4f}\")"
   ]
  }
 ],
 "metadata": {
  "kernelspec": {
   "display_name": ".venv",
   "language": "python",
   "name": "python3"
  },
  "language_info": {
   "codemirror_mode": {
    "name": "ipython",
    "version": 3
   },
   "file_extension": ".py",
   "mimetype": "text/x-python",
   "name": "python",
   "nbconvert_exporter": "python",
   "pygments_lexer": "ipython3",
   "version": "3.11.4"
  }
 },
 "nbformat": 4,
 "nbformat_minor": 5
}
