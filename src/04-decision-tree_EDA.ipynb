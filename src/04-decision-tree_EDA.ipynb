{
 "cells": [
  {
   "cell_type": "markdown",
   "id": "db099963",
   "metadata": {},
   "source": [
    "# Predicting Diabetes with Decision Trees\n",
    "\n",
    "## Project Overview\n",
    "This project aims to predict whether a patient has diabetes based on diagnostic measures using decision tree algorithms. The dataset originally comes from the National Institute of Diabetes and Digestive and Kidney Diseases.\n",
    "\n",
    "## Dataset Description\n",
    "The dataset contains the following variables:\n",
    "- **Pregnancies**: Number of pregnancies of the patient (numeric)\n",
    "- **Glucose**: Plasma glucose concentration 2 hours after an oral glucose tolerance test (numeric)\n",
    "- **BloodPressure**: Diastolic blood pressure (measured in mm Hg) (numeric)\n",
    "- **SkinThickness**: Triceps skin fold thickness (measured in mm) (numeric)\n",
    "- **Insulin**: 2-hour serum insulin (measured in mu U/ml) (numeric)\n",
    "- **BMI**: Body mass index (numeric)\n",
    "- **DiabetesPedigreeFunction**: Diabetes Pedigree Function (numeric)\n",
    "- **Age**: Age of patient (numeric)\n",
    "- **Outcome**: Class variable (0 or 1), being 0 negative in diabetes and 1 positive (numeric)"
   ]
  },
  {
   "cell_type": "markdown",
   "id": "ded7ee27",
   "metadata": {},
   "source": [
    "## Step 1: Loading the Dataset\n",
    "\n",
    "We'll load the diabetes dataset from the provided URL. The dataset will be stored in our data folder for further analysis."
   ]
  },
  {
   "cell_type": "code",
   "execution_count": 1,
   "id": "5ce3647e",
   "metadata": {},
   "outputs": [
    {
     "name": "stdout",
     "output_type": "stream",
     "text": [
      "Libraries imported successfully!\n"
     ]
    }
   ],
   "source": [
    "# Import required libraries\n",
    "import pandas as pd\n",
    "import numpy as np\n",
    "import matplotlib.pyplot as plt\n",
    "import seaborn as sns\n",
    "from sklearn.model_selection import train_test_split\n",
    "from sklearn.tree import DecisionTreeClassifier\n",
    "from sklearn.metrics import accuracy_score, classification_report, confusion_matrix\n",
    "from sklearn.preprocessing import StandardScaler\n",
    "import warnings\n",
    "warnings.filterwarnings('ignore')\n",
    "\n",
    "# Set plotting style\n",
    "plt.style.use('seaborn-v0_8')\n",
    "sns.set_palette(\"husl\")\n",
    "\n",
    "print(\"Libraries imported successfully!\")"
   ]
  },
  {
   "cell_type": "code",
   "execution_count": 2,
   "id": "49c2afde",
   "metadata": {},
   "outputs": [
    {
     "name": "stdout",
     "output_type": "stream",
     "text": [
      "Dataset shape: (768, 9)\n",
      "Dataset columns: ['Pregnancies', 'Glucose', 'BloodPressure', 'SkinThickness', 'Insulin', 'BMI', 'DiabetesPedigreeFunction', 'Age', 'Outcome']\n",
      "\n",
      "First few rows:\n"
     ]
    },
    {
     "data": {
      "application/vnd.microsoft.datawrangler.viewer.v0+json": {
       "columns": [
        {
         "name": "index",
         "rawType": "int64",
         "type": "integer"
        },
        {
         "name": "Pregnancies",
         "rawType": "int64",
         "type": "integer"
        },
        {
         "name": "Glucose",
         "rawType": "int64",
         "type": "integer"
        },
        {
         "name": "BloodPressure",
         "rawType": "int64",
         "type": "integer"
        },
        {
         "name": "SkinThickness",
         "rawType": "int64",
         "type": "integer"
        },
        {
         "name": "Insulin",
         "rawType": "int64",
         "type": "integer"
        },
        {
         "name": "BMI",
         "rawType": "float64",
         "type": "float"
        },
        {
         "name": "DiabetesPedigreeFunction",
         "rawType": "float64",
         "type": "float"
        },
        {
         "name": "Age",
         "rawType": "int64",
         "type": "integer"
        },
        {
         "name": "Outcome",
         "rawType": "int64",
         "type": "integer"
        }
       ],
       "ref": "bdac9ea0-8b8b-445b-a8b8-4738f06cc355",
       "rows": [
        [
         "0",
         "6",
         "148",
         "72",
         "35",
         "0",
         "33.6",
         "0.627",
         "50",
         "1"
        ],
        [
         "1",
         "1",
         "85",
         "66",
         "29",
         "0",
         "26.6",
         "0.351",
         "31",
         "0"
        ],
        [
         "2",
         "8",
         "183",
         "64",
         "0",
         "0",
         "23.3",
         "0.672",
         "32",
         "1"
        ],
        [
         "3",
         "1",
         "89",
         "66",
         "23",
         "94",
         "28.1",
         "0.167",
         "21",
         "0"
        ],
        [
         "4",
         "0",
         "137",
         "40",
         "35",
         "168",
         "43.1",
         "2.288",
         "33",
         "1"
        ]
       ],
       "shape": {
        "columns": 9,
        "rows": 5
       }
      },
      "text/html": [
       "<div>\n",
       "<style scoped>\n",
       "    .dataframe tbody tr th:only-of-type {\n",
       "        vertical-align: middle;\n",
       "    }\n",
       "\n",
       "    .dataframe tbody tr th {\n",
       "        vertical-align: top;\n",
       "    }\n",
       "\n",
       "    .dataframe thead th {\n",
       "        text-align: right;\n",
       "    }\n",
       "</style>\n",
       "<table border=\"1\" class=\"dataframe\">\n",
       "  <thead>\n",
       "    <tr style=\"text-align: right;\">\n",
       "      <th></th>\n",
       "      <th>Pregnancies</th>\n",
       "      <th>Glucose</th>\n",
       "      <th>BloodPressure</th>\n",
       "      <th>SkinThickness</th>\n",
       "      <th>Insulin</th>\n",
       "      <th>BMI</th>\n",
       "      <th>DiabetesPedigreeFunction</th>\n",
       "      <th>Age</th>\n",
       "      <th>Outcome</th>\n",
       "    </tr>\n",
       "  </thead>\n",
       "  <tbody>\n",
       "    <tr>\n",
       "      <th>0</th>\n",
       "      <td>6</td>\n",
       "      <td>148</td>\n",
       "      <td>72</td>\n",
       "      <td>35</td>\n",
       "      <td>0</td>\n",
       "      <td>33.6</td>\n",
       "      <td>0.627</td>\n",
       "      <td>50</td>\n",
       "      <td>1</td>\n",
       "    </tr>\n",
       "    <tr>\n",
       "      <th>1</th>\n",
       "      <td>1</td>\n",
       "      <td>85</td>\n",
       "      <td>66</td>\n",
       "      <td>29</td>\n",
       "      <td>0</td>\n",
       "      <td>26.6</td>\n",
       "      <td>0.351</td>\n",
       "      <td>31</td>\n",
       "      <td>0</td>\n",
       "    </tr>\n",
       "    <tr>\n",
       "      <th>2</th>\n",
       "      <td>8</td>\n",
       "      <td>183</td>\n",
       "      <td>64</td>\n",
       "      <td>0</td>\n",
       "      <td>0</td>\n",
       "      <td>23.3</td>\n",
       "      <td>0.672</td>\n",
       "      <td>32</td>\n",
       "      <td>1</td>\n",
       "    </tr>\n",
       "    <tr>\n",
       "      <th>3</th>\n",
       "      <td>1</td>\n",
       "      <td>89</td>\n",
       "      <td>66</td>\n",
       "      <td>23</td>\n",
       "      <td>94</td>\n",
       "      <td>28.1</td>\n",
       "      <td>0.167</td>\n",
       "      <td>21</td>\n",
       "      <td>0</td>\n",
       "    </tr>\n",
       "    <tr>\n",
       "      <th>4</th>\n",
       "      <td>0</td>\n",
       "      <td>137</td>\n",
       "      <td>40</td>\n",
       "      <td>35</td>\n",
       "      <td>168</td>\n",
       "      <td>43.1</td>\n",
       "      <td>2.288</td>\n",
       "      <td>33</td>\n",
       "      <td>1</td>\n",
       "    </tr>\n",
       "  </tbody>\n",
       "</table>\n",
       "</div>"
      ],
      "text/plain": [
       "   Pregnancies  Glucose  BloodPressure  SkinThickness  Insulin   BMI  \\\n",
       "0            6      148             72             35        0  33.6   \n",
       "1            1       85             66             29        0  26.6   \n",
       "2            8      183             64              0        0  23.3   \n",
       "3            1       89             66             23       94  28.1   \n",
       "4            0      137             40             35      168  43.1   \n",
       "\n",
       "   DiabetesPedigreeFunction  Age  Outcome  \n",
       "0                     0.627   50        1  \n",
       "1                     0.351   31        0  \n",
       "2                     0.672   32        1  \n",
       "3                     0.167   21        0  \n",
       "4                     2.288   33        1  "
      ]
     },
     "execution_count": 2,
     "metadata": {},
     "output_type": "execute_result"
    }
   ],
   "source": [
    "# Load the diabetes dataset\n",
    "url = \"https://raw.githubusercontent.com/4GeeksAcademy/decision-tree-project-tutorial/main/diabetes.csv\"\n",
    "\n",
    "# Load dataset directly from URL\n",
    "df = pd.read_csv(url)\n",
    "        \n",
    "# Save dataset to local data folder for future use\n",
    "df.to_csv('/workspaces/tgedin_machine_learning_python_template/data/diabetes.csv', index=False)\n",
    "    \n",
    "# Display basic information about the dataset\n",
    "print(f\"Dataset shape: {df.shape}\")\n",
    "print(f\"Dataset columns: {list(df.columns)}\")\n",
    "print(\"\\nFirst few rows:\")\n",
    "df.head()"
   ]
  },
  {
   "cell_type": "markdown",
   "id": "2e2b1945",
   "metadata": {},
   "source": [
    "## Step 2: Exploratory Data Analysis (EDA)\n",
    "\n",
    "Now we'll explore the dataset to understand its structure, identify missing values, detect outliers, and determine the most relevant features for predicting diabetes."
   ]
  },
  {
   "cell_type": "code",
   "execution_count": 3,
   "id": "c020d488",
   "metadata": {},
   "outputs": [
    {
     "name": "stdout",
     "output_type": "stream",
     "text": [
      "Dataset Information:\n",
      "Shape: (768, 9)\n",
      "Data types:\n",
      "Pregnancies                   int64\n",
      "Glucose                       int64\n",
      "BloodPressure                 int64\n",
      "SkinThickness                 int64\n",
      "Insulin                       int64\n",
      "BMI                         float64\n",
      "DiabetesPedigreeFunction    float64\n",
      "Age                           int64\n",
      "Outcome                       int64\n",
      "dtype: object\n",
      "\n",
      "Target distribution:\n",
      "Outcome\n",
      "0    500\n",
      "1    268\n",
      "Name: count, dtype: int64\n",
      "\n",
      "Basic statistics:\n"
     ]
    },
    {
     "data": {
      "application/vnd.microsoft.datawrangler.viewer.v0+json": {
       "columns": [
        {
         "name": "index",
         "rawType": "object",
         "type": "string"
        },
        {
         "name": "Pregnancies",
         "rawType": "float64",
         "type": "float"
        },
        {
         "name": "Glucose",
         "rawType": "float64",
         "type": "float"
        },
        {
         "name": "BloodPressure",
         "rawType": "float64",
         "type": "float"
        },
        {
         "name": "SkinThickness",
         "rawType": "float64",
         "type": "float"
        },
        {
         "name": "Insulin",
         "rawType": "float64",
         "type": "float"
        },
        {
         "name": "BMI",
         "rawType": "float64",
         "type": "float"
        },
        {
         "name": "DiabetesPedigreeFunction",
         "rawType": "float64",
         "type": "float"
        },
        {
         "name": "Age",
         "rawType": "float64",
         "type": "float"
        },
        {
         "name": "Outcome",
         "rawType": "float64",
         "type": "float"
        }
       ],
       "ref": "46489c52-8528-46a6-823c-146adf436695",
       "rows": [
        [
         "count",
         "768.0",
         "768.0",
         "768.0",
         "768.0",
         "768.0",
         "768.0",
         "768.0",
         "768.0",
         "768.0"
        ],
        [
         "mean",
         "3.8450520833333335",
         "120.89453125",
         "69.10546875",
         "20.536458333333332",
         "79.79947916666667",
         "31.992578124999998",
         "0.47187630208333325",
         "33.240885416666664",
         "0.3489583333333333"
        ],
        [
         "std",
         "3.3695780626988694",
         "31.97261819513622",
         "19.355807170644777",
         "15.952217567727637",
         "115.24400235133817",
         "7.884160320375446",
         "0.3313285950127749",
         "11.760231540678685",
         "0.47695137724279896"
        ],
        [
         "min",
         "0.0",
         "0.0",
         "0.0",
         "0.0",
         "0.0",
         "0.0",
         "0.078",
         "21.0",
         "0.0"
        ],
        [
         "25%",
         "1.0",
         "99.0",
         "62.0",
         "0.0",
         "0.0",
         "27.3",
         "0.24375",
         "24.0",
         "0.0"
        ],
        [
         "50%",
         "3.0",
         "117.0",
         "72.0",
         "23.0",
         "30.5",
         "32.0",
         "0.3725",
         "29.0",
         "0.0"
        ],
        [
         "75%",
         "6.0",
         "140.25",
         "80.0",
         "32.0",
         "127.25",
         "36.6",
         "0.62625",
         "41.0",
         "1.0"
        ],
        [
         "max",
         "17.0",
         "199.0",
         "122.0",
         "99.0",
         "846.0",
         "67.1",
         "2.42",
         "81.0",
         "1.0"
        ]
       ],
       "shape": {
        "columns": 9,
        "rows": 8
       }
      },
      "text/html": [
       "<div>\n",
       "<style scoped>\n",
       "    .dataframe tbody tr th:only-of-type {\n",
       "        vertical-align: middle;\n",
       "    }\n",
       "\n",
       "    .dataframe tbody tr th {\n",
       "        vertical-align: top;\n",
       "    }\n",
       "\n",
       "    .dataframe thead th {\n",
       "        text-align: right;\n",
       "    }\n",
       "</style>\n",
       "<table border=\"1\" class=\"dataframe\">\n",
       "  <thead>\n",
       "    <tr style=\"text-align: right;\">\n",
       "      <th></th>\n",
       "      <th>Pregnancies</th>\n",
       "      <th>Glucose</th>\n",
       "      <th>BloodPressure</th>\n",
       "      <th>SkinThickness</th>\n",
       "      <th>Insulin</th>\n",
       "      <th>BMI</th>\n",
       "      <th>DiabetesPedigreeFunction</th>\n",
       "      <th>Age</th>\n",
       "      <th>Outcome</th>\n",
       "    </tr>\n",
       "  </thead>\n",
       "  <tbody>\n",
       "    <tr>\n",
       "      <th>count</th>\n",
       "      <td>768.000000</td>\n",
       "      <td>768.000000</td>\n",
       "      <td>768.000000</td>\n",
       "      <td>768.000000</td>\n",
       "      <td>768.000000</td>\n",
       "      <td>768.000000</td>\n",
       "      <td>768.000000</td>\n",
       "      <td>768.000000</td>\n",
       "      <td>768.000000</td>\n",
       "    </tr>\n",
       "    <tr>\n",
       "      <th>mean</th>\n",
       "      <td>3.845052</td>\n",
       "      <td>120.894531</td>\n",
       "      <td>69.105469</td>\n",
       "      <td>20.536458</td>\n",
       "      <td>79.799479</td>\n",
       "      <td>31.992578</td>\n",
       "      <td>0.471876</td>\n",
       "      <td>33.240885</td>\n",
       "      <td>0.348958</td>\n",
       "    </tr>\n",
       "    <tr>\n",
       "      <th>std</th>\n",
       "      <td>3.369578</td>\n",
       "      <td>31.972618</td>\n",
       "      <td>19.355807</td>\n",
       "      <td>15.952218</td>\n",
       "      <td>115.244002</td>\n",
       "      <td>7.884160</td>\n",
       "      <td>0.331329</td>\n",
       "      <td>11.760232</td>\n",
       "      <td>0.476951</td>\n",
       "    </tr>\n",
       "    <tr>\n",
       "      <th>min</th>\n",
       "      <td>0.000000</td>\n",
       "      <td>0.000000</td>\n",
       "      <td>0.000000</td>\n",
       "      <td>0.000000</td>\n",
       "      <td>0.000000</td>\n",
       "      <td>0.000000</td>\n",
       "      <td>0.078000</td>\n",
       "      <td>21.000000</td>\n",
       "      <td>0.000000</td>\n",
       "    </tr>\n",
       "    <tr>\n",
       "      <th>25%</th>\n",
       "      <td>1.000000</td>\n",
       "      <td>99.000000</td>\n",
       "      <td>62.000000</td>\n",
       "      <td>0.000000</td>\n",
       "      <td>0.000000</td>\n",
       "      <td>27.300000</td>\n",
       "      <td>0.243750</td>\n",
       "      <td>24.000000</td>\n",
       "      <td>0.000000</td>\n",
       "    </tr>\n",
       "    <tr>\n",
       "      <th>50%</th>\n",
       "      <td>3.000000</td>\n",
       "      <td>117.000000</td>\n",
       "      <td>72.000000</td>\n",
       "      <td>23.000000</td>\n",
       "      <td>30.500000</td>\n",
       "      <td>32.000000</td>\n",
       "      <td>0.372500</td>\n",
       "      <td>29.000000</td>\n",
       "      <td>0.000000</td>\n",
       "    </tr>\n",
       "    <tr>\n",
       "      <th>75%</th>\n",
       "      <td>6.000000</td>\n",
       "      <td>140.250000</td>\n",
       "      <td>80.000000</td>\n",
       "      <td>32.000000</td>\n",
       "      <td>127.250000</td>\n",
       "      <td>36.600000</td>\n",
       "      <td>0.626250</td>\n",
       "      <td>41.000000</td>\n",
       "      <td>1.000000</td>\n",
       "    </tr>\n",
       "    <tr>\n",
       "      <th>max</th>\n",
       "      <td>17.000000</td>\n",
       "      <td>199.000000</td>\n",
       "      <td>122.000000</td>\n",
       "      <td>99.000000</td>\n",
       "      <td>846.000000</td>\n",
       "      <td>67.100000</td>\n",
       "      <td>2.420000</td>\n",
       "      <td>81.000000</td>\n",
       "      <td>1.000000</td>\n",
       "    </tr>\n",
       "  </tbody>\n",
       "</table>\n",
       "</div>"
      ],
      "text/plain": [
       "       Pregnancies     Glucose  BloodPressure  SkinThickness     Insulin  \\\n",
       "count   768.000000  768.000000     768.000000     768.000000  768.000000   \n",
       "mean      3.845052  120.894531      69.105469      20.536458   79.799479   \n",
       "std       3.369578   31.972618      19.355807      15.952218  115.244002   \n",
       "min       0.000000    0.000000       0.000000       0.000000    0.000000   \n",
       "25%       1.000000   99.000000      62.000000       0.000000    0.000000   \n",
       "50%       3.000000  117.000000      72.000000      23.000000   30.500000   \n",
       "75%       6.000000  140.250000      80.000000      32.000000  127.250000   \n",
       "max      17.000000  199.000000     122.000000      99.000000  846.000000   \n",
       "\n",
       "              BMI  DiabetesPedigreeFunction         Age     Outcome  \n",
       "count  768.000000                768.000000  768.000000  768.000000  \n",
       "mean    31.992578                  0.471876   33.240885    0.348958  \n",
       "std      7.884160                  0.331329   11.760232    0.476951  \n",
       "min      0.000000                  0.078000   21.000000    0.000000  \n",
       "25%     27.300000                  0.243750   24.000000    0.000000  \n",
       "50%     32.000000                  0.372500   29.000000    0.000000  \n",
       "75%     36.600000                  0.626250   41.000000    1.000000  \n",
       "max     67.100000                  2.420000   81.000000    1.000000  "
      ]
     },
     "execution_count": 3,
     "metadata": {},
     "output_type": "execute_result"
    }
   ],
   "source": [
    "# Dataset overview\n",
    "print(\"Dataset Information:\")\n",
    "print(f\"Shape: {df.shape}\")\n",
    "print(f\"Data types:\\n{df.dtypes}\")\n",
    "print(f\"\\nTarget distribution:\")\n",
    "print(df['Outcome'].value_counts())\n",
    "print(f\"\\nBasic statistics:\")\n",
    "df.describe()"
   ]
  },
  {
   "cell_type": "markdown",
   "id": "7794fa4f",
   "metadata": {},
   "source": [
    "### 2.1 Missing Values and Data Quality Analysis\n",
    "\n",
    "Let's check for missing values and understand the data quality issues in our dataset."
   ]
  },
  {
   "cell_type": "code",
   "execution_count": 4,
   "id": "627f7b6d",
   "metadata": {},
   "outputs": [
    {
     "name": "stdout",
     "output_type": "stream",
     "text": [
      "Missing values:\n",
      "Pregnancies                 0\n",
      "Glucose                     0\n",
      "BloodPressure               0\n",
      "SkinThickness               0\n",
      "Insulin                     0\n",
      "BMI                         0\n",
      "DiabetesPedigreeFunction    0\n",
      "Age                         0\n",
      "Outcome                     0\n",
      "dtype: int64\n",
      "\n",
      "Zero values in each column:\n",
      "Pregnancies                 111\n",
      "Glucose                       5\n",
      "BloodPressure                35\n",
      "SkinThickness               227\n",
      "Insulin                     374\n",
      "BMI                          11\n",
      "DiabetesPedigreeFunction      0\n",
      "Age                           0\n",
      "Outcome                     500\n",
      "dtype: int64\n",
      "\n",
      "Suspicious zero values in medical measurements:\n",
      "Glucose: 0.7% zeros\n",
      "BloodPressure: 4.6% zeros\n",
      "SkinThickness: 29.6% zeros\n",
      "Insulin: 48.7% zeros\n",
      "BMI: 1.4% zeros\n"
     ]
    }
   ],
   "source": [
    "# Check for missing values\n",
    "print(\"Missing values:\")\n",
    "print(df.isnull().sum())\n",
    "\n",
    "# Check for zero values (which might be missing data in medical context)\n",
    "print(\"\\nZero values in each column:\")\n",
    "zero_counts = (df == 0).sum()\n",
    "print(zero_counts)\n",
    "\n",
    "# Identify suspicious zero values (medical measurements that shouldn't be zero)\n",
    "suspicious_columns = ['Glucose', 'BloodPressure', 'SkinThickness', 'Insulin', 'BMI']\n",
    "print(\"\\nSuspicious zero values in medical measurements:\")\n",
    "for col in suspicious_columns:\n",
    "    zero_pct = (df[col] == 0).mean() * 100\n",
    "    print(f\"{col}: {zero_pct:.1f}% zeros\")"
   ]
  },
  {
   "cell_type": "markdown",
   "id": "551b6753",
   "metadata": {},
   "source": [
    "### 2.2 Feature Analysis and Correlation\n",
    "\n",
    "Let's analyze the relationships between features and their correlation with the target variable (Outcome)."
   ]
  },
  {
   "cell_type": "code",
   "execution_count": 5,
   "id": "373614ee",
   "metadata": {},
   "outputs": [
    {
     "name": "stdout",
     "output_type": "stream",
     "text": [
      "Correlation with Outcome (target):\n",
      "Glucose                     0.466581\n",
      "BMI                         0.292695\n",
      "Age                         0.238356\n",
      "Pregnancies                 0.221898\n",
      "DiabetesPedigreeFunction    0.173844\n",
      "Insulin                     0.130548\n",
      "SkinThickness               0.074752\n",
      "BloodPressure               0.065068\n",
      "Name: Outcome, dtype: float64\n"
     ]
    },
    {
     "data": {
      "image/png": "[encoded data removed]",
      "text/plain": [
       "<Figure size 1000x800 with 2 Axes>"
      ]
     },
     "metadata": {},
     "output_type": "display_data"
    }
   ],
   "source": [
    "# Calculate correlation matrix\n",
    "correlation_matrix = df.corr()\n",
    "\n",
    "# Display correlation with target variable\n",
    "print(\"Correlation with Outcome (target):\")\n",
    "target_corr = correlation_matrix['Outcome'].sort_values(key=abs, ascending=False)\n",
    "print(target_corr[target_corr.index != 'Outcome'])\n",
    "\n",
    "# Create a simple correlation visualization\n",
    "plt.figure(figsize=(10, 8))\n",
    "sns.heatmap(correlation_matrix, annot=True, cmap='coolwarm', center=0, \n",
    "            square=True, fmt='.2f')\n",
    "plt.title('Correlation Matrix of Diabetes Dataset')\n",
    "plt.tight_layout()\n",
    "plt.show()"
   ]
  },
  {
   "cell_type": "markdown",
   "id": "d7143a66",
   "metadata": {},
   "source": [
    "### 2.3 Data Cleaning with KNN Imputation\n",
    "\n",
    "Instead of using median replacement (which can be problematic with >20% missing values), we'll use KNN imputation. This method uses the K-nearest neighbors of each sample to estimate missing values, preserving the underlying data relationships and providing more accurate imputations for medical data."
   ]
  },
  {
   "cell_type": "code",
   "execution_count": 9,
   "id": "9b3a75b1",
   "metadata": {},
   "outputs": [
    {
     "name": "stdout",
     "output_type": "stream",
     "text": [
      "Missing values after marking zeros as NaN:\n",
      "  Glucose: 0.7%\n",
      "  BloodPressure: 4.6%\n",
      "  SkinThickness: 29.6%\n",
      "  Insulin: 48.7%\n",
      "  BMI: 1.4%\n",
      "\n",
      "KNN imputation completed with k=5 neighbors\n",
      "Dataset shape: (768, 9)\n",
      "Missing values after KNN imputation: 0\n"
     ]
    }
   ],
   "source": [
    "# Import KNN imputer\n",
    "from sklearn.impute import KNNImputer\n",
    "\n",
    "# Create a copy of the dataset for cleaning\n",
    "df_cleaned = df.copy()\n",
    "\n",
    "# Replace zero values with NaN for medical measurements that shouldn't be zero\n",
    "columns_to_clean = ['Glucose', 'BloodPressure', 'SkinThickness', 'Insulin', 'BMI']\n",
    "\n",
    "for col in columns_to_clean:\n",
    "    df_cleaned[col] = df_cleaned[col].replace(0, np.nan)\n",
    "\n",
    "# Check missing data percentage\n",
    "missing_pct = (df_cleaned.isnull().sum() / len(df_cleaned)) * 100\n",
    "print(\"Missing values after marking zeros as NaN:\")\n",
    "for col in columns_to_clean:\n",
    "    if missing_pct[col] > 0:\n",
    "        print(f\"  {col}: {missing_pct[col]:.1f}%\")\n",
    "\n",
    "# Apply KNN imputation (k=5 neighbors)\n",
    "knn_imputer = KNNImputer(n_neighbors=5)\n",
    "df_cleaned[columns_to_clean] = knn_imputer.fit_transform(df_cleaned[columns_to_clean])\n",
    "\n",
    "print(f\"\\nKNN imputation completed with k=5 neighbors\")\n",
    "print(f\"Dataset shape: {df_cleaned.shape}\")\n",
    "print(\"Missing values after KNN imputation:\", df_cleaned.isnull().sum().sum())"
   ]
  },
  {
   "cell_type": "markdown",
   "id": "1fc46662",
   "metadata": {},
   "source": [
    "### 2.4 Feature Selection and Relevance Analysis\n",
    "\n",
    "Let's identify the most relevant features for predicting diabetes based on correlation analysis and domain knowledge."
   ]
  },
  {
   "cell_type": "code",
   "execution_count": 10,
   "id": "449e2e42",
   "metadata": {},
   "outputs": [
    {
     "name": "stdout",
     "output_type": "stream",
     "text": [
      "Feature importance (absolute correlation with Outcome):\n",
      "Glucose                     0.492195\n",
      "Insulin                     0.336597\n",
      "BMI                         0.313529\n",
      "SkinThickness               0.276721\n",
      "Age                         0.238356\n",
      "Pregnancies                 0.221898\n",
      "BloodPressure               0.178727\n",
      "DiabetesPedigreeFunction    0.173844\n",
      "Name: Outcome, dtype: float64\n",
      "\n",
      "Features with correlation > 0.15:\n",
      "  Glucose: 0.492\n",
      "  Insulin: 0.337\n",
      "  BMI: 0.314\n",
      "  SkinThickness: 0.277\n",
      "  Age: 0.238\n",
      "  Pregnancies: 0.222\n",
      "  BloodPressure: 0.179\n",
      "  DiabetesPedigreeFunction: 0.174\n",
      "\n",
      "Final dataset shape: (768, 9)\n",
      "Selected features: ['Glucose', 'Insulin', 'BMI', 'SkinThickness', 'Age', 'Pregnancies', 'BloodPressure', 'DiabetesPedigreeFunction']\n",
      "Features removed: []\n"
     ]
    }
   ],
   "source": [
    "# Analyze feature importance based on correlation with target\n",
    "feature_importance = df_cleaned.corr()['Outcome'].abs().sort_values(ascending=False)\n",
    "print(\"Feature importance (absolute correlation with Outcome):\")\n",
    "print(feature_importance[feature_importance.index != 'Outcome'])\n",
    "\n",
    "# Define thresholds for feature selection\n",
    "high_correlation_threshold = 0.15\n",
    "relevant_features = feature_importance[feature_importance > high_correlation_threshold].index.tolist()\n",
    "relevant_features.remove('Outcome')  # Remove target variable\n",
    "\n",
    "print(f\"\\nFeatures with correlation > {high_correlation_threshold}:\")\n",
    "for feature in relevant_features:\n",
    "    corr_val = df_cleaned.corr().loc[feature, 'Outcome']\n",
    "    print(f\"  {feature}: {corr_val:.3f}\")\n",
    "\n",
    "# Create final dataset with selected features\n",
    "features_to_keep = relevant_features + ['Outcome']\n",
    "df_final = df_cleaned[features_to_keep].copy()\n",
    "\n",
    "print(f\"\\nFinal dataset shape: {df_final.shape}\")\n",
    "print(f\"Selected features: {relevant_features}\")\n",
    "print(f\"Features removed: {[col for col in df_cleaned.columns if col not in features_to_keep]}\")"
   ]
  },
  {
   "cell_type": "markdown",
   "id": "07f4d9f5",
   "metadata": {},
   "source": [
    "### 2.5 Outlier Detection and Final Data Summary\n",
    "\n",
    "Let's check for outliers in our selected features and provide a final summary of the cleaned dataset."
   ]
  },
  {
   "cell_type": "code",
   "execution_count": 11,
   "id": "d51ad297",
   "metadata": {},
   "outputs": [
    {
     "name": "stdout",
     "output_type": "stream",
     "text": [
      "Outlier count in selected features:\n",
      "  Glucose: 0 outliers (0.0%)\n",
      "  Insulin: 30 outliers (3.9%)\n",
      "  BMI: 8 outliers (1.0%)\n",
      "  SkinThickness: 4 outliers (0.5%)\n",
      "  Age: 9 outliers (1.2%)\n",
      "  Pregnancies: 4 outliers (0.5%)\n",
      "  BloodPressure: 14 outliers (1.8%)\n",
      "  DiabetesPedigreeFunction: 29 outliers (3.8%)\n",
      "\n",
      "=== FINAL DATASET SUMMARY ===\n",
      "Original dataset shape: (768, 9)\n",
      "Final dataset shape: (768, 9)\n",
      "Features selected: 8\n",
      "Target distribution:\n",
      "Outcome\n",
      "0    0.651042\n",
      "1    0.348958\n",
      "Name: proportion, dtype: float64\n",
      "\n",
      "Cleaned dataset saved to: /workspaces/tgedin_machine_learning_python_template/data/diabetes_cleaned.csv\n"
     ]
    }
   ],
   "source": [
    "# Quick outlier check using IQR method\n",
    "def detect_outliers(df, column):\n",
    "    Q1 = df[column].quantile(0.25)\n",
    "    Q3 = df[column].quantile(0.75)\n",
    "    IQR = Q3 - Q1\n",
    "    lower_bound = Q1 - 1.5 * IQR\n",
    "    upper_bound = Q3 + 1.5 * IQR\n",
    "    outliers = df[(df[column] < lower_bound) | (df[column] > upper_bound)]\n",
    "    return len(outliers)\n",
    "\n",
    "print(\"Outlier count in selected features:\")\n",
    "for feature in relevant_features:\n",
    "    outlier_count = detect_outliers(df_final, feature)\n",
    "    outlier_pct = (outlier_count / len(df_final)) * 100\n",
    "    print(f\"  {feature}: {outlier_count} outliers ({outlier_pct:.1f}%)\")\n",
    "\n",
    "# Final dataset summary\n",
    "print(f\"\\n=== FINAL DATASET SUMMARY ===\")\n",
    "print(f\"Original dataset shape: {df.shape}\")\n",
    "print(f\"Final dataset shape: {df_final.shape}\")\n",
    "print(f\"Features selected: {len(relevant_features)}\")\n",
    "print(f\"Target distribution:\")\n",
    "print(df_final['Outcome'].value_counts(normalize=True))\n",
    "\n",
    "# Save the cleaned dataset\n",
    "df_final.to_csv('/workspaces/tgedin_machine_learning_python_template/data/diabetes_cleaned.csv', index=False)\n",
    "print(f\"\\nCleaned dataset saved to: /workspaces/tgedin_machine_learning_python_template/data/diabetes_cleaned.csv\")"
   ]
  },
  {
   "cell_type": "markdown",
   "id": "9a5b12f9",
   "metadata": {},
   "source": [
    "## Step 3: Data Preparation and Train-Test Split\n",
    "\n",
    "Now we'll prepare the final dataset by separating features and target, then split into training and testing sets. The splits will be saved for reproducible model training and evaluation."
   ]
  },
  {
   "cell_type": "code",
   "execution_count": 12,
   "id": "aa20e1c0",
   "metadata": {},
   "outputs": [
    {
     "name": "stdout",
     "output_type": "stream",
     "text": [
      "Data split completed:\n",
      "  Training set: 614 samples\n",
      "  Test set: 154 samples\n",
      "  Features: 8\n",
      "  Target classes: [1 0]\n",
      "\n",
      "Class distribution in training set:\n",
      "Outcome\n",
      "0    0.651466\n",
      "1    0.348534\n",
      "Name: proportion, dtype: float64\n",
      "\n",
      "Files saved to: /workspaces/tgedin_machine_learning_python_template/data/processed/Diabetes_dataset\n",
      "  X_train.csv: (614, 8)\n",
      "  X_test.csv: (154, 8)\n",
      "  y_train.csv: (614,)\n",
      "  y_test.csv: (154,)\n"
     ]
    }
   ],
   "source": [
    "import os\n",
    "\n",
    "# Create directory for processed data\n",
    "output_dir = '/workspaces/tgedin_machine_learning_python_template/data/processed/Diabetes_dataset'\n",
    "os.makedirs(output_dir, exist_ok=True)\n",
    "\n",
    "# Separate features and target\n",
    "X = df_final.drop('Outcome', axis=1)\n",
    "y = df_final['Outcome']\n",
    "\n",
    "# Split the data (80% train, 20% test, stratified to maintain class balance)\n",
    "X_train, X_test, y_train, y_test = train_test_split(\n",
    "    X, y, \n",
    "    test_size=0.2, \n",
    "    random_state=42, \n",
    "    stratify=y\n",
    ")\n",
    "\n",
    "# Save the split datasets\n",
    "X_train.to_csv(f'{output_dir}/X_train.csv', index=False)\n",
    "X_test.to_csv(f'{output_dir}/X_test.csv', index=False)\n",
    "y_train.to_csv(f'{output_dir}/y_train.csv', index=False)\n",
    "y_test.to_csv(f'{output_dir}/y_test.csv', index=False)\n",
    "\n",
    "print(\"Data split completed:\")\n",
    "print(f\"  Training set: {X_train.shape[0]} samples\")\n",
    "print(f\"  Test set: {X_test.shape[0]} samples\")\n",
    "print(f\"  Features: {X_train.shape[1]}\")\n",
    "print(f\"  Target classes: {y.unique()}\")\n",
    "\n",
    "print(f\"\\nClass distribution in training set:\")\n",
    "print(y_train.value_counts(normalize=True))\n",
    "\n",
    "print(f\"\\nFiles saved to: {output_dir}\")\n",
    "print(f\"  X_train.csv: {X_train.shape}\")\n",
    "print(f\"  X_test.csv: {X_test.shape}\")\n",
    "print(f\"  y_train.csv: {y_train.shape}\")\n",
    "print(f\"  y_test.csv: {y_test.shape}\")"
   ]
  }
 ],
 "metadata": {
  "kernelspec": {
   "display_name": ".venv",
   "language": "python",
   "name": "python3"
  },
  "language_info": {
   "codemirror_mode": {
    "name": "ipython",
    "version": 3
   },
   "file_extension": ".py",
   "mimetype": "text/x-python",
   "name": "python",
   "nbconvert_exporter": "python",
   "pygments_lexer": "ipython3",
   "version": "3.11.4"
  }
 },
 "nbformat": 4,
 "nbformat_minor": 5
}
