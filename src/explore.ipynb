{
 "cells": [
  {
   "cell_type": "markdown",
   "metadata": {},
   "source": [
    "# Data Preprocessing and EDA - Airbnb NYC 2019\n",
    "\n",
    "This notebook follows a structured approach for data preprocessing and exploratory data analysis on the Airbnb NYC 2019 dataset to prepare it for machine learning modeling.\n",
    "\n",
    "## Overview\n",
    "- **Step 1**: Loading the dataset\n",
    "- **Step 2**: Perform complete EDA and train/test split\n",
    "- **Step 3**: Save the processed dataset"
   ]
  },
  {
   "cell_type": "code",
   "execution_count": 1,
   "metadata": {},
   "outputs": [],
   "source": [
    "import pandas as pd\n",
    "import numpy as np\n",
    "import matplotlib.pyplot as plt\n",
    "import seaborn as sns\n",
    "import plotly.express as px\n",
    "from sklearn.model_selection import train_test_split\n",
    "from sklearn.preprocessing import StandardScaler\n",
    "import warnings\n",
    "import os\n",
    "warnings.filterwarnings('ignore')\n",
    "\n",
    "# Set plotting style\n",
    "plt.style.use('default')\n",
    "sns.set_palette(\"husl\")"
   ]
  },
  {
   "cell_type": "markdown",
   "metadata": {},
   "source": [
    "# Step 1: Loading the Dataset\n",
    "\n",
    "Download the dataset directly from the provided URL and store the raw data in the `./data/raw` folder."
   ]
  },
  {
   "cell_type": "code",
   "execution_count": 2,
   "metadata": {},
   "outputs": [
    {
     "name": "stdout",
     "output_type": "stream",
     "text": [
      "Dataset downloaded and saved successfully!\n",
      "Dataset shape: (48895, 16)\n",
      "Memory usage: 23.45 MB\n"
     ]
    }
   ],
   "source": [
    "# Download and save the dataset\n",
    "url = \"https://raw.githubusercontent.com/4GeeksAcademy/data-preprocessing-project-tutorial/main/AB_NYC_2019.csv\"\n",
    "df = pd.read_csv(url)\n",
    "\n",
    "# Create directory structure\n",
    "os.makedirs('./data/raw', exist_ok=True)\n",
    "os.makedirs('./data/processed', exist_ok=True)\n",
    "\n",
    "# Save raw data\n",
    "df.to_csv('./data/raw/AB_NYC_2019.csv', index=False)\n",
    "\n",
    "print(f\"Dataset downloaded and saved successfully!\")\n",
    "print(f\"Dataset shape: {df.shape}\")\n",
    "print(f\"Memory usage: {df.memory_usage(deep=True).sum() / 1024**2:.2f} MB\")"
   ]
  },
  {
   "cell_type": "markdown",
   "metadata": {},
   "source": [
    "# Step 2: Perform Complete EDA\n",
    "\n",
    "Explore the dataset to understand patterns, identify relevant features, handle missing values, and prepare data for machine learning."
   ]
  },
  {
   "cell_type": "markdown",
   "metadata": {},
   "source": [
    "## 2.1 Initial Data Exploration"
   ]
  },
  {
   "cell_type": "code",
   "execution_count": 3,
   "metadata": {},
   "outputs": [
    {
     "name": "stdout",
     "output_type": "stream",
     "text": [
      "Dataset Overview:\n",
      "--------------------------------------------------\n"
     ]
    },
    {
     "data": {
      "text/html": [
       "<div>\n",
       "<style scoped>\n",
       "    .dataframe tbody tr th:only-of-type {\n",
       "        vertical-align: middle;\n",
       "    }\n",
       "\n",
       "    .dataframe tbody tr th {\n",
       "        vertical-align: top;\n",
       "    }\n",
       "\n",
       "    .dataframe thead th {\n",
       "        text-align: right;\n",
       "    }\n",
       "</style>\n",
       "<table border=\"1\" class=\"dataframe\">\n",
       "  <thead>\n",
       "    <tr style=\"text-align: right;\">\n",
       "      <th></th>\n",
       "      <th>id</th>\n",
       "      <th>name</th>\n",
       "      <th>host_id</th>\n",
       "      <th>host_name</th>\n",
       "      <th>neighbourhood_group</th>\n",
       "      <th>neighbourhood</th>\n",
       "      <th>latitude</th>\n",
       "      <th>longitude</th>\n",
       "      <th>room_type</th>\n",
       "      <th>price</th>\n",
       "      <th>minimum_nights</th>\n",
       "      <th>number_of_reviews</th>\n",
       "      <th>last_review</th>\n",
       "      <th>reviews_per_month</th>\n",
       "      <th>calculated_host_listings_count</th>\n",
       "      <th>availability_365</th>\n",
       "    </tr>\n",
       "  </thead>\n",
       "  <tbody>\n",
       "    <tr>\n",
       "      <th>0</th>\n",
       "      <td>2539</td>\n",
       "      <td>Clean &amp; quiet apt home by the park</td>\n",
       "      <td>2787</td>\n",
       "      <td>John</td>\n",
       "      <td>Brooklyn</td>\n",
       "      <td>Kensington</td>\n",
       "      <td>40.64749</td>\n",
       "      <td>-73.97237</td>\n",
       "      <td>Private room</td>\n",
       "      <td>149</td>\n",
       "      <td>1</td>\n",
       "      <td>9</td>\n",
       "      <td>2018-10-19</td>\n",
       "      <td>0.21</td>\n",
       "      <td>6</td>\n",
       "      <td>365</td>\n",
       "    </tr>\n",
       "    <tr>\n",
       "      <th>1</th>\n",
       "      <td>2595</td>\n",
       "      <td>Skylit Midtown Castle</td>\n",
       "      <td>2845</td>\n",
       "      <td>Jennifer</td>\n",
       "      <td>Manhattan</td>\n",
       "      <td>Midtown</td>\n",
       "      <td>40.75362</td>\n",
       "      <td>-73.98377</td>\n",
       "      <td>Entire home/apt</td>\n",
       "      <td>225</td>\n",
       "      <td>1</td>\n",
       "      <td>45</td>\n",
       "      <td>2019-05-21</td>\n",
       "      <td>0.38</td>\n",
       "      <td>2</td>\n",
       "      <td>355</td>\n",
       "    </tr>\n",
       "    <tr>\n",
       "      <th>2</th>\n",
       "      <td>3647</td>\n",
       "      <td>THE VILLAGE OF HARLEM....NEW YORK !</td>\n",
       "      <td>4632</td>\n",
       "      <td>Elisabeth</td>\n",
       "      <td>Manhattan</td>\n",
       "      <td>Harlem</td>\n",
       "      <td>40.80902</td>\n",
       "      <td>-73.94190</td>\n",
       "      <td>Private room</td>\n",
       "      <td>150</td>\n",
       "      <td>3</td>\n",
       "      <td>0</td>\n",
       "      <td>NaN</td>\n",
       "      <td>NaN</td>\n",
       "      <td>1</td>\n",
       "      <td>365</td>\n",
       "    </tr>\n",
       "    <tr>\n",
       "      <th>3</th>\n",
       "      <td>3831</td>\n",
       "      <td>Cozy Entire Floor of Brownstone</td>\n",
       "      <td>4869</td>\n",
       "      <td>LisaRoxanne</td>\n",
       "      <td>Brooklyn</td>\n",
       "      <td>Clinton Hill</td>\n",
       "      <td>40.68514</td>\n",
       "      <td>-73.95976</td>\n",
       "      <td>Entire home/apt</td>\n",
       "      <td>89</td>\n",
       "      <td>1</td>\n",
       "      <td>270</td>\n",
       "      <td>2019-07-05</td>\n",
       "      <td>4.64</td>\n",
       "      <td>1</td>\n",
       "      <td>194</td>\n",
       "    </tr>\n",
       "    <tr>\n",
       "      <th>4</th>\n",
       "      <td>5022</td>\n",
       "      <td>Entire Apt: Spacious Studio/Loft by central park</td>\n",
       "      <td>7192</td>\n",
       "      <td>Laura</td>\n",
       "      <td>Manhattan</td>\n",
       "      <td>East Harlem</td>\n",
       "      <td>40.79851</td>\n",
       "      <td>-73.94399</td>\n",
       "      <td>Entire home/apt</td>\n",
       "      <td>80</td>\n",
       "      <td>10</td>\n",
       "      <td>9</td>\n",
       "      <td>2018-11-19</td>\n",
       "      <td>0.10</td>\n",
       "      <td>1</td>\n",
       "      <td>0</td>\n",
       "    </tr>\n",
       "  </tbody>\n",
       "</table>\n",
       "</div>"
      ],
      "text/plain": [
       "     id                                              name  host_id  \\\n",
       "0  2539                Clean & quiet apt home by the park     2787   \n",
       "1  2595                             Skylit Midtown Castle     2845   \n",
       "2  3647               THE VILLAGE OF HARLEM....NEW YORK !     4632   \n",
       "3  3831                   Cozy Entire Floor of Brownstone     4869   \n",
       "4  5022  Entire Apt: Spacious Studio/Loft by central park     7192   \n",
       "\n",
       "     host_name neighbourhood_group neighbourhood  latitude  longitude  \\\n",
       "0         John            Brooklyn    Kensington  40.64749  -73.97237   \n",
       "1     Jennifer           Manhattan       Midtown  40.75362  -73.98377   \n",
       "2    Elisabeth           Manhattan        Harlem  40.80902  -73.94190   \n",
       "3  LisaRoxanne            Brooklyn  Clinton Hill  40.68514  -73.95976   \n",
       "4        Laura           Manhattan   East Harlem  40.79851  -73.94399   \n",
       "\n",
       "         room_type  price  minimum_nights  number_of_reviews last_review  \\\n",
       "0     Private room    149               1                  9  2018-10-19   \n",
       "1  Entire home/apt    225               1                 45  2019-05-21   \n",
       "2     Private room    150               3                  0         NaN   \n",
       "3  Entire home/apt     89               1                270  2019-07-05   \n",
       "4  Entire home/apt     80              10                  9  2018-11-19   \n",
       "\n",
       "   reviews_per_month  calculated_host_listings_count  availability_365  \n",
       "0               0.21                               6               365  \n",
       "1               0.38                               2               355  \n",
       "2                NaN                               1               365  \n",
       "3               4.64                               1               194  \n",
       "4               0.10                               1                 0  "
      ]
     },
     "execution_count": 3,
     "metadata": {},
     "output_type": "execute_result"
    }
   ],
   "source": [
    "# Display basic information about the dataset\n",
    "print(\"Dataset Overview:\")\n",
    "print(\"-\" * 50)\n",
    "df.head()"
   ]
  },
  {
   "cell_type": "code",
   "execution_count": 4,
   "metadata": {},
   "outputs": [
    {
     "name": "stdout",
     "output_type": "stream",
     "text": [
      "Dataset Info:\n",
      "<class 'pandas.core.frame.DataFrame'>\n",
      "RangeIndex: 48895 entries, 0 to 48894\n",
      "Data columns (total 16 columns):\n",
      " #   Column                          Non-Null Count  Dtype  \n",
      "---  ------                          --------------  -----  \n",
      " 0   id                              48895 non-null  int64  \n",
      " 1   name                            48879 non-null  object \n",
      " 2   host_id                         48895 non-null  int64  \n",
      " 3   host_name                       48874 non-null  object \n",
      " 4   neighbourhood_group             48895 non-null  object \n",
      " 5   neighbourhood                   48895 non-null  object \n",
      " 6   latitude                        48895 non-null  float64\n",
      " 7   longitude                       48895 non-null  float64\n",
      " 8   room_type                       48895 non-null  object \n",
      " 9   price                           48895 non-null  int64  \n",
      " 10  minimum_nights                  48895 non-null  int64  \n",
      " 11  number_of_reviews               48895 non-null  int64  \n",
      " 12  last_review                     38843 non-null  object \n",
      " 13  reviews_per_month               38843 non-null  float64\n",
      " 14  calculated_host_listings_count  48895 non-null  int64  \n",
      " 15  availability_365                48895 non-null  int64  \n",
      "dtypes: float64(3), int64(7), object(6)\n",
      "memory usage: 6.0+ MB\n"
     ]
    }
   ],
   "source": [
    "# Dataset structure and data types\n",
    "print(\"Dataset Info:\")\n",
    "df.info()"
   ]
  },
  {
   "cell_type": "code",
   "execution_count": 5,
   "metadata": {},
   "outputs": [
    {
     "data": {
      "text/html": [
       "<div>\n",
       "<style scoped>\n",
       "    .dataframe tbody tr th:only-of-type {\n",
       "        vertical-align: middle;\n",
       "    }\n",
       "\n",
       "    .dataframe tbody tr th {\n",
       "        vertical-align: top;\n",
       "    }\n",
       "\n",
       "    .dataframe thead th {\n",
       "        text-align: right;\n",
       "    }\n",
       "</style>\n",
       "<table border=\"1\" class=\"dataframe\">\n",
       "  <thead>\n",
       "    <tr style=\"text-align: right;\">\n",
       "      <th></th>\n",
       "      <th>id</th>\n",
       "      <th>host_id</th>\n",
       "      <th>latitude</th>\n",
       "      <th>longitude</th>\n",
       "      <th>price</th>\n",
       "      <th>minimum_nights</th>\n",
       "      <th>number_of_reviews</th>\n",
       "      <th>reviews_per_month</th>\n",
       "      <th>calculated_host_listings_count</th>\n",
       "      <th>availability_365</th>\n",
       "    </tr>\n",
       "  </thead>\n",
       "  <tbody>\n",
       "    <tr>\n",
       "      <th>count</th>\n",
       "      <td>4.889500e+04</td>\n",
       "      <td>4.889500e+04</td>\n",
       "      <td>48895.000000</td>\n",
       "      <td>48895.000000</td>\n",
       "      <td>48895.000000</td>\n",
       "      <td>48895.000000</td>\n",
       "      <td>48895.000000</td>\n",
       "      <td>38843.000000</td>\n",
       "      <td>48895.000000</td>\n",
       "      <td>48895.000000</td>\n",
       "    </tr>\n",
       "    <tr>\n",
       "      <th>mean</th>\n",
       "      <td>1.901714e+07</td>\n",
       "      <td>6.762001e+07</td>\n",
       "      <td>40.728949</td>\n",
       "      <td>-73.952170</td>\n",
       "      <td>152.720687</td>\n",
       "      <td>7.029962</td>\n",
       "      <td>23.274466</td>\n",
       "      <td>1.373221</td>\n",
       "      <td>7.143982</td>\n",
       "      <td>112.781327</td>\n",
       "    </tr>\n",
       "    <tr>\n",
       "      <th>std</th>\n",
       "      <td>1.098311e+07</td>\n",
       "      <td>7.861097e+07</td>\n",
       "      <td>0.054530</td>\n",
       "      <td>0.046157</td>\n",
       "      <td>240.154170</td>\n",
       "      <td>20.510550</td>\n",
       "      <td>44.550582</td>\n",
       "      <td>1.680442</td>\n",
       "      <td>32.952519</td>\n",
       "      <td>131.622289</td>\n",
       "    </tr>\n",
       "    <tr>\n",
       "      <th>min</th>\n",
       "      <td>2.539000e+03</td>\n",
       "      <td>2.438000e+03</td>\n",
       "      <td>40.499790</td>\n",
       "      <td>-74.244420</td>\n",
       "      <td>0.000000</td>\n",
       "      <td>1.000000</td>\n",
       "      <td>0.000000</td>\n",
       "      <td>0.010000</td>\n",
       "      <td>1.000000</td>\n",
       "      <td>0.000000</td>\n",
       "    </tr>\n",
       "    <tr>\n",
       "      <th>25%</th>\n",
       "      <td>9.471945e+06</td>\n",
       "      <td>7.822033e+06</td>\n",
       "      <td>40.690100</td>\n",
       "      <td>-73.983070</td>\n",
       "      <td>69.000000</td>\n",
       "      <td>1.000000</td>\n",
       "      <td>1.000000</td>\n",
       "      <td>0.190000</td>\n",
       "      <td>1.000000</td>\n",
       "      <td>0.000000</td>\n",
       "    </tr>\n",
       "    <tr>\n",
       "      <th>50%</th>\n",
       "      <td>1.967728e+07</td>\n",
       "      <td>3.079382e+07</td>\n",
       "      <td>40.723070</td>\n",
       "      <td>-73.955680</td>\n",
       "      <td>106.000000</td>\n",
       "      <td>3.000000</td>\n",
       "      <td>5.000000</td>\n",
       "      <td>0.720000</td>\n",
       "      <td>1.000000</td>\n",
       "      <td>45.000000</td>\n",
       "    </tr>\n",
       "    <tr>\n",
       "      <th>75%</th>\n",
       "      <td>2.915218e+07</td>\n",
       "      <td>1.074344e+08</td>\n",
       "      <td>40.763115</td>\n",
       "      <td>-73.936275</td>\n",
       "      <td>175.000000</td>\n",
       "      <td>5.000000</td>\n",
       "      <td>24.000000</td>\n",
       "      <td>2.020000</td>\n",
       "      <td>2.000000</td>\n",
       "      <td>227.000000</td>\n",
       "    </tr>\n",
       "    <tr>\n",
       "      <th>max</th>\n",
       "      <td>3.648724e+07</td>\n",
       "      <td>2.743213e+08</td>\n",
       "      <td>40.913060</td>\n",
       "      <td>-73.712990</td>\n",
       "      <td>10000.000000</td>\n",
       "      <td>1250.000000</td>\n",
       "      <td>629.000000</td>\n",
       "      <td>58.500000</td>\n",
       "      <td>327.000000</td>\n",
       "      <td>365.000000</td>\n",
       "    </tr>\n",
       "  </tbody>\n",
       "</table>\n",
       "</div>"
      ],
      "text/plain": [
       "                 id       host_id      latitude     longitude         price  \\\n",
       "count  4.889500e+04  4.889500e+04  48895.000000  48895.000000  48895.000000   \n",
       "mean   1.901714e+07  6.762001e+07     40.728949    -73.952170    152.720687   \n",
       "std    1.098311e+07  7.861097e+07      0.054530      0.046157    240.154170   \n",
       "min    2.539000e+03  2.438000e+03     40.499790    -74.244420      0.000000   \n",
       "25%    9.471945e+06  7.822033e+06     40.690100    -73.983070     69.000000   \n",
       "50%    1.967728e+07  3.079382e+07     40.723070    -73.955680    106.000000   \n",
       "75%    2.915218e+07  1.074344e+08     40.763115    -73.936275    175.000000   \n",
       "max    3.648724e+07  2.743213e+08     40.913060    -73.712990  10000.000000   \n",
       "\n",
       "       minimum_nights  number_of_reviews  reviews_per_month  \\\n",
       "count    48895.000000       48895.000000       38843.000000   \n",
       "mean         7.029962          23.274466           1.373221   \n",
       "std         20.510550          44.550582           1.680442   \n",
       "min          1.000000           0.000000           0.010000   \n",
       "25%          1.000000           1.000000           0.190000   \n",
       "50%          3.000000           5.000000           0.720000   \n",
       "75%          5.000000          24.000000           2.020000   \n",
       "max       1250.000000         629.000000          58.500000   \n",
       "\n",
       "       calculated_host_listings_count  availability_365  \n",
       "count                    48895.000000      48895.000000  \n",
       "mean                         7.143982        112.781327  \n",
       "std                         32.952519        131.622289  \n",
       "min                          1.000000          0.000000  \n",
       "25%                          1.000000          0.000000  \n",
       "50%                          1.000000         45.000000  \n",
       "75%                          2.000000        227.000000  \n",
       "max                        327.000000        365.000000  "
      ]
     },
     "execution_count": 5,
     "metadata": {},
     "output_type": "execute_result"
    }
   ],
   "source": [
    "# Statistical summary\n",
    "df.describe()"
   ]
  },
  {
   "cell_type": "markdown",
   "metadata": {},
   "source": [
    "## 2.2 Missing Values Analysis"
   ]
  },
  {
   "cell_type": "code",
   "execution_count": 6,
   "metadata": {},
   "outputs": [
    {
     "name": "stdout",
     "output_type": "stream",
     "text": [
      "Missing Values Summary:\n",
      "                   Missing Count  Missing Percentage\n",
      "last_review                10052           20.558339\n",
      "reviews_per_month          10052           20.558339\n",
      "host_name                     21            0.042949\n",
      "name                          16            0.032723\n"
     ]
    }
   ],
   "source": [
    "# Analyze missing values\n",
    "missing_data = df.isnull().sum()\n",
    "missing_percent = (missing_data / len(df)) * 100\n",
    "\n",
    "missing_df = pd.DataFrame({\n",
    "    'Missing Count': missing_data,\n",
    "    'Missing Percentage': missing_percent\n",
    "}).sort_values('Missing Count', ascending=False)\n",
    "\n",
    "print(\"Missing Values Summary:\")\n",
    "print(missing_df[missing_df['Missing Count'] > 0])"
   ]
  },
  {
   "cell_type": "markdown",
   "metadata": {},
   "source": [
    "## 2.3 Feature Selection and Data Cleaning\n",
    "\n",
    "Based on the analysis, we'll focus on the most relevant features for machine learning and clean the data accordingly."
   ]
  },
  {
   "cell_type": "code",
   "execution_count": 7,
   "metadata": {},
   "outputs": [
    {
     "name": "stdout",
     "output_type": "stream",
     "text": [
      "Original features: 16\n",
      "Selected features: 10\n",
      "\n",
      "Selected features: ['neighbourhood_group', 'neighbourhood', 'latitude', 'longitude', 'room_type', 'price', 'minimum_nights', 'number_of_reviews', 'calculated_host_listings_count', 'availability_365']\n"
     ]
    }
   ],
   "source": [
    "# Select relevant features for ML model\n",
    "# Remove features that are not useful for prediction or have too many missing values\n",
    "features_to_keep = [\n",
    "    'neighbourhood_group', 'neighbourhood', 'latitude', 'longitude',\n",
    "    'room_type', 'price', 'minimum_nights', 'number_of_reviews',\n",
    "    'calculated_host_listings_count', 'availability_365'\n",
    "]\n",
    "\n",
    "# Create cleaned dataset\n",
    "df_clean = df[features_to_keep].copy()\n",
    "\n",
    "print(f\"Original features: {df.shape[1]}\")\n",
    "print(f\"Selected features: {df_clean.shape[1]}\")\n",
    "print(f\"\\nSelected features: {list(df_clean.columns)}\")"
   ]
  },
  {
   "cell_type": "markdown",
   "metadata": {},
   "source": [
    "> Handle missing values and data quality issues\n"
   ]
  },
  {
   "cell_type": "code",
   "execution_count": 8,
   "metadata": {},
   "outputs": [
    {
     "name": "stdout",
     "output_type": "stream",
     "text": [
      "Price outlier bounds using IQR method:\n",
      "Lower bound: $-90.00\n",
      "Upper bound: $334.00\n",
      "Dataset shape after cleaning: (45899, 10)\n",
      "Removed 2996 rows during cleaning\n",
      "Dataset shape after cleaning: (45899, 10)\n",
      "Removed 2996 rows during cleaning\n"
     ]
    }
   ],
   "source": [
    "# Remove listings with price = 0 (likely data quality issues)\n",
    "df_clean = df_clean[df_clean['price'] > 0]\n",
    "\n",
    "# Handle missing values in reviews (fill with 0 - no reviews)\n",
    "df_clean['number_of_reviews'] = df_clean['number_of_reviews'].fillna(0)\n",
    "\n",
    "# Remove extreme outliers in price using IQR method\n",
    "Q1 = df_clean['price'].quantile(0.25)\n",
    "Q3 = df_clean['price'].quantile(0.75)\n",
    "IQR = Q3 - Q1\n",
    "lower_bound = Q1 - 1.5 * IQR\n",
    "upper_bound = Q3 + 1.5 * IQR\n",
    "\n",
    "print(f\"Price outlier bounds using IQR method:\")\n",
    "print(f\"Lower bound: ${lower_bound:.2f}\")\n",
    "print(f\"Upper bound: ${upper_bound:.2f}\")\n",
    "\n",
    "# Remove outliers outside IQR bounds\n",
    "df_clean = df_clean[(df_clean['price'] >= lower_bound) & (df_clean['price'] <= upper_bound)]\n",
    "\n",
    "# Remove extreme outliers in minimum_nights (above 365 days)\n",
    "df_clean = df_clean[df_clean['minimum_nights'] <= 365]\n",
    "\n",
    "print(f\"Dataset shape after cleaning: {df_clean.shape}\")\n",
    "print(f\"Removed {len(df) - len(df_clean)} rows during cleaning\")"
   ]
  },
  {
   "cell_type": "markdown",
   "metadata": {},
   "source": [
    "## 2.4 Quick Visualization of Key Variables"
   ]
  },
  {
   "cell_type": "code",
   "execution_count": 9,
   "metadata": {},
   "outputs": [
    {
     "data": {
      "image/png": "[encoded data removed]",
      "text/plain": [
       "<Figure size 1500x1000 with 4 Axes>"
      ]
     },
     "metadata": {},
     "output_type": "display_data"
    }
   ],
   "source": [
    "# Visualize key distributions\n",
    "fig, axes = plt.subplots(2, 2, figsize=(15, 10))\n",
    "\n",
    "# Price distribution\n",
    "axes[0,0].hist(df_clean['price'], bins=50, alpha=0.7, edgecolor='black')\n",
    "axes[0,0].set_title('Price Distribution (Cleaned)')\n",
    "axes[0,0].set_xlabel('Price ($)')\n",
    "\n",
    "# Room type distribution\n",
    "room_counts = df_clean['room_type'].value_counts()\n",
    "axes[0,1].pie(room_counts.values, labels=room_counts.index, autopct='%1.1f%%')\n",
    "axes[0,1].set_title('Room Type Distribution')\n",
    "\n",
    "# Neighbourhood group distribution\n",
    "borough_counts = df_clean['neighbourhood_group'].value_counts()\n",
    "axes[1,0].bar(borough_counts.index, borough_counts.values)\n",
    "axes[1,0].set_title('Listings by Borough')\n",
    "axes[1,0].tick_params(axis='x', rotation=45)\n",
    "\n",
    "# Availability distribution\n",
    "axes[1,1].hist(df_clean['availability_365'], bins=30, alpha=0.7, edgecolor='black')\n",
    "axes[1,1].set_title('Availability Distribution')\n",
    "axes[1,1].set_xlabel('Available Days (365)')\n",
    "\n",
    "plt.tight_layout()\n",
    "plt.show()"
   ]
  },
  {
   "cell_type": "code",
   "execution_count": 10,
   "metadata": {},
   "outputs": [
    {
     "data": {
      "application/vnd.plotly.v1+json": {
       "config": {
        "plotlyServerURL": "https://plot.ly"
       },
       "data": [
        {
         "customdata": [
          [
           "Private room",
           "Manhattan"
          ],
          [
           "Entire home/apt",
           "Brooklyn"
          ],
          [
           "Shared room",
           "Brooklyn"
          ],
          [
           "Private room",
           "Brooklyn"
          ],
          [
           "Private room",
           "Brooklyn"
          ],
          [
           "Private room",
           "Queens"
          ],
          [
           "Private room",
           "Brooklyn"
          ],
          [
           "Private room",
           "Manhattan"
          ],
          [
           "Private room",
           "Manhattan"
          ],
          [
           "Entire home/apt",
           "Manhattan"
          ],
          [
           "Entire home/apt",
           "Manhattan"
          ],
          [
           "Private room",
           "Queens"
          ],
          [
           "Private room",
           "Brooklyn"
          ],
          [
           "Shared room",
           "Manhattan"
          ],
          [
           "Private room",
           "Brooklyn"
          ],
          [
           "Entire home/apt",
           "Manhattan"
          ],
          [
           "Private room",
           "Brooklyn"
          ],
          [
           "Private room",
           "Brooklyn"
          ],
          [
           "Entire home/apt",
           "Manhattan"
          ],
          [
           "Private room",
           "Manhattan"
          ],
          [
           "Entire home/apt",
           "Brooklyn"
          ],
          [
           "Private room",
           "Manhattan"
          ],
          [
           "Entire home/apt",
           "Manhattan"
          ],
          [
           "Entire home/apt",
           "Brooklyn"
          ],
          [
           "Private room",
           "Manhattan"
          ],
          [
           "Entire home/apt",
           "Staten Island"
          ],
          [
           "Shared room",
           "Manhattan"
          ],
          [
           "Private room",
           "Manhattan"
          ],
          [
           "Entire home/apt",
           "Brooklyn"
          ],
          [
           "Private room",
           "Staten Island"
          ],
          [
           "Private room",
           "Manhattan"
          ],
          [
           "Entire home/apt",
           "Brooklyn"
          ],
          [
           "Private room",
           "Manhattan"
          ],
          [
           "Private room",
           "Brooklyn"
          ],
          [
           "Private room",
           "Queens"
          ],
          [
           "Entire home/apt",
           "Manhattan"
          ],
          [
           "Private room",
           "Brooklyn"
          ],
          [
           "Entire home/apt",
           "Manhattan"
          ],
          [
           "Private room",
           "Brooklyn"
          ],
          [
           "Entire home/apt",
           "Brooklyn"
          ],
          [
           "Entire home/apt",
           "Brooklyn"
          ],
          [
           "Private room",
           "Manhattan"
          ],
          [
           "Private room",
           "Bronx"
          ],
          [
           "Private room",
           "Manhattan"
          ],
          [
           "Private room",
           "Manhattan"
          ],
          [
           "Private room",
           "Manhattan"
          ],
          [
           "Entire home/apt",
           "Manhattan"
          ],
          [
           "Private room",
           "Queens"
          ],
          [
           "Private room",
           "Manhattan"
          ],
          [
           "Private room",
           "Brooklyn"
          ],
          [
           "Private room",
           "Manhattan"
          ],
          [
           "Private room",
           "Manhattan"
          ],
          [
           "Entire home/apt",
           "Brooklyn"
          ],
          [
           "Private room",
           "Queens"
          ],
          [
           "Entire home/apt",
           "Brooklyn"
          ],
          [
           "Entire home/apt",
           "Brooklyn"
          ],
          [
           "Private room",
           "Queens"
          ],
          [
           "Entire home/apt",
           "Brooklyn"
          ],
          [
           "Entire home/apt",
           "Brooklyn"
          ],
          [
           "Entire home/apt",
           "Manhattan"
          ],
          [
           "Private room",
           "Queens"
          ],
          [
           "Entire home/apt",
           "Manhattan"
          ],
          [
           "Private room",
           "Brooklyn"
          ],
          [
           "Entire home/apt",
           "Manhattan"
          ],
          [
           "Private room",
           "Manhattan"
          ],
          [
           "Private room",
           "Brooklyn"
          ],
          [
           "Entire home/apt",
           "Brooklyn"
          ],
          [
           "Entire home/apt",
           "Brooklyn"
          ],
          [
           "Entire home/apt",
           "Manhattan"
          ],
          [
           "Entire home/apt",
           "Manhattan"
          ],
          [
           "Entire home/apt",
           "Brooklyn"
          ],
          [
           "Private room",
           "Queens"
          ],
          [
           "Private room",
           "Manhattan"
          ],
          [
           "Private room",
           "Brooklyn"
          ],
          [
           "Private room",
           "Manhattan"
          ],
          [
           "Private room",
           "Manhattan"
          ],
          [
           "Private room",
           "Queens"
          ],
          [
           "Entire home/apt",
           "Manhattan"
          ],
          [
           "Private room",
           "Brooklyn"
          ],
          [
           "Private room",
           "Manhattan"
          ],
          [
           "Private room",
           "Brooklyn"
          ],
          [
           "Entire home/apt",
           "Manhattan"
          ],
          [
           "Entire home/apt",
           "Manhattan"
          ],
          [
           "Private room",
           "Manhattan"
          ],
          [
           "Entire home/apt",
           "Manhattan"
          ],
          [
           "Entire home/apt",
           "Brooklyn"
          ],
          [
           "Private room",
           "Manhattan"
          ],
          [
           "Entire home/apt",
           "Manhattan"
          ],
          [
           "Entire home/apt",
           "Manhattan"
          ],
          [
           "Private room",
           "Manhattan"
          ],
          [
           "Private room",
           "Brooklyn"
          ],
          [
           "Entire home/apt",
           "Manhattan"
          ],
          [
           "Private room",
           "Brooklyn"
          ],
          [
           "Private room",
           "Manhattan"
          ],
          [
           "Entire home/apt",
           "Brooklyn"
          ],
          [
           "Private room",
           "Queens"
          ],
          [
           "Entire home/apt",
           "Manhattan"
          ],
          [
           "Private room",
           "Brooklyn"
          ],
          [
           "Entire home/apt",
           "Brooklyn"
          ],
          [
           "Private room",
           "Queens"
          ],
          [
           "Private room",
           "Manhattan"
          ],
          [
           "Entire home/apt",
           "Manhattan"
          ],
          [
           "Private room",
           "Manhattan"
          ],
          [
           "Shared room",
           "Queens"
          ],
          [
           "Entire home/apt",
           "Brooklyn"
          ],
          [
           "Private room",
           "Queens"
          ],
          [
           "Private room",
           "Queens"
          ],
          [
           "Private room",
           "Queens"
          ],
          [
           "Entire home/apt",
           "Manhattan"
          ],
          [
           "Private room",
           "Manhattan"
          ],
          [
           "Private room",
           "Manhattan"
          ],
          [
           "Private room",
           "Queens"
          ],
          [
           "Entire home/apt",
           "Manhattan"
          ],
          [
           "Private room",
           "Queens"
          ],
          [
           "Private room",
           "Queens"
          ],
          [
           "Private room",
           "Brooklyn"
          ],
          [
           "Private room",
           "Brooklyn"
          ],
          [
           "Private room",
           "Queens"
          ],
          [
           "Entire home/apt",
           "Manhattan"
          ],
          [
           "Private room",
           "Brooklyn"
          ],
          [
           "Entire home/apt",
           "Manhattan"
          ],
          [
           "Private room",
           "Queens"
          ],
          [
           "Private room",
           "Queens"
          ],
          [
           "Entire home/apt",
           "Manhattan"
          ],
          [
           "Entire home/apt",
           "Brooklyn"
          ],
          [
           "Entire home/apt",
           "Brooklyn"
          ],
          [
           "Entire home/apt",
           "Manhattan"
          ],
          [
           "Private room",
           "Queens"
          ],
          [
           "Shared room",
           "Manhattan"
          ],
          [
           "Entire home/apt",
           "Brooklyn"
          ],
          [
           "Private room",
           "Brooklyn"
          ],
          [
           "Entire home/apt",
           "Queens"
          ],
          [
           "Private room",
           "Manhattan"
          ],
          [
           "Entire home/apt",
           "Manhattan"
          ],
          [
           "Private room",
           "Manhattan"
          ],
          [
           "Entire home/apt",
           "Manhattan"
          ],
          [
           "Entire home/apt",
           "Manhattan"
          ],
          [
           "Entire home/apt",
           "Brooklyn"
          ],
          [
           "Private room",
           "Manhattan"
          ],
          [
           "Entire home/apt",
           "Brooklyn"
          ],
          [
           "Private room",
           "Manhattan"
          ],
          [
           "Entire home/apt",
           "Brooklyn"
          ],
          [
           "Entire home/apt",
           "Manhattan"
          ],
          [
           "Private room",
           "Brooklyn"
          ],
          [
           "Entire home/apt",
           "Brooklyn"
          ],
          [
           "Private room",
           "Brooklyn"
          ],
          [
           "Private room",
           "Manhattan"
          ],
          [
           "Entire home/apt",
           "Manhattan"
          ],
          [
           "Private room",
           "Brooklyn"
          ],
          [
           "Private room",
           "Brooklyn"
          ],
          [
           "Private room",
           "Queens"
          ],
          [
           "Shared room",
           "Manhattan"
          ],
          [
           "Private room",
           "Brooklyn"
          ],
          [
           "Entire home/apt",
           "Brooklyn"
          ],
          [
           "Private room",
           "Brooklyn"
          ],
          [
           "Entire home/apt",
           "Manhattan"
          ],
          [
           "Entire home/apt",
           "Manhattan"
          ],
          [
           "Private room",
           "Brooklyn"
          ],
          [
           "Entire home/apt",
           "Manhattan"
          ],
          [
           "Private room",
           "Brooklyn"
          ],
          [
           "Entire home/apt",
           "Brooklyn"
          ],
          [
           "Private room",
           "Manhattan"
          ],
          [
           "Entire home/apt",
           "Brooklyn"
          ],
          [
           "Entire home/apt",
           "Queens"
          ],
          [
           "Entire home/apt",
           "Brooklyn"
          ],
          [
           "Entire home/apt",
           "Manhattan"
          ],
          [
           "Entire home/apt",
           "Manhattan"
          ],
          [
           "Entire home/apt",
           "Manhattan"
          ],
          [
           "Entire home/apt",
           "Manhattan"
          ],
          [
           "Entire home/apt",
           "Manhattan"
          ],
          [
           "Entire home/apt",
           "Manhattan"
          ],
          [
           "Private room",
           "Brooklyn"
          ],
          [
           "Entire home/apt",
           "Brooklyn"
          ],
          [
           "Entire home/apt",
           "Queens"
          ],
          [
           "Private room",
           "Queens"
          ],
          [
           "Private room",
           "Brooklyn"
          ],
          [
           "Private room",
           "Manhattan"
          ],
          [
           "Private room",
           "Manhattan"
          ],
          [
           "Entire home/apt",
           "Brooklyn"
          ],
          [
           "Private room",
           "Brooklyn"
          ],
          [
           "Private room",
           "Manhattan"
          ],
          [
           "Entire home/apt",
           "Brooklyn"
          ],
          [
           "Entire home/apt",
           "Manhattan"
          ],
          [
           "Private room",
           "Brooklyn"
          ],
          [
           "Private room",
           "Brooklyn"
          ],
          [
           "Entire home/apt",
           "Brooklyn"
          ],
          [
           "Entire home/apt",
           "Brooklyn"
          ],
          [
           "Private room",
           "Manhattan"
          ],
          [
           "Entire home/apt",
           "Manhattan"
          ],
          [
           "Entire home/apt",
           "Queens"
          ],
          [
           "Entire home/apt",
           "Manhattan"
          ],
          [
           "Private room",
           "Staten Island"
          ],
          [
           "Private room",
           "Brooklyn"
          ],
          [
           "Private room",
           "Brooklyn"
          ],
          [
           "Entire home/apt",
           "Manhattan"
          ],
          [
           "Entire home/apt",
           "Brooklyn"
          ],
          [
           "Entire home/apt",
           "Queens"
          ],
          [
           "Entire home/apt",
           "Brooklyn"
          ],
          [
           "Private room",
           "Staten Island"
          ],
          [
           "Entire home/apt",
           "Manhattan"
          ],
          [
           "Entire home/apt",
           "Queens"
          ],
          [
           "Entire home/apt",
           "Brooklyn"
          ],
          [
           "Entire home/apt",
           "Manhattan"
          ],
          [
           "Entire home/apt",
           "Manhattan"
          ],
          [
           "Private room",
           "Queens"
          ],
          [
           "Entire home/apt",
           "Manhattan"
          ],
          [
           "Entire home/apt",
           "Manhattan"
          ],
          [
           "Entire home/apt",
           "Manhattan"
          ],
          [
           "Private room",
           "Queens"
          ],
          [
           "Entire home/apt",
           "Brooklyn"
          ],
          [
           "Private room",
           "Brooklyn"
          ],
          [
           "Private room",
           "Brooklyn"
          ],
          [
           "Private room",
           "Manhattan"
          ],
          [
           "Private room",
           "Queens"
          ],
          [
           "Private room",
           "Manhattan"
          ],
          [
           "Entire home/apt",
           "Brooklyn"
          ],
          [
           "Entire home/apt",
           "Brooklyn"
          ],
          [
           "Private room",
           "Brooklyn"
          ],
          [
           "Private room",
           "Manhattan"
          ],
          [
           "Entire home/apt",
           "Manhattan"
          ],
          [
           "Entire home/apt",
           "Queens"
          ],
          [
           "Private room",
           "Manhattan"
          ],
          [
           "Entire home/apt",
           "Brooklyn"
          ],
          [
           "Private room",
           "Brooklyn"
          ],
          [
           "Private room",
           "Manhattan"
          ],
          [
           "Private room",
           "Manhattan"
          ],
          [
           "Private room",
           "Brooklyn"
          ],
          [
           "Private room",
           "Brooklyn"
          ],
          [
           "Entire home/apt",
           "Manhattan"
          ],
          [
           "Entire home/apt",
           "Queens"
          ],
          [
           "Private room",
           "Brooklyn"
          ],
          [
           "Private room",
           "Manhattan"
          ],
          [
           "Private room",
           "Manhattan"
          ],
          [
           "Private room",
           "Brooklyn"
          ],
          [
           "Private room",
           "Manhattan"
          ],
          [
           "Private room",
           "Manhattan"
          ],
          [
           "Entire home/apt",
           "Manhattan"
          ],
          [
           "Private room",
           "Queens"
          ],
          [
           "Entire home/apt",
           "Manhattan"
          ],
          [
           "Private room",
           "Brooklyn"
          ],
          [
           "Private room",
           "Manhattan"
          ],
          [
           "Private room",
           "Manhattan"
          ],
          [
           "Entire home/apt",
           "Manhattan"
          ],
          [
           "Private room",
           "Manhattan"
          ],
          [
           "Private room",
           "Queens"
          ],
          [
           "Entire home/apt",
           "Brooklyn"
          ],
          [
           "Private room",
           "Manhattan"
          ],
          [
           "Entire home/apt",
           "Brooklyn"
          ],
          [
           "Entire home/apt",
           "Manhattan"
          ],
          [
           "Private room",
           "Bronx"
          ],
          [
           "Private room",
           "Brooklyn"
          ],
          [
           "Private room",
           "Manhattan"
          ],
          [
           "Entire home/apt",
           "Brooklyn"
          ],
          [
           "Entire home/apt",
           "Manhattan"
          ],
          [
           "Private room",
           "Manhattan"
          ],
          [
           "Entire home/apt",
           "Brooklyn"
          ],
          [
           "Shared room",
           "Queens"
          ],
          [
           "Private room",
           "Brooklyn"
          ],
          [
           "Private room",
           "Manhattan"
          ],
          [
           "Private room",
           "Brooklyn"
          ],
          [
           "Entire home/apt",
           "Queens"
          ],
          [
           "Private room",
           "Brooklyn"
          ],
          [
           "Entire home/apt",
           "Brooklyn"
          ],
          [
           "Private room",
           "Manhattan"
          ],
          [
           "Entire home/apt",
           "Manhattan"
          ],
          [
           "Private room",
           "Brooklyn"
          ],
          [
           "Entire home/apt",
           "Queens"
          ],
          [
           "Entire home/apt",
           "Manhattan"
          ],
          [
           "Entire home/apt",
           "Manhattan"
          ],
          [
           "Entire home/apt",
           "Brooklyn"
          ],
          [
           "Private room",
           "Manhattan"
          ],
          [
           "Private room",
           "Queens"
          ],
          [
           "Entire home/apt",
           "Manhattan"
          ],
          [
           "Entire home/apt",
           "Manhattan"
          ],
          [
           "Entire home/apt",
           "Brooklyn"
          ],
          [
           "Entire home/apt",
           "Queens"
          ],
          [
           "Shared room",
           "Manhattan"
          ],
          [
           "Private room",
           "Manhattan"
          ],
          [
           "Private room",
           "Brooklyn"
          ],
          [
           "Entire home/apt",
           "Manhattan"
          ],
          [
           "Entire home/apt",
           "Brooklyn"
          ],
          [
           "Entire home/apt",
           "Brooklyn"
          ],
          [
           "Private room",
           "Brooklyn"
          ],
          [
           "Entire home/apt",
           "Manhattan"
          ],
          [
           "Private room",
           "Brooklyn"
          ],
          [
           "Entire home/apt",
           "Manhattan"
          ],
          [
           "Entire home/apt",
           "Brooklyn"
          ],
          [
           "Entire home/apt",
           "Brooklyn"
          ],
          [
           "Entire home/apt",
           "Brooklyn"
          ],
          [
           "Private room",
           "Queens"
          ],
          [
           "Private room",
           "Bronx"
          ],
          [
           "Entire home/apt",
           "Manhattan"
          ],
          [
           "Private room",
           "Brooklyn"
          ],
          [
           "Entire home/apt",
           "Brooklyn"
          ],
          [
           "Private room",
           "Brooklyn"
          ],
          [
           "Entire home/apt",
           "Brooklyn"
          ],
          [
           "Entire home/apt",
           "Queens"
          ],
          [
           "Entire home/apt",
           "Manhattan"
          ],
          [
           "Entire home/apt",
           "Brooklyn"
          ],
          [
           "Entire home/apt",
           "Brooklyn"
          ],
          [
           "Private room",
           "Brooklyn"
          ],
          [
           "Shared room",
           "Manhattan"
          ],
          [
           "Private room",
           "Brooklyn"
          ],
          [
           "Entire home/apt",
           "Queens"
          ],
          [
           "Private room",
           "Brooklyn"
          ],
          [
           "Entire home/apt",
           "Queens"
          ],
          [
           "Private room",
           "Manhattan"
          ],
          [
           "Private room",
           "Brooklyn"
          ],
          [
           "Entire home/apt",
           "Manhattan"
          ],
          [
           "Private room",
           "Brooklyn"
          ],
          [
           "Entire home/apt",
           "Brooklyn"
          ],
          [
           "Entire home/apt",
           "Queens"
          ],
          [
           "Entire home/apt",
           "Queens"
          ],
          [
           "Entire home/apt",
           "Manhattan"
          ],
          [
           "Entire home/apt",
           "Queens"
          ],
          [
           "Entire home/apt",
           "Brooklyn"
          ],
          [
           "Private room",
           "Queens"
          ],
          [
           "Entire home/apt",
           "Manhattan"
          ],
          [
           "Entire home/apt",
           "Queens"
          ],
          [
           "Private room",
           "Bronx"
          ],
          [
           "Private room",
           "Manhattan"
          ],
          [
           "Private room",
           "Manhattan"
          ],
          [
           "Private room",
           "Brooklyn"
          ],
          [
           "Entire home/apt",
           "Bronx"
          ],
          [
           "Entire home/apt",
           "Brooklyn"
          ],
          [
           "Entire home/apt",
           "Manhattan"
          ],
          [
           "Entire home/apt",
           "Manhattan"
          ],
          [
           "Private room",
           "Manhattan"
          ],
          [
           "Entire home/apt",
           "Brooklyn"
          ],
          [
           "Private room",
           "Manhattan"
          ],
          [
           "Shared room",
           "Manhattan"
          ],
          [
           "Entire home/apt",
           "Brooklyn"
          ],
          [
           "Entire home/apt",
           "Queens"
          ],
          [
           "Private room",
           "Manhattan"
          ],
          [
           "Entire home/apt",
           "Manhattan"
          ],
          [
           "Private room",
           "Brooklyn"
          ],
          [
           "Private room",
           "Brooklyn"
          ],
          [
           "Entire home/apt",
           "Queens"
          ],
          [
           "Private room",
           "Brooklyn"
          ],
          [
           "Private room",
           "Manhattan"
          ],
          [
           "Private room",
           "Queens"
          ],
          [
           "Entire home/apt",
           "Brooklyn"
          ],
          [
           "Entire home/apt",
           "Manhattan"
          ],
          [
           "Entire home/apt",
           "Manhattan"
          ],
          [
           "Entire home/apt",
           "Manhattan"
          ],
          [
           "Private room",
           "Queens"
          ],
          [
           "Entire home/apt",
           "Queens"
          ],
          [
           "Entire home/apt",
           "Brooklyn"
          ],
          [
           "Entire home/apt",
           "Queens"
          ],
          [
           "Entire home/apt",
           "Manhattan"
          ],
          [
           "Entire home/apt",
           "Manhattan"
          ],
          [
           "Private room",
           "Manhattan"
          ],
          [
           "Private room",
           "Manhattan"
          ],
          [
           "Entire home/apt",
           "Brooklyn"
          ],
          [
           "Entire home/apt",
           "Manhattan"
          ],
          [
           "Private room",
           "Manhattan"
          ],
          [
           "Entire home/apt",
           "Brooklyn"
          ],
          [
           "Private room",
           "Manhattan"
          ],
          [
           "Private room",
           "Brooklyn"
          ],
          [
           "Private room",
           "Brooklyn"
          ],
          [
           "Entire home/apt",
           "Manhattan"
          ],
          [
           "Entire home/apt",
           "Manhattan"
          ],
          [
           "Private room",
           "Manhattan"
          ],
          [
           "Private room",
           "Manhattan"
          ],
          [
           "Private room",
           "Brooklyn"
          ],
          [
           "Entire home/apt",
           "Brooklyn"
          ],
          [
           "Entire home/apt",
           "Manhattan"
          ],
          [
           "Private room",
           "Brooklyn"
          ],
          [
           "Private room",
           "Manhattan"
          ],
          [
           "Entire home/apt",
           "Manhattan"
          ],
          [
           "Entire home/apt",
           "Brooklyn"
          ],
          [
           "Entire home/apt",
           "Brooklyn"
          ],
          [
           "Entire home/apt",
           "Brooklyn"
          ],
          [
           "Entire home/apt",
           "Brooklyn"
          ],
          [
           "Entire home/apt",
           "Brooklyn"
          ],
          [
           "Private room",
           "Manhattan"
          ],
          [
           "Entire home/apt",
           "Bronx"
          ],
          [
           "Entire home/apt",
           "Manhattan"
          ],
          [
           "Private room",
           "Brooklyn"
          ],
          [
           "Entire home/apt",
           "Manhattan"
          ],
          [
           "Entire home/apt",
           "Manhattan"
          ],
          [
           "Entire home/apt",
           "Queens"
          ],
          [
           "Entire home/apt",
           "Manhattan"
          ],
          [
           "Private room",
           "Manhattan"
          ],
          [
           "Entire home/apt",
           "Brooklyn"
          ],
          [
           "Private room",
           "Manhattan"
          ],
          [
           "Private room",
           "Brooklyn"
          ],
          [
           "Entire home/apt",
           "Brooklyn"
          ],
          [
           "Entire home/apt",
           "Manhattan"
          ],
          [
           "Private room",
           "Manhattan"
          ],
          [
           "Private room",
           "Brooklyn"
          ],
          [
           "Private room",
           "Manhattan"
          ],
          [
           "Entire home/apt",
           "Manhattan"
          ],
          [
           "Entire home/apt",
           "Brooklyn"
          ],
          [
           "Private room",
           "Brooklyn"
          ],
          [
           "Entire home/apt",
           "Queens"
          ],
          [
           "Entire home/apt",
           "Manhattan"
          ],
          [
           "Private room",
           "Brooklyn"
          ],
          [
           "Entire home/apt",
           "Manhattan"
          ],
          [
           "Private room",
           "Manhattan"
          ],
          [
           "Private room",
           "Queens"
          ],
          [
           "Entire home/apt",
           "Brooklyn"
          ],
          [
           "Private room",
           "Brooklyn"
          ],
          [
           "Entire home/apt",
           "Manhattan"
          ],
          [
           "Private room",
           "Brooklyn"
          ],
          [
           "Private room",
           "Staten Island"
          ],
          [
           "Private room",
           "Manhattan"
          ],
          [
           "Entire home/apt",
           "Manhattan"
          ],
          [
           "Private room",
           "Brooklyn"
          ],
          [
           "Private room",
           "Brooklyn"
          ],
          [
           "Entire home/apt",
           "Manhattan"
          ],
          [
           "Private room",
           "Brooklyn"
          ],
          [
           "Entire home/apt",
           "Manhattan"
          ],
          [
           "Private room",
           "Brooklyn"
          ],
          [
           "Private room",
           "Brooklyn"
          ],
          [
           "Private room",
           "Manhattan"
          ],
          [
           "Entire home/apt",
           "Queens"
          ],
          [
           "Entire home/apt",
           "Brooklyn"
          ],
          [
           "Entire home/apt",
           "Manhattan"
          ],
          [
           "Private room",
           "Queens"
          ],
          [
           "Entire home/apt",
           "Manhattan"
          ],
          [
           "Entire home/apt",
           "Brooklyn"
          ],
          [
           "Private room",
           "Brooklyn"
          ],
          [
           "Entire home/apt",
           "Brooklyn"
          ],
          [
           "Private room",
           "Brooklyn"
          ],
          [
           "Private room",
           "Brooklyn"
          ],
          [
           "Entire home/apt",
           "Brooklyn"
          ],
          [
           "Private room",
           "Brooklyn"
          ],
          [
           "Entire home/apt",
           "Brooklyn"
          ],
          [
           "Private room",
           "Brooklyn"
          ],
          [
           "Entire home/apt",
           "Manhattan"
          ],
          [
           "Entire home/apt",
           "Brooklyn"
          ],
          [
           "Entire home/apt",
           "Brooklyn"
          ],
          [
           "Private room",
           "Brooklyn"
          ],
          [
           "Private room",
           "Queens"
          ],
          [
           "Private room",
           "Brooklyn"
          ],
          [
           "Private room",
           "Brooklyn"
          ],
          [
           "Entire home/apt",
           "Queens"
          ],
          [
           "Private room",
           "Queens"
          ],
          [
           "Entire home/apt",
           "Brooklyn"
          ],
          [
           "Entire home/apt",
           "Manhattan"
          ],
          [
           "Private room",
           "Brooklyn"
          ],
          [
           "Entire home/apt",
           "Manhattan"
          ],
          [
           "Entire home/apt",
           "Brooklyn"
          ],
          [
           "Entire home/apt",
           "Manhattan"
          ],
          [
           "Entire home/apt",
           "Brooklyn"
          ],
          [
           "Private room",
           "Brooklyn"
          ],
          [
           "Entire home/apt",
           "Manhattan"
          ],
          [
           "Private room",
           "Brooklyn"
          ],
          [
           "Entire home/apt",
           "Brooklyn"
          ],
          [
           "Private room",
           "Queens"
          ],
          [
           "Entire home/apt",
           "Manhattan"
          ],
          [
           "Entire home/apt",
           "Manhattan"
          ],
          [
           "Entire home/apt",
           "Queens"
          ],
          [
           "Entire home/apt",
           "Manhattan"
          ],
          [
           "Entire home/apt",
           "Manhattan"
          ],
          [
           "Private room",
           "Manhattan"
          ],
          [
           "Entire home/apt",
           "Manhattan"
          ],
          [
           "Entire home/apt",
           "Bronx"
          ],
          [
           "Entire home/apt",
           "Manhattan"
          ],
          [
           "Entire home/apt",
           "Brooklyn"
          ],
          [
           "Entire home/apt",
           "Manhattan"
          ],
          [
           "Entire home/apt",
           "Brooklyn"
          ],
          [
           "Entire home/apt",
           "Manhattan"
          ],
          [
           "Private room",
           "Manhattan"
          ],
          [
           "Entire home/apt",
           "Manhattan"
          ],
          [
           "Private room",
           "Brooklyn"
          ],
          [
           "Private room",
           "Queens"
          ],
          [
           "Entire home/apt",
           "Queens"
          ],
          [
           "Private room",
           "Manhattan"
          ],
          [
           "Entire home/apt",
           "Brooklyn"
          ],
          [
           "Private room",
           "Manhattan"
          ],
          [
           "Entire home/apt",
           "Manhattan"
          ],
          [
           "Private room",
           "Brooklyn"
          ],
          [
           "Private room",
           "Brooklyn"
          ],
          [
           "Private room",
           "Brooklyn"
          ],
          [
           "Entire home/apt",
           "Brooklyn"
          ],
          [
           "Entire home/apt",
           "Manhattan"
          ],
          [
           "Private room",
           "Brooklyn"
          ],
          [
           "Private room",
           "Bronx"
          ],
          [
           "Private room",
           "Staten Island"
          ],
          [
           "Entire home/apt",
           "Manhattan"
          ],
          [
           "Private room",
           "Queens"
          ],
          [
           "Private room",
           "Manhattan"
          ],
          [
           "Entire home/apt",
           "Queens"
          ],
          [
           "Shared room",
           "Brooklyn"
          ],
          [
           "Entire home/apt",
           "Manhattan"
          ],
          [
           "Private room",
           "Brooklyn"
          ],
          [
           "Entire home/apt",
           "Manhattan"
          ],
          [
           "Entire home/apt",
           "Manhattan"
          ],
          [
           "Private room",
           "Brooklyn"
          ],
          [
           "Private room",
           "Manhattan"
          ],
          [
           "Shared room",
           "Manhattan"
          ],
          [
           "Private room",
           "Brooklyn"
          ],
          [
           "Entire home/apt",
           "Manhattan"
          ],
          [
           "Entire home/apt",
           "Brooklyn"
          ],
          [
           "Private room",
           "Brooklyn"
          ],
          [
           "Private room",
           "Queens"
          ],
          [
           "Private room",
           "Manhattan"
          ],
          [
           "Private room",
           "Brooklyn"
          ],
          [
           "Private room",
           "Brooklyn"
          ],
          [
           "Private room",
           "Brooklyn"
          ],
          [
           "Entire home/apt",
           "Manhattan"
          ],
          [
           "Entire home/apt",
           "Manhattan"
          ],
          [
           "Private room",
           "Manhattan"
          ],
          [
           "Entire home/apt",
           "Manhattan"
          ],
          [
           "Private room",
           "Brooklyn"
          ],
          [
           "Entire home/apt",
           "Brooklyn"
          ],
          [
           "Private room",
           "Brooklyn"
          ],
          [
           "Entire home/apt",
           "Queens"
          ],
          [
           "Private room",
           "Brooklyn"
          ],
          [
           "Private room",
           "Manhattan"
          ],
          [
           "Entire home/apt",
           "Manhattan"
          ],
          [
           "Entire home/apt",
           "Queens"
          ],
          [
           "Private room",
           "Manhattan"
          ],
          [
           "Private room",
           "Brooklyn"
          ],
          [
           "Private room",
           "Brooklyn"
          ],
          [
           "Private room",
           "Manhattan"
          ],
          [
           "Private room",
           "Brooklyn"
          ],
          [
           "Entire home/apt",
           "Brooklyn"
          ],
          [
           "Private room",
           "Brooklyn"
          ],
          [
           "Entire home/apt",
           "Brooklyn"
          ],
          [
           "Entire home/apt",
           "Brooklyn"
          ],
          [
           "Entire home/apt",
           "Brooklyn"
          ],
          [
           "Entire home/apt",
           "Manhattan"
          ],
          [
           "Entire home/apt",
           "Manhattan"
          ],
          [
           "Entire home/apt",
           "Brooklyn"
          ],
          [
           "Shared room",
           "Brooklyn"
          ],
          [
           "Entire home/apt",
           "Manhattan"
          ],
          [
           "Private room",
           "Queens"
          ],
          [
           "Entire home/apt",
           "Manhattan"
          ],
          [
           "Entire home/apt",
           "Brooklyn"
          ],
          [
           "Entire home/apt",
           "Brooklyn"
          ],
          [
           "Private room",
           "Brooklyn"
          ],
          [
           "Entire home/apt",
           "Manhattan"
          ],
          [
           "Entire home/apt",
           "Manhattan"
          ],
          [
           "Entire home/apt",
           "Brooklyn"
          ],
          [
           "Private room",
           "Manhattan"
          ],
          [
           "Shared room",
           "Brooklyn"
          ],
          [
           "Private room",
           "Brooklyn"
          ],
          [
           "Entire home/apt",
           "Brooklyn"
          ],
          [
           "Entire home/apt",
           "Manhattan"
          ],
          [
           "Private room",
           "Manhattan"
          ],
          [
           "Entire home/apt",
           "Manhattan"
          ],
          [
           "Entire home/apt",
           "Brooklyn"
          ],
          [
           "Entire home/apt",
           "Manhattan"
          ],
          [
           "Entire home/apt",
           "Manhattan"
          ],
          [
           "Entire home/apt",
           "Brooklyn"
          ],
          [
           "Entire home/apt",
           "Manhattan"
          ],
          [
           "Private room",
           "Manhattan"
          ],
          [
           "Shared room",
           "Bronx"
          ],
          [
           "Entire home/apt",
           "Queens"
          ],
          [
           "Private room",
           "Brooklyn"
          ],
          [
           "Private room",
           "Manhattan"
          ],
          [
           "Entire home/apt",
           "Brooklyn"
          ],
          [
           "Private room",
           "Queens"
          ],
          [
           "Private room",
           "Manhattan"
          ],
          [
           "Private room",
           "Brooklyn"
          ],
          [
           "Entire home/apt",
           "Manhattan"
          ],
          [
           "Private room",
           "Brooklyn"
          ],
          [
           "Entire home/apt",
           "Manhattan"
          ],
          [
           "Private room",
           "Manhattan"
          ],
          [
           "Entire home/apt",
           "Manhattan"
          ],
          [
           "Private room",
           "Brooklyn"
          ],
          [
           "Private room",
           "Queens"
          ],
          [
           "Entire home/apt",
           "Brooklyn"
          ],
          [
           "Private room",
           "Manhattan"
          ],
          [
           "Entire home/apt",
           "Manhattan"
          ],
          [
           "Private room",
           "Brooklyn"
          ],
          [
           "Entire home/apt",
           "Manhattan"
          ],
          [
           "Entire home/apt",
           "Staten Island"
          ],
          [
           "Private room",
           "Brooklyn"
          ],
          [
           "Entire home/apt",
           "Manhattan"
          ],
          [
           "Private room",
           "Queens"
          ],
          [
           "Private room",
           "Manhattan"
          ],
          [
           "Private room",
           "Brooklyn"
          ],
          [
           "Private room",
           "Queens"
          ],
          [
           "Private room",
           "Queens"
          ],
          [
           "Entire home/apt",
           "Brooklyn"
          ],
          [
           "Entire home/apt",
           "Queens"
          ],
          [
           "Entire home/apt",
           "Manhattan"
          ],
          [
           "Entire home/apt",
           "Queens"
          ],
          [
           "Private room",
           "Queens"
          ],
          [
           "Private room",
           "Queens"
          ],
          [
           "Private room",
           "Manhattan"
          ],
          [
           "Private room",
           "Bronx"
          ],
          [
           "Private room",
           "Brooklyn"
          ],
          [
           "Shared room",
           "Brooklyn"
          ],
          [
           "Private room",
           "Brooklyn"
          ],
          [
           "Private room",
           "Brooklyn"
          ],
          [
           "Shared room",
           "Brooklyn"
          ],
          [
           "Entire home/apt",
           "Manhattan"
          ],
          [
           "Entire home/apt",
           "Manhattan"
          ],
          [
           "Entire home/apt",
           "Manhattan"
          ],
          [
           "Entire home/apt",
           "Brooklyn"
          ],
          [
           "Private room",
           "Manhattan"
          ],
          [
           "Entire home/apt",
           "Manhattan"
          ],
          [
           "Entire home/apt",
           "Manhattan"
          ],
          [
           "Private room",
           "Brooklyn"
          ],
          [
           "Private room",
           "Brooklyn"
          ],
          [
           "Entire home/apt",
           "Manhattan"
          ],
          [
           "Private room",
           "Brooklyn"
          ],
          [
           "Entire home/apt",
           "Brooklyn"
          ],
          [
           "Entire home/apt",
           "Brooklyn"
          ],
          [
           "Entire home/apt",
           "Manhattan"
          ],
          [
           "Entire home/apt",
           "Manhattan"
          ],
          [
           "Private room",
           "Manhattan"
          ],
          [
           "Entire home/apt",
           "Manhattan"
          ],
          [
           "Private room",
           "Brooklyn"
          ],
          [
           "Private room",
           "Brooklyn"
          ],
          [
           "Entire home/apt",
           "Brooklyn"
          ],
          [
           "Private room",
           "Manhattan"
          ],
          [
           "Entire home/apt",
           "Queens"
          ],
          [
           "Private room",
           "Queens"
          ],
          [
           "Entire home/apt",
           "Manhattan"
          ],
          [
           "Entire home/apt",
           "Manhattan"
          ],
          [
           "Private room",
           "Manhattan"
          ],
          [
           "Private room",
           "Brooklyn"
          ],
          [
           "Private room",
           "Brooklyn"
          ],
          [
           "Entire home/apt",
           "Brooklyn"
          ],
          [
           "Private room",
           "Manhattan"
          ],
          [
           "Entire home/apt",
           "Manhattan"
          ],
          [
           "Private room",
           "Queens"
          ],
          [
           "Entire home/apt",
           "Brooklyn"
          ],
          [
           "Entire home/apt",
           "Brooklyn"
          ],
          [
           "Entire home/apt",
           "Brooklyn"
          ],
          [
           "Private room",
           "Brooklyn"
          ],
          [
           "Private room",
           "Manhattan"
          ],
          [
           "Shared room",
           "Manhattan"
          ],
          [
           "Entire home/apt",
           "Brooklyn"
          ],
          [
           "Entire home/apt",
           "Manhattan"
          ],
          [
           "Entire home/apt",
           "Manhattan"
          ],
          [
           "Entire home/apt",
           "Manhattan"
          ],
          [
           "Entire home/apt",
           "Manhattan"
          ],
          [
           "Private room",
           "Manhattan"
          ],
          [
           "Private room",
           "Brooklyn"
          ],
          [
           "Private room",
           "Manhattan"
          ],
          [
           "Private room",
           "Manhattan"
          ],
          [
           "Entire home/apt",
           "Brooklyn"
          ],
          [
           "Private room",
           "Manhattan"
          ],
          [
           "Private room",
           "Brooklyn"
          ],
          [
           "Entire home/apt",
           "Brooklyn"
          ],
          [
           "Entire home/apt",
           "Manhattan"
          ],
          [
           "Entire home/apt",
           "Manhattan"
          ],
          [
           "Private room",
           "Brooklyn"
          ],
          [
           "Private room",
           "Brooklyn"
          ],
          [
           "Private room",
           "Manhattan"
          ],
          [
           "Private room",
           "Brooklyn"
          ],
          [
           "Entire home/apt",
           "Brooklyn"
          ],
          [
           "Entire home/apt",
           "Manhattan"
          ],
          [
           "Private room",
           "Brooklyn"
          ],
          [
           "Private room",
           "Manhattan"
          ],
          [
           "Private room",
           "Brooklyn"
          ],
          [
           "Private room",
           "Queens"
          ],
          [
           "Entire home/apt",
           "Manhattan"
          ],
          [
           "Private room",
           "Brooklyn"
          ],
          [
           "Private room",
           "Brooklyn"
          ],
          [
           "Private room",
           "Manhattan"
          ],
          [
           "Private room",
           "Queens"
          ],
          [
           "Private room",
           "Brooklyn"
          ],
          [
           "Entire home/apt",
           "Manhattan"
          ],
          [
           "Entire home/apt",
           "Manhattan"
          ],
          [
           "Entire home/apt",
           "Brooklyn"
          ],
          [
           "Private room",
           "Bronx"
          ],
          [
           "Entire home/apt",
           "Brooklyn"
          ],
          [
           "Private room",
           "Brooklyn"
          ],
          [
           "Entire home/apt",
           "Brooklyn"
          ],
          [
           "Entire home/apt",
           "Manhattan"
          ],
          [
           "Private room",
           "Brooklyn"
          ],
          [
           "Private room",
           "Brooklyn"
          ],
          [
           "Private room",
           "Queens"
          ],
          [
           "Private room",
           "Manhattan"
          ],
          [
           "Entire home/apt",
           "Brooklyn"
          ],
          [
           "Private room",
           "Bronx"
          ],
          [
           "Private room",
           "Brooklyn"
          ],
          [
           "Entire home/apt",
           "Brooklyn"
          ],
          [
           "Private room",
           "Manhattan"
          ],
          [
           "Entire home/apt",
           "Queens"
          ],
          [
           "Entire home/apt",
           "Manhattan"
          ],
          [
           "Private room",
           "Brooklyn"
          ],
          [
           "Entire home/apt",
           "Bronx"
          ],
          [
           "Entire home/apt",
           "Manhattan"
          ],
          [
           "Entire home/apt",
           "Brooklyn"
          ],
          [
           "Private room",
           "Queens"
          ],
          [
           "Entire home/apt",
           "Brooklyn"
          ],
          [
           "Private room",
           "Manhattan"
          ],
          [
           "Private room",
           "Queens"
          ],
          [
           "Entire home/apt",
           "Manhattan"
          ],
          [
           "Entire home/apt",
           "Brooklyn"
          ],
          [
           "Private room",
           "Brooklyn"
          ],
          [
           "Entire home/apt",
           "Brooklyn"
          ],
          [
           "Entire home/apt",
           "Manhattan"
          ],
          [
           "Entire home/apt",
           "Brooklyn"
          ],
          [
           "Private room",
           "Queens"
          ],
          [
           "Private room",
           "Queens"
          ],
          [
           "Private room",
           "Queens"
          ],
          [
           "Private room",
           "Queens"
          ],
          [
           "Private room",
           "Brooklyn"
          ],
          [
           "Entire home/apt",
           "Manhattan"
          ],
          [
           "Private room",
           "Manhattan"
          ],
          [
           "Private room",
           "Brooklyn"
          ],
          [
           "Entire home/apt",
           "Manhattan"
          ],
          [
           "Private room",
           "Queens"
          ],
          [
           "Private room",
           "Brooklyn"
          ],
          [
           "Private room",
           "Manhattan"
          ],
          [
           "Private room",
           "Manhattan"
          ],
          [
           "Private room",
           "Brooklyn"
          ],
          [
           "Private room",
           "Brooklyn"
          ],
          [
           "Private room",
           "Manhattan"
          ],
          [
           "Private room",
           "Brooklyn"
          ],
          [
           "Entire home/apt",
           "Brooklyn"
          ],
          [
           "Private room",
           "Manhattan"
          ],
          [
           "Entire home/apt",
           "Brooklyn"
          ],
          [
           "Entire home/apt",
           "Manhattan"
          ],
          [
           "Private room",
           "Brooklyn"
          ],
          [
           "Private room",
           "Manhattan"
          ],
          [
           "Entire home/apt",
           "Brooklyn"
          ],
          [
           "Private room",
           "Manhattan"
          ],
          [
           "Private room",
           "Brooklyn"
          ],
          [
           "Entire home/apt",
           "Bronx"
          ],
          [
           "Private room",
           "Brooklyn"
          ],
          [
           "Entire home/apt",
           "Brooklyn"
          ],
          [
           "Entire home/apt",
           "Brooklyn"
          ],
          [
           "Private room",
           "Manhattan"
          ],
          [
           "Private room",
           "Queens"
          ],
          [
           "Private room",
           "Manhattan"
          ],
          [
           "Private room",
           "Manhattan"
          ],
          [
           "Private room",
           "Manhattan"
          ],
          [
           "Private room",
           "Brooklyn"
          ],
          [
           "Entire home/apt",
           "Brooklyn"
          ],
          [
           "Entire home/apt",
           "Manhattan"
          ],
          [
           "Private room",
           "Manhattan"
          ],
          [
           "Private room",
           "Manhattan"
          ],
          [
           "Private room",
           "Queens"
          ],
          [
           "Entire home/apt",
           "Brooklyn"
          ],
          [
           "Private room",
           "Brooklyn"
          ],
          [
           "Private room",
           "Brooklyn"
          ],
          [
           "Entire home/apt",
           "Brooklyn"
          ],
          [
           "Entire home/apt",
           "Manhattan"
          ],
          [
           "Entire home/apt",
           "Bronx"
          ],
          [
           "Entire home/apt",
           "Manhattan"
          ],
          [
           "Private room",
           "Brooklyn"
          ],
          [
           "Entire home/apt",
           "Manhattan"
          ],
          [
           "Entire home/apt",
           "Brooklyn"
          ],
          [
           "Entire home/apt",
           "Manhattan"
          ],
          [
           "Private room",
           "Queens"
          ],
          [
           "Entire home/apt",
           "Brooklyn"
          ],
          [
           "Private room",
           "Brooklyn"
          ],
          [
           "Entire home/apt",
           "Manhattan"
          ],
          [
           "Entire home/apt",
           "Manhattan"
          ],
          [
           "Entire home/apt",
           "Manhattan"
          ],
          [
           "Private room",
           "Brooklyn"
          ],
          [
           "Entire home/apt",
           "Queens"
          ],
          [
           "Private room",
           "Brooklyn"
          ],
          [
           "Entire home/apt",
           "Brooklyn"
          ],
          [
           "Private room",
           "Manhattan"
          ],
          [
           "Private room",
           "Brooklyn"
          ],
          [
           "Entire home/apt",
           "Manhattan"
          ],
          [
           "Entire home/apt",
           "Brooklyn"
          ],
          [
           "Entire home/apt",
           "Manhattan"
          ],
          [
           "Private room",
           "Brooklyn"
          ],
          [
           "Private room",
           "Manhattan"
          ],
          [
           "Entire home/apt",
           "Brooklyn"
          ],
          [
           "Private room",
           "Queens"
          ],
          [
           "Private room",
           "Brooklyn"
          ],
          [
           "Entire home/apt",
           "Manhattan"
          ],
          [
           "Entire home/apt",
           "Manhattan"
          ],
          [
           "Private room",
           "Brooklyn"
          ],
          [
           "Private room",
           "Brooklyn"
          ],
          [
           "Private room",
           "Brooklyn"
          ],
          [
           "Entire home/apt",
           "Manhattan"
          ],
          [
           "Private room",
           "Brooklyn"
          ],
          [
           "Entire home/apt",
           "Manhattan"
          ],
          [
           "Private room",
           "Manhattan"
          ],
          [
           "Entire home/apt",
           "Brooklyn"
          ],
          [
           "Private room",
           "Manhattan"
          ],
          [
           "Private room",
           "Brooklyn"
          ],
          [
           "Entire home/apt",
           "Brooklyn"
          ],
          [
           "Entire home/apt",
           "Manhattan"
          ],
          [
           "Private room",
           "Manhattan"
          ],
          [
           "Entire home/apt",
           "Brooklyn"
          ],
          [
           "Entire home/apt",
           "Manhattan"
          ],
          [
           "Entire home/apt",
           "Manhattan"
          ],
          [
           "Entire home/apt",
           "Manhattan"
          ],
          [
           "Private room",
           "Manhattan"
          ],
          [
           "Entire home/apt",
           "Queens"
          ],
          [
           "Entire home/apt",
           "Brooklyn"
          ],
          [
           "Entire home/apt",
           "Manhattan"
          ],
          [
           "Entire home/apt",
           "Manhattan"
          ],
          [
           "Entire home/apt",
           "Manhattan"
          ],
          [
           "Private room",
           "Brooklyn"
          ],
          [
           "Entire home/apt",
           "Manhattan"
          ],
          [
           "Entire home/apt",
           "Brooklyn"
          ],
          [
           "Private room",
           "Brooklyn"
          ],
          [
           "Private room",
           "Manhattan"
          ],
          [
           "Entire home/apt",
           "Brooklyn"
          ],
          [
           "Entire home/apt",
           "Brooklyn"
          ],
          [
           "Private room",
           "Brooklyn"
          ],
          [
           "Entire home/apt",
           "Brooklyn"
          ],
          [
           "Entire home/apt",
           "Brooklyn"
          ],
          [
           "Entire home/apt",
           "Brooklyn"
          ],
          [
           "Private room",
           "Bronx"
          ],
          [
           "Private room",
           "Brooklyn"
          ],
          [
           "Private room",
           "Queens"
          ],
          [
           "Entire home/apt",
           "Manhattan"
          ],
          [
           "Private room",
           "Manhattan"
          ],
          [
           "Private room",
           "Brooklyn"
          ],
          [
           "Entire home/apt",
           "Manhattan"
          ],
          [
           "Entire home/apt",
           "Manhattan"
          ],
          [
           "Private room",
           "Manhattan"
          ],
          [
           "Entire home/apt",
           "Brooklyn"
          ],
          [
           "Entire home/apt",
           "Manhattan"
          ],
          [
           "Entire home/apt",
           "Brooklyn"
          ],
          [
           "Entire home/apt",
           "Brooklyn"
          ],
          [
           "Entire home/apt",
           "Manhattan"
          ],
          [
           "Private room",
           "Brooklyn"
          ],
          [
           "Private room",
           "Bronx"
          ],
          [
           "Entire home/apt",
           "Manhattan"
          ],
          [
           "Private room",
           "Brooklyn"
          ],
          [
           "Entire home/apt",
           "Manhattan"
          ],
          [
           "Private room",
           "Manhattan"
          ],
          [
           "Entire home/apt",
           "Brooklyn"
          ],
          [
           "Private room",
           "Brooklyn"
          ],
          [
           "Entire home/apt",
           "Brooklyn"
          ],
          [
           "Private room",
           "Queens"
          ],
          [
           "Entire home/apt",
           "Brooklyn"
          ],
          [
           "Entire home/apt",
           "Brooklyn"
          ],
          [
           "Private room",
           "Brooklyn"
          ],
          [
           "Private room",
           "Manhattan"
          ],
          [
           "Private room",
           "Manhattan"
          ],
          [
           "Private room",
           "Brooklyn"
          ],
          [
           "Private room",
           "Queens"
          ],
          [
           "Entire home/apt",
           "Manhattan"
          ],
          [
           "Entire home/apt",
           "Brooklyn"
          ],
          [
           "Entire home/apt",
           "Manhattan"
          ],
          [
           "Entire home/apt",
           "Manhattan"
          ],
          [
           "Private room",
           "Manhattan"
          ],
          [
           "Entire home/apt",
           "Bronx"
          ],
          [
           "Entire home/apt",
           "Manhattan"
          ],
          [
           "Entire home/apt",
           "Brooklyn"
          ],
          [
           "Private room",
           "Brooklyn"
          ],
          [
           "Entire home/apt",
           "Brooklyn"
          ],
          [
           "Entire home/apt",
           "Manhattan"
          ],
          [
           "Entire home/apt",
           "Brooklyn"
          ],
          [
           "Entire home/apt",
           "Queens"
          ],
          [
           "Private room",
           "Manhattan"
          ],
          [
           "Entire home/apt",
           "Brooklyn"
          ],
          [
           "Private room",
           "Brooklyn"
          ],
          [
           "Private room",
           "Brooklyn"
          ],
          [
           "Shared room",
           "Manhattan"
          ],
          [
           "Private room",
           "Brooklyn"
          ],
          [
           "Private room",
           "Brooklyn"
          ],
          [
           "Entire home/apt",
           "Manhattan"
          ],
          [
           "Entire home/apt",
           "Manhattan"
          ],
          [
           "Entire home/apt",
           "Manhattan"
          ],
          [
           "Entire home/apt",
           "Manhattan"
          ],
          [
           "Entire home/apt",
           "Brooklyn"
          ],
          [
           "Entire home/apt",
           "Staten Island"
          ],
          [
           "Entire home/apt",
           "Queens"
          ],
          [
           "Entire home/apt",
           "Brooklyn"
          ],
          [
           "Entire home/apt",
           "Queens"
          ],
          [
           "Private room",
           "Brooklyn"
          ],
          [
           "Entire home/apt",
           "Manhattan"
          ],
          [
           "Private room",
           "Manhattan"
          ],
          [
           "Entire home/apt",
           "Manhattan"
          ],
          [
           "Entire home/apt",
           "Manhattan"
          ],
          [
           "Entire home/apt",
           "Queens"
          ],
          [
           "Private room",
           "Queens"
          ],
          [
           "Entire home/apt",
           "Manhattan"
          ],
          [
           "Private room",
           "Brooklyn"
          ],
          [
           "Entire home/apt",
           "Brooklyn"
          ],
          [
           "Private room",
           "Brooklyn"
          ],
          [
           "Private room",
           "Queens"
          ],
          [
           "Entire home/apt",
           "Brooklyn"
          ],
          [
           "Entire home/apt",
           "Brooklyn"
          ],
          [
           "Private room",
           "Queens"
          ],
          [
           "Entire home/apt",
           "Brooklyn"
          ],
          [
           "Entire home/apt",
           "Manhattan"
          ],
          [
           "Private room",
           "Brooklyn"
          ],
          [
           "Entire home/apt",
           "Manhattan"
          ],
          [
           "Private room",
           "Manhattan"
          ],
          [
           "Private room",
           "Manhattan"
          ],
          [
           "Entire home/apt",
           "Brooklyn"
          ],
          [
           "Private room",
           "Brooklyn"
          ],
          [
           "Private room",
           "Manhattan"
          ],
          [
           "Entire home/apt",
           "Brooklyn"
          ],
          [
           "Entire home/apt",
           "Brooklyn"
          ],
          [
           "Private room",
           "Manhattan"
          ],
          [
           "Entire home/apt",
           "Brooklyn"
          ],
          [
           "Private room",
           "Manhattan"
          ],
          [
           "Entire home/apt",
           "Manhattan"
          ],
          [
           "Private room",
           "Brooklyn"
          ],
          [
           "Entire home/apt",
           "Manhattan"
          ],
          [
           "Entire home/apt",
           "Brooklyn"
          ],
          [
           "Private room",
           "Brooklyn"
          ],
          [
           "Private room",
           "Queens"
          ],
          [
           "Private room",
           "Manhattan"
          ],
          [
           "Private room",
           "Brooklyn"
          ],
          [
           "Entire home/apt",
           "Queens"
          ],
          [
           "Entire home/apt",
           "Manhattan"
          ],
          [
           "Entire home/apt",
           "Queens"
          ],
          [
           "Private room",
           "Queens"
          ],
          [
           "Entire home/apt",
           "Brooklyn"
          ],
          [
           "Private room",
           "Queens"
          ],
          [
           "Private room",
           "Queens"
          ],
          [
           "Private room",
           "Manhattan"
          ],
          [
           "Private room",
           "Brooklyn"
          ],
          [
           "Private room",
           "Brooklyn"
          ],
          [
           "Entire home/apt",
           "Manhattan"
          ],
          [
           "Private room",
           "Brooklyn"
          ],
          [
           "Private room",
           "Brooklyn"
          ],
          [
           "Private room",
           "Manhattan"
          ],
          [
           "Entire home/apt",
           "Brooklyn"
          ],
          [
           "Private room",
           "Brooklyn"
          ],
          [
           "Private room",
           "Manhattan"
          ],
          [
           "Private room",
           "Brooklyn"
          ],
          [
           "Entire home/apt",
           "Brooklyn"
          ],
          [
           "Entire home/apt",
           "Brooklyn"
          ],
          [
           "Entire home/apt",
           "Brooklyn"
          ],
          [
           "Entire home/apt",
           "Brooklyn"
          ],
          [
           "Entire home/apt",
           "Brooklyn"
          ],
          [
           "Entire home/apt",
           "Queens"
          ],
          [
           "Entire home/apt",
           "Manhattan"
          ],
          [
           "Private room",
           "Manhattan"
          ],
          [
           "Entire home/apt",
           "Queens"
          ],
          [
           "Private room",
           "Brooklyn"
          ],
          [
           "Entire home/apt",
           "Brooklyn"
          ],
          [
           "Private room",
           "Manhattan"
          ],
          [
           "Private room",
           "Bronx"
          ],
          [
           "Private room",
           "Brooklyn"
          ],
          [
           "Private room",
           "Manhattan"
          ],
          [
           "Entire home/apt",
           "Brooklyn"
          ],
          [
           "Private room",
           "Manhattan"
          ],
          [
           "Entire home/apt",
           "Brooklyn"
          ],
          [
           "Entire home/apt",
           "Manhattan"
          ],
          [
           "Private room",
           "Manhattan"
          ],
          [
           "Private room",
           "Brooklyn"
          ],
          [
           "Private room",
           "Manhattan"
          ],
          [
           "Entire home/apt",
           "Manhattan"
          ],
          [
           "Private room",
           "Brooklyn"
          ],
          [
           "Entire home/apt",
           "Queens"
          ],
          [
           "Entire home/apt",
           "Manhattan"
          ],
          [
           "Private room",
           "Manhattan"
          ],
          [
           "Entire home/apt",
           "Brooklyn"
          ],
          [
           "Private room",
           "Manhattan"
          ],
          [
           "Entire home/apt",
           "Manhattan"
          ],
          [
           "Entire home/apt",
           "Brooklyn"
          ],
          [
           "Private room",
           "Brooklyn"
          ],
          [
           "Shared room",
           "Manhattan"
          ],
          [
           "Private room",
           "Brooklyn"
          ],
          [
           "Entire home/apt",
           "Queens"
          ],
          [
           "Entire home/apt",
           "Brooklyn"
          ],
          [
           "Private room",
           "Manhattan"
          ],
          [
           "Private room",
           "Manhattan"
          ],
          [
           "Entire home/apt",
           "Manhattan"
          ],
          [
           "Private room",
           "Manhattan"
          ],
          [
           "Private room",
           "Manhattan"
          ],
          [
           "Private room",
           "Brooklyn"
          ],
          [
           "Private room",
           "Brooklyn"
          ],
          [
           "Private room",
           "Manhattan"
          ],
          [
           "Private room",
           "Brooklyn"
          ],
          [
           "Entire home/apt",
           "Brooklyn"
          ],
          [
           "Private room",
           "Brooklyn"
          ],
          [
           "Entire home/apt",
           "Brooklyn"
          ],
          [
           "Private room",
           "Manhattan"
          ],
          [
           "Entire home/apt",
           "Manhattan"
          ],
          [
           "Entire home/apt",
           "Brooklyn"
          ],
          [
           "Entire home/apt",
           "Brooklyn"
          ],
          [
           "Private room",
           "Manhattan"
          ],
          [
           "Entire home/apt",
           "Manhattan"
          ],
          [
           "Private room",
           "Manhattan"
          ],
          [
           "Private room",
           "Brooklyn"
          ],
          [
           "Private room",
           "Manhattan"
          ],
          [
           "Entire home/apt",
           "Brooklyn"
          ],
          [
           "Private room",
           "Brooklyn"
          ],
          [
           "Private room",
           "Manhattan"
          ],
          [
           "Entire home/apt",
           "Queens"
          ],
          [
           "Private room",
           "Manhattan"
          ],
          [
           "Private room",
           "Brooklyn"
          ],
          [
           "Private room",
           "Brooklyn"
          ],
          [
           "Entire home/apt",
           "Manhattan"
          ],
          [
           "Private room",
           "Brooklyn"
          ],
          [
           "Entire home/apt",
           "Manhattan"
          ],
          [
           "Entire home/apt",
           "Manhattan"
          ],
          [
           "Private room",
           "Manhattan"
          ],
          [
           "Entire home/apt",
           "Manhattan"
          ],
          [
           "Entire home/apt",
           "Manhattan"
          ],
          [
           "Entire home/apt",
           "Brooklyn"
          ],
          [
           "Private room",
           "Manhattan"
          ],
          [
           "Private room",
           "Brooklyn"
          ],
          [
           "Entire home/apt",
           "Brooklyn"
          ],
          [
           "Entire home/apt",
           "Brooklyn"
          ],
          [
           "Private room",
           "Brooklyn"
          ],
          [
           "Entire home/apt",
           "Manhattan"
          ],
          [
           "Private room",
           "Brooklyn"
          ],
          [
           "Private room",
           "Brooklyn"
          ],
          [
           "Private room",
           "Manhattan"
          ],
          [
           "Entire home/apt",
           "Brooklyn"
          ],
          [
           "Entire home/apt",
           "Manhattan"
          ],
          [
           "Private room",
           "Brooklyn"
          ],
          [
           "Entire home/apt",
           "Manhattan"
          ],
          [
           "Entire home/apt",
           "Brooklyn"
          ],
          [
           "Private room",
           "Manhattan"
          ],
          [
           "Private room",
           "Brooklyn"
          ],
          [
           "Entire home/apt",
           "Manhattan"
          ],
          [
           "Private room",
           "Brooklyn"
          ],
          [
           "Entire home/apt",
           "Manhattan"
          ],
          [
           "Entire home/apt",
           "Brooklyn"
          ],
          [
           "Entire home/apt",
           "Manhattan"
          ],
          [
           "Entire home/apt",
           "Manhattan"
          ],
          [
           "Private room",
           "Brooklyn"
          ],
          [
           "Entire home/apt",
           "Brooklyn"
          ],
          [
           "Entire home/apt",
           "Manhattan"
          ],
          [
           "Entire home/apt",
           "Brooklyn"
          ],
          [
           "Entire home/apt",
           "Brooklyn"
          ],
          [
           "Entire home/apt",
           "Brooklyn"
          ],
          [
           "Entire home/apt",
           "Manhattan"
          ],
          [
           "Entire home/apt",
           "Brooklyn"
          ],
          [
           "Private room",
           "Brooklyn"
          ],
          [
           "Private room",
           "Manhattan"
          ],
          [
           "Private room",
           "Queens"
          ],
          [
           "Entire home/apt",
           "Brooklyn"
          ],
          [
           "Private room",
           "Manhattan"
          ],
          [
           "Entire home/apt",
           "Manhattan"
          ],
          [
           "Entire home/apt",
           "Manhattan"
          ],
          [
           "Private room",
           "Manhattan"
          ],
          [
           "Entire home/apt",
           "Manhattan"
          ],
          [
           "Private room",
           "Brooklyn"
          ],
          [
           "Private room",
           "Bronx"
          ],
          [
           "Private room",
           "Manhattan"
          ],
          [
           "Private room",
           "Queens"
          ],
          [
           "Entire home/apt",
           "Manhattan"
          ],
          [
           "Private room",
           "Manhattan"
          ],
          [
           "Private room",
           "Queens"
          ],
          [
           "Entire home/apt",
           "Brooklyn"
          ],
          [
           "Private room",
           "Brooklyn"
          ],
          [
           "Entire home/apt",
           "Brooklyn"
          ],
          [
           "Private room",
           "Manhattan"
          ],
          [
           "Shared room",
           "Manhattan"
          ],
          [
           "Entire home/apt",
           "Manhattan"
          ],
          [
           "Private room",
           "Manhattan"
          ],
          [
           "Private room",
           "Manhattan"
          ],
          [
           "Private room",
           "Brooklyn"
          ],
          [
           "Entire home/apt",
           "Brooklyn"
          ],
          [
           "Private room",
           "Brooklyn"
          ],
          [
           "Entire home/apt",
           "Manhattan"
          ],
          [
           "Private room",
           "Manhattan"
          ],
          [
           "Entire home/apt",
           "Brooklyn"
          ],
          [
           "Entire home/apt",
           "Manhattan"
          ],
          [
           "Private room",
           "Queens"
          ],
          [
           "Entire home/apt",
           "Manhattan"
          ],
          [
           "Entire home/apt",
           "Brooklyn"
          ],
          [
           "Private room",
           "Manhattan"
          ],
          [
           "Private room",
           "Queens"
          ],
          [
           "Entire home/apt",
           "Manhattan"
          ],
          [
           "Private room",
           "Manhattan"
          ],
          [
           "Entire home/apt",
           "Manhattan"
          ],
          [
           "Entire home/apt",
           "Brooklyn"
          ],
          [
           "Entire home/apt",
           "Brooklyn"
          ],
          [
           "Private room",
           "Manhattan"
          ],
          [
           "Private room",
           "Queens"
          ],
          [
           "Private room",
           "Queens"
          ],
          [
           "Entire home/apt",
           "Queens"
          ],
          [
           "Entire home/apt",
           "Manhattan"
          ],
          [
           "Private room",
           "Manhattan"
          ],
          [
           "Private room",
           "Manhattan"
          ],
          [
           "Private room",
           "Brooklyn"
          ],
          [
           "Entire home/apt",
           "Manhattan"
          ],
          [
           "Private room",
           "Brooklyn"
          ],
          [
           "Entire home/apt",
           "Manhattan"
          ],
          [
           "Entire home/apt",
           "Brooklyn"
          ],
          [
           "Private room",
           "Manhattan"
          ],
          [
           "Entire home/apt",
           "Brooklyn"
          ],
          [
           "Private room",
           "Brooklyn"
          ],
          [
           "Entire home/apt",
           "Brooklyn"
          ],
          [
           "Private room",
           "Queens"
          ],
          [
           "Private room",
           "Manhattan"
          ],
          [
           "Private room",
           "Brooklyn"
          ],
          [
           "Private room",
           "Manhattan"
          ],
          [
           "Private room",
           "Manhattan"
          ],
          [
           "Private room",
           "Manhattan"
          ],
          [
           "Private room",
           "Manhattan"
          ],
          [
           "Private room",
           "Brooklyn"
          ],
          [
           "Private room",
           "Brooklyn"
          ],
          [
           "Private room",
           "Manhattan"
          ],
          [
           "Entire home/apt",
           "Brooklyn"
          ],
          [
           "Private room",
           "Brooklyn"
          ],
          [
           "Private room",
           "Queens"
          ],
          [
           "Entire home/apt",
           "Brooklyn"
          ],
          [
           "Entire home/apt",
           "Queens"
          ],
          [
           "Entire home/apt",
           "Brooklyn"
          ],
          [
           "Entire home/apt",
           "Queens"
          ],
          [
           "Private room",
           "Brooklyn"
          ],
          [
           "Private room",
           "Bronx"
          ],
          [
           "Private room",
           "Brooklyn"
          ],
          [
           "Entire home/apt",
           "Brooklyn"
          ],
          [
           "Entire home/apt",
           "Brooklyn"
          ],
          [
           "Entire home/apt",
           "Brooklyn"
          ],
          [
           "Entire home/apt",
           "Manhattan"
          ],
          [
           "Entire home/apt",
           "Brooklyn"
          ],
          [
           "Private room",
           "Brooklyn"
          ],
          [
           "Private room",
           "Brooklyn"
          ],
          [
           "Entire home/apt",
           "Manhattan"
          ],
          [
           "Private room",
           "Queens"
          ],
          [
           "Private room",
           "Brooklyn"
          ],
          [
           "Private room",
           "Queens"
          ],
          [
           "Shared room",
           "Manhattan"
          ],
          [
           "Entire home/apt",
           "Brooklyn"
          ],
          [
           "Entire home/apt",
           "Brooklyn"
          ],
          [
           "Entire home/apt",
           "Manhattan"
          ],
          [
           "Private room",
           "Bronx"
          ],
          [
           "Entire home/apt",
           "Manhattan"
          ],
          [
           "Entire home/apt",
           "Manhattan"
          ],
          [
           "Private room",
           "Manhattan"
          ],
          [
           "Entire home/apt",
           "Queens"
          ],
          [
           "Entire home/apt",
           "Manhattan"
          ],
          [
           "Private room",
           "Manhattan"
          ],
          [
           "Entire home/apt",
           "Brooklyn"
          ],
          [
           "Entire home/apt",
           "Manhattan"
          ],
          [
           "Private room",
           "Brooklyn"
          ],
          [
           "Private room",
           "Manhattan"
          ],
          [
           "Entire home/apt",
           "Manhattan"
          ],
          [
           "Entire home/apt",
           "Manhattan"
          ],
          [
           "Entire home/apt",
           "Brooklyn"
          ],
          [
           "Private room",
           "Manhattan"
          ],
          [
           "Private room",
           "Manhattan"
          ],
          [
           "Private room",
           "Queens"
          ],
          [
           "Shared room",
           "Brooklyn"
          ],
          [
           "Private room",
           "Queens"
          ],
          [
           "Private room",
           "Manhattan"
          ],
          [
           "Private room",
           "Manhattan"
          ],
          [
           "Private room",
           "Manhattan"
          ],
          [
           "Entire home/apt",
           "Manhattan"
          ],
          [
           "Entire home/apt",
           "Brooklyn"
          ],
          [
           "Entire home/apt",
           "Manhattan"
          ],
          [
           "Private room",
           "Brooklyn"
          ],
          [
           "Private room",
           "Brooklyn"
          ],
          [
           "Entire home/apt",
           "Manhattan"
          ],
          [
           "Entire home/apt",
           "Brooklyn"
          ],
          [
           "Entire home/apt",
           "Brooklyn"
          ],
          [
           "Private room",
           "Manhattan"
          ],
          [
           "Private room",
           "Brooklyn"
          ],
          [
           "Entire home/apt",
           "Brooklyn"
          ],
          [
           "Private room",
           "Bronx"
          ],
          [
           "Entire home/apt",
           "Manhattan"
          ],
          [
           "Entire home/apt",
           "Brooklyn"
          ],
          [
           "Entire home/apt",
           "Manhattan"
          ],
          [
           "Entire home/apt",
           "Queens"
          ],
          [
           "Entire home/apt",
           "Brooklyn"
          ],
          [
           "Private room",
           "Manhattan"
          ],
          [
           "Private room",
           "Brooklyn"
          ],
          [
           "Private room",
           "Manhattan"
          ],
          [
           "Entire home/apt",
           "Manhattan"
          ],
          [
           "Shared room",
           "Manhattan"
          ],
          [
           "Entire home/apt",
           "Manhattan"
          ],
          [
           "Entire home/apt",
           "Queens"
          ],
          [
           "Private room",
           "Manhattan"
          ],
          [
           "Shared room",
           "Manhattan"
          ],
          [
           "Entire home/apt",
           "Manhattan"
          ],
          [
           "Private room",
           "Brooklyn"
          ],
          [
           "Private room",
           "Manhattan"
          ],
          [
           "Private room",
           "Brooklyn"
          ],
          [
           "Entire home/apt",
           "Brooklyn"
          ],
          [
           "Shared room",
           "Brooklyn"
          ],
          [
           "Private room",
           "Manhattan"
          ],
          [
           "Entire home/apt",
           "Manhattan"
          ],
          [
           "Entire home/apt",
           "Queens"
          ],
          [
           "Entire home/apt",
           "Brooklyn"
          ],
          [
           "Private room",
           "Brooklyn"
          ],
          [
           "Private room",
           "Brooklyn"
          ],
          [
           "Private room",
           "Manhattan"
          ],
          [
           "Private room",
           "Manhattan"
          ],
          [
           "Entire home/apt",
           "Brooklyn"
          ],
          [
           "Entire home/apt",
           "Manhattan"
          ],
          [
           "Entire home/apt",
           "Brooklyn"
          ],
          [
           "Entire home/apt",
           "Brooklyn"
          ],
          [
           "Entire home/apt",
           "Brooklyn"
          ],
          [
           "Entire home/apt",
           "Manhattan"
          ],
          [
           "Private room",
           "Queens"
          ],
          [
           "Entire home/apt",
           "Brooklyn"
          ],
          [
           "Private room",
           "Queens"
          ],
          [
           "Private room",
           "Brooklyn"
          ],
          [
           "Private room",
           "Brooklyn"
          ],
          [
           "Private room",
           "Manhattan"
          ],
          [
           "Private room",
           "Bronx"
          ],
          [
           "Private room",
           "Manhattan"
          ],
          [
           "Entire home/apt",
           "Brooklyn"
          ],
          [
           "Entire home/apt",
           "Manhattan"
          ],
          [
           "Entire home/apt",
           "Manhattan"
          ],
          [
           "Entire home/apt",
           "Brooklyn"
          ],
          [
           "Entire home/apt",
           "Manhattan"
          ],
          [
           "Private room",
           "Manhattan"
          ],
          [
           "Private room",
           "Manhattan"
          ],
          [
           "Private room",
           "Manhattan"
          ],
          [
           "Entire home/apt",
           "Manhattan"
          ],
          [
           "Entire home/apt",
           "Manhattan"
          ],
          [
           "Private room",
           "Manhattan"
          ],
          [
           "Entire home/apt",
           "Manhattan"
          ],
          [
           "Private room",
           "Queens"
          ],
          [
           "Entire home/apt",
           "Brooklyn"
          ],
          [
           "Entire home/apt",
           "Manhattan"
          ],
          [
           "Entire home/apt",
           "Manhattan"
          ],
          [
           "Entire home/apt",
           "Manhattan"
          ],
          [
           "Entire home/apt",
           "Manhattan"
          ],
          [
           "Entire home/apt",
           "Brooklyn"
          ],
          [
           "Private room",
           "Manhattan"
          ],
          [
           "Private room",
           "Brooklyn"
          ],
          [
           "Entire home/apt",
           "Queens"
          ],
          [
           "Entire home/apt",
           "Manhattan"
          ],
          [
           "Entire home/apt",
           "Manhattan"
          ],
          [
           "Private room",
           "Brooklyn"
          ],
          [
           "Private room",
           "Brooklyn"
          ],
          [
           "Private room",
           "Brooklyn"
          ],
          [
           "Private room",
           "Brooklyn"
          ],
          [
           "Entire home/apt",
           "Brooklyn"
          ],
          [
           "Private room",
           "Brooklyn"
          ],
          [
           "Entire home/apt",
           "Manhattan"
          ],
          [
           "Private room",
           "Brooklyn"
          ],
          [
           "Private room",
           "Brooklyn"
          ],
          [
           "Entire home/apt",
           "Manhattan"
          ],
          [
           "Entire home/apt",
           "Brooklyn"
          ],
          [
           "Entire home/apt",
           "Brooklyn"
          ],
          [
           "Entire home/apt",
           "Manhattan"
          ],
          [
           "Private room",
           "Queens"
          ],
          [
           "Entire home/apt",
           "Manhattan"
          ],
          [
           "Private room",
           "Manhattan"
          ],
          [
           "Entire home/apt",
           "Manhattan"
          ],
          [
           "Entire home/apt",
           "Brooklyn"
          ],
          [
           "Private room",
           "Brooklyn"
          ],
          [
           "Entire home/apt",
           "Brooklyn"
          ],
          [
           "Private room",
           "Bronx"
          ],
          [
           "Entire home/apt",
           "Manhattan"
          ],
          [
           "Private room",
           "Manhattan"
          ],
          [
           "Private room",
           "Queens"
          ],
          [
           "Private room",
           "Brooklyn"
          ],
          [
           "Entire home/apt",
           "Brooklyn"
          ],
          [
           "Shared room",
           "Brooklyn"
          ],
          [
           "Private room",
           "Manhattan"
          ],
          [
           "Entire home/apt",
           "Brooklyn"
          ],
          [
           "Private room",
           "Manhattan"
          ],
          [
           "Private room",
           "Brooklyn"
          ],
          [
           "Entire home/apt",
           "Brooklyn"
          ],
          [
           "Private room",
           "Manhattan"
          ],
          [
           "Entire home/apt",
           "Queens"
          ],
          [
           "Private room",
           "Manhattan"
          ],
          [
           "Private room",
           "Manhattan"
          ],
          [
           "Private room",
           "Queens"
          ],
          [
           "Entire home/apt",
           "Manhattan"
          ],
          [
           "Private room",
           "Brooklyn"
          ],
          [
           "Private room",
           "Manhattan"
          ],
          [
           "Entire home/apt",
           "Manhattan"
          ],
          [
           "Entire home/apt",
           "Brooklyn"
          ],
          [
           "Private room",
           "Manhattan"
          ],
          [
           "Entire home/apt",
           "Manhattan"
          ],
          [
           "Entire home/apt",
           "Brooklyn"
          ],
          [
           "Entire home/apt",
           "Brooklyn"
          ],
          [
           "Private room",
           "Brooklyn"
          ],
          [
           "Entire home/apt",
           "Brooklyn"
          ],
          [
           "Entire home/apt",
           "Brooklyn"
          ],
          [
           "Entire home/apt",
           "Manhattan"
          ],
          [
           "Private room",
           "Brooklyn"
          ],
          [
           "Entire home/apt",
           "Queens"
          ],
          [
           "Entire home/apt",
           "Manhattan"
          ],
          [
           "Private room",
           "Manhattan"
          ],
          [
           "Entire home/apt",
           "Manhattan"
          ],
          [
           "Entire home/apt",
           "Manhattan"
          ],
          [
           "Entire home/apt",
           "Manhattan"
          ],
          [
           "Private room",
           "Brooklyn"
          ],
          [
           "Entire home/apt",
           "Brooklyn"
          ],
          [
           "Private room",
           "Queens"
          ],
          [
           "Private room",
           "Queens"
          ],
          [
           "Private room",
           "Brooklyn"
          ],
          [
           "Private room",
           "Brooklyn"
          ],
          [
           "Private room",
           "Manhattan"
          ],
          [
           "Private room",
           "Manhattan"
          ],
          [
           "Private room",
           "Brooklyn"
          ],
          [
           "Entire home/apt",
           "Manhattan"
          ],
          [
           "Entire home/apt",
           "Brooklyn"
          ],
          [
           "Entire home/apt",
           "Brooklyn"
          ],
          [
           "Entire home/apt",
           "Queens"
          ],
          [
           "Entire home/apt",
           "Manhattan"
          ],
          [
           "Entire home/apt",
           "Manhattan"
          ],
          [
           "Private room",
           "Manhattan"
          ],
          [
           "Private room",
           "Manhattan"
          ],
          [
           "Entire home/apt",
           "Brooklyn"
          ],
          [
           "Shared room",
           "Manhattan"
          ],
          [
           "Entire home/apt",
           "Manhattan"
          ],
          [
           "Private room",
           "Manhattan"
          ],
          [
           "Entire home/apt",
           "Manhattan"
          ],
          [
           "Entire home/apt",
           "Brooklyn"
          ],
          [
           "Entire home/apt",
           "Brooklyn"
          ],
          [
           "Private room",
           "Brooklyn"
          ],
          [
           "Private room",
           "Manhattan"
          ],
          [
           "Private room",
           "Queens"
          ],
          [
           "Entire home/apt",
           "Manhattan"
          ],
          [
           "Entire home/apt",
           "Brooklyn"
          ],
          [
           "Entire home/apt",
           "Brooklyn"
          ],
          [
           "Private room",
           "Brooklyn"
          ],
          [
           "Entire home/apt",
           "Brooklyn"
          ],
          [
           "Private room",
           "Manhattan"
          ],
          [
           "Entire home/apt",
           "Manhattan"
          ],
          [
           "Private room",
           "Brooklyn"
          ],
          [
           "Private room",
           "Brooklyn"
          ],
          [
           "Entire home/apt",
           "Brooklyn"
          ],
          [
           "Private room",
           "Manhattan"
          ],
          [
           "Private room",
           "Brooklyn"
          ],
          [
           "Private room",
           "Queens"
          ],
          [
           "Entire home/apt",
           "Manhattan"
          ],
          [
           "Entire home/apt",
           "Brooklyn"
          ],
          [
           "Entire home/apt",
           "Brooklyn"
          ],
          [
           "Entire home/apt",
           "Manhattan"
          ],
          [
           "Private room",
           "Brooklyn"
          ],
          [
           "Private room",
           "Brooklyn"
          ],
          [
           "Entire home/apt",
           "Queens"
          ],
          [
           "Entire home/apt",
           "Manhattan"
          ],
          [
           "Private room",
           "Brooklyn"
          ],
          [
           "Entire home/apt",
           "Manhattan"
          ],
          [
           "Private room",
           "Manhattan"
          ],
          [
           "Entire home/apt",
           "Brooklyn"
          ],
          [
           "Entire home/apt",
           "Bronx"
          ],
          [
           "Entire home/apt",
           "Brooklyn"
          ],
          [
           "Entire home/apt",
           "Brooklyn"
          ],
          [
           "Entire home/apt",
           "Brooklyn"
          ],
          [
           "Private room",
           "Queens"
          ],
          [
           "Private room",
           "Queens"
          ],
          [
           "Private room",
           "Brooklyn"
          ],
          [
           "Private room",
           "Brooklyn"
          ],
          [
           "Entire home/apt",
           "Brooklyn"
          ],
          [
           "Private room",
           "Manhattan"
          ],
          [
           "Private room",
           "Queens"
          ],
          [
           "Entire home/apt",
           "Manhattan"
          ],
          [
           "Entire home/apt",
           "Brooklyn"
          ],
          [
           "Private room",
           "Brooklyn"
          ],
          [
           "Private room",
           "Brooklyn"
          ],
          [
           "Entire home/apt",
           "Brooklyn"
          ],
          [
           "Private room",
           "Manhattan"
          ],
          [
           "Entire home/apt",
           "Manhattan"
          ],
          [
           "Private room",
           "Queens"
          ],
          [
           "Entire home/apt",
           "Brooklyn"
          ],
          [
           "Private room",
           "Manhattan"
          ],
          [
           "Entire home/apt",
           "Brooklyn"
          ],
          [
           "Entire home/apt",
           "Brooklyn"
          ],
          [
           "Entire home/apt",
           "Manhattan"
          ],
          [
           "Entire home/apt",
           "Brooklyn"
          ],
          [
           "Entire home/apt",
           "Manhattan"
          ],
          [
           "Private room",
           "Manhattan"
          ],
          [
           "Private room",
           "Brooklyn"
          ],
          [
           "Private room",
           "Manhattan"
          ],
          [
           "Private room",
           "Brooklyn"
          ],
          [
           "Entire home/apt",
           "Manhattan"
          ],
          [
           "Entire home/apt",
           "Brooklyn"
          ],
          [
           "Entire home/apt",
           "Manhattan"
          ],
          [
           "Entire home/apt",
           "Queens"
          ],
          [
           "Entire home/apt",
           "Brooklyn"
          ],
          [
           "Entire home/apt",
           "Manhattan"
          ],
          [
           "Private room",
           "Manhattan"
          ],
          [
           "Entire home/apt",
           "Manhattan"
          ],
          [
           "Private room",
           "Brooklyn"
          ],
          [
           "Entire home/apt",
           "Manhattan"
          ],
          [
           "Private room",
           "Brooklyn"
          ],
          [
           "Entire home/apt",
           "Manhattan"
          ],
          [
           "Entire home/apt",
           "Brooklyn"
          ],
          [
           "Entire home/apt",
           "Manhattan"
          ],
          [
           "Private room",
           "Brooklyn"
          ],
          [
           "Private room",
           "Brooklyn"
          ],
          [
           "Entire home/apt",
           "Manhattan"
          ],
          [
           "Private room",
           "Queens"
          ],
          [
           "Entire home/apt",
           "Brooklyn"
          ],
          [
           "Entire home/apt",
           "Manhattan"
          ],
          [
           "Private room",
           "Manhattan"
          ],
          [
           "Entire home/apt",
           "Manhattan"
          ],
          [
           "Private room",
           "Manhattan"
          ],
          [
           "Entire home/apt",
           "Manhattan"
          ],
          [
           "Private room",
           "Brooklyn"
          ],
          [
           "Private room",
           "Queens"
          ],
          [
           "Private room",
           "Manhattan"
          ],
          [
           "Entire home/apt",
           "Manhattan"
          ],
          [
           "Entire home/apt",
           "Brooklyn"
          ],
          [
           "Private room",
           "Manhattan"
          ],
          [
           "Private room",
           "Manhattan"
          ],
          [
           "Entire home/apt",
           "Manhattan"
          ],
          [
           "Entire home/apt",
           "Manhattan"
          ],
          [
           "Entire home/apt",
           "Manhattan"
          ],
          [
           "Entire home/apt",
           "Queens"
          ],
          [
           "Private room",
           "Queens"
          ],
          [
           "Private room",
           "Queens"
          ],
          [
           "Entire home/apt",
           "Manhattan"
          ],
          [
           "Entire home/apt",
           "Manhattan"
          ],
          [
           "Entire home/apt",
           "Brooklyn"
          ],
          [
           "Private room",
           "Manhattan"
          ],
          [
           "Private room",
           "Bronx"
          ],
          [
           "Private room",
           "Queens"
          ],
          [
           "Private room",
           "Brooklyn"
          ],
          [
           "Entire home/apt",
           "Brooklyn"
          ],
          [
           "Entire home/apt",
           "Brooklyn"
          ],
          [
           "Entire home/apt",
           "Manhattan"
          ],
          [
           "Private room",
           "Manhattan"
          ],
          [
           "Entire home/apt",
           "Manhattan"
          ],
          [
           "Private room",
           "Manhattan"
          ],
          [
           "Entire home/apt",
           "Brooklyn"
          ],
          [
           "Entire home/apt",
           "Manhattan"
          ],
          [
           "Entire home/apt",
           "Brooklyn"
          ],
          [
           "Private room",
           "Brooklyn"
          ],
          [
           "Entire home/apt",
           "Queens"
          ],
          [
           "Private room",
           "Manhattan"
          ],
          [
           "Private room",
           "Queens"
          ],
          [
           "Private room",
           "Queens"
          ],
          [
           "Private room",
           "Brooklyn"
          ],
          [
           "Private room",
           "Brooklyn"
          ],
          [
           "Entire home/apt",
           "Bronx"
          ],
          [
           "Private room",
           "Brooklyn"
          ],
          [
           "Entire home/apt",
           "Manhattan"
          ],
          [
           "Entire home/apt",
           "Queens"
          ],
          [
           "Entire home/apt",
           "Manhattan"
          ],
          [
           "Private room",
           "Manhattan"
          ],
          [
           "Private room",
           "Queens"
          ],
          [
           "Shared room",
           "Brooklyn"
          ],
          [
           "Private room",
           "Bronx"
          ],
          [
           "Entire home/apt",
           "Brooklyn"
          ],
          [
           "Private room",
           "Brooklyn"
          ],
          [
           "Private room",
           "Manhattan"
          ],
          [
           "Private room",
           "Brooklyn"
          ],
          [
           "Entire home/apt",
           "Brooklyn"
          ],
          [
           "Private room",
           "Manhattan"
          ],
          [
           "Private room",
           "Brooklyn"
          ],
          [
           "Entire home/apt",
           "Brooklyn"
          ],
          [
           "Entire home/apt",
           "Manhattan"
          ],
          [
           "Private room",
           "Brooklyn"
          ],
          [
           "Private room",
           "Brooklyn"
          ],
          [
           "Entire home/apt",
           "Brooklyn"
          ],
          [
           "Private room",
           "Manhattan"
          ],
          [
           "Private room",
           "Manhattan"
          ],
          [
           "Entire home/apt",
           "Manhattan"
          ],
          [
           "Private room",
           "Queens"
          ],
          [
           "Entire home/apt",
           "Manhattan"
          ],
          [
           "Entire home/apt",
           "Brooklyn"
          ],
          [
           "Entire home/apt",
           "Manhattan"
          ],
          [
           "Entire home/apt",
           "Brooklyn"
          ],
          [
           "Entire home/apt",
           "Manhattan"
          ],
          [
           "Private room",
           "Brooklyn"
          ],
          [
           "Private room",
           "Brooklyn"
          ],
          [
           "Private room",
           "Brooklyn"
          ],
          [
           "Entire home/apt",
           "Manhattan"
          ],
          [
           "Entire home/apt",
           "Staten Island"
          ],
          [
           "Private room",
           "Manhattan"
          ],
          [
           "Private room",
           "Manhattan"
          ],
          [
           "Entire home/apt",
           "Manhattan"
          ],
          [
           "Private room",
           "Manhattan"
          ],
          [
           "Private room",
           "Brooklyn"
          ],
          [
           "Private room",
           "Brooklyn"
          ],
          [
           "Entire home/apt",
           "Brooklyn"
          ],
          [
           "Entire home/apt",
           "Manhattan"
          ],
          [
           "Private room",
           "Manhattan"
          ],
          [
           "Private room",
           "Queens"
          ],
          [
           "Private room",
           "Brooklyn"
          ],
          [
           "Private room",
           "Brooklyn"
          ],
          [
           "Private room",
           "Brooklyn"
          ],
          [
           "Entire home/apt",
           "Brooklyn"
          ],
          [
           "Entire home/apt",
           "Brooklyn"
          ],
          [
           "Private room",
           "Brooklyn"
          ],
          [
           "Private room",
           "Brooklyn"
          ],
          [
           "Entire home/apt",
           "Manhattan"
          ],
          [
           "Private room",
           "Manhattan"
          ],
          [
           "Private room",
           "Manhattan"
          ],
          [
           "Private room",
           "Bronx"
          ],
          [
           "Entire home/apt",
           "Manhattan"
          ],
          [
           "Private room",
           "Brooklyn"
          ],
          [
           "Entire home/apt",
           "Manhattan"
          ],
          [
           "Entire home/apt",
           "Manhattan"
          ],
          [
           "Private room",
           "Brooklyn"
          ],
          [
           "Entire home/apt",
           "Brooklyn"
          ],
          [
           "Private room",
           "Brooklyn"
          ],
          [
           "Entire home/apt",
           "Manhattan"
          ],
          [
           "Private room",
           "Manhattan"
          ],
          [
           "Private room",
           "Brooklyn"
          ],
          [
           "Entire home/apt",
           "Manhattan"
          ],
          [
           "Entire home/apt",
           "Brooklyn"
          ],
          [
           "Entire home/apt",
           "Manhattan"
          ],
          [
           "Private room",
           "Manhattan"
          ],
          [
           "Private room",
           "Brooklyn"
          ],
          [
           "Entire home/apt",
           "Manhattan"
          ],
          [
           "Entire home/apt",
           "Manhattan"
          ],
          [
           "Private room",
           "Queens"
          ],
          [
           "Entire home/apt",
           "Brooklyn"
          ],
          [
           "Private room",
           "Manhattan"
          ],
          [
           "Entire home/apt",
           "Queens"
          ],
          [
           "Private room",
           "Brooklyn"
          ],
          [
           "Private room",
           "Brooklyn"
          ],
          [
           "Private room",
           "Brooklyn"
          ],
          [
           "Entire home/apt",
           "Queens"
          ],
          [
           "Entire home/apt",
           "Queens"
          ],
          [
           "Private room",
           "Manhattan"
          ],
          [
           "Private room",
           "Manhattan"
          ],
          [
           "Private room",
           "Brooklyn"
          ],
          [
           "Entire home/apt",
           "Manhattan"
          ],
          [
           "Entire home/apt",
           "Manhattan"
          ],
          [
           "Private room",
           "Manhattan"
          ],
          [
           "Private room",
           "Brooklyn"
          ],
          [
           "Private room",
           "Manhattan"
          ],
          [
           "Entire home/apt",
           "Manhattan"
          ],
          [
           "Shared room",
           "Manhattan"
          ],
          [
           "Entire home/apt",
           "Brooklyn"
          ],
          [
           "Entire home/apt",
           "Manhattan"
          ],
          [
           "Entire home/apt",
           "Manhattan"
          ],
          [
           "Entire home/apt",
           "Manhattan"
          ],
          [
           "Entire home/apt",
           "Brooklyn"
          ],
          [
           "Private room",
           "Brooklyn"
          ],
          [
           "Private room",
           "Manhattan"
          ],
          [
           "Private room",
           "Manhattan"
          ],
          [
           "Private room",
           "Brooklyn"
          ],
          [
           "Private room",
           "Brooklyn"
          ],
          [
           "Entire home/apt",
           "Manhattan"
          ],
          [
           "Private room",
           "Brooklyn"
          ],
          [
           "Private room",
           "Manhattan"
          ],
          [
           "Entire home/apt",
           "Brooklyn"
          ],
          [
           "Entire home/apt",
           "Brooklyn"
          ],
          [
           "Entire home/apt",
           "Manhattan"
          ],
          [
           "Private room",
           "Brooklyn"
          ],
          [
           "Private room",
           "Brooklyn"
          ],
          [
           "Entire home/apt",
           "Brooklyn"
          ],
          [
           "Entire home/apt",
           "Manhattan"
          ],
          [
           "Private room",
           "Brooklyn"
          ],
          [
           "Private room",
           "Brooklyn"
          ],
          [
           "Entire home/apt",
           "Brooklyn"
          ],
          [
           "Private room",
           "Brooklyn"
          ],
          [
           "Private room",
           "Brooklyn"
          ],
          [
           "Entire home/apt",
           "Manhattan"
          ],
          [
           "Entire home/apt",
           "Manhattan"
          ],
          [
           "Private room",
           "Brooklyn"
          ],
          [
           "Entire home/apt",
           "Brooklyn"
          ],
          [
           "Private room",
           "Brooklyn"
          ],
          [
           "Entire home/apt",
           "Manhattan"
          ],
          [
           "Entire home/apt",
           "Manhattan"
          ],
          [
           "Shared room",
           "Brooklyn"
          ],
          [
           "Private room",
           "Brooklyn"
          ],
          [
           "Private room",
           "Brooklyn"
          ],
          [
           "Private room",
           "Manhattan"
          ],
          [
           "Entire home/apt",
           "Brooklyn"
          ],
          [
           "Entire home/apt",
           "Brooklyn"
          ],
          [
           "Private room",
           "Queens"
          ],
          [
           "Entire home/apt",
           "Brooklyn"
          ],
          [
           "Private room",
           "Bronx"
          ],
          [
           "Private room",
           "Manhattan"
          ],
          [
           "Private room",
           "Brooklyn"
          ],
          [
           "Entire home/apt",
           "Brooklyn"
          ],
          [
           "Entire home/apt",
           "Brooklyn"
          ],
          [
           "Entire home/apt",
           "Brooklyn"
          ],
          [
           "Entire home/apt",
           "Manhattan"
          ],
          [
           "Private room",
           "Queens"
          ],
          [
           "Private room",
           "Manhattan"
          ],
          [
           "Private room",
           "Brooklyn"
          ],
          [
           "Private room",
           "Queens"
          ],
          [
           "Private room",
           "Manhattan"
          ],
          [
           "Entire home/apt",
           "Manhattan"
          ],
          [
           "Entire home/apt",
           "Brooklyn"
          ],
          [
           "Private room",
           "Brooklyn"
          ],
          [
           "Private room",
           "Queens"
          ],
          [
           "Private room",
           "Queens"
          ],
          [
           "Entire home/apt",
           "Manhattan"
          ],
          [
           "Entire home/apt",
           "Manhattan"
          ],
          [
           "Private room",
           "Manhattan"
          ],
          [
           "Private room",
           "Queens"
          ],
          [
           "Private room",
           "Brooklyn"
          ],
          [
           "Entire home/apt",
           "Manhattan"
          ],
          [
           "Private room",
           "Queens"
          ],
          [
           "Entire home/apt",
           "Manhattan"
          ],
          [
           "Entire home/apt",
           "Queens"
          ],
          [
           "Entire home/apt",
           "Brooklyn"
          ],
          [
           "Entire home/apt",
           "Manhattan"
          ],
          [
           "Private room",
           "Manhattan"
          ],
          [
           "Entire home/apt",
           "Brooklyn"
          ],
          [
           "Entire home/apt",
           "Brooklyn"
          ],
          [
           "Entire home/apt",
           "Manhattan"
          ],
          [
           "Entire home/apt",
           "Brooklyn"
          ],
          [
           "Private room",
           "Brooklyn"
          ],
          [
           "Private room",
           "Brooklyn"
          ],
          [
           "Entire home/apt",
           "Bronx"
          ],
          [
           "Private room",
           "Queens"
          ],
          [
           "Private room",
           "Brooklyn"
          ],
          [
           "Private room",
           "Brooklyn"
          ],
          [
           "Private room",
           "Manhattan"
          ],
          [
           "Entire home/apt",
           "Manhattan"
          ],
          [
           "Entire home/apt",
           "Brooklyn"
          ],
          [
           "Entire home/apt",
           "Manhattan"
          ],
          [
           "Entire home/apt",
           "Manhattan"
          ],
          [
           "Private room",
           "Bronx"
          ],
          [
           "Private room",
           "Queens"
          ],
          [
           "Entire home/apt",
           "Brooklyn"
          ],
          [
           "Private room",
           "Manhattan"
          ],
          [
           "Entire home/apt",
           "Brooklyn"
          ],
          [
           "Entire home/apt",
           "Queens"
          ],
          [
           "Entire home/apt",
           "Brooklyn"
          ],
          [
           "Private room",
           "Brooklyn"
          ],
          [
           "Private room",
           "Brooklyn"
          ],
          [
           "Entire home/apt",
           "Queens"
          ],
          [
           "Private room",
           "Manhattan"
          ],
          [
           "Entire home/apt",
           "Brooklyn"
          ],
          [
           "Entire home/apt",
           "Manhattan"
          ],
          [
           "Entire home/apt",
           "Brooklyn"
          ],
          [
           "Entire home/apt",
           "Brooklyn"
          ],
          [
           "Entire home/apt",
           "Brooklyn"
          ],
          [
           "Private room",
           "Brooklyn"
          ],
          [
           "Entire home/apt",
           "Brooklyn"
          ],
          [
           "Private room",
           "Brooklyn"
          ],
          [
           "Entire home/apt",
           "Queens"
          ],
          [
           "Entire home/apt",
           "Manhattan"
          ],
          [
           "Private room",
           "Brooklyn"
          ],
          [
           "Private room",
           "Brooklyn"
          ],
          [
           "Entire home/apt",
           "Manhattan"
          ],
          [
           "Entire home/apt",
           "Brooklyn"
          ],
          [
           "Entire home/apt",
           "Manhattan"
          ],
          [
           "Private room",
           "Brooklyn"
          ],
          [
           "Private room",
           "Queens"
          ],
          [
           "Entire home/apt",
           "Manhattan"
          ],
          [
           "Entire home/apt",
           "Brooklyn"
          ],
          [
           "Entire home/apt",
           "Manhattan"
          ],
          [
           "Private room",
           "Manhattan"
          ],
          [
           "Private room",
           "Queens"
          ],
          [
           "Private room",
           "Brooklyn"
          ],
          [
           "Private room",
           "Manhattan"
          ],
          [
           "Private room",
           "Brooklyn"
          ],
          [
           "Entire home/apt",
           "Brooklyn"
          ],
          [
           "Entire home/apt",
           "Brooklyn"
          ],
          [
           "Entire home/apt",
           "Manhattan"
          ],
          [
           "Private room",
           "Queens"
          ],
          [
           "Entire home/apt",
           "Brooklyn"
          ],
          [
           "Entire home/apt",
           "Brooklyn"
          ],
          [
           "Private room",
           "Brooklyn"
          ],
          [
           "Private room",
           "Brooklyn"
          ],
          [
           "Entire home/apt",
           "Manhattan"
          ],
          [
           "Entire home/apt",
           "Manhattan"
          ],
          [
           "Entire home/apt",
           "Manhattan"
          ],
          [
           "Entire home/apt",
           "Queens"
          ],
          [
           "Private room",
           "Brooklyn"
          ],
          [
           "Entire home/apt",
           "Manhattan"
          ],
          [
           "Entire home/apt",
           "Manhattan"
          ],
          [
           "Entire home/apt",
           "Brooklyn"
          ],
          [
           "Entire home/apt",
           "Brooklyn"
          ],
          [
           "Entire home/apt",
           "Brooklyn"
          ],
          [
           "Private room",
           "Manhattan"
          ],
          [
           "Private room",
           "Brooklyn"
          ],
          [
           "Entire home/apt",
           "Manhattan"
          ],
          [
           "Private room",
           "Manhattan"
          ],
          [
           "Entire home/apt",
           "Manhattan"
          ],
          [
           "Shared room",
           "Brooklyn"
          ],
          [
           "Entire home/apt",
           "Brooklyn"
          ],
          [
           "Entire home/apt",
           "Brooklyn"
          ],
          [
           "Private room",
           "Manhattan"
          ],
          [
           "Private room",
           "Bronx"
          ],
          [
           "Private room",
           "Queens"
          ],
          [
           "Entire home/apt",
           "Manhattan"
          ],
          [
           "Private room",
           "Manhattan"
          ],
          [
           "Entire home/apt",
           "Manhattan"
          ],
          [
           "Private room",
           "Brooklyn"
          ],
          [
           "Private room",
           "Queens"
          ],
          [
           "Private room",
           "Brooklyn"
          ],
          [
           "Entire home/apt",
           "Brooklyn"
          ],
          [
           "Entire home/apt",
           "Queens"
          ],
          [
           "Entire home/apt",
           "Brooklyn"
          ],
          [
           "Entire home/apt",
           "Manhattan"
          ],
          [
           "Entire home/apt",
           "Brooklyn"
          ],
          [
           "Entire home/apt",
           "Manhattan"
          ],
          [
           "Entire home/apt",
           "Manhattan"
          ],
          [
           "Entire home/apt",
           "Bronx"
          ],
          [
           "Entire home/apt",
           "Manhattan"
          ],
          [
           "Entire home/apt",
           "Brooklyn"
          ],
          [
           "Private room",
           "Brooklyn"
          ],
          [
           "Private room",
           "Manhattan"
          ],
          [
           "Private room",
           "Manhattan"
          ],
          [
           "Entire home/apt",
           "Brooklyn"
          ],
          [
           "Entire home/apt",
           "Brooklyn"
          ],
          [
           "Entire home/apt",
           "Manhattan"
          ],
          [
           "Entire home/apt",
           "Manhattan"
          ],
          [
           "Private room",
           "Manhattan"
          ],
          [
           "Entire home/apt",
           "Manhattan"
          ],
          [
           "Entire home/apt",
           "Manhattan"
          ],
          [
           "Private room",
           "Brooklyn"
          ],
          [
           "Private room",
           "Queens"
          ],
          [
           "Shared room",
           "Manhattan"
          ],
          [
           "Private room",
           "Manhattan"
          ],
          [
           "Private room",
           "Brooklyn"
          ],
          [
           "Entire home/apt",
           "Manhattan"
          ],
          [
           "Private room",
           "Queens"
          ],
          [
           "Entire home/apt",
           "Brooklyn"
          ],
          [
           "Private room",
           "Brooklyn"
          ],
          [
           "Entire home/apt",
           "Manhattan"
          ],
          [
           "Private room",
           "Brooklyn"
          ],
          [
           "Entire home/apt",
           "Manhattan"
          ],
          [
           "Private room",
           "Manhattan"
          ],
          [
           "Entire home/apt",
           "Manhattan"
          ],
          [
           "Entire home/apt",
           "Brooklyn"
          ],
          [
           "Private room",
           "Bronx"
          ],
          [
           "Private room",
           "Manhattan"
          ],
          [
           "Entire home/apt",
           "Brooklyn"
          ],
          [
           "Private room",
           "Manhattan"
          ],
          [
           "Entire home/apt",
           "Brooklyn"
          ],
          [
           "Entire home/apt",
           "Manhattan"
          ],
          [
           "Entire home/apt",
           "Manhattan"
          ],
          [
           "Entire home/apt",
           "Brooklyn"
          ],
          [
           "Private room",
           "Queens"
          ],
          [
           "Private room",
           "Brooklyn"
          ],
          [
           "Private room",
           "Brooklyn"
          ],
          [
           "Private room",
           "Brooklyn"
          ],
          [
           "Private room",
           "Brooklyn"
          ],
          [
           "Entire home/apt",
           "Brooklyn"
          ],
          [
           "Entire home/apt",
           "Manhattan"
          ],
          [
           "Entire home/apt",
           "Queens"
          ],
          [
           "Private room",
           "Brooklyn"
          ],
          [
           "Private room",
           "Brooklyn"
          ],
          [
           "Entire home/apt",
           "Brooklyn"
          ],
          [
           "Shared room",
           "Manhattan"
          ],
          [
           "Entire home/apt",
           "Manhattan"
          ],
          [
           "Private room",
           "Bronx"
          ],
          [
           "Entire home/apt",
           "Manhattan"
          ],
          [
           "Private room",
           "Manhattan"
          ],
          [
           "Entire home/apt",
           "Brooklyn"
          ],
          [
           "Entire home/apt",
           "Manhattan"
          ],
          [
           "Entire home/apt",
           "Brooklyn"
          ],
          [
           "Private room",
           "Manhattan"
          ],
          [
           "Entire home/apt",
           "Queens"
          ],
          [
           "Private room",
           "Brooklyn"
          ],
          [
           "Entire home/apt",
           "Queens"
          ],
          [
           "Entire home/apt",
           "Manhattan"
          ],
          [
           "Private room",
           "Brooklyn"
          ],
          [
           "Private room",
           "Brooklyn"
          ],
          [
           "Entire home/apt",
           "Brooklyn"
          ],
          [
           "Shared room",
           "Queens"
          ],
          [
           "Private room",
           "Brooklyn"
          ],
          [
           "Entire home/apt",
           "Manhattan"
          ],
          [
           "Private room",
           "Brooklyn"
          ],
          [
           "Entire home/apt",
           "Manhattan"
          ],
          [
           "Private room",
           "Queens"
          ],
          [
           "Entire home/apt",
           "Queens"
          ],
          [
           "Private room",
           "Manhattan"
          ],
          [
           "Private room",
           "Manhattan"
          ],
          [
           "Private room",
           "Brooklyn"
          ],
          [
           "Entire home/apt",
           "Manhattan"
          ],
          [
           "Entire home/apt",
           "Brooklyn"
          ],
          [
           "Shared room",
           "Manhattan"
          ],
          [
           "Entire home/apt",
           "Brooklyn"
          ],
          [
           "Private room",
           "Bronx"
          ],
          [
           "Private room",
           "Brooklyn"
          ],
          [
           "Private room",
           "Brooklyn"
          ],
          [
           "Entire home/apt",
           "Manhattan"
          ],
          [
           "Private room",
           "Brooklyn"
          ],
          [
           "Private room",
           "Manhattan"
          ],
          [
           "Entire home/apt",
           "Queens"
          ],
          [
           "Private room",
           "Brooklyn"
          ],
          [
           "Private room",
           "Brooklyn"
          ],
          [
           "Private room",
           "Brooklyn"
          ],
          [
           "Private room",
           "Manhattan"
          ],
          [
           "Private room",
           "Brooklyn"
          ],
          [
           "Entire home/apt",
           "Brooklyn"
          ],
          [
           "Shared room",
           "Queens"
          ],
          [
           "Entire home/apt",
           "Manhattan"
          ],
          [
           "Private room",
           "Manhattan"
          ],
          [
           "Entire home/apt",
           "Queens"
          ],
          [
           "Private room",
           "Manhattan"
          ],
          [
           "Entire home/apt",
           "Manhattan"
          ],
          [
           "Entire home/apt",
           "Manhattan"
          ],
          [
           "Entire home/apt",
           "Brooklyn"
          ],
          [
           "Entire home/apt",
           "Bronx"
          ],
          [
           "Private room",
           "Manhattan"
          ],
          [
           "Private room",
           "Brooklyn"
          ],
          [
           "Private room",
           "Queens"
          ],
          [
           "Entire home/apt",
           "Manhattan"
          ],
          [
           "Private room",
           "Queens"
          ],
          [
           "Entire home/apt",
           "Brooklyn"
          ],
          [
           "Entire home/apt",
           "Manhattan"
          ],
          [
           "Private room",
           "Queens"
          ],
          [
           "Private room",
           "Manhattan"
          ],
          [
           "Entire home/apt",
           "Queens"
          ],
          [
           "Private room",
           "Manhattan"
          ],
          [
           "Entire home/apt",
           "Brooklyn"
          ],
          [
           "Entire home/apt",
           "Manhattan"
          ],
          [
           "Entire home/apt",
           "Brooklyn"
          ],
          [
           "Entire home/apt",
           "Brooklyn"
          ],
          [
           "Private room",
           "Brooklyn"
          ],
          [
           "Entire home/apt",
           "Manhattan"
          ],
          [
           "Private room",
           "Brooklyn"
          ],
          [
           "Private room",
           "Manhattan"
          ],
          [
           "Entire home/apt",
           "Brooklyn"
          ],
          [
           "Private room",
           "Manhattan"
          ],
          [
           "Entire home/apt",
           "Manhattan"
          ],
          [
           "Entire home/apt",
           "Brooklyn"
          ],
          [
           "Entire home/apt",
           "Manhattan"
          ],
          [
           "Private room",
           "Brooklyn"
          ],
          [
           "Entire home/apt",
           "Manhattan"
          ],
          [
           "Shared room",
           "Bronx"
          ],
          [
           "Entire home/apt",
           "Manhattan"
          ],
          [
           "Entire home/apt",
           "Brooklyn"
          ],
          [
           "Entire home/apt",
           "Manhattan"
          ],
          [
           "Private room",
           "Brooklyn"
          ],
          [
           "Entire home/apt",
           "Manhattan"
          ],
          [
           "Private room",
           "Brooklyn"
          ],
          [
           "Shared room",
           "Manhattan"
          ],
          [
           "Private room",
           "Brooklyn"
          ],
          [
           "Entire home/apt",
           "Manhattan"
          ],
          [
           "Private room",
           "Brooklyn"
          ],
          [
           "Entire home/apt",
           "Brooklyn"
          ],
          [
           "Private room",
           "Brooklyn"
          ],
          [
           "Entire home/apt",
           "Manhattan"
          ],
          [
           "Private room",
           "Manhattan"
          ],
          [
           "Entire home/apt",
           "Manhattan"
          ],
          [
           "Entire home/apt",
           "Brooklyn"
          ],
          [
           "Entire home/apt",
           "Queens"
          ],
          [
           "Private room",
           "Brooklyn"
          ],
          [
           "Private room",
           "Manhattan"
          ],
          [
           "Entire home/apt",
           "Queens"
          ],
          [
           "Private room",
           "Manhattan"
          ],
          [
           "Private room",
           "Manhattan"
          ],
          [
           "Entire home/apt",
           "Manhattan"
          ],
          [
           "Private room",
           "Manhattan"
          ],
          [
           "Private room",
           "Manhattan"
          ],
          [
           "Private room",
           "Brooklyn"
          ],
          [
           "Private room",
           "Manhattan"
          ],
          [
           "Entire home/apt",
           "Manhattan"
          ],
          [
           "Entire home/apt",
           "Brooklyn"
          ],
          [
           "Entire home/apt",
           "Manhattan"
          ],
          [
           "Private room",
           "Brooklyn"
          ],
          [
           "Private room",
           "Brooklyn"
          ],
          [
           "Private room",
           "Queens"
          ],
          [
           "Entire home/apt",
           "Queens"
          ],
          [
           "Entire home/apt",
           "Brooklyn"
          ],
          [
           "Entire home/apt",
           "Manhattan"
          ],
          [
           "Private room",
           "Manhattan"
          ],
          [
           "Entire home/apt",
           "Manhattan"
          ],
          [
           "Private room",
           "Brooklyn"
          ],
          [
           "Entire home/apt",
           "Brooklyn"
          ],
          [
           "Private room",
           "Brooklyn"
          ],
          [
           "Entire home/apt",
           "Manhattan"
          ],
          [
           "Entire home/apt",
           "Manhattan"
          ],
          [
           "Private room",
           "Manhattan"
          ],
          [
           "Private room",
           "Manhattan"
          ],
          [
           "Entire home/apt",
           "Manhattan"
          ],
          [
           "Private room",
           "Brooklyn"
          ],
          [
           "Entire home/apt",
           "Manhattan"
          ],
          [
           "Private room",
           "Queens"
          ],
          [
           "Entire home/apt",
           "Manhattan"
          ],
          [
           "Entire home/apt",
           "Manhattan"
          ],
          [
           "Private room",
           "Manhattan"
          ],
          [
           "Entire home/apt",
           "Brooklyn"
          ],
          [
           "Private room",
           "Queens"
          ],
          [
           "Private room",
           "Queens"
          ],
          [
           "Private room",
           "Brooklyn"
          ],
          [
           "Entire home/apt",
           "Queens"
          ],
          [
           "Entire home/apt",
           "Brooklyn"
          ],
          [
           "Private room",
           "Brooklyn"
          ],
          [
           "Entire home/apt",
           "Manhattan"
          ],
          [
           "Private room",
           "Bronx"
          ],
          [
           "Shared room",
           "Brooklyn"
          ],
          [
           "Private room",
           "Manhattan"
          ],
          [
           "Entire home/apt",
           "Brooklyn"
          ],
          [
           "Entire home/apt",
           "Brooklyn"
          ],
          [
           "Entire home/apt",
           "Manhattan"
          ],
          [
           "Entire home/apt",
           "Manhattan"
          ],
          [
           "Entire home/apt",
           "Manhattan"
          ],
          [
           "Private room",
           "Manhattan"
          ],
          [
           "Private room",
           "Brooklyn"
          ],
          [
           "Entire home/apt",
           "Brooklyn"
          ],
          [
           "Entire home/apt",
           "Queens"
          ],
          [
           "Private room",
           "Brooklyn"
          ],
          [
           "Private room",
           "Manhattan"
          ],
          [
           "Entire home/apt",
           "Brooklyn"
          ],
          [
           "Entire home/apt",
           "Manhattan"
          ],
          [
           "Private room",
           "Brooklyn"
          ],
          [
           "Private room",
           "Queens"
          ],
          [
           "Private room",
           "Manhattan"
          ],
          [
           "Entire home/apt",
           "Manhattan"
          ],
          [
           "Entire home/apt",
           "Manhattan"
          ],
          [
           "Private room",
           "Manhattan"
          ],
          [
           "Entire home/apt",
           "Brooklyn"
          ],
          [
           "Private room",
           "Brooklyn"
          ],
          [
           "Shared room",
           "Brooklyn"
          ],
          [
           "Entire home/apt",
           "Manhattan"
          ],
          [
           "Entire home/apt",
           "Brooklyn"
          ],
          [
           "Private room",
           "Brooklyn"
          ],
          [
           "Private room",
           "Brooklyn"
          ],
          [
           "Entire home/apt",
           "Manhattan"
          ],
          [
           "Entire home/apt",
           "Brooklyn"
          ],
          [
           "Entire home/apt",
           "Manhattan"
          ],
          [
           "Private room",
           "Queens"
          ],
          [
           "Private room",
           "Queens"
          ],
          [
           "Shared room",
           "Manhattan"
          ],
          [
           "Private room",
           "Queens"
          ],
          [
           "Entire home/apt",
           "Brooklyn"
          ],
          [
           "Private room",
           "Brooklyn"
          ],
          [
           "Entire home/apt",
           "Manhattan"
          ],
          [
           "Entire home/apt",
           "Manhattan"
          ],
          [
           "Private room",
           "Manhattan"
          ],
          [
           "Entire home/apt",
           "Manhattan"
          ],
          [
           "Shared room",
           "Manhattan"
          ],
          [
           "Entire home/apt",
           "Manhattan"
          ],
          [
           "Entire home/apt",
           "Queens"
          ],
          [
           "Private room",
           "Queens"
          ],
          [
           "Entire home/apt",
           "Manhattan"
          ],
          [
           "Private room",
           "Brooklyn"
          ],
          [
           "Entire home/apt",
           "Manhattan"
          ],
          [
           "Entire home/apt",
           "Manhattan"
          ],
          [
           "Entire home/apt",
           "Brooklyn"
          ],
          [
           "Private room",
           "Brooklyn"
          ],
          [
           "Entire home/apt",
           "Brooklyn"
          ],
          [
           "Shared room",
           "Bronx"
          ],
          [
           "Private room",
           "Brooklyn"
          ],
          [
           "Private room",
           "Manhattan"
          ],
          [
           "Entire home/apt",
           "Manhattan"
          ],
          [
           "Private room",
           "Manhattan"
          ],
          [
           "Entire home/apt",
           "Brooklyn"
          ],
          [
           "Shared room",
           "Manhattan"
          ],
          [
           "Entire home/apt",
           "Manhattan"
          ],
          [
           "Entire home/apt",
           "Manhattan"
          ],
          [
           "Private room",
           "Manhattan"
          ],
          [
           "Entire home/apt",
           "Brooklyn"
          ],
          [
           "Entire home/apt",
           "Brooklyn"
          ],
          [
           "Shared room",
           "Manhattan"
          ],
          [
           "Private room",
           "Brooklyn"
          ],
          [
           "Entire home/apt",
           "Brooklyn"
          ],
          [
           "Private room",
           "Manhattan"
          ],
          [
           "Entire home/apt",
           "Manhattan"
          ],
          [
           "Private room",
           "Brooklyn"
          ],
          [
           "Entire home/apt",
           "Manhattan"
          ],
          [
           "Entire home/apt",
           "Manhattan"
          ],
          [
           "Entire home/apt",
           "Brooklyn"
          ],
          [
           "Private room",
           "Brooklyn"
          ],
          [
           "Entire home/apt",
           "Manhattan"
          ],
          [
           "Entire home/apt",
           "Manhattan"
          ],
          [
           "Private room",
           "Brooklyn"
          ],
          [
           "Private room",
           "Queens"
          ],
          [
           "Private room",
           "Brooklyn"
          ],
          [
           "Entire home/apt",
           "Manhattan"
          ],
          [
           "Entire home/apt",
           "Manhattan"
          ],
          [
           "Private room",
           "Manhattan"
          ],
          [
           "Entire home/apt",
           "Brooklyn"
          ],
          [
           "Private room",
           "Queens"
          ],
          [
           "Entire home/apt",
           "Manhattan"
          ],
          [
           "Private room",
           "Brooklyn"
          ],
          [
           "Private room",
           "Brooklyn"
          ],
          [
           "Entire home/apt",
           "Brooklyn"
          ],
          [
           "Private room",
           "Manhattan"
          ],
          [
           "Entire home/apt",
           "Queens"
          ],
          [
           "Entire home/apt",
           "Brooklyn"
          ],
          [
           "Entire home/apt",
           "Manhattan"
          ],
          [
           "Entire home/apt",
           "Brooklyn"
          ],
          [
           "Entire home/apt",
           "Brooklyn"
          ],
          [
           "Entire home/apt",
           "Brooklyn"
          ],
          [
           "Entire home/apt",
           "Manhattan"
          ],
          [
           "Entire home/apt",
           "Queens"
          ],
          [
           "Entire home/apt",
           "Manhattan"
          ],
          [
           "Entire home/apt",
           "Brooklyn"
          ],
          [
           "Entire home/apt",
           "Manhattan"
          ],
          [
           "Entire home/apt",
           "Manhattan"
          ],
          [
           "Entire home/apt",
           "Manhattan"
          ],
          [
           "Private room",
           "Queens"
          ],
          [
           "Private room",
           "Manhattan"
          ],
          [
           "Entire home/apt",
           "Queens"
          ],
          [
           "Entire home/apt",
           "Manhattan"
          ],
          [
           "Private room",
           "Brooklyn"
          ],
          [
           "Entire home/apt",
           "Manhattan"
          ],
          [
           "Entire home/apt",
           "Manhattan"
          ],
          [
           "Entire home/apt",
           "Manhattan"
          ],
          [
           "Private room",
           "Queens"
          ],
          [
           "Private room",
           "Brooklyn"
          ],
          [
           "Private room",
           "Brooklyn"
          ],
          [
           "Entire home/apt",
           "Brooklyn"
          ],
          [
           "Entire home/apt",
           "Queens"
          ],
          [
           "Private room",
           "Manhattan"
          ],
          [
           "Entire home/apt",
           "Brooklyn"
          ],
          [
           "Private room",
           "Brooklyn"
          ],
          [
           "Entire home/apt",
           "Brooklyn"
          ],
          [
           "Private room",
           "Manhattan"
          ],
          [
           "Entire home/apt",
           "Brooklyn"
          ],
          [
           "Entire home/apt",
           "Brooklyn"
          ],
          [
           "Private room",
           "Queens"
          ],
          [
           "Entire home/apt",
           "Brooklyn"
          ],
          [
           "Entire home/apt",
           "Manhattan"
          ],
          [
           "Private room",
           "Brooklyn"
          ],
          [
           "Private room",
           "Queens"
          ],
          [
           "Entire home/apt",
           "Manhattan"
          ],
          [
           "Entire home/apt",
           "Brooklyn"
          ],
          [
           "Private room",
           "Manhattan"
          ],
          [
           "Private room",
           "Manhattan"
          ],
          [
           "Private room",
           "Manhattan"
          ],
          [
           "Entire home/apt",
           "Brooklyn"
          ],
          [
           "Entire home/apt",
           "Brooklyn"
          ],
          [
           "Private room",
           "Brooklyn"
          ],
          [
           "Entire home/apt",
           "Manhattan"
          ],
          [
           "Private room",
           "Manhattan"
          ],
          [
           "Entire home/apt",
           "Manhattan"
          ],
          [
           "Private room",
           "Brooklyn"
          ],
          [
           "Private room",
           "Manhattan"
          ],
          [
           "Private room",
           "Manhattan"
          ],
          [
           "Private room",
           "Manhattan"
          ],
          [
           "Private room",
           "Manhattan"
          ],
          [
           "Private room",
           "Queens"
          ],
          [
           "Entire home/apt",
           "Manhattan"
          ],
          [
           "Entire home/apt",
           "Manhattan"
          ],
          [
           "Entire home/apt",
           "Queens"
          ],
          [
           "Entire home/apt",
           "Brooklyn"
          ],
          [
           "Entire home/apt",
           "Manhattan"
          ],
          [
           "Private room",
           "Manhattan"
          ],
          [
           "Entire home/apt",
           "Brooklyn"
          ],
          [
           "Entire home/apt",
           "Manhattan"
          ],
          [
           "Entire home/apt",
           "Brooklyn"
          ],
          [
           "Entire home/apt",
           "Manhattan"
          ],
          [
           "Private room",
           "Brooklyn"
          ],
          [
           "Entire home/apt",
           "Manhattan"
          ],
          [
           "Private room",
           "Queens"
          ],
          [
           "Entire home/apt",
           "Brooklyn"
          ],
          [
           "Entire home/apt",
           "Brooklyn"
          ],
          [
           "Private room",
           "Manhattan"
          ],
          [
           "Entire home/apt",
           "Manhattan"
          ],
          [
           "Private room",
           "Manhattan"
          ],
          [
           "Entire home/apt",
           "Manhattan"
          ],
          [
           "Private room",
           "Brooklyn"
          ],
          [
           "Entire home/apt",
           "Brooklyn"
          ],
          [
           "Private room",
           "Brooklyn"
          ],
          [
           "Entire home/apt",
           "Manhattan"
          ],
          [
           "Entire home/apt",
           "Manhattan"
          ],
          [
           "Entire home/apt",
           "Brooklyn"
          ],
          [
           "Private room",
           "Brooklyn"
          ],
          [
           "Entire home/apt",
           "Manhattan"
          ],
          [
           "Entire home/apt",
           "Brooklyn"
          ],
          [
           "Entire home/apt",
           "Manhattan"
          ],
          [
           "Entire home/apt",
           "Manhattan"
          ],
          [
           "Private room",
           "Manhattan"
          ],
          [
           "Entire home/apt",
           "Brooklyn"
          ],
          [
           "Private room",
           "Queens"
          ],
          [
           "Entire home/apt",
           "Manhattan"
          ],
          [
           "Entire home/apt",
           "Manhattan"
          ],
          [
           "Private room",
           "Manhattan"
          ],
          [
           "Private room",
           "Brooklyn"
          ],
          [
           "Private room",
           "Manhattan"
          ],
          [
           "Entire home/apt",
           "Manhattan"
          ],
          [
           "Entire home/apt",
           "Manhattan"
          ],
          [
           "Entire home/apt",
           "Manhattan"
          ],
          [
           "Entire home/apt",
           "Brooklyn"
          ],
          [
           "Private room",
           "Brooklyn"
          ],
          [
           "Entire home/apt",
           "Brooklyn"
          ],
          [
           "Entire home/apt",
           "Manhattan"
          ],
          [
           "Private room",
           "Brooklyn"
          ],
          [
           "Private room",
           "Bronx"
          ],
          [
           "Entire home/apt",
           "Brooklyn"
          ],
          [
           "Entire home/apt",
           "Brooklyn"
          ],
          [
           "Private room",
           "Queens"
          ],
          [
           "Private room",
           "Brooklyn"
          ],
          [
           "Private room",
           "Staten Island"
          ],
          [
           "Private room",
           "Manhattan"
          ],
          [
           "Private room",
           "Manhattan"
          ],
          [
           "Private room",
           "Queens"
          ],
          [
           "Private room",
           "Bronx"
          ],
          [
           "Entire home/apt",
           "Manhattan"
          ],
          [
           "Entire home/apt",
           "Manhattan"
          ],
          [
           "Entire home/apt",
           "Manhattan"
          ],
          [
           "Private room",
           "Manhattan"
          ],
          [
           "Private room",
           "Manhattan"
          ],
          [
           "Entire home/apt",
           "Brooklyn"
          ],
          [
           "Entire home/apt",
           "Brooklyn"
          ],
          [
           "Private room",
           "Queens"
          ],
          [
           "Entire home/apt",
           "Brooklyn"
          ],
          [
           "Entire home/apt",
           "Manhattan"
          ],
          [
           "Private room",
           "Manhattan"
          ],
          [
           "Private room",
           "Manhattan"
          ],
          [
           "Entire home/apt",
           "Queens"
          ],
          [
           "Entire home/apt",
           "Manhattan"
          ],
          [
           "Private room",
           "Manhattan"
          ],
          [
           "Entire home/apt",
           "Manhattan"
          ],
          [
           "Entire home/apt",
           "Manhattan"
          ],
          [
           "Entire home/apt",
           "Queens"
          ],
          [
           "Private room",
           "Brooklyn"
          ],
          [
           "Private room",
           "Manhattan"
          ],
          [
           "Entire home/apt",
           "Brooklyn"
          ],
          [
           "Private room",
           "Manhattan"
          ],
          [
           "Entire home/apt",
           "Brooklyn"
          ],
          [
           "Private room",
           "Brooklyn"
          ],
          [
           "Entire home/apt",
           "Manhattan"
          ],
          [
           "Private room",
           "Brooklyn"
          ],
          [
           "Entire home/apt",
           "Manhattan"
          ],
          [
           "Entire home/apt",
           "Manhattan"
          ],
          [
           "Entire home/apt",
           "Brooklyn"
          ],
          [
           "Entire home/apt",
           "Manhattan"
          ],
          [
           "Private room",
           "Brooklyn"
          ],
          [
           "Private room",
           "Manhattan"
          ],
          [
           "Private room",
           "Manhattan"
          ],
          [
           "Entire home/apt",
           "Brooklyn"
          ],
          [
           "Private room",
           "Manhattan"
          ],
          [
           "Entire home/apt",
           "Manhattan"
          ],
          [
           "Private room",
           "Staten Island"
          ],
          [
           "Private room",
           "Manhattan"
          ],
          [
           "Entire home/apt",
           "Brooklyn"
          ],
          [
           "Entire home/apt",
           "Brooklyn"
          ],
          [
           "Private room",
           "Brooklyn"
          ],
          [
           "Entire home/apt",
           "Brooklyn"
          ],
          [
           "Private room",
           "Manhattan"
          ],
          [
           "Entire home/apt",
           "Brooklyn"
          ],
          [
           "Private room",
           "Brooklyn"
          ],
          [
           "Entire home/apt",
           "Manhattan"
          ],
          [
           "Private room",
           "Brooklyn"
          ],
          [
           "Entire home/apt",
           "Brooklyn"
          ],
          [
           "Entire home/apt",
           "Queens"
          ],
          [
           "Private room",
           "Brooklyn"
          ],
          [
           "Private room",
           "Manhattan"
          ],
          [
           "Private room",
           "Manhattan"
          ],
          [
           "Entire home/apt",
           "Brooklyn"
          ],
          [
           "Private room",
           "Manhattan"
          ],
          [
           "Private room",
           "Brooklyn"
          ],
          [
           "Entire home/apt",
           "Manhattan"
          ],
          [
           "Private room",
           "Manhattan"
          ],
          [
           "Private room",
           "Brooklyn"
          ],
          [
           "Entire home/apt",
           "Brooklyn"
          ],
          [
           "Entire home/apt",
           "Brooklyn"
          ],
          [
           "Private room",
           "Brooklyn"
          ],
          [
           "Entire home/apt",
           "Brooklyn"
          ],
          [
           "Entire home/apt",
           "Manhattan"
          ],
          [
           "Private room",
           "Brooklyn"
          ],
          [
           "Entire home/apt",
           "Manhattan"
          ],
          [
           "Entire home/apt",
           "Brooklyn"
          ],
          [
           "Private room",
           "Brooklyn"
          ],
          [
           "Entire home/apt",
           "Bronx"
          ],
          [
           "Private room",
           "Manhattan"
          ],
          [
           "Private room",
           "Brooklyn"
          ],
          [
           "Entire home/apt",
           "Brooklyn"
          ],
          [
           "Private room",
           "Manhattan"
          ],
          [
           "Private room",
           "Manhattan"
          ],
          [
           "Entire home/apt",
           "Manhattan"
          ],
          [
           "Entire home/apt",
           "Manhattan"
          ],
          [
           "Private room",
           "Brooklyn"
          ],
          [
           "Entire home/apt",
           "Brooklyn"
          ],
          [
           "Private room",
           "Manhattan"
          ],
          [
           "Private room",
           "Queens"
          ],
          [
           "Private room",
           "Manhattan"
          ],
          [
           "Private room",
           "Brooklyn"
          ],
          [
           "Entire home/apt",
           "Brooklyn"
          ],
          [
           "Entire home/apt",
           "Queens"
          ],
          [
           "Entire home/apt",
           "Brooklyn"
          ],
          [
           "Private room",
           "Brooklyn"
          ],
          [
           "Private room",
           "Brooklyn"
          ],
          [
           "Private room",
           "Brooklyn"
          ],
          [
           "Entire home/apt",
           "Queens"
          ],
          [
           "Private room",
           "Queens"
          ],
          [
           "Private room",
           "Manhattan"
          ],
          [
           "Entire home/apt",
           "Manhattan"
          ],
          [
           "Private room",
           "Queens"
          ],
          [
           "Entire home/apt",
           "Brooklyn"
          ],
          [
           "Entire home/apt",
           "Manhattan"
          ],
          [
           "Private room",
           "Queens"
          ],
          [
           "Entire home/apt",
           "Manhattan"
          ],
          [
           "Entire home/apt",
           "Brooklyn"
          ],
          [
           "Private room",
           "Manhattan"
          ],
          [
           "Entire home/apt",
           "Queens"
          ],
          [
           "Private room",
           "Queens"
          ],
          [
           "Shared room",
           "Brooklyn"
          ],
          [
           "Private room",
           "Brooklyn"
          ],
          [
           "Entire home/apt",
           "Manhattan"
          ],
          [
           "Entire home/apt",
           "Manhattan"
          ],
          [
           "Private room",
           "Manhattan"
          ],
          [
           "Entire home/apt",
           "Queens"
          ],
          [
           "Entire home/apt",
           "Brooklyn"
          ],
          [
           "Private room",
           "Brooklyn"
          ],
          [
           "Entire home/apt",
           "Manhattan"
          ],
          [
           "Private room",
           "Manhattan"
          ],
          [
           "Private room",
           "Brooklyn"
          ],
          [
           "Private room",
           "Brooklyn"
          ],
          [
           "Private room",
           "Brooklyn"
          ],
          [
           "Private room",
           "Queens"
          ],
          [
           "Entire home/apt",
           "Queens"
          ],
          [
           "Entire home/apt",
           "Queens"
          ],
          [
           "Private room",
           "Manhattan"
          ],
          [
           "Entire home/apt",
           "Manhattan"
          ],
          [
           "Shared room",
           "Manhattan"
          ],
          [
           "Private room",
           "Manhattan"
          ],
          [
           "Private room",
           "Manhattan"
          ],
          [
           "Entire home/apt",
           "Brooklyn"
          ],
          [
           "Private room",
           "Brooklyn"
          ],
          [
           "Entire home/apt",
           "Manhattan"
          ],
          [
           "Entire home/apt",
           "Manhattan"
          ],
          [
           "Private room",
           "Queens"
          ],
          [
           "Entire home/apt",
           "Manhattan"
          ],
          [
           "Private room",
           "Queens"
          ],
          [
           "Entire home/apt",
           "Brooklyn"
          ],
          [
           "Private room",
           "Queens"
          ],
          [
           "Entire home/apt",
           "Queens"
          ],
          [
           "Entire home/apt",
           "Brooklyn"
          ],
          [
           "Entire home/apt",
           "Manhattan"
          ],
          [
           "Private room",
           "Brooklyn"
          ],
          [
           "Entire home/apt",
           "Brooklyn"
          ],
          [
           "Private room",
           "Manhattan"
          ],
          [
           "Private room",
           "Manhattan"
          ],
          [
           "Private room",
           "Manhattan"
          ],
          [
           "Shared room",
           "Manhattan"
          ],
          [
           "Private room",
           "Brooklyn"
          ],
          [
           "Private room",
           "Brooklyn"
          ],
          [
           "Private room",
           "Queens"
          ],
          [
           "Entire home/apt",
           "Queens"
          ],
          [
           "Entire home/apt",
           "Manhattan"
          ],
          [
           "Entire home/apt",
           "Brooklyn"
          ],
          [
           "Private room",
           "Brooklyn"
          ],
          [
           "Entire home/apt",
           "Manhattan"
          ],
          [
           "Private room",
           "Manhattan"
          ],
          [
           "Entire home/apt",
           "Brooklyn"
          ],
          [
           "Private room",
           "Manhattan"
          ],
          [
           "Private room",
           "Queens"
          ],
          [
           "Private room",
           "Manhattan"
          ],
          [
           "Private room",
           "Manhattan"
          ],
          [
           "Private room",
           "Queens"
          ],
          [
           "Private room",
           "Brooklyn"
          ],
          [
           "Private room",
           "Queens"
          ],
          [
           "Shared room",
           "Manhattan"
          ],
          [
           "Entire home/apt",
           "Brooklyn"
          ],
          [
           "Private room",
           "Brooklyn"
          ],
          [
           "Private room",
           "Brooklyn"
          ],
          [
           "Private room",
           "Brooklyn"
          ],
          [
           "Private room",
           "Brooklyn"
          ],
          [
           "Private room",
           "Brooklyn"
          ],
          [
           "Entire home/apt",
           "Brooklyn"
          ],
          [
           "Private room",
           "Bronx"
          ],
          [
           "Private room",
           "Brooklyn"
          ],
          [
           "Entire home/apt",
           "Brooklyn"
          ],
          [
           "Private room",
           "Brooklyn"
          ],
          [
           "Private room",
           "Brooklyn"
          ],
          [
           "Private room",
           "Queens"
          ],
          [
           "Private room",
           "Manhattan"
          ],
          [
           "Entire home/apt",
           "Manhattan"
          ],
          [
           "Entire home/apt",
           "Manhattan"
          ],
          [
           "Private room",
           "Queens"
          ],
          [
           "Entire home/apt",
           "Queens"
          ],
          [
           "Entire home/apt",
           "Manhattan"
          ],
          [
           "Entire home/apt",
           "Brooklyn"
          ],
          [
           "Private room",
           "Queens"
          ],
          [
           "Private room",
           "Manhattan"
          ],
          [
           "Entire home/apt",
           "Brooklyn"
          ],
          [
           "Entire home/apt",
           "Manhattan"
          ],
          [
           "Private room",
           "Queens"
          ],
          [
           "Private room",
           "Staten Island"
          ],
          [
           "Entire home/apt",
           "Manhattan"
          ],
          [
           "Entire home/apt",
           "Brooklyn"
          ],
          [
           "Private room",
           "Brooklyn"
          ],
          [
           "Entire home/apt",
           "Manhattan"
          ],
          [
           "Entire home/apt",
           "Brooklyn"
          ],
          [
           "Private room",
           "Bronx"
          ],
          [
           "Private room",
           "Manhattan"
          ],
          [
           "Entire home/apt",
           "Manhattan"
          ],
          [
           "Entire home/apt",
           "Brooklyn"
          ],
          [
           "Private room",
           "Brooklyn"
          ],
          [
           "Entire home/apt",
           "Manhattan"
          ],
          [
           "Private room",
           "Manhattan"
          ],
          [
           "Private room",
           "Manhattan"
          ],
          [
           "Private room",
           "Bronx"
          ],
          [
           "Private room",
           "Manhattan"
          ],
          [
           "Entire home/apt",
           "Manhattan"
          ],
          [
           "Private room",
           "Queens"
          ],
          [
           "Entire home/apt",
           "Queens"
          ],
          [
           "Private room",
           "Queens"
          ],
          [
           "Private room",
           "Queens"
          ],
          [
           "Entire home/apt",
           "Brooklyn"
          ],
          [
           "Private room",
           "Brooklyn"
          ],
          [
           "Private room",
           "Brooklyn"
          ],
          [
           "Private room",
           "Brooklyn"
          ],
          [
           "Private room",
           "Manhattan"
          ],
          [
           "Private room",
           "Brooklyn"
          ],
          [
           "Entire home/apt",
           "Manhattan"
          ],
          [
           "Private room",
           "Brooklyn"
          ],
          [
           "Private room",
           "Brooklyn"
          ],
          [
           "Entire home/apt",
           "Bronx"
          ],
          [
           "Entire home/apt",
           "Brooklyn"
          ],
          [
           "Private room",
           "Brooklyn"
          ],
          [
           "Entire home/apt",
           "Manhattan"
          ],
          [
           "Entire home/apt",
           "Queens"
          ],
          [
           "Entire home/apt",
           "Brooklyn"
          ],
          [
           "Private room",
           "Queens"
          ],
          [
           "Private room",
           "Queens"
          ],
          [
           "Private room",
           "Queens"
          ],
          [
           "Private room",
           "Manhattan"
          ],
          [
           "Private room",
           "Brooklyn"
          ],
          [
           "Shared room",
           "Manhattan"
          ],
          [
           "Private room",
           "Brooklyn"
          ],
          [
           "Entire home/apt",
           "Manhattan"
          ],
          [
           "Private room",
           "Brooklyn"
          ],
          [
           "Entire home/apt",
           "Manhattan"
          ],
          [
           "Entire home/apt",
           "Brooklyn"
          ],
          [
           "Private room",
           "Brooklyn"
          ],
          [
           "Private room",
           "Manhattan"
          ],
          [
           "Private room",
           "Manhattan"
          ],
          [
           "Private room",
           "Manhattan"
          ],
          [
           "Entire home/apt",
           "Brooklyn"
          ],
          [
           "Private room",
           "Manhattan"
          ],
          [
           "Private room",
           "Manhattan"
          ],
          [
           "Private room",
           "Brooklyn"
          ],
          [
           "Private room",
           "Queens"
          ],
          [
           "Private room",
           "Manhattan"
          ],
          [
           "Entire home/apt",
           "Manhattan"
          ],
          [
           "Private room",
           "Brooklyn"
          ],
          [
           "Private room",
           "Bronx"
          ],
          [
           "Entire home/apt",
           "Manhattan"
          ],
          [
           "Private room",
           "Brooklyn"
          ],
          [
           "Private room",
           "Bronx"
          ],
          [
           "Private room",
           "Brooklyn"
          ],
          [
           "Entire home/apt",
           "Manhattan"
          ],
          [
           "Entire home/apt",
           "Manhattan"
          ],
          [
           "Private room",
           "Manhattan"
          ],
          [
           "Entire home/apt",
           "Brooklyn"
          ],
          [
           "Entire home/apt",
           "Manhattan"
          ],
          [
           "Entire home/apt",
           "Staten Island"
          ],
          [
           "Entire home/apt",
           "Manhattan"
          ],
          [
           "Entire home/apt",
           "Queens"
          ],
          [
           "Private room",
           "Queens"
          ],
          [
           "Entire home/apt",
           "Queens"
          ],
          [
           "Entire home/apt",
           "Manhattan"
          ],
          [
           "Private room",
           "Brooklyn"
          ],
          [
           "Private room",
           "Brooklyn"
          ],
          [
           "Entire home/apt",
           "Queens"
          ],
          [
           "Private room",
           "Brooklyn"
          ],
          [
           "Entire home/apt",
           "Manhattan"
          ],
          [
           "Private room",
           "Brooklyn"
          ],
          [
           "Entire home/apt",
           "Brooklyn"
          ],
          [
           "Entire home/apt",
           "Manhattan"
          ],
          [
           "Private room",
           "Brooklyn"
          ],
          [
           "Entire home/apt",
           "Manhattan"
          ],
          [
           "Entire home/apt",
           "Staten Island"
          ],
          [
           "Private room",
           "Manhattan"
          ],
          [
           "Private room",
           "Queens"
          ],
          [
           "Private room",
           "Brooklyn"
          ],
          [
           "Entire home/apt",
           "Brooklyn"
          ],
          [
           "Entire home/apt",
           "Manhattan"
          ],
          [
           "Private room",
           "Brooklyn"
          ],
          [
           "Private room",
           "Manhattan"
          ],
          [
           "Private room",
           "Brooklyn"
          ],
          [
           "Private room",
           "Brooklyn"
          ],
          [
           "Private room",
           "Brooklyn"
          ],
          [
           "Entire home/apt",
           "Bronx"
          ],
          [
           "Private room",
           "Brooklyn"
          ],
          [
           "Private room",
           "Queens"
          ],
          [
           "Private room",
           "Brooklyn"
          ],
          [
           "Private room",
           "Brooklyn"
          ],
          [
           "Private room",
           "Manhattan"
          ],
          [
           "Private room",
           "Manhattan"
          ],
          [
           "Entire home/apt",
           "Brooklyn"
          ],
          [
           "Private room",
           "Bronx"
          ],
          [
           "Entire home/apt",
           "Manhattan"
          ],
          [
           "Entire home/apt",
           "Brooklyn"
          ],
          [
           "Entire home/apt",
           "Queens"
          ],
          [
           "Private room",
           "Manhattan"
          ],
          [
           "Private room",
           "Brooklyn"
          ],
          [
           "Entire home/apt",
           "Brooklyn"
          ],
          [
           "Entire home/apt",
           "Staten Island"
          ],
          [
           "Private room",
           "Manhattan"
          ],
          [
           "Private room",
           "Brooklyn"
          ],
          [
           "Private room",
           "Brooklyn"
          ],
          [
           "Entire home/apt",
           "Brooklyn"
          ],
          [
           "Entire home/apt",
           "Brooklyn"
          ],
          [
           "Private room",
           "Manhattan"
          ],
          [
           "Private room",
           "Brooklyn"
          ],
          [
           "Entire home/apt",
           "Brooklyn"
          ],
          [
           "Entire home/apt",
           "Brooklyn"
          ],
          [
           "Entire home/apt",
           "Brooklyn"
          ],
          [
           "Private room",
           "Brooklyn"
          ],
          [
           "Private room",
           "Manhattan"
          ],
          [
           "Entire home/apt",
           "Brooklyn"
          ],
          [
           "Private room",
           "Manhattan"
          ],
          [
           "Entire home/apt",
           "Brooklyn"
          ],
          [
           "Entire home/apt",
           "Brooklyn"
          ],
          [
           "Private room",
           "Brooklyn"
          ],
          [
           "Private room",
           "Manhattan"
          ],
          [
           "Private room",
           "Brooklyn"
          ],
          [
           "Entire home/apt",
           "Manhattan"
          ],
          [
           "Entire home/apt",
           "Manhattan"
          ],
          [
           "Entire home/apt",
           "Manhattan"
          ],
          [
           "Entire home/apt",
           "Brooklyn"
          ],
          [
           "Entire home/apt",
           "Brooklyn"
          ],
          [
           "Entire home/apt",
           "Manhattan"
          ],
          [
           "Entire home/apt",
           "Brooklyn"
          ],
          [
           "Entire home/apt",
           "Brooklyn"
          ],
          [
           "Private room",
           "Bronx"
          ],
          [
           "Private room",
           "Brooklyn"
          ],
          [
           "Entire home/apt",
           "Brooklyn"
          ],
          [
           "Entire home/apt",
           "Manhattan"
          ],
          [
           "Private room",
           "Brooklyn"
          ],
          [
           "Entire home/apt",
           "Brooklyn"
          ],
          [
           "Entire home/apt",
           "Manhattan"
          ],
          [
           "Entire home/apt",
           "Brooklyn"
          ],
          [
           "Private room",
           "Brooklyn"
          ],
          [
           "Private room",
           "Manhattan"
          ],
          [
           "Entire home/apt",
           "Brooklyn"
          ],
          [
           "Entire home/apt",
           "Manhattan"
          ],
          [
           "Entire home/apt",
           "Manhattan"
          ],
          [
           "Entire home/apt",
           "Brooklyn"
          ],
          [
           "Entire home/apt",
           "Brooklyn"
          ],
          [
           "Private room",
           "Brooklyn"
          ],
          [
           "Private room",
           "Brooklyn"
          ],
          [
           "Private room",
           "Manhattan"
          ],
          [
           "Entire home/apt",
           "Manhattan"
          ],
          [
           "Entire home/apt",
           "Brooklyn"
          ],
          [
           "Private room",
           "Brooklyn"
          ],
          [
           "Entire home/apt",
           "Manhattan"
          ],
          [
           "Private room",
           "Brooklyn"
          ],
          [
           "Private room",
           "Manhattan"
          ],
          [
           "Entire home/apt",
           "Manhattan"
          ],
          [
           "Entire home/apt",
           "Brooklyn"
          ],
          [
           "Entire home/apt",
           "Brooklyn"
          ],
          [
           "Private room",
           "Manhattan"
          ],
          [
           "Entire home/apt",
           "Manhattan"
          ],
          [
           "Entire home/apt",
           "Manhattan"
          ],
          [
           "Entire home/apt",
           "Brooklyn"
          ],
          [
           "Private room",
           "Bronx"
          ],
          [
           "Entire home/apt",
           "Brooklyn"
          ],
          [
           "Private room",
           "Brooklyn"
          ],
          [
           "Entire home/apt",
           "Manhattan"
          ],
          [
           "Private room",
           "Queens"
          ],
          [
           "Private room",
           "Brooklyn"
          ],
          [
           "Private room",
           "Manhattan"
          ],
          [
           "Entire home/apt",
           "Manhattan"
          ],
          [
           "Entire home/apt",
           "Queens"
          ],
          [
           "Private room",
           "Brooklyn"
          ],
          [
           "Private room",
           "Manhattan"
          ],
          [
           "Entire home/apt",
           "Staten Island"
          ],
          [
           "Private room",
           "Manhattan"
          ],
          [
           "Entire home/apt",
           "Brooklyn"
          ],
          [
           "Entire home/apt",
           "Brooklyn"
          ],
          [
           "Private room",
           "Manhattan"
          ],
          [
           "Private room",
           "Manhattan"
          ],
          [
           "Private room",
           "Manhattan"
          ],
          [
           "Private room",
           "Brooklyn"
          ],
          [
           "Entire home/apt",
           "Manhattan"
          ],
          [
           "Entire home/apt",
           "Manhattan"
          ],
          [
           "Entire home/apt",
           "Manhattan"
          ],
          [
           "Private room",
           "Brooklyn"
          ],
          [
           "Private room",
           "Queens"
          ],
          [
           "Entire home/apt",
           "Brooklyn"
          ],
          [
           "Private room",
           "Brooklyn"
          ],
          [
           "Private room",
           "Queens"
          ],
          [
           "Private room",
           "Brooklyn"
          ],
          [
           "Private room",
           "Manhattan"
          ],
          [
           "Private room",
           "Brooklyn"
          ],
          [
           "Entire home/apt",
           "Manhattan"
          ],
          [
           "Entire home/apt",
           "Manhattan"
          ],
          [
           "Private room",
           "Queens"
          ],
          [
           "Shared room",
           "Manhattan"
          ],
          [
           "Private room",
           "Brooklyn"
          ],
          [
           "Private room",
           "Manhattan"
          ],
          [
           "Private room",
           "Manhattan"
          ],
          [
           "Private room",
           "Manhattan"
          ],
          [
           "Shared room",
           "Queens"
          ],
          [
           "Private room",
           "Brooklyn"
          ],
          [
           "Entire home/apt",
           "Manhattan"
          ],
          [
           "Entire home/apt",
           "Manhattan"
          ],
          [
           "Private room",
           "Queens"
          ],
          [
           "Private room",
           "Brooklyn"
          ],
          [
           "Entire home/apt",
           "Brooklyn"
          ],
          [
           "Entire home/apt",
           "Manhattan"
          ],
          [
           "Private room",
           "Queens"
          ],
          [
           "Entire home/apt",
           "Brooklyn"
          ],
          [
           "Private room",
           "Manhattan"
          ],
          [
           "Entire home/apt",
           "Brooklyn"
          ],
          [
           "Entire home/apt",
           "Brooklyn"
          ],
          [
           "Private room",
           "Manhattan"
          ],
          [
           "Private room",
           "Brooklyn"
          ],
          [
           "Private room",
           "Manhattan"
          ],
          [
           "Entire home/apt",
           "Brooklyn"
          ],
          [
           "Entire home/apt",
           "Queens"
          ],
          [
           "Private room",
           "Queens"
          ],
          [
           "Entire home/apt",
           "Brooklyn"
          ],
          [
           "Entire home/apt",
           "Brooklyn"
          ],
          [
           "Entire home/apt",
           "Brooklyn"
          ],
          [
           "Private room",
           "Manhattan"
          ],
          [
           "Entire home/apt",
           "Brooklyn"
          ],
          [
           "Private room",
           "Bronx"
          ],
          [
           "Private room",
           "Queens"
          ],
          [
           "Private room",
           "Brooklyn"
          ],
          [
           "Private room",
           "Brooklyn"
          ],
          [
           "Private room",
           "Manhattan"
          ],
          [
           "Entire home/apt",
           "Manhattan"
          ],
          [
           "Private room",
           "Brooklyn"
          ],
          [
           "Private room",
           "Manhattan"
          ],
          [
           "Entire home/apt",
           "Manhattan"
          ],
          [
           "Entire home/apt",
           "Manhattan"
          ],
          [
           "Private room",
           "Brooklyn"
          ],
          [
           "Entire home/apt",
           "Brooklyn"
          ],
          [
           "Entire home/apt",
           "Manhattan"
          ],
          [
           "Shared room",
           "Brooklyn"
          ],
          [
           "Private room",
           "Brooklyn"
          ],
          [
           "Shared room",
           "Brooklyn"
          ],
          [
           "Private room",
           "Manhattan"
          ],
          [
           "Private room",
           "Manhattan"
          ],
          [
           "Entire home/apt",
           "Manhattan"
          ],
          [
           "Private room",
           "Manhattan"
          ],
          [
           "Entire home/apt",
           "Manhattan"
          ],
          [
           "Private room",
           "Queens"
          ],
          [
           "Entire home/apt",
           "Queens"
          ],
          [
           "Entire home/apt",
           "Brooklyn"
          ],
          [
           "Private room",
           "Brooklyn"
          ],
          [
           "Entire home/apt",
           "Manhattan"
          ],
          [
           "Private room",
           "Brooklyn"
          ],
          [
           "Entire home/apt",
           "Brooklyn"
          ],
          [
           "Private room",
           "Bronx"
          ],
          [
           "Entire home/apt",
           "Brooklyn"
          ],
          [
           "Private room",
           "Brooklyn"
          ],
          [
           "Private room",
           "Manhattan"
          ],
          [
           "Entire home/apt",
           "Queens"
          ],
          [
           "Entire home/apt",
           "Manhattan"
          ],
          [
           "Private room",
           "Brooklyn"
          ],
          [
           "Shared room",
           "Brooklyn"
          ],
          [
           "Private room",
           "Manhattan"
          ],
          [
           "Private room",
           "Manhattan"
          ],
          [
           "Entire home/apt",
           "Bronx"
          ],
          [
           "Private room",
           "Manhattan"
          ],
          [
           "Private room",
           "Manhattan"
          ],
          [
           "Private room",
           "Queens"
          ],
          [
           "Entire home/apt",
           "Manhattan"
          ],
          [
           "Entire home/apt",
           "Manhattan"
          ],
          [
           "Entire home/apt",
           "Manhattan"
          ],
          [
           "Private room",
           "Queens"
          ],
          [
           "Entire home/apt",
           "Brooklyn"
          ],
          [
           "Private room",
           "Brooklyn"
          ],
          [
           "Entire home/apt",
           "Manhattan"
          ],
          [
           "Private room",
           "Manhattan"
          ],
          [
           "Private room",
           "Brooklyn"
          ],
          [
           "Entire home/apt",
           "Manhattan"
          ],
          [
           "Entire home/apt",
           "Brooklyn"
          ],
          [
           "Private room",
           "Manhattan"
          ],
          [
           "Shared room",
           "Brooklyn"
          ],
          [
           "Private room",
           "Bronx"
          ],
          [
           "Private room",
           "Manhattan"
          ],
          [
           "Private room",
           "Queens"
          ],
          [
           "Private room",
           "Brooklyn"
          ],
          [
           "Private room",
           "Manhattan"
          ],
          [
           "Entire home/apt",
           "Manhattan"
          ],
          [
           "Private room",
           "Brooklyn"
          ],
          [
           "Private room",
           "Brooklyn"
          ],
          [
           "Private room",
           "Brooklyn"
          ],
          [
           "Private room",
           "Brooklyn"
          ],
          [
           "Private room",
           "Queens"
          ],
          [
           "Entire home/apt",
           "Manhattan"
          ],
          [
           "Entire home/apt",
           "Manhattan"
          ],
          [
           "Private room",
           "Manhattan"
          ],
          [
           "Entire home/apt",
           "Manhattan"
          ],
          [
           "Entire home/apt",
           "Manhattan"
          ],
          [
           "Entire home/apt",
           "Manhattan"
          ],
          [
           "Entire home/apt",
           "Brooklyn"
          ],
          [
           "Entire home/apt",
           "Brooklyn"
          ],
          [
           "Private room",
           "Brooklyn"
          ],
          [
           "Private room",
           "Brooklyn"
          ],
          [
           "Entire home/apt",
           "Manhattan"
          ],
          [
           "Private room",
           "Queens"
          ],
          [
           "Private room",
           "Queens"
          ],
          [
           "Private room",
           "Brooklyn"
          ],
          [
           "Private room",
           "Manhattan"
          ],
          [
           "Entire home/apt",
           "Brooklyn"
          ],
          [
           "Entire home/apt",
           "Manhattan"
          ],
          [
           "Entire home/apt",
           "Manhattan"
          ],
          [
           "Entire home/apt",
           "Manhattan"
          ],
          [
           "Private room",
           "Queens"
          ],
          [
           "Private room",
           "Manhattan"
          ],
          [
           "Private room",
           "Brooklyn"
          ],
          [
           "Private room",
           "Brooklyn"
          ],
          [
           "Entire home/apt",
           "Manhattan"
          ],
          [
           "Entire home/apt",
           "Manhattan"
          ],
          [
           "Private room",
           "Manhattan"
          ],
          [
           "Entire home/apt",
           "Manhattan"
          ],
          [
           "Private room",
           "Brooklyn"
          ],
          [
           "Entire home/apt",
           "Manhattan"
          ],
          [
           "Entire home/apt",
           "Brooklyn"
          ],
          [
           "Entire home/apt",
           "Brooklyn"
          ],
          [
           "Private room",
           "Brooklyn"
          ],
          [
           "Entire home/apt",
           "Brooklyn"
          ],
          [
           "Private room",
           "Manhattan"
          ],
          [
           "Private room",
           "Brooklyn"
          ],
          [
           "Entire home/apt",
           "Queens"
          ],
          [
           "Shared room",
           "Manhattan"
          ],
          [
           "Private room",
           "Manhattan"
          ],
          [
           "Entire home/apt",
           "Queens"
          ],
          [
           "Private room",
           "Brooklyn"
          ],
          [
           "Entire home/apt",
           "Manhattan"
          ],
          [
           "Private room",
           "Brooklyn"
          ],
          [
           "Entire home/apt",
           "Brooklyn"
          ],
          [
           "Entire home/apt",
           "Brooklyn"
          ],
          [
           "Private room",
           "Manhattan"
          ],
          [
           "Entire home/apt",
           "Manhattan"
          ],
          [
           "Private room",
           "Brooklyn"
          ],
          [
           "Private room",
           "Manhattan"
          ],
          [
           "Entire home/apt",
           "Manhattan"
          ],
          [
           "Entire home/apt",
           "Manhattan"
          ],
          [
           "Private room",
           "Brooklyn"
          ],
          [
           "Private room",
           "Manhattan"
          ],
          [
           "Entire home/apt",
           "Manhattan"
          ],
          [
           "Entire home/apt",
           "Manhattan"
          ],
          [
           "Private room",
           "Queens"
          ],
          [
           "Entire home/apt",
           "Bronx"
          ],
          [
           "Private room",
           "Brooklyn"
          ],
          [
           "Entire home/apt",
           "Manhattan"
          ],
          [
           "Entire home/apt",
           "Queens"
          ],
          [
           "Private room",
           "Queens"
          ],
          [
           "Entire home/apt",
           "Brooklyn"
          ],
          [
           "Private room",
           "Brooklyn"
          ],
          [
           "Private room",
           "Manhattan"
          ],
          [
           "Entire home/apt",
           "Manhattan"
          ],
          [
           "Entire home/apt",
           "Queens"
          ],
          [
           "Private room",
           "Queens"
          ],
          [
           "Entire home/apt",
           "Manhattan"
          ],
          [
           "Private room",
           "Brooklyn"
          ],
          [
           "Private room",
           "Manhattan"
          ],
          [
           "Private room",
           "Manhattan"
          ],
          [
           "Entire home/apt",
           "Staten Island"
          ],
          [
           "Private room",
           "Manhattan"
          ],
          [
           "Private room",
           "Brooklyn"
          ],
          [
           "Entire home/apt",
           "Manhattan"
          ],
          [
           "Entire home/apt",
           "Brooklyn"
          ],
          [
           "Entire home/apt",
           "Manhattan"
          ],
          [
           "Private room",
           "Brooklyn"
          ],
          [
           "Entire home/apt",
           "Manhattan"
          ],
          [
           "Private room",
           "Brooklyn"
          ],
          [
           "Entire home/apt",
           "Brooklyn"
          ],
          [
           "Private room",
           "Brooklyn"
          ],
          [
           "Private room",
           "Brooklyn"
          ],
          [
           "Entire home/apt",
           "Manhattan"
          ],
          [
           "Entire home/apt",
           "Manhattan"
          ],
          [
           "Entire home/apt",
           "Bronx"
          ],
          [
           "Entire home/apt",
           "Manhattan"
          ],
          [
           "Private room",
           "Brooklyn"
          ],
          [
           "Entire home/apt",
           "Manhattan"
          ],
          [
           "Entire home/apt",
           "Manhattan"
          ],
          [
           "Private room",
           "Brooklyn"
          ],
          [
           "Private room",
           "Manhattan"
          ],
          [
           "Entire home/apt",
           "Brooklyn"
          ],
          [
           "Entire home/apt",
           "Brooklyn"
          ],
          [
           "Private room",
           "Brooklyn"
          ],
          [
           "Entire home/apt",
           "Manhattan"
          ],
          [
           "Private room",
           "Brooklyn"
          ],
          [
           "Private room",
           "Manhattan"
          ],
          [
           "Entire home/apt",
           "Brooklyn"
          ],
          [
           "Shared room",
           "Manhattan"
          ],
          [
           "Entire home/apt",
           "Manhattan"
          ],
          [
           "Entire home/apt",
           "Brooklyn"
          ],
          [
           "Private room",
           "Brooklyn"
          ],
          [
           "Private room",
           "Brooklyn"
          ],
          [
           "Private room",
           "Brooklyn"
          ],
          [
           "Private room",
           "Brooklyn"
          ],
          [
           "Private room",
           "Manhattan"
          ],
          [
           "Private room",
           "Queens"
          ],
          [
           "Entire home/apt",
           "Manhattan"
          ],
          [
           "Private room",
           "Manhattan"
          ],
          [
           "Private room",
           "Manhattan"
          ],
          [
           "Private room",
           "Queens"
          ],
          [
           "Entire home/apt",
           "Brooklyn"
          ],
          [
           "Entire home/apt",
           "Brooklyn"
          ],
          [
           "Private room",
           "Brooklyn"
          ],
          [
           "Entire home/apt",
           "Manhattan"
          ],
          [
           "Private room",
           "Manhattan"
          ],
          [
           "Private room",
           "Manhattan"
          ],
          [
           "Private room",
           "Queens"
          ],
          [
           "Private room",
           "Brooklyn"
          ],
          [
           "Private room",
           "Brooklyn"
          ],
          [
           "Entire home/apt",
           "Manhattan"
          ],
          [
           "Private room",
           "Manhattan"
          ],
          [
           "Entire home/apt",
           "Staten Island"
          ],
          [
           "Private room",
           "Brooklyn"
          ],
          [
           "Private room",
           "Brooklyn"
          ],
          [
           "Entire home/apt",
           "Brooklyn"
          ],
          [
           "Private room",
           "Brooklyn"
          ],
          [
           "Entire home/apt",
           "Brooklyn"
          ],
          [
           "Entire home/apt",
           "Manhattan"
          ],
          [
           "Entire home/apt",
           "Manhattan"
          ],
          [
           "Entire home/apt",
           "Manhattan"
          ],
          [
           "Shared room",
           "Queens"
          ],
          [
           "Entire home/apt",
           "Manhattan"
          ],
          [
           "Entire home/apt",
           "Brooklyn"
          ],
          [
           "Private room",
           "Brooklyn"
          ],
          [
           "Private room",
           "Bronx"
          ],
          [
           "Private room",
           "Brooklyn"
          ],
          [
           "Private room",
           "Brooklyn"
          ],
          [
           "Private room",
           "Brooklyn"
          ],
          [
           "Private room",
           "Manhattan"
          ],
          [
           "Entire home/apt",
           "Brooklyn"
          ],
          [
           "Entire home/apt",
           "Manhattan"
          ],
          [
           "Entire home/apt",
           "Brooklyn"
          ],
          [
           "Entire home/apt",
           "Manhattan"
          ],
          [
           "Entire home/apt",
           "Manhattan"
          ],
          [
           "Private room",
           "Queens"
          ],
          [
           "Entire home/apt",
           "Queens"
          ],
          [
           "Private room",
           "Brooklyn"
          ],
          [
           "Private room",
           "Brooklyn"
          ],
          [
           "Private room",
           "Manhattan"
          ],
          [
           "Entire home/apt",
           "Manhattan"
          ],
          [
           "Entire home/apt",
           "Brooklyn"
          ],
          [
           "Private room",
           "Manhattan"
          ],
          [
           "Private room",
           "Brooklyn"
          ],
          [
           "Private room",
           "Queens"
          ],
          [
           "Private room",
           "Manhattan"
          ],
          [
           "Private room",
           "Manhattan"
          ],
          [
           "Private room",
           "Brooklyn"
          ],
          [
           "Entire home/apt",
           "Manhattan"
          ],
          [
           "Private room",
           "Brooklyn"
          ],
          [
           "Entire home/apt",
           "Manhattan"
          ],
          [
           "Private room",
           "Manhattan"
          ],
          [
           "Private room",
           "Brooklyn"
          ],
          [
           "Private room",
           "Manhattan"
          ],
          [
           "Private room",
           "Brooklyn"
          ],
          [
           "Private room",
           "Brooklyn"
          ],
          [
           "Private room",
           "Brooklyn"
          ],
          [
           "Private room",
           "Brooklyn"
          ],
          [
           "Entire home/apt",
           "Queens"
          ],
          [
           "Private room",
           "Brooklyn"
          ],
          [
           "Entire home/apt",
           "Queens"
          ],
          [
           "Entire home/apt",
           "Queens"
          ],
          [
           "Entire home/apt",
           "Manhattan"
          ],
          [
           "Entire home/apt",
           "Manhattan"
          ],
          [
           "Entire home/apt",
           "Manhattan"
          ],
          [
           "Entire home/apt",
           "Manhattan"
          ],
          [
           "Entire home/apt",
           "Manhattan"
          ],
          [
           "Private room",
           "Manhattan"
          ],
          [
           "Entire home/apt",
           "Manhattan"
          ],
          [
           "Private room",
           "Brooklyn"
          ],
          [
           "Entire home/apt",
           "Manhattan"
          ],
          [
           "Entire home/apt",
           "Queens"
          ],
          [
           "Entire home/apt",
           "Brooklyn"
          ],
          [
           "Entire home/apt",
           "Manhattan"
          ],
          [
           "Entire home/apt",
           "Manhattan"
          ],
          [
           "Private room",
           "Brooklyn"
          ],
          [
           "Entire home/apt",
           "Queens"
          ],
          [
           "Private room",
           "Manhattan"
          ],
          [
           "Private room",
           "Bronx"
          ],
          [
           "Private room",
           "Brooklyn"
          ],
          [
           "Entire home/apt",
           "Manhattan"
          ],
          [
           "Entire home/apt",
           "Manhattan"
          ],
          [
           "Entire home/apt",
           "Manhattan"
          ],
          [
           "Entire home/apt",
           "Manhattan"
          ],
          [
           "Private room",
           "Brooklyn"
          ],
          [
           "Private room",
           "Brooklyn"
          ],
          [
           "Entire home/apt",
           "Manhattan"
          ],
          [
           "Private room",
           "Manhattan"
          ],
          [
           "Private room",
           "Manhattan"
          ],
          [
           "Private room",
           "Brooklyn"
          ],
          [
           "Private room",
           "Queens"
          ],
          [
           "Private room",
           "Queens"
          ],
          [
           "Entire home/apt",
           "Brooklyn"
          ],
          [
           "Entire home/apt",
           "Manhattan"
          ],
          [
           "Private room",
           "Manhattan"
          ],
          [
           "Entire home/apt",
           "Queens"
          ],
          [
           "Private room",
           "Manhattan"
          ],
          [
           "Entire home/apt",
           "Manhattan"
          ],
          [
           "Entire home/apt",
           "Brooklyn"
          ],
          [
           "Entire home/apt",
           "Manhattan"
          ],
          [
           "Private room",
           "Manhattan"
          ],
          [
           "Entire home/apt",
           "Brooklyn"
          ],
          [
           "Private room",
           "Queens"
          ],
          [
           "Private room",
           "Manhattan"
          ],
          [
           "Entire home/apt",
           "Brooklyn"
          ],
          [
           "Entire home/apt",
           "Manhattan"
          ],
          [
           "Private room",
           "Manhattan"
          ],
          [
           "Entire home/apt",
           "Manhattan"
          ],
          [
           "Entire home/apt",
           "Manhattan"
          ],
          [
           "Private room",
           "Queens"
          ],
          [
           "Private room",
           "Brooklyn"
          ],
          [
           "Entire home/apt",
           "Brooklyn"
          ],
          [
           "Entire home/apt",
           "Manhattan"
          ],
          [
           "Entire home/apt",
           "Manhattan"
          ],
          [
           "Entire home/apt",
           "Queens"
          ],
          [
           "Entire home/apt",
           "Manhattan"
          ],
          [
           "Private room",
           "Manhattan"
          ],
          [
           "Private room",
           "Queens"
          ],
          [
           "Entire home/apt",
           "Manhattan"
          ],
          [
           "Private room",
           "Bronx"
          ],
          [
           "Entire home/apt",
           "Manhattan"
          ],
          [
           "Entire home/apt",
           "Manhattan"
          ],
          [
           "Private room",
           "Brooklyn"
          ],
          [
           "Private room",
           "Manhattan"
          ],
          [
           "Entire home/apt",
           "Brooklyn"
          ],
          [
           "Entire home/apt",
           "Manhattan"
          ],
          [
           "Private room",
           "Manhattan"
          ],
          [
           "Private room",
           "Manhattan"
          ],
          [
           "Private room",
           "Brooklyn"
          ],
          [
           "Entire home/apt",
           "Brooklyn"
          ],
          [
           "Entire home/apt",
           "Manhattan"
          ],
          [
           "Private room",
           "Brooklyn"
          ],
          [
           "Private room",
           "Brooklyn"
          ],
          [
           "Entire home/apt",
           "Queens"
          ],
          [
           "Private room",
           "Queens"
          ],
          [
           "Private room",
           "Queens"
          ],
          [
           "Entire home/apt",
           "Manhattan"
          ],
          [
           "Entire home/apt",
           "Brooklyn"
          ],
          [
           "Entire home/apt",
           "Brooklyn"
          ],
          [
           "Private room",
           "Brooklyn"
          ],
          [
           "Entire home/apt",
           "Brooklyn"
          ],
          [
           "Entire home/apt",
           "Manhattan"
          ],
          [
           "Entire home/apt",
           "Manhattan"
          ],
          [
           "Entire home/apt",
           "Manhattan"
          ],
          [
           "Entire home/apt",
           "Brooklyn"
          ],
          [
           "Entire home/apt",
           "Brooklyn"
          ],
          [
           "Entire home/apt",
           "Brooklyn"
          ],
          [
           "Entire home/apt",
           "Brooklyn"
          ],
          [
           "Private room",
           "Bronx"
          ],
          [
           "Entire home/apt",
           "Brooklyn"
          ],
          [
           "Private room",
           "Manhattan"
          ],
          [
           "Private room",
           "Brooklyn"
          ],
          [
           "Private room",
           "Brooklyn"
          ],
          [
           "Private room",
           "Manhattan"
          ],
          [
           "Private room",
           "Queens"
          ],
          [
           "Entire home/apt",
           "Manhattan"
          ],
          [
           "Entire home/apt",
           "Manhattan"
          ],
          [
           "Private room",
           "Manhattan"
          ],
          [
           "Entire home/apt",
           "Brooklyn"
          ],
          [
           "Private room",
           "Brooklyn"
          ],
          [
           "Entire home/apt",
           "Brooklyn"
          ],
          [
           "Shared room",
           "Manhattan"
          ],
          [
           "Private room",
           "Queens"
          ],
          [
           "Private room",
           "Manhattan"
          ],
          [
           "Entire home/apt",
           "Manhattan"
          ],
          [
           "Private room",
           "Queens"
          ],
          [
           "Entire home/apt",
           "Queens"
          ],
          [
           "Private room",
           "Manhattan"
          ],
          [
           "Entire home/apt",
           "Queens"
          ],
          [
           "Entire home/apt",
           "Manhattan"
          ],
          [
           "Entire home/apt",
           "Manhattan"
          ],
          [
           "Entire home/apt",
           "Brooklyn"
          ],
          [
           "Entire home/apt",
           "Brooklyn"
          ],
          [
           "Entire home/apt",
           "Queens"
          ],
          [
           "Entire home/apt",
           "Manhattan"
          ],
          [
           "Private room",
           "Manhattan"
          ],
          [
           "Private room",
           "Brooklyn"
          ],
          [
           "Entire home/apt",
           "Manhattan"
          ],
          [
           "Entire home/apt",
           "Brooklyn"
          ],
          [
           "Entire home/apt",
           "Brooklyn"
          ],
          [
           "Entire home/apt",
           "Manhattan"
          ],
          [
           "Entire home/apt",
           "Manhattan"
          ],
          [
           "Entire home/apt",
           "Manhattan"
          ],
          [
           "Private room",
           "Brooklyn"
          ],
          [
           "Entire home/apt",
           "Brooklyn"
          ],
          [
           "Entire home/apt",
           "Queens"
          ],
          [
           "Entire home/apt",
           "Manhattan"
          ],
          [
           "Entire home/apt",
           "Brooklyn"
          ],
          [
           "Entire home/apt",
           "Manhattan"
          ],
          [
           "Entire home/apt",
           "Queens"
          ],
          [
           "Private room",
           "Manhattan"
          ],
          [
           "Entire home/apt",
           "Brooklyn"
          ],
          [
           "Entire home/apt",
           "Brooklyn"
          ],
          [
           "Entire home/apt",
           "Manhattan"
          ],
          [
           "Entire home/apt",
           "Manhattan"
          ],
          [
           "Private room",
           "Brooklyn"
          ],
          [
           "Entire home/apt",
           "Bronx"
          ],
          [
           "Entire home/apt",
           "Manhattan"
          ],
          [
           "Entire home/apt",
           "Brooklyn"
          ],
          [
           "Private room",
           "Brooklyn"
          ],
          [
           "Private room",
           "Manhattan"
          ],
          [
           "Private room",
           "Manhattan"
          ],
          [
           "Private room",
           "Queens"
          ],
          [
           "Entire home/apt",
           "Brooklyn"
          ],
          [
           "Private room",
           "Brooklyn"
          ],
          [
           "Private room",
           "Queens"
          ],
          [
           "Entire home/apt",
           "Bronx"
          ],
          [
           "Private room",
           "Queens"
          ],
          [
           "Entire home/apt",
           "Manhattan"
          ],
          [
           "Entire home/apt",
           "Manhattan"
          ],
          [
           "Private room",
           "Manhattan"
          ],
          [
           "Private room",
           "Brooklyn"
          ],
          [
           "Entire home/apt",
           "Manhattan"
          ],
          [
           "Entire home/apt",
           "Manhattan"
          ],
          [
           "Entire home/apt",
           "Manhattan"
          ],
          [
           "Entire home/apt",
           "Brooklyn"
          ],
          [
           "Private room",
           "Brooklyn"
          ],
          [
           "Private room",
           "Brooklyn"
          ],
          [
           "Private room",
           "Brooklyn"
          ],
          [
           "Entire home/apt",
           "Manhattan"
          ],
          [
           "Entire home/apt",
           "Manhattan"
          ],
          [
           "Private room",
           "Queens"
          ],
          [
           "Entire home/apt",
           "Brooklyn"
          ],
          [
           "Entire home/apt",
           "Manhattan"
          ],
          [
           "Private room",
           "Manhattan"
          ],
          [
           "Private room",
           "Manhattan"
          ],
          [
           "Entire home/apt",
           "Brooklyn"
          ],
          [
           "Private room",
           "Brooklyn"
          ],
          [
           "Private room",
           "Brooklyn"
          ],
          [
           "Private room",
           "Manhattan"
          ],
          [
           "Private room",
           "Brooklyn"
          ],
          [
           "Private room",
           "Bronx"
          ],
          [
           "Entire home/apt",
           "Brooklyn"
          ],
          [
           "Entire home/apt",
           "Queens"
          ],
          [
           "Private room",
           "Manhattan"
          ],
          [
           "Private room",
           "Manhattan"
          ],
          [
           "Entire home/apt",
           "Queens"
          ],
          [
           "Private room",
           "Queens"
          ],
          [
           "Entire home/apt",
           "Manhattan"
          ],
          [
           "Entire home/apt",
           "Brooklyn"
          ],
          [
           "Private room",
           "Brooklyn"
          ],
          [
           "Private room",
           "Brooklyn"
          ],
          [
           "Entire home/apt",
           "Queens"
          ],
          [
           "Entire home/apt",
           "Brooklyn"
          ],
          [
           "Private room",
           "Brooklyn"
          ],
          [
           "Entire home/apt",
           "Manhattan"
          ],
          [
           "Entire home/apt",
           "Brooklyn"
          ],
          [
           "Private room",
           "Brooklyn"
          ],
          [
           "Entire home/apt",
           "Brooklyn"
          ],
          [
           "Entire home/apt",
           "Queens"
          ],
          [
           "Private room",
           "Manhattan"
          ],
          [
           "Entire home/apt",
           "Manhattan"
          ],
          [
           "Entire home/apt",
           "Brooklyn"
          ],
          [
           "Entire home/apt",
           "Brooklyn"
          ],
          [
           "Private room",
           "Manhattan"
          ],
          [
           "Private room",
           "Brooklyn"
          ],
          [
           "Private room",
           "Manhattan"
          ],
          [
           "Entire home/apt",
           "Manhattan"
          ],
          [
           "Private room",
           "Manhattan"
          ],
          [
           "Entire home/apt",
           "Manhattan"
          ],
          [
           "Entire home/apt",
           "Brooklyn"
          ],
          [
           "Private room",
           "Brooklyn"
          ],
          [
           "Private room",
           "Manhattan"
          ],
          [
           "Entire home/apt",
           "Manhattan"
          ],
          [
           "Entire home/apt",
           "Manhattan"
          ],
          [
           "Shared room",
           "Manhattan"
          ],
          [
           "Entire home/apt",
           "Manhattan"
          ],
          [
           "Private room",
           "Queens"
          ],
          [
           "Private room",
           "Manhattan"
          ],
          [
           "Private room",
           "Brooklyn"
          ],
          [
           "Private room",
           "Manhattan"
          ],
          [
           "Entire home/apt",
           "Brooklyn"
          ],
          [
           "Private room",
           "Queens"
          ],
          [
           "Entire home/apt",
           "Manhattan"
          ],
          [
           "Private room",
           "Manhattan"
          ],
          [
           "Entire home/apt",
           "Brooklyn"
          ],
          [
           "Private room",
           "Manhattan"
          ],
          [
           "Entire home/apt",
           "Brooklyn"
          ],
          [
           "Private room",
           "Brooklyn"
          ],
          [
           "Private room",
           "Queens"
          ],
          [
           "Private room",
           "Brooklyn"
          ],
          [
           "Entire home/apt",
           "Manhattan"
          ],
          [
           "Private room",
           "Manhattan"
          ],
          [
           "Entire home/apt",
           "Brooklyn"
          ],
          [
           "Entire home/apt",
           "Manhattan"
          ],
          [
           "Entire home/apt",
           "Manhattan"
          ],
          [
           "Private room",
           "Queens"
          ],
          [
           "Private room",
           "Manhattan"
          ],
          [
           "Entire home/apt",
           "Manhattan"
          ],
          [
           "Entire home/apt",
           "Manhattan"
          ],
          [
           "Private room",
           "Brooklyn"
          ],
          [
           "Private room",
           "Brooklyn"
          ],
          [
           "Entire home/apt",
           "Brooklyn"
          ],
          [
           "Entire home/apt",
           "Brooklyn"
          ],
          [
           "Private room",
           "Brooklyn"
          ],
          [
           "Private room",
           "Queens"
          ],
          [
           "Entire home/apt",
           "Manhattan"
          ],
          [
           "Entire home/apt",
           "Staten Island"
          ],
          [
           "Entire home/apt",
           "Queens"
          ],
          [
           "Entire home/apt",
           "Manhattan"
          ],
          [
           "Entire home/apt",
           "Manhattan"
          ],
          [
           "Entire home/apt",
           "Brooklyn"
          ],
          [
           "Private room",
           "Manhattan"
          ],
          [
           "Entire home/apt",
           "Manhattan"
          ],
          [
           "Entire home/apt",
           "Brooklyn"
          ],
          [
           "Entire home/apt",
           "Brooklyn"
          ],
          [
           "Entire home/apt",
           "Brooklyn"
          ],
          [
           "Entire home/apt",
           "Manhattan"
          ],
          [
           "Entire home/apt",
           "Brooklyn"
          ],
          [
           "Entire home/apt",
           "Manhattan"
          ],
          [
           "Entire home/apt",
           "Brooklyn"
          ],
          [
           "Entire home/apt",
           "Queens"
          ],
          [
           "Entire home/apt",
           "Manhattan"
          ],
          [
           "Entire home/apt",
           "Brooklyn"
          ],
          [
           "Entire home/apt",
           "Manhattan"
          ],
          [
           "Entire home/apt",
           "Brooklyn"
          ],
          [
           "Private room",
           "Brooklyn"
          ],
          [
           "Private room",
           "Queens"
          ],
          [
           "Entire home/apt",
           "Manhattan"
          ],
          [
           "Entire home/apt",
           "Manhattan"
          ],
          [
           "Entire home/apt",
           "Manhattan"
          ],
          [
           "Private room",
           "Queens"
          ],
          [
           "Private room",
           "Queens"
          ],
          [
           "Entire home/apt",
           "Manhattan"
          ],
          [
           "Private room",
           "Queens"
          ],
          [
           "Entire home/apt",
           "Manhattan"
          ],
          [
           "Entire home/apt",
           "Brooklyn"
          ],
          [
           "Entire home/apt",
           "Brooklyn"
          ],
          [
           "Private room",
           "Queens"
          ],
          [
           "Entire home/apt",
           "Manhattan"
          ],
          [
           "Entire home/apt",
           "Manhattan"
          ],
          [
           "Entire home/apt",
           "Manhattan"
          ],
          [
           "Entire home/apt",
           "Brooklyn"
          ],
          [
           "Entire home/apt",
           "Bronx"
          ],
          [
           "Private room",
           "Brooklyn"
          ],
          [
           "Private room",
           "Queens"
          ],
          [
           "Entire home/apt",
           "Queens"
          ],
          [
           "Private room",
           "Manhattan"
          ],
          [
           "Entire home/apt",
           "Brooklyn"
          ],
          [
           "Entire home/apt",
           "Brooklyn"
          ],
          [
           "Private room",
           "Manhattan"
          ],
          [
           "Entire home/apt",
           "Manhattan"
          ],
          [
           "Private room",
           "Manhattan"
          ],
          [
           "Private room",
           "Manhattan"
          ],
          [
           "Entire home/apt",
           "Brooklyn"
          ],
          [
           "Entire home/apt",
           "Bronx"
          ],
          [
           "Entire home/apt",
           "Brooklyn"
          ],
          [
           "Private room",
           "Manhattan"
          ],
          [
           "Entire home/apt",
           "Queens"
          ],
          [
           "Entire home/apt",
           "Manhattan"
          ],
          [
           "Private room",
           "Manhattan"
          ],
          [
           "Private room",
           "Brooklyn"
          ],
          [
           "Private room",
           "Manhattan"
          ],
          [
           "Entire home/apt",
           "Manhattan"
          ],
          [
           "Entire home/apt",
           "Manhattan"
          ],
          [
           "Private room",
           "Manhattan"
          ],
          [
           "Entire home/apt",
           "Queens"
          ],
          [
           "Entire home/apt",
           "Brooklyn"
          ],
          [
           "Private room",
           "Brooklyn"
          ],
          [
           "Shared room",
           "Brooklyn"
          ],
          [
           "Private room",
           "Brooklyn"
          ],
          [
           "Entire home/apt",
           "Brooklyn"
          ],
          [
           "Entire home/apt",
           "Brooklyn"
          ],
          [
           "Private room",
           "Manhattan"
          ],
          [
           "Entire home/apt",
           "Manhattan"
          ],
          [
           "Private room",
           "Manhattan"
          ],
          [
           "Private room",
           "Manhattan"
          ],
          [
           "Private room",
           "Staten Island"
          ],
          [
           "Entire home/apt",
           "Manhattan"
          ],
          [
           "Entire home/apt",
           "Brooklyn"
          ],
          [
           "Private room",
           "Manhattan"
          ],
          [
           "Entire home/apt",
           "Brooklyn"
          ],
          [
           "Private room",
           "Brooklyn"
          ],
          [
           "Shared room",
           "Brooklyn"
          ],
          [
           "Private room",
           "Brooklyn"
          ],
          [
           "Private room",
           "Brooklyn"
          ],
          [
           "Private room",
           "Manhattan"
          ],
          [
           "Entire home/apt",
           "Manhattan"
          ],
          [
           "Entire home/apt",
           "Manhattan"
          ],
          [
           "Private room",
           "Manhattan"
          ],
          [
           "Private room",
           "Manhattan"
          ],
          [
           "Shared room",
           "Manhattan"
          ],
          [
           "Entire home/apt",
           "Manhattan"
          ],
          [
           "Entire home/apt",
           "Manhattan"
          ],
          [
           "Private room",
           "Manhattan"
          ],
          [
           "Private room",
           "Brooklyn"
          ],
          [
           "Private room",
           "Brooklyn"
          ],
          [
           "Private room",
           "Queens"
          ],
          [
           "Private room",
           "Bronx"
          ],
          [
           "Entire home/apt",
           "Manhattan"
          ],
          [
           "Private room",
           "Manhattan"
          ],
          [
           "Entire home/apt",
           "Queens"
          ],
          [
           "Private room",
           "Manhattan"
          ],
          [
           "Entire home/apt",
           "Manhattan"
          ],
          [
           "Entire home/apt",
           "Brooklyn"
          ],
          [
           "Entire home/apt",
           "Manhattan"
          ],
          [
           "Private room",
           "Queens"
          ],
          [
           "Entire home/apt",
           "Manhattan"
          ],
          [
           "Entire home/apt",
           "Manhattan"
          ],
          [
           "Private room",
           "Brooklyn"
          ],
          [
           "Private room",
           "Manhattan"
          ],
          [
           "Entire home/apt",
           "Bronx"
          ],
          [
           "Private room",
           "Manhattan"
          ],
          [
           "Private room",
           "Manhattan"
          ],
          [
           "Entire home/apt",
           "Queens"
          ],
          [
           "Private room",
           "Brooklyn"
          ],
          [
           "Private room",
           "Brooklyn"
          ],
          [
           "Entire home/apt",
           "Brooklyn"
          ],
          [
           "Entire home/apt",
           "Manhattan"
          ],
          [
           "Private room",
           "Manhattan"
          ],
          [
           "Entire home/apt",
           "Queens"
          ],
          [
           "Private room",
           "Brooklyn"
          ],
          [
           "Entire home/apt",
           "Brooklyn"
          ],
          [
           "Private room",
           "Manhattan"
          ],
          [
           "Private room",
           "Queens"
          ],
          [
           "Entire home/apt",
           "Brooklyn"
          ],
          [
           "Private room",
           "Queens"
          ],
          [
           "Private room",
           "Brooklyn"
          ],
          [
           "Entire home/apt",
           "Manhattan"
          ],
          [
           "Entire home/apt",
           "Brooklyn"
          ],
          [
           "Private room",
           "Queens"
          ],
          [
           "Entire home/apt",
           "Queens"
          ],
          [
           "Private room",
           "Brooklyn"
          ],
          [
           "Entire home/apt",
           "Manhattan"
          ],
          [
           "Private room",
           "Manhattan"
          ],
          [
           "Entire home/apt",
           "Manhattan"
          ],
          [
           "Entire home/apt",
           "Brooklyn"
          ],
          [
           "Entire home/apt",
           "Staten Island"
          ],
          [
           "Private room",
           "Manhattan"
          ],
          [
           "Private room",
           "Queens"
          ],
          [
           "Entire home/apt",
           "Manhattan"
          ],
          [
           "Entire home/apt",
           "Bronx"
          ],
          [
           "Entire home/apt",
           "Manhattan"
          ],
          [
           "Private room",
           "Brooklyn"
          ],
          [
           "Private room",
           "Brooklyn"
          ],
          [
           "Entire home/apt",
           "Brooklyn"
          ],
          [
           "Private room",
           "Brooklyn"
          ],
          [
           "Entire home/apt",
           "Manhattan"
          ],
          [
           "Entire home/apt",
           "Queens"
          ],
          [
           "Entire home/apt",
           "Manhattan"
          ],
          [
           "Entire home/apt",
           "Queens"
          ],
          [
           "Private room",
           "Manhattan"
          ],
          [
           "Entire home/apt",
           "Brooklyn"
          ],
          [
           "Entire home/apt",
           "Manhattan"
          ],
          [
           "Private room",
           "Manhattan"
          ],
          [
           "Private room",
           "Manhattan"
          ],
          [
           "Entire home/apt",
           "Brooklyn"
          ],
          [
           "Private room",
           "Manhattan"
          ],
          [
           "Private room",
           "Manhattan"
          ],
          [
           "Private room",
           "Brooklyn"
          ],
          [
           "Entire home/apt",
           "Queens"
          ],
          [
           "Entire home/apt",
           "Brooklyn"
          ],
          [
           "Entire home/apt",
           "Queens"
          ],
          [
           "Private room",
           "Brooklyn"
          ],
          [
           "Entire home/apt",
           "Manhattan"
          ],
          [
           "Entire home/apt",
           "Manhattan"
          ],
          [
           "Entire home/apt",
           "Manhattan"
          ],
          [
           "Entire home/apt",
           "Manhattan"
          ],
          [
           "Shared room",
           "Manhattan"
          ],
          [
           "Entire home/apt",
           "Brooklyn"
          ],
          [
           "Entire home/apt",
           "Brooklyn"
          ],
          [
           "Entire home/apt",
           "Brooklyn"
          ],
          [
           "Entire home/apt",
           "Manhattan"
          ],
          [
           "Private room",
           "Manhattan"
          ],
          [
           "Private room",
           "Queens"
          ],
          [
           "Entire home/apt",
           "Brooklyn"
          ],
          [
           "Private room",
           "Manhattan"
          ],
          [
           "Private room",
           "Bronx"
          ],
          [
           "Entire home/apt",
           "Brooklyn"
          ],
          [
           "Entire home/apt",
           "Brooklyn"
          ],
          [
           "Entire home/apt",
           "Brooklyn"
          ],
          [
           "Private room",
           "Queens"
          ],
          [
           "Private room",
           "Brooklyn"
          ],
          [
           "Private room",
           "Manhattan"
          ],
          [
           "Private room",
           "Brooklyn"
          ],
          [
           "Entire home/apt",
           "Manhattan"
          ],
          [
           "Entire home/apt",
           "Brooklyn"
          ],
          [
           "Shared room",
           "Manhattan"
          ],
          [
           "Entire home/apt",
           "Manhattan"
          ],
          [
           "Private room",
           "Brooklyn"
          ],
          [
           "Private room",
           "Brooklyn"
          ],
          [
           "Private room",
           "Queens"
          ],
          [
           "Entire home/apt",
           "Brooklyn"
          ],
          [
           "Entire home/apt",
           "Manhattan"
          ],
          [
           "Private room",
           "Brooklyn"
          ],
          [
           "Private room",
           "Brooklyn"
          ],
          [
           "Entire home/apt",
           "Brooklyn"
          ],
          [
           "Entire home/apt",
           "Brooklyn"
          ],
          [
           "Shared room",
           "Manhattan"
          ],
          [
           "Entire home/apt",
           "Manhattan"
          ],
          [
           "Entire home/apt",
           "Manhattan"
          ],
          [
           "Entire home/apt",
           "Manhattan"
          ],
          [
           "Entire home/apt",
           "Brooklyn"
          ],
          [
           "Entire home/apt",
           "Brooklyn"
          ],
          [
           "Entire home/apt",
           "Manhattan"
          ],
          [
           "Entire home/apt",
           "Manhattan"
          ],
          [
           "Entire home/apt",
           "Manhattan"
          ],
          [
           "Private room",
           "Bronx"
          ],
          [
           "Private room",
           "Brooklyn"
          ],
          [
           "Entire home/apt",
           "Queens"
          ],
          [
           "Private room",
           "Manhattan"
          ],
          [
           "Entire home/apt",
           "Brooklyn"
          ],
          [
           "Shared room",
           "Queens"
          ],
          [
           "Private room",
           "Brooklyn"
          ],
          [
           "Entire home/apt",
           "Brooklyn"
          ],
          [
           "Private room",
           "Manhattan"
          ],
          [
           "Private room",
           "Brooklyn"
          ],
          [
           "Private room",
           "Manhattan"
          ],
          [
           "Entire home/apt",
           "Brooklyn"
          ],
          [
           "Entire home/apt",
           "Manhattan"
          ],
          [
           "Private room",
           "Queens"
          ],
          [
           "Entire home/apt",
           "Brooklyn"
          ],
          [
           "Private room",
           "Queens"
          ],
          [
           "Private room",
           "Manhattan"
          ],
          [
           "Shared room",
           "Brooklyn"
          ],
          [
           "Private room",
           "Brooklyn"
          ],
          [
           "Private room",
           "Bronx"
          ],
          [
           "Private room",
           "Manhattan"
          ],
          [
           "Entire home/apt",
           "Manhattan"
          ],
          [
           "Private room",
           "Manhattan"
          ],
          [
           "Entire home/apt",
           "Brooklyn"
          ],
          [
           "Private room",
           "Brooklyn"
          ],
          [
           "Private room",
           "Brooklyn"
          ],
          [
           "Private room",
           "Brooklyn"
          ],
          [
           "Private room",
           "Brooklyn"
          ],
          [
           "Private room",
           "Manhattan"
          ],
          [
           "Entire home/apt",
           "Brooklyn"
          ],
          [
           "Private room",
           "Brooklyn"
          ],
          [
           "Entire home/apt",
           "Brooklyn"
          ],
          [
           "Entire home/apt",
           "Queens"
          ],
          [
           "Private room",
           "Manhattan"
          ],
          [
           "Entire home/apt",
           "Queens"
          ],
          [
           "Private room",
           "Manhattan"
          ],
          [
           "Entire home/apt",
           "Manhattan"
          ],
          [
           "Private room",
           "Queens"
          ],
          [
           "Entire home/apt",
           "Brooklyn"
          ],
          [
           "Entire home/apt",
           "Manhattan"
          ],
          [
           "Private room",
           "Brooklyn"
          ],
          [
           "Private room",
           "Queens"
          ],
          [
           "Entire home/apt",
           "Queens"
          ],
          [
           "Entire home/apt",
           "Queens"
          ],
          [
           "Private room",
           "Brooklyn"
          ],
          [
           "Entire home/apt",
           "Queens"
          ],
          [
           "Entire home/apt",
           "Brooklyn"
          ],
          [
           "Entire home/apt",
           "Brooklyn"
          ],
          [
           "Entire home/apt",
           "Manhattan"
          ],
          [
           "Entire home/apt",
           "Manhattan"
          ],
          [
           "Entire home/apt",
           "Manhattan"
          ],
          [
           "Entire home/apt",
           "Manhattan"
          ],
          [
           "Private room",
           "Brooklyn"
          ],
          [
           "Private room",
           "Brooklyn"
          ],
          [
           "Private room",
           "Brooklyn"
          ],
          [
           "Entire home/apt",
           "Manhattan"
          ],
          [
           "Entire home/apt",
           "Brooklyn"
          ],
          [
           "Private room",
           "Brooklyn"
          ],
          [
           "Private room",
           "Manhattan"
          ],
          [
           "Entire home/apt",
           "Brooklyn"
          ],
          [
           "Private room",
           "Brooklyn"
          ],
          [
           "Private room",
           "Brooklyn"
          ],
          [
           "Private room",
           "Queens"
          ],
          [
           "Private room",
           "Brooklyn"
          ],
          [
           "Entire home/apt",
           "Manhattan"
          ],
          [
           "Entire home/apt",
           "Manhattan"
          ],
          [
           "Private room",
           "Queens"
          ],
          [
           "Private room",
           "Manhattan"
          ],
          [
           "Private room",
           "Brooklyn"
          ],
          [
           "Entire home/apt",
           "Manhattan"
          ],
          [
           "Entire home/apt",
           "Brooklyn"
          ],
          [
           "Private room",
           "Brooklyn"
          ],
          [
           "Private room",
           "Manhattan"
          ],
          [
           "Entire home/apt",
           "Manhattan"
          ],
          [
           "Private room",
           "Brooklyn"
          ],
          [
           "Private room",
           "Queens"
          ],
          [
           "Entire home/apt",
           "Brooklyn"
          ],
          [
           "Private room",
           "Manhattan"
          ],
          [
           "Private room",
           "Manhattan"
          ],
          [
           "Private room",
           "Brooklyn"
          ],
          [
           "Private room",
           "Queens"
          ],
          [
           "Private room",
           "Manhattan"
          ],
          [
           "Shared room",
           "Brooklyn"
          ],
          [
           "Entire home/apt",
           "Manhattan"
          ],
          [
           "Entire home/apt",
           "Manhattan"
          ],
          [
           "Entire home/apt",
           "Manhattan"
          ],
          [
           "Private room",
           "Queens"
          ],
          [
           "Private room",
           "Manhattan"
          ],
          [
           "Private room",
           "Brooklyn"
          ],
          [
           "Entire home/apt",
           "Brooklyn"
          ],
          [
           "Entire home/apt",
           "Manhattan"
          ],
          [
           "Private room",
           "Brooklyn"
          ],
          [
           "Private room",
           "Brooklyn"
          ],
          [
           "Private room",
           "Manhattan"
          ],
          [
           "Private room",
           "Brooklyn"
          ],
          [
           "Private room",
           "Manhattan"
          ],
          [
           "Private room",
           "Brooklyn"
          ],
          [
           "Entire home/apt",
           "Manhattan"
          ],
          [
           "Entire home/apt",
           "Brooklyn"
          ],
          [
           "Private room",
           "Bronx"
          ],
          [
           "Private room",
           "Brooklyn"
          ],
          [
           "Entire home/apt",
           "Manhattan"
          ],
          [
           "Entire home/apt",
           "Brooklyn"
          ],
          [
           "Private room",
           "Manhattan"
          ],
          [
           "Entire home/apt",
           "Brooklyn"
          ],
          [
           "Entire home/apt",
           "Brooklyn"
          ],
          [
           "Entire home/apt",
           "Manhattan"
          ],
          [
           "Private room",
           "Queens"
          ],
          [
           "Entire home/apt",
           "Manhattan"
          ],
          [
           "Private room",
           "Manhattan"
          ],
          [
           "Entire home/apt",
           "Manhattan"
          ],
          [
           "Private room",
           "Manhattan"
          ],
          [
           "Entire home/apt",
           "Manhattan"
          ],
          [
           "Private room",
           "Queens"
          ],
          [
           "Entire home/apt",
           "Manhattan"
          ],
          [
           "Private room",
           "Brooklyn"
          ],
          [
           "Private room",
           "Brooklyn"
          ],
          [
           "Entire home/apt",
           "Brooklyn"
          ],
          [
           "Private room",
           "Bronx"
          ],
          [
           "Entire home/apt",
           "Manhattan"
          ],
          [
           "Entire home/apt",
           "Manhattan"
          ],
          [
           "Entire home/apt",
           "Manhattan"
          ],
          [
           "Entire home/apt",
           "Manhattan"
          ],
          [
           "Private room",
           "Queens"
          ],
          [
           "Entire home/apt",
           "Brooklyn"
          ],
          [
           "Entire home/apt",
           "Brooklyn"
          ],
          [
           "Private room",
           "Manhattan"
          ],
          [
           "Entire home/apt",
           "Manhattan"
          ],
          [
           "Entire home/apt",
           "Brooklyn"
          ],
          [
           "Entire home/apt",
           "Brooklyn"
          ],
          [
           "Private room",
           "Manhattan"
          ],
          [
           "Entire home/apt",
           "Manhattan"
          ],
          [
           "Entire home/apt",
           "Brooklyn"
          ],
          [
           "Private room",
           "Manhattan"
          ],
          [
           "Entire home/apt",
           "Manhattan"
          ],
          [
           "Private room",
           "Brooklyn"
          ],
          [
           "Entire home/apt",
           "Brooklyn"
          ],
          [
           "Entire home/apt",
           "Manhattan"
          ],
          [
           "Private room",
           "Brooklyn"
          ],
          [
           "Private room",
           "Manhattan"
          ],
          [
           "Private room",
           "Bronx"
          ],
          [
           "Entire home/apt",
           "Brooklyn"
          ],
          [
           "Entire home/apt",
           "Brooklyn"
          ],
          [
           "Entire home/apt",
           "Brooklyn"
          ],
          [
           "Private room",
           "Manhattan"
          ],
          [
           "Private room",
           "Bronx"
          ],
          [
           "Private room",
           "Brooklyn"
          ],
          [
           "Private room",
           "Manhattan"
          ],
          [
           "Entire home/apt",
           "Brooklyn"
          ],
          [
           "Entire home/apt",
           "Manhattan"
          ],
          [
           "Entire home/apt",
           "Brooklyn"
          ],
          [
           "Private room",
           "Brooklyn"
          ],
          [
           "Private room",
           "Manhattan"
          ],
          [
           "Entire home/apt",
           "Brooklyn"
          ],
          [
           "Private room",
           "Brooklyn"
          ],
          [
           "Private room",
           "Queens"
          ],
          [
           "Private room",
           "Manhattan"
          ],
          [
           "Entire home/apt",
           "Manhattan"
          ],
          [
           "Private room",
           "Brooklyn"
          ],
          [
           "Private room",
           "Brooklyn"
          ],
          [
           "Private room",
           "Manhattan"
          ],
          [
           "Entire home/apt",
           "Manhattan"
          ],
          [
           "Private room",
           "Brooklyn"
          ],
          [
           "Private room",
           "Brooklyn"
          ],
          [
           "Private room",
           "Manhattan"
          ],
          [
           "Entire home/apt",
           "Manhattan"
          ],
          [
           "Private room",
           "Queens"
          ],
          [
           "Private room",
           "Manhattan"
          ],
          [
           "Entire home/apt",
           "Brooklyn"
          ],
          [
           "Entire home/apt",
           "Queens"
          ],
          [
           "Entire home/apt",
           "Brooklyn"
          ],
          [
           "Entire home/apt",
           "Brooklyn"
          ],
          [
           "Entire home/apt",
           "Manhattan"
          ],
          [
           "Private room",
           "Queens"
          ],
          [
           "Private room",
           "Manhattan"
          ],
          [
           "Private room",
           "Brooklyn"
          ],
          [
           "Entire home/apt",
           "Manhattan"
          ],
          [
           "Private room",
           "Queens"
          ],
          [
           "Private room",
           "Brooklyn"
          ],
          [
           "Entire home/apt",
           "Manhattan"
          ],
          [
           "Private room",
           "Manhattan"
          ],
          [
           "Entire home/apt",
           "Manhattan"
          ],
          [
           "Private room",
           "Brooklyn"
          ],
          [
           "Entire home/apt",
           "Manhattan"
          ],
          [
           "Private room",
           "Manhattan"
          ],
          [
           "Private room",
           "Queens"
          ],
          [
           "Private room",
           "Manhattan"
          ],
          [
           "Private room",
           "Brooklyn"
          ],
          [
           "Shared room",
           "Brooklyn"
          ],
          [
           "Entire home/apt",
           "Brooklyn"
          ],
          [
           "Private room",
           "Queens"
          ],
          [
           "Private room",
           "Manhattan"
          ],
          [
           "Entire home/apt",
           "Manhattan"
          ],
          [
           "Entire home/apt",
           "Brooklyn"
          ],
          [
           "Private room",
           "Brooklyn"
          ],
          [
           "Private room",
           "Manhattan"
          ],
          [
           "Private room",
           "Brooklyn"
          ],
          [
           "Shared room",
           "Manhattan"
          ],
          [
           "Private room",
           "Brooklyn"
          ],
          [
           "Private room",
           "Manhattan"
          ],
          [
           "Private room",
           "Brooklyn"
          ],
          [
           "Entire home/apt",
           "Manhattan"
          ],
          [
           "Entire home/apt",
           "Manhattan"
          ],
          [
           "Private room",
           "Manhattan"
          ],
          [
           "Private room",
           "Queens"
          ],
          [
           "Private room",
           "Brooklyn"
          ],
          [
           "Entire home/apt",
           "Brooklyn"
          ],
          [
           "Entire home/apt",
           "Manhattan"
          ],
          [
           "Entire home/apt",
           "Brooklyn"
          ],
          [
           "Entire home/apt",
           "Brooklyn"
          ],
          [
           "Private room",
           "Queens"
          ],
          [
           "Private room",
           "Manhattan"
          ],
          [
           "Private room",
           "Brooklyn"
          ],
          [
           "Entire home/apt",
           "Manhattan"
          ],
          [
           "Entire home/apt",
           "Queens"
          ],
          [
           "Private room",
           "Brooklyn"
          ],
          [
           "Entire home/apt",
           "Staten Island"
          ],
          [
           "Private room",
           "Queens"
          ],
          [
           "Shared room",
           "Manhattan"
          ],
          [
           "Entire home/apt",
           "Manhattan"
          ],
          [
           "Entire home/apt",
           "Manhattan"
          ],
          [
           "Private room",
           "Brooklyn"
          ],
          [
           "Shared room",
           "Manhattan"
          ],
          [
           "Private room",
           "Brooklyn"
          ],
          [
           "Private room",
           "Brooklyn"
          ],
          [
           "Private room",
           "Brooklyn"
          ],
          [
           "Private room",
           "Manhattan"
          ],
          [
           "Entire home/apt",
           "Queens"
          ],
          [
           "Private room",
           "Queens"
          ],
          [
           "Entire home/apt",
           "Brooklyn"
          ],
          [
           "Entire home/apt",
           "Brooklyn"
          ],
          [
           "Entire home/apt",
           "Brooklyn"
          ],
          [
           "Entire home/apt",
           "Brooklyn"
          ],
          [
           "Entire home/apt",
           "Manhattan"
          ],
          [
           "Entire home/apt",
           "Manhattan"
          ],
          [
           "Entire home/apt",
           "Manhattan"
          ],
          [
           "Private room",
           "Manhattan"
          ],
          [
           "Private room",
           "Queens"
          ],
          [
           "Private room",
           "Manhattan"
          ],
          [
           "Private room",
           "Manhattan"
          ],
          [
           "Private room",
           "Manhattan"
          ],
          [
           "Entire home/apt",
           "Brooklyn"
          ],
          [
           "Private room",
           "Manhattan"
          ],
          [
           "Private room",
           "Brooklyn"
          ],
          [
           "Private room",
           "Manhattan"
          ],
          [
           "Private room",
           "Brooklyn"
          ],
          [
           "Entire home/apt",
           "Manhattan"
          ],
          [
           "Entire home/apt",
           "Brooklyn"
          ],
          [
           "Private room",
           "Brooklyn"
          ],
          [
           "Private room",
           "Brooklyn"
          ],
          [
           "Entire home/apt",
           "Manhattan"
          ],
          [
           "Private room",
           "Brooklyn"
          ],
          [
           "Private room",
           "Brooklyn"
          ],
          [
           "Entire home/apt",
           "Brooklyn"
          ],
          [
           "Entire home/apt",
           "Manhattan"
          ],
          [
           "Private room",
           "Brooklyn"
          ],
          [
           "Private room",
           "Manhattan"
          ],
          [
           "Private room",
           "Manhattan"
          ],
          [
           "Entire home/apt",
           "Brooklyn"
          ],
          [
           "Private room",
           "Manhattan"
          ],
          [
           "Entire home/apt",
           "Brooklyn"
          ],
          [
           "Private room",
           "Manhattan"
          ],
          [
           "Entire home/apt",
           "Brooklyn"
          ],
          [
           "Private room",
           "Queens"
          ],
          [
           "Private room",
           "Brooklyn"
          ],
          [
           "Private room",
           "Brooklyn"
          ],
          [
           "Entire home/apt",
           "Brooklyn"
          ],
          [
           "Entire home/apt",
           "Queens"
          ],
          [
           "Entire home/apt",
           "Manhattan"
          ],
          [
           "Entire home/apt",
           "Bronx"
          ],
          [
           "Private room",
           "Queens"
          ],
          [
           "Private room",
           "Manhattan"
          ],
          [
           "Private room",
           "Brooklyn"
          ],
          [
           "Entire home/apt",
           "Brooklyn"
          ],
          [
           "Private room",
           "Brooklyn"
          ],
          [
           "Entire home/apt",
           "Brooklyn"
          ],
          [
           "Private room",
           "Manhattan"
          ],
          [
           "Entire home/apt",
           "Brooklyn"
          ],
          [
           "Private room",
           "Manhattan"
          ],
          [
           "Private room",
           "Manhattan"
          ],
          [
           "Private room",
           "Manhattan"
          ],
          [
           "Private room",
           "Manhattan"
          ],
          [
           "Entire home/apt",
           "Brooklyn"
          ],
          [
           "Entire home/apt",
           "Brooklyn"
          ],
          [
           "Private room",
           "Manhattan"
          ],
          [
           "Private room",
           "Manhattan"
          ],
          [
           "Entire home/apt",
           "Manhattan"
          ],
          [
           "Private room",
           "Manhattan"
          ],
          [
           "Entire home/apt",
           "Bronx"
          ],
          [
           "Entire home/apt",
           "Brooklyn"
          ],
          [
           "Entire home/apt",
           "Brooklyn"
          ],
          [
           "Entire home/apt",
           "Queens"
          ],
          [
           "Private room",
           "Brooklyn"
          ],
          [
           "Private room",
           "Brooklyn"
          ],
          [
           "Private room",
           "Manhattan"
          ],
          [
           "Private room",
           "Queens"
          ],
          [
           "Entire home/apt",
           "Manhattan"
          ],
          [
           "Entire home/apt",
           "Queens"
          ],
          [
           "Private room",
           "Brooklyn"
          ],
          [
           "Shared room",
           "Manhattan"
          ],
          [
           "Entire home/apt",
           "Manhattan"
          ],
          [
           "Private room",
           "Brooklyn"
          ],
          [
           "Private room",
           "Queens"
          ],
          [
           "Private room",
           "Queens"
          ],
          [
           "Entire home/apt",
           "Brooklyn"
          ],
          [
           "Entire home/apt",
           "Manhattan"
          ],
          [
           "Private room",
           "Manhattan"
          ],
          [
           "Entire home/apt",
           "Manhattan"
          ],
          [
           "Private room",
           "Manhattan"
          ],
          [
           "Entire home/apt",
           "Queens"
          ],
          [
           "Private room",
           "Manhattan"
          ],
          [
           "Entire home/apt",
           "Manhattan"
          ],
          [
           "Entire home/apt",
           "Manhattan"
          ],
          [
           "Entire home/apt",
           "Manhattan"
          ],
          [
           "Private room",
           "Brooklyn"
          ],
          [
           "Private room",
           "Brooklyn"
          ],
          [
           "Private room",
           "Brooklyn"
          ],
          [
           "Entire home/apt",
           "Brooklyn"
          ],
          [
           "Private room",
           "Bronx"
          ],
          [
           "Entire home/apt",
           "Manhattan"
          ],
          [
           "Entire home/apt",
           "Manhattan"
          ],
          [
           "Private room",
           "Queens"
          ],
          [
           "Private room",
           "Manhattan"
          ],
          [
           "Entire home/apt",
           "Manhattan"
          ],
          [
           "Private room",
           "Brooklyn"
          ],
          [
           "Entire home/apt",
           "Manhattan"
          ],
          [
           "Entire home/apt",
           "Manhattan"
          ],
          [
           "Entire home/apt",
           "Manhattan"
          ],
          [
           "Private room",
           "Brooklyn"
          ],
          [
           "Entire home/apt",
           "Brooklyn"
          ],
          [
           "Private room",
           "Brooklyn"
          ],
          [
           "Private room",
           "Manhattan"
          ],
          [
           "Private room",
           "Queens"
          ],
          [
           "Entire home/apt",
           "Brooklyn"
          ],
          [
           "Private room",
           "Queens"
          ],
          [
           "Private room",
           "Brooklyn"
          ],
          [
           "Entire home/apt",
           "Brooklyn"
          ],
          [
           "Entire home/apt",
           "Brooklyn"
          ],
          [
           "Entire home/apt",
           "Manhattan"
          ],
          [
           "Entire home/apt",
           "Brooklyn"
          ],
          [
           "Entire home/apt",
           "Manhattan"
          ],
          [
           "Entire home/apt",
           "Brooklyn"
          ],
          [
           "Private room",
           "Manhattan"
          ],
          [
           "Entire home/apt",
           "Manhattan"
          ],
          [
           "Private room",
           "Brooklyn"
          ],
          [
           "Entire home/apt",
           "Manhattan"
          ],
          [
           "Private room",
           "Manhattan"
          ],
          [
           "Entire home/apt",
           "Brooklyn"
          ],
          [
           "Private room",
           "Queens"
          ],
          [
           "Private room",
           "Brooklyn"
          ],
          [
           "Entire home/apt",
           "Brooklyn"
          ],
          [
           "Entire home/apt",
           "Manhattan"
          ],
          [
           "Entire home/apt",
           "Manhattan"
          ],
          [
           "Private room",
           "Brooklyn"
          ],
          [
           "Private room",
           "Manhattan"
          ],
          [
           "Private room",
           "Brooklyn"
          ],
          [
           "Private room",
           "Brooklyn"
          ],
          [
           "Private room",
           "Brooklyn"
          ],
          [
           "Entire home/apt",
           "Manhattan"
          ],
          [
           "Entire home/apt",
           "Bronx"
          ],
          [
           "Private room",
           "Manhattan"
          ],
          [
           "Entire home/apt",
           "Brooklyn"
          ],
          [
           "Entire home/apt",
           "Queens"
          ],
          [
           "Private room",
           "Brooklyn"
          ],
          [
           "Entire home/apt",
           "Brooklyn"
          ],
          [
           "Entire home/apt",
           "Brooklyn"
          ],
          [
           "Entire home/apt",
           "Brooklyn"
          ],
          [
           "Private room",
           "Brooklyn"
          ],
          [
           "Private room",
           "Manhattan"
          ],
          [
           "Private room",
           "Manhattan"
          ],
          [
           "Entire home/apt",
           "Brooklyn"
          ],
          [
           "Entire home/apt",
           "Queens"
          ],
          [
           "Entire home/apt",
           "Brooklyn"
          ],
          [
           "Private room",
           "Manhattan"
          ],
          [
           "Entire home/apt",
           "Queens"
          ],
          [
           "Private room",
           "Queens"
          ],
          [
           "Entire home/apt",
           "Brooklyn"
          ],
          [
           "Private room",
           "Brooklyn"
          ],
          [
           "Entire home/apt",
           "Brooklyn"
          ],
          [
           "Private room",
           "Manhattan"
          ],
          [
           "Entire home/apt",
           "Manhattan"
          ],
          [
           "Private room",
           "Brooklyn"
          ],
          [
           "Private room",
           "Queens"
          ],
          [
           "Private room",
           "Brooklyn"
          ],
          [
           "Private room",
           "Brooklyn"
          ],
          [
           "Entire home/apt",
           "Queens"
          ],
          [
           "Entire home/apt",
           "Manhattan"
          ],
          [
           "Private room",
           "Brooklyn"
          ],
          [
           "Private room",
           "Brooklyn"
          ],
          [
           "Private room",
           "Brooklyn"
          ],
          [
           "Entire home/apt",
           "Manhattan"
          ],
          [
           "Shared room",
           "Brooklyn"
          ],
          [
           "Private room",
           "Manhattan"
          ],
          [
           "Entire home/apt",
           "Brooklyn"
          ],
          [
           "Entire home/apt",
           "Queens"
          ],
          [
           "Private room",
           "Manhattan"
          ],
          [
           "Private room",
           "Brooklyn"
          ],
          [
           "Entire home/apt",
           "Brooklyn"
          ],
          [
           "Entire home/apt",
           "Brooklyn"
          ],
          [
           "Entire home/apt",
           "Manhattan"
          ],
          [
           "Private room",
           "Brooklyn"
          ],
          [
           "Private room",
           "Staten Island"
          ],
          [
           "Private room",
           "Brooklyn"
          ],
          [
           "Entire home/apt",
           "Brooklyn"
          ],
          [
           "Entire home/apt",
           "Manhattan"
          ],
          [
           "Entire home/apt",
           "Queens"
          ],
          [
           "Entire home/apt",
           "Manhattan"
          ],
          [
           "Private room",
           "Brooklyn"
          ],
          [
           "Entire home/apt",
           "Brooklyn"
          ],
          [
           "Private room",
           "Brooklyn"
          ],
          [
           "Shared room",
           "Manhattan"
          ],
          [
           "Private room",
           "Manhattan"
          ],
          [
           "Entire home/apt",
           "Manhattan"
          ],
          [
           "Entire home/apt",
           "Manhattan"
          ],
          [
           "Private room",
           "Manhattan"
          ],
          [
           "Entire home/apt",
           "Manhattan"
          ],
          [
           "Entire home/apt",
           "Manhattan"
          ],
          [
           "Entire home/apt",
           "Manhattan"
          ],
          [
           "Private room",
           "Brooklyn"
          ],
          [
           "Entire home/apt",
           "Queens"
          ],
          [
           "Private room",
           "Manhattan"
          ],
          [
           "Private room",
           "Manhattan"
          ],
          [
           "Entire home/apt",
           "Manhattan"
          ],
          [
           "Entire home/apt",
           "Brooklyn"
          ],
          [
           "Private room",
           "Brooklyn"
          ],
          [
           "Private room",
           "Manhattan"
          ],
          [
           "Private room",
           "Brooklyn"
          ],
          [
           "Private room",
           "Brooklyn"
          ],
          [
           "Entire home/apt",
           "Manhattan"
          ],
          [
           "Entire home/apt",
           "Brooklyn"
          ],
          [
           "Entire home/apt",
           "Brooklyn"
          ],
          [
           "Entire home/apt",
           "Manhattan"
          ],
          [
           "Private room",
           "Manhattan"
          ],
          [
           "Private room",
           "Brooklyn"
          ],
          [
           "Entire home/apt",
           "Bronx"
          ],
          [
           "Private room",
           "Brooklyn"
          ],
          [
           "Entire home/apt",
           "Manhattan"
          ],
          [
           "Entire home/apt",
           "Manhattan"
          ],
          [
           "Entire home/apt",
           "Brooklyn"
          ],
          [
           "Private room",
           "Bronx"
          ],
          [
           "Private room",
           "Queens"
          ],
          [
           "Private room",
           "Queens"
          ],
          [
           "Private room",
           "Manhattan"
          ],
          [
           "Entire home/apt",
           "Brooklyn"
          ],
          [
           "Private room",
           "Brooklyn"
          ],
          [
           "Private room",
           "Queens"
          ],
          [
           "Private room",
           "Manhattan"
          ],
          [
           "Entire home/apt",
           "Queens"
          ],
          [
           "Private room",
           "Staten Island"
          ],
          [
           "Private room",
           "Brooklyn"
          ],
          [
           "Private room",
           "Brooklyn"
          ],
          [
           "Private room",
           "Brooklyn"
          ],
          [
           "Entire home/apt",
           "Manhattan"
          ],
          [
           "Shared room",
           "Manhattan"
          ],
          [
           "Entire home/apt",
           "Manhattan"
          ],
          [
           "Private room",
           "Brooklyn"
          ],
          [
           "Entire home/apt",
           "Brooklyn"
          ],
          [
           "Entire home/apt",
           "Manhattan"
          ],
          [
           "Private room",
           "Brooklyn"
          ],
          [
           "Entire home/apt",
           "Brooklyn"
          ],
          [
           "Private room",
           "Brooklyn"
          ],
          [
           "Entire home/apt",
           "Manhattan"
          ],
          [
           "Entire home/apt",
           "Manhattan"
          ],
          [
           "Entire home/apt",
           "Brooklyn"
          ],
          [
           "Entire home/apt",
           "Manhattan"
          ],
          [
           "Private room",
           "Queens"
          ],
          [
           "Entire home/apt",
           "Manhattan"
          ],
          [
           "Private room",
           "Brooklyn"
          ],
          [
           "Private room",
           "Brooklyn"
          ],
          [
           "Private room",
           "Queens"
          ],
          [
           "Entire home/apt",
           "Manhattan"
          ],
          [
           "Private room",
           "Manhattan"
          ],
          [
           "Private room",
           "Manhattan"
          ],
          [
           "Entire home/apt",
           "Manhattan"
          ],
          [
           "Shared room",
           "Brooklyn"
          ],
          [
           "Entire home/apt",
           "Brooklyn"
          ],
          [
           "Private room",
           "Manhattan"
          ],
          [
           "Entire home/apt",
           "Manhattan"
          ],
          [
           "Entire home/apt",
           "Brooklyn"
          ],
          [
           "Shared room",
           "Manhattan"
          ],
          [
           "Entire home/apt",
           "Manhattan"
          ],
          [
           "Entire home/apt",
           "Manhattan"
          ],
          [
           "Private room",
           "Brooklyn"
          ],
          [
           "Entire home/apt",
           "Brooklyn"
          ],
          [
           "Private room",
           "Brooklyn"
          ],
          [
           "Entire home/apt",
           "Manhattan"
          ],
          [
           "Private room",
           "Manhattan"
          ],
          [
           "Private room",
           "Queens"
          ],
          [
           "Private room",
           "Brooklyn"
          ],
          [
           "Private room",
           "Manhattan"
          ],
          [
           "Private room",
           "Manhattan"
          ],
          [
           "Private room",
           "Bronx"
          ],
          [
           "Private room",
           "Brooklyn"
          ],
          [
           "Private room",
           "Manhattan"
          ],
          [
           "Entire home/apt",
           "Brooklyn"
          ],
          [
           "Private room",
           "Queens"
          ],
          [
           "Private room",
           "Brooklyn"
          ],
          [
           "Entire home/apt",
           "Queens"
          ],
          [
           "Private room",
           "Manhattan"
          ],
          [
           "Entire home/apt",
           "Manhattan"
          ],
          [
           "Entire home/apt",
           "Manhattan"
          ],
          [
           "Entire home/apt",
           "Queens"
          ],
          [
           "Entire home/apt",
           "Brooklyn"
          ],
          [
           "Entire home/apt",
           "Manhattan"
          ],
          [
           "Private room",
           "Brooklyn"
          ],
          [
           "Private room",
           "Brooklyn"
          ],
          [
           "Entire home/apt",
           "Manhattan"
          ],
          [
           "Entire home/apt",
           "Bronx"
          ],
          [
           "Entire home/apt",
           "Manhattan"
          ],
          [
           "Private room",
           "Manhattan"
          ],
          [
           "Private room",
           "Staten Island"
          ],
          [
           "Entire home/apt",
           "Brooklyn"
          ],
          [
           "Entire home/apt",
           "Brooklyn"
          ],
          [
           "Shared room",
           "Bronx"
          ],
          [
           "Private room",
           "Brooklyn"
          ],
          [
           "Entire home/apt",
           "Manhattan"
          ],
          [
           "Entire home/apt",
           "Queens"
          ],
          [
           "Shared room",
           "Manhattan"
          ],
          [
           "Private room",
           "Brooklyn"
          ],
          [
           "Entire home/apt",
           "Brooklyn"
          ],
          [
           "Entire home/apt",
           "Brooklyn"
          ],
          [
           "Private room",
           "Queens"
          ],
          [
           "Private room",
           "Brooklyn"
          ],
          [
           "Entire home/apt",
           "Manhattan"
          ],
          [
           "Entire home/apt",
           "Manhattan"
          ],
          [
           "Private room",
           "Brooklyn"
          ],
          [
           "Entire home/apt",
           "Brooklyn"
          ],
          [
           "Private room",
           "Staten Island"
          ],
          [
           "Entire home/apt",
           "Manhattan"
          ],
          [
           "Private room",
           "Queens"
          ],
          [
           "Private room",
           "Brooklyn"
          ],
          [
           "Private room",
           "Manhattan"
          ],
          [
           "Entire home/apt",
           "Manhattan"
          ],
          [
           "Entire home/apt",
           "Brooklyn"
          ],
          [
           "Private room",
           "Manhattan"
          ],
          [
           "Private room",
           "Brooklyn"
          ],
          [
           "Entire home/apt",
           "Manhattan"
          ],
          [
           "Entire home/apt",
           "Manhattan"
          ],
          [
           "Private room",
           "Manhattan"
          ],
          [
           "Entire home/apt",
           "Brooklyn"
          ],
          [
           "Entire home/apt",
           "Manhattan"
          ],
          [
           "Entire home/apt",
           "Manhattan"
          ],
          [
           "Entire home/apt",
           "Brooklyn"
          ],
          [
           "Private room",
           "Brooklyn"
          ],
          [
           "Entire home/apt",
           "Brooklyn"
          ],
          [
           "Private room",
           "Brooklyn"
          ],
          [
           "Entire home/apt",
           "Brooklyn"
          ],
          [
           "Entire home/apt",
           "Brooklyn"
          ],
          [
           "Entire home/apt",
           "Brooklyn"
          ],
          [
           "Entire home/apt",
           "Manhattan"
          ],
          [
           "Entire home/apt",
           "Manhattan"
          ],
          [
           "Entire home/apt",
           "Brooklyn"
          ],
          [
           "Entire home/apt",
           "Manhattan"
          ],
          [
           "Entire home/apt",
           "Manhattan"
          ],
          [
           "Entire home/apt",
           "Brooklyn"
          ],
          [
           "Entire home/apt",
           "Manhattan"
          ],
          [
           "Entire home/apt",
           "Brooklyn"
          ],
          [
           "Private room",
           "Manhattan"
          ],
          [
           "Entire home/apt",
           "Manhattan"
          ],
          [
           "Entire home/apt",
           "Manhattan"
          ],
          [
           "Entire home/apt",
           "Queens"
          ],
          [
           "Private room",
           "Queens"
          ],
          [
           "Entire home/apt",
           "Brooklyn"
          ],
          [
           "Private room",
           "Brooklyn"
          ],
          [
           "Entire home/apt",
           "Manhattan"
          ],
          [
           "Entire home/apt",
           "Manhattan"
          ],
          [
           "Entire home/apt",
           "Brooklyn"
          ],
          [
           "Entire home/apt",
           "Brooklyn"
          ],
          [
           "Shared room",
           "Brooklyn"
          ],
          [
           "Private room",
           "Brooklyn"
          ],
          [
           "Entire home/apt",
           "Manhattan"
          ],
          [
           "Private room",
           "Brooklyn"
          ],
          [
           "Private room",
           "Brooklyn"
          ],
          [
           "Private room",
           "Manhattan"
          ],
          [
           "Private room",
           "Manhattan"
          ],
          [
           "Private room",
           "Brooklyn"
          ],
          [
           "Shared room",
           "Manhattan"
          ],
          [
           "Entire home/apt",
           "Manhattan"
          ],
          [
           "Entire home/apt",
           "Brooklyn"
          ],
          [
           "Entire home/apt",
           "Manhattan"
          ],
          [
           "Private room",
           "Brooklyn"
          ],
          [
           "Private room",
           "Queens"
          ],
          [
           "Private room",
           "Brooklyn"
          ],
          [
           "Private room",
           "Brooklyn"
          ],
          [
           "Private room",
           "Manhattan"
          ],
          [
           "Private room",
           "Manhattan"
          ],
          [
           "Entire home/apt",
           "Manhattan"
          ],
          [
           "Private room",
           "Manhattan"
          ],
          [
           "Private room",
           "Brooklyn"
          ],
          [
           "Private room",
           "Brooklyn"
          ],
          [
           "Entire home/apt",
           "Manhattan"
          ],
          [
           "Private room",
           "Queens"
          ],
          [
           "Private room",
           "Manhattan"
          ],
          [
           "Entire home/apt",
           "Brooklyn"
          ],
          [
           "Private room",
           "Queens"
          ],
          [
           "Private room",
           "Manhattan"
          ],
          [
           "Private room",
           "Brooklyn"
          ],
          [
           "Shared room",
           "Manhattan"
          ],
          [
           "Entire home/apt",
           "Manhattan"
          ],
          [
           "Shared room",
           "Manhattan"
          ],
          [
           "Private room",
           "Brooklyn"
          ],
          [
           "Entire home/apt",
           "Manhattan"
          ],
          [
           "Private room",
           "Manhattan"
          ],
          [
           "Entire home/apt",
           "Bronx"
          ],
          [
           "Entire home/apt",
           "Manhattan"
          ],
          [
           "Entire home/apt",
           "Manhattan"
          ],
          [
           "Entire home/apt",
           "Brooklyn"
          ],
          [
           "Entire home/apt",
           "Queens"
          ],
          [
           "Private room",
           "Staten Island"
          ],
          [
           "Entire home/apt",
           "Brooklyn"
          ],
          [
           "Private room",
           "Queens"
          ],
          [
           "Entire home/apt",
           "Manhattan"
          ],
          [
           "Private room",
           "Manhattan"
          ],
          [
           "Entire home/apt",
           "Manhattan"
          ],
          [
           "Entire home/apt",
           "Brooklyn"
          ],
          [
           "Entire home/apt",
           "Brooklyn"
          ],
          [
           "Entire home/apt",
           "Brooklyn"
          ],
          [
           "Private room",
           "Queens"
          ],
          [
           "Private room",
           "Queens"
          ],
          [
           "Private room",
           "Manhattan"
          ],
          [
           "Private room",
           "Brooklyn"
          ],
          [
           "Private room",
           "Queens"
          ],
          [
           "Entire home/apt",
           "Brooklyn"
          ],
          [
           "Private room",
           "Brooklyn"
          ],
          [
           "Private room",
           "Brooklyn"
          ],
          [
           "Private room",
           "Brooklyn"
          ],
          [
           "Private room",
           "Brooklyn"
          ],
          [
           "Entire home/apt",
           "Manhattan"
          ],
          [
           "Private room",
           "Brooklyn"
          ],
          [
           "Private room",
           "Manhattan"
          ],
          [
           "Private room",
           "Brooklyn"
          ],
          [
           "Entire home/apt",
           "Brooklyn"
          ],
          [
           "Private room",
           "Brooklyn"
          ],
          [
           "Private room",
           "Manhattan"
          ],
          [
           "Private room",
           "Brooklyn"
          ],
          [
           "Private room",
           "Brooklyn"
          ],
          [
           "Private room",
           "Brooklyn"
          ],
          [
           "Private room",
           "Queens"
          ],
          [
           "Private room",
           "Brooklyn"
          ],
          [
           "Entire home/apt",
           "Manhattan"
          ],
          [
           "Private room",
           "Brooklyn"
          ],
          [
           "Entire home/apt",
           "Brooklyn"
          ],
          [
           "Private room",
           "Brooklyn"
          ],
          [
           "Entire home/apt",
           "Manhattan"
          ],
          [
           "Entire home/apt",
           "Brooklyn"
          ],
          [
           "Entire home/apt",
           "Brooklyn"
          ],
          [
           "Private room",
           "Manhattan"
          ],
          [
           "Entire home/apt",
           "Bronx"
          ],
          [
           "Entire home/apt",
           "Manhattan"
          ],
          [
           "Private room",
           "Brooklyn"
          ],
          [
           "Private room",
           "Manhattan"
          ],
          [
           "Private room",
           "Manhattan"
          ],
          [
           "Entire home/apt",
           "Manhattan"
          ],
          [
           "Entire home/apt",
           "Manhattan"
          ],
          [
           "Private room",
           "Queens"
          ],
          [
           "Entire home/apt",
           "Manhattan"
          ],
          [
           "Shared room",
           "Manhattan"
          ],
          [
           "Entire home/apt",
           "Queens"
          ],
          [
           "Private room",
           "Brooklyn"
          ],
          [
           "Entire home/apt",
           "Brooklyn"
          ],
          [
           "Entire home/apt",
           "Brooklyn"
          ],
          [
           "Entire home/apt",
           "Brooklyn"
          ],
          [
           "Private room",
           "Brooklyn"
          ],
          [
           "Entire home/apt",
           "Brooklyn"
          ],
          [
           "Private room",
           "Brooklyn"
          ],
          [
           "Entire home/apt",
           "Brooklyn"
          ],
          [
           "Private room",
           "Queens"
          ],
          [
           "Private room",
           "Manhattan"
          ],
          [
           "Private room",
           "Manhattan"
          ],
          [
           "Private room",
           "Brooklyn"
          ],
          [
           "Private room",
           "Manhattan"
          ],
          [
           "Private room",
           "Brooklyn"
          ],
          [
           "Private room",
           "Manhattan"
          ],
          [
           "Private room",
           "Brooklyn"
          ],
          [
           "Private room",
           "Manhattan"
          ],
          [
           "Private room",
           "Brooklyn"
          ],
          [
           "Entire home/apt",
           "Queens"
          ],
          [
           "Entire home/apt",
           "Manhattan"
          ],
          [
           "Private room",
           "Manhattan"
          ],
          [
           "Entire home/apt",
           "Manhattan"
          ],
          [
           "Private room",
           "Brooklyn"
          ],
          [
           "Private room",
           "Brooklyn"
          ],
          [
           "Private room",
           "Queens"
          ],
          [
           "Private room",
           "Brooklyn"
          ],
          [
           "Entire home/apt",
           "Manhattan"
          ],
          [
           "Shared room",
           "Manhattan"
          ],
          [
           "Private room",
           "Brooklyn"
          ],
          [
           "Entire home/apt",
           "Manhattan"
          ],
          [
           "Entire home/apt",
           "Manhattan"
          ],
          [
           "Private room",
           "Brooklyn"
          ],
          [
           "Entire home/apt",
           "Manhattan"
          ],
          [
           "Entire home/apt",
           "Brooklyn"
          ],
          [
           "Entire home/apt",
           "Brooklyn"
          ],
          [
           "Private room",
           "Brooklyn"
          ],
          [
           "Entire home/apt",
           "Manhattan"
          ],
          [
           "Entire home/apt",
           "Brooklyn"
          ],
          [
           "Private room",
           "Queens"
          ],
          [
           "Shared room",
           "Brooklyn"
          ],
          [
           "Private room",
           "Manhattan"
          ],
          [
           "Private room",
           "Brooklyn"
          ],
          [
           "Private room",
           "Brooklyn"
          ],
          [
           "Entire home/apt",
           "Brooklyn"
          ],
          [
           "Entire home/apt",
           "Brooklyn"
          ],
          [
           "Entire home/apt",
           "Brooklyn"
          ],
          [
           "Entire home/apt",
           "Manhattan"
          ],
          [
           "Entire home/apt",
           "Staten Island"
          ],
          [
           "Private room",
           "Manhattan"
          ],
          [
           "Entire home/apt",
           "Manhattan"
          ],
          [
           "Entire home/apt",
           "Manhattan"
          ],
          [
           "Private room",
           "Brooklyn"
          ],
          [
           "Private room",
           "Brooklyn"
          ],
          [
           "Entire home/apt",
           "Brooklyn"
          ],
          [
           "Private room",
           "Brooklyn"
          ],
          [
           "Private room",
           "Brooklyn"
          ],
          [
           "Entire home/apt",
           "Brooklyn"
          ],
          [
           "Entire home/apt",
           "Manhattan"
          ],
          [
           "Entire home/apt",
           "Brooklyn"
          ],
          [
           "Private room",
           "Manhattan"
          ],
          [
           "Private room",
           "Brooklyn"
          ],
          [
           "Private room",
           "Queens"
          ],
          [
           "Entire home/apt",
           "Brooklyn"
          ],
          [
           "Private room",
           "Brooklyn"
          ],
          [
           "Private room",
           "Manhattan"
          ],
          [
           "Private room",
           "Queens"
          ],
          [
           "Entire home/apt",
           "Manhattan"
          ],
          [
           "Private room",
           "Manhattan"
          ],
          [
           "Private room",
           "Manhattan"
          ],
          [
           "Private room",
           "Manhattan"
          ],
          [
           "Entire home/apt",
           "Queens"
          ],
          [
           "Private room",
           "Queens"
          ],
          [
           "Private room",
           "Brooklyn"
          ],
          [
           "Entire home/apt",
           "Brooklyn"
          ],
          [
           "Private room",
           "Manhattan"
          ],
          [
           "Private room",
           "Brooklyn"
          ],
          [
           "Private room",
           "Bronx"
          ],
          [
           "Entire home/apt",
           "Brooklyn"
          ],
          [
           "Entire home/apt",
           "Brooklyn"
          ],
          [
           "Entire home/apt",
           "Brooklyn"
          ],
          [
           "Private room",
           "Brooklyn"
          ],
          [
           "Entire home/apt",
           "Staten Island"
          ],
          [
           "Private room",
           "Manhattan"
          ],
          [
           "Entire home/apt",
           "Brooklyn"
          ],
          [
           "Entire home/apt",
           "Manhattan"
          ],
          [
           "Private room",
           "Brooklyn"
          ],
          [
           "Entire home/apt",
           "Brooklyn"
          ],
          [
           "Private room",
           "Brooklyn"
          ],
          [
           "Private room",
           "Brooklyn"
          ],
          [
           "Private room",
           "Manhattan"
          ],
          [
           "Entire home/apt",
           "Manhattan"
          ],
          [
           "Entire home/apt",
           "Brooklyn"
          ],
          [
           "Private room",
           "Manhattan"
          ],
          [
           "Entire home/apt",
           "Manhattan"
          ],
          [
           "Private room",
           "Manhattan"
          ],
          [
           "Private room",
           "Manhattan"
          ],
          [
           "Private room",
           "Manhattan"
          ],
          [
           "Entire home/apt",
           "Brooklyn"
          ],
          [
           "Private room",
           "Queens"
          ],
          [
           "Entire home/apt",
           "Queens"
          ],
          [
           "Private room",
           "Manhattan"
          ],
          [
           "Entire home/apt",
           "Manhattan"
          ],
          [
           "Entire home/apt",
           "Manhattan"
          ],
          [
           "Entire home/apt",
           "Manhattan"
          ],
          [
           "Private room",
           "Brooklyn"
          ],
          [
           "Entire home/apt",
           "Brooklyn"
          ],
          [
           "Private room",
           "Brooklyn"
          ],
          [
           "Private room",
           "Queens"
          ],
          [
           "Entire home/apt",
           "Manhattan"
          ],
          [
           "Entire home/apt",
           "Brooklyn"
          ],
          [
           "Entire home/apt",
           "Manhattan"
          ],
          [
           "Private room",
           "Brooklyn"
          ],
          [
           "Entire home/apt",
           "Manhattan"
          ],
          [
           "Entire home/apt",
           "Brooklyn"
          ],
          [
           "Entire home/apt",
           "Brooklyn"
          ],
          [
           "Entire home/apt",
           "Brooklyn"
          ],
          [
           "Shared room",
           "Manhattan"
          ],
          [
           "Private room",
           "Brooklyn"
          ],
          [
           "Private room",
           "Manhattan"
          ],
          [
           "Entire home/apt",
           "Brooklyn"
          ],
          [
           "Entire home/apt",
           "Manhattan"
          ],
          [
           "Entire home/apt",
           "Manhattan"
          ],
          [
           "Private room",
           "Manhattan"
          ],
          [
           "Private room",
           "Manhattan"
          ],
          [
           "Private room",
           "Brooklyn"
          ],
          [
           "Entire home/apt",
           "Manhattan"
          ],
          [
           "Private room",
           "Bronx"
          ],
          [
           "Entire home/apt",
           "Brooklyn"
          ],
          [
           "Private room",
           "Manhattan"
          ],
          [
           "Shared room",
           "Manhattan"
          ],
          [
           "Private room",
           "Brooklyn"
          ],
          [
           "Entire home/apt",
           "Manhattan"
          ],
          [
           "Entire home/apt",
           "Manhattan"
          ],
          [
           "Private room",
           "Brooklyn"
          ],
          [
           "Private room",
           "Brooklyn"
          ],
          [
           "Private room",
           "Queens"
          ],
          [
           "Entire home/apt",
           "Manhattan"
          ],
          [
           "Entire home/apt",
           "Manhattan"
          ],
          [
           "Entire home/apt",
           "Manhattan"
          ],
          [
           "Private room",
           "Queens"
          ],
          [
           "Entire home/apt",
           "Brooklyn"
          ],
          [
           "Private room",
           "Queens"
          ],
          [
           "Entire home/apt",
           "Manhattan"
          ],
          [
           "Entire home/apt",
           "Brooklyn"
          ],
          [
           "Entire home/apt",
           "Manhattan"
          ],
          [
           "Entire home/apt",
           "Manhattan"
          ],
          [
           "Entire home/apt",
           "Manhattan"
          ],
          [
           "Private room",
           "Queens"
          ],
          [
           "Entire home/apt",
           "Queens"
          ],
          [
           "Entire home/apt",
           "Queens"
          ],
          [
           "Entire home/apt",
           "Manhattan"
          ],
          [
           "Private room",
           "Manhattan"
          ],
          [
           "Entire home/apt",
           "Brooklyn"
          ],
          [
           "Entire home/apt",
           "Manhattan"
          ],
          [
           "Entire home/apt",
           "Manhattan"
          ],
          [
           "Entire home/apt",
           "Manhattan"
          ],
          [
           "Private room",
           "Manhattan"
          ],
          [
           "Private room",
           "Manhattan"
          ],
          [
           "Entire home/apt",
           "Manhattan"
          ],
          [
           "Entire home/apt",
           "Brooklyn"
          ],
          [
           "Private room",
           "Queens"
          ],
          [
           "Private room",
           "Manhattan"
          ],
          [
           "Entire home/apt",
           "Brooklyn"
          ],
          [
           "Entire home/apt",
           "Manhattan"
          ],
          [
           "Private room",
           "Brooklyn"
          ],
          [
           "Entire home/apt",
           "Queens"
          ],
          [
           "Private room",
           "Queens"
          ],
          [
           "Private room",
           "Brooklyn"
          ],
          [
           "Entire home/apt",
           "Manhattan"
          ],
          [
           "Private room",
           "Brooklyn"
          ],
          [
           "Private room",
           "Brooklyn"
          ],
          [
           "Private room",
           "Brooklyn"
          ],
          [
           "Entire home/apt",
           "Manhattan"
          ],
          [
           "Private room",
           "Queens"
          ],
          [
           "Private room",
           "Brooklyn"
          ],
          [
           "Private room",
           "Brooklyn"
          ],
          [
           "Entire home/apt",
           "Manhattan"
          ],
          [
           "Private room",
           "Brooklyn"
          ],
          [
           "Entire home/apt",
           "Manhattan"
          ],
          [
           "Entire home/apt",
           "Manhattan"
          ],
          [
           "Entire home/apt",
           "Brooklyn"
          ],
          [
           "Private room",
           "Manhattan"
          ],
          [
           "Private room",
           "Manhattan"
          ],
          [
           "Private room",
           "Manhattan"
          ],
          [
           "Entire home/apt",
           "Staten Island"
          ],
          [
           "Entire home/apt",
           "Queens"
          ],
          [
           "Private room",
           "Brooklyn"
          ],
          [
           "Private room",
           "Manhattan"
          ],
          [
           "Private room",
           "Queens"
          ],
          [
           "Private room",
           "Brooklyn"
          ],
          [
           "Private room",
           "Brooklyn"
          ],
          [
           "Entire home/apt",
           "Manhattan"
          ],
          [
           "Private room",
           "Manhattan"
          ],
          [
           "Private room",
           "Manhattan"
          ],
          [
           "Private room",
           "Manhattan"
          ],
          [
           "Private room",
           "Queens"
          ],
          [
           "Private room",
           "Manhattan"
          ],
          [
           "Private room",
           "Manhattan"
          ],
          [
           "Private room",
           "Brooklyn"
          ],
          [
           "Private room",
           "Manhattan"
          ],
          [
           "Entire home/apt",
           "Manhattan"
          ],
          [
           "Entire home/apt",
           "Manhattan"
          ],
          [
           "Private room",
           "Manhattan"
          ],
          [
           "Private room",
           "Brooklyn"
          ],
          [
           "Private room",
           "Manhattan"
          ],
          [
           "Private room",
           "Manhattan"
          ],
          [
           "Entire home/apt",
           "Manhattan"
          ],
          [
           "Private room",
           "Manhattan"
          ],
          [
           "Private room",
           "Queens"
          ],
          [
           "Entire home/apt",
           "Manhattan"
          ],
          [
           "Private room",
           "Manhattan"
          ],
          [
           "Private room",
           "Brooklyn"
          ],
          [
           "Entire home/apt",
           "Brooklyn"
          ],
          [
           "Private room",
           "Manhattan"
          ],
          [
           "Private room",
           "Brooklyn"
          ],
          [
           "Entire home/apt",
           "Brooklyn"
          ],
          [
           "Entire home/apt",
           "Bronx"
          ],
          [
           "Entire home/apt",
           "Manhattan"
          ],
          [
           "Private room",
           "Manhattan"
          ],
          [
           "Private room",
           "Manhattan"
          ],
          [
           "Entire home/apt",
           "Manhattan"
          ],
          [
           "Private room",
           "Manhattan"
          ],
          [
           "Entire home/apt",
           "Manhattan"
          ],
          [
           "Entire home/apt",
           "Manhattan"
          ],
          [
           "Entire home/apt",
           "Brooklyn"
          ],
          [
           "Private room",
           "Queens"
          ],
          [
           "Entire home/apt",
           "Brooklyn"
          ],
          [
           "Entire home/apt",
           "Brooklyn"
          ],
          [
           "Entire home/apt",
           "Brooklyn"
          ],
          [
           "Entire home/apt",
           "Brooklyn"
          ],
          [
           "Private room",
           "Manhattan"
          ],
          [
           "Private room",
           "Brooklyn"
          ],
          [
           "Private room",
           "Brooklyn"
          ],
          [
           "Private room",
           "Brooklyn"
          ],
          [
           "Entire home/apt",
           "Queens"
          ],
          [
           "Private room",
           "Brooklyn"
          ],
          [
           "Entire home/apt",
           "Brooklyn"
          ],
          [
           "Entire home/apt",
           "Manhattan"
          ],
          [
           "Private room",
           "Queens"
          ],
          [
           "Private room",
           "Queens"
          ],
          [
           "Entire home/apt",
           "Brooklyn"
          ],
          [
           "Private room",
           "Manhattan"
          ],
          [
           "Private room",
           "Brooklyn"
          ],
          [
           "Private room",
           "Queens"
          ],
          [
           "Entire home/apt",
           "Manhattan"
          ],
          [
           "Private room",
           "Brooklyn"
          ],
          [
           "Shared room",
           "Manhattan"
          ],
          [
           "Entire home/apt",
           "Manhattan"
          ],
          [
           "Entire home/apt",
           "Manhattan"
          ],
          [
           "Entire home/apt",
           "Queens"
          ],
          [
           "Private room",
           "Queens"
          ],
          [
           "Private room",
           "Manhattan"
          ],
          [
           "Entire home/apt",
           "Manhattan"
          ],
          [
           "Private room",
           "Brooklyn"
          ],
          [
           "Entire home/apt",
           "Manhattan"
          ],
          [
           "Entire home/apt",
           "Manhattan"
          ],
          [
           "Private room",
           "Manhattan"
          ],
          [
           "Private room",
           "Queens"
          ],
          [
           "Private room",
           "Manhattan"
          ],
          [
           "Entire home/apt",
           "Brooklyn"
          ],
          [
           "Entire home/apt",
           "Brooklyn"
          ],
          [
           "Entire home/apt",
           "Manhattan"
          ],
          [
           "Private room",
           "Brooklyn"
          ],
          [
           "Entire home/apt",
           "Manhattan"
          ],
          [
           "Entire home/apt",
           "Brooklyn"
          ],
          [
           "Private room",
           "Manhattan"
          ],
          [
           "Entire home/apt",
           "Brooklyn"
          ],
          [
           "Private room",
           "Manhattan"
          ],
          [
           "Entire home/apt",
           "Brooklyn"
          ],
          [
           "Entire home/apt",
           "Brooklyn"
          ],
          [
           "Private room",
           "Manhattan"
          ],
          [
           "Entire home/apt",
           "Manhattan"
          ],
          [
           "Private room",
           "Bronx"
          ],
          [
           "Entire home/apt",
           "Brooklyn"
          ],
          [
           "Private room",
           "Queens"
          ],
          [
           "Private room",
           "Brooklyn"
          ],
          [
           "Entire home/apt",
           "Manhattan"
          ],
          [
           "Private room",
           "Bronx"
          ],
          [
           "Private room",
           "Brooklyn"
          ],
          [
           "Entire home/apt",
           "Manhattan"
          ],
          [
           "Entire home/apt",
           "Manhattan"
          ],
          [
           "Entire home/apt",
           "Manhattan"
          ],
          [
           "Private room",
           "Manhattan"
          ],
          [
           "Entire home/apt",
           "Queens"
          ],
          [
           "Entire home/apt",
           "Manhattan"
          ],
          [
           "Entire home/apt",
           "Bronx"
          ],
          [
           "Entire home/apt",
           "Brooklyn"
          ],
          [
           "Private room",
           "Queens"
          ],
          [
           "Entire home/apt",
           "Brooklyn"
          ],
          [
           "Entire home/apt",
           "Manhattan"
          ],
          [
           "Private room",
           "Manhattan"
          ],
          [
           "Private room",
           "Brooklyn"
          ],
          [
           "Private room",
           "Brooklyn"
          ],
          [
           "Private room",
           "Brooklyn"
          ],
          [
           "Private room",
           "Brooklyn"
          ],
          [
           "Private room",
           "Brooklyn"
          ],
          [
           "Private room",
           "Queens"
          ],
          [
           "Private room",
           "Brooklyn"
          ],
          [
           "Private room",
           "Manhattan"
          ],
          [
           "Private room",
           "Brooklyn"
          ],
          [
           "Entire home/apt",
           "Manhattan"
          ],
          [
           "Entire home/apt",
           "Manhattan"
          ],
          [
           "Private room",
           "Queens"
          ],
          [
           "Entire home/apt",
           "Manhattan"
          ],
          [
           "Entire home/apt",
           "Manhattan"
          ],
          [
           "Entire home/apt",
           "Brooklyn"
          ],
          [
           "Entire home/apt",
           "Brooklyn"
          ],
          [
           "Entire home/apt",
           "Brooklyn"
          ],
          [
           "Private room",
           "Brooklyn"
          ],
          [
           "Entire home/apt",
           "Brooklyn"
          ],
          [
           "Entire home/apt",
           "Manhattan"
          ],
          [
           "Private room",
           "Queens"
          ],
          [
           "Entire home/apt",
           "Manhattan"
          ],
          [
           "Private room",
           "Manhattan"
          ],
          [
           "Entire home/apt",
           "Brooklyn"
          ],
          [
           "Entire home/apt",
           "Manhattan"
          ],
          [
           "Private room",
           "Manhattan"
          ],
          [
           "Entire home/apt",
           "Brooklyn"
          ],
          [
           "Private room",
           "Brooklyn"
          ],
          [
           "Private room",
           "Manhattan"
          ],
          [
           "Private room",
           "Queens"
          ],
          [
           "Private room",
           "Brooklyn"
          ],
          [
           "Private room",
           "Queens"
          ],
          [
           "Private room",
           "Manhattan"
          ],
          [
           "Entire home/apt",
           "Manhattan"
          ],
          [
           "Entire home/apt",
           "Brooklyn"
          ],
          [
           "Entire home/apt",
           "Brooklyn"
          ],
          [
           "Entire home/apt",
           "Brooklyn"
          ],
          [
           "Private room",
           "Brooklyn"
          ],
          [
           "Private room",
           "Brooklyn"
          ],
          [
           "Entire home/apt",
           "Manhattan"
          ],
          [
           "Shared room",
           "Brooklyn"
          ],
          [
           "Private room",
           "Manhattan"
          ],
          [
           "Private room",
           "Manhattan"
          ],
          [
           "Entire home/apt",
           "Manhattan"
          ],
          [
           "Private room",
           "Manhattan"
          ],
          [
           "Entire home/apt",
           "Queens"
          ],
          [
           "Entire home/apt",
           "Bronx"
          ],
          [
           "Private room",
           "Brooklyn"
          ],
          [
           "Entire home/apt",
           "Manhattan"
          ],
          [
           "Private room",
           "Brooklyn"
          ],
          [
           "Entire home/apt",
           "Queens"
          ],
          [
           "Private room",
           "Brooklyn"
          ],
          [
           "Entire home/apt",
           "Brooklyn"
          ],
          [
           "Entire home/apt",
           "Manhattan"
          ],
          [
           "Entire home/apt",
           "Brooklyn"
          ],
          [
           "Private room",
           "Brooklyn"
          ],
          [
           "Private room",
           "Brooklyn"
          ],
          [
           "Private room",
           "Brooklyn"
          ],
          [
           "Private room",
           "Manhattan"
          ],
          [
           "Entire home/apt",
           "Brooklyn"
          ],
          [
           "Entire home/apt",
           "Brooklyn"
          ],
          [
           "Entire home/apt",
           "Brooklyn"
          ],
          [
           "Private room",
           "Manhattan"
          ],
          [
           "Private room",
           "Manhattan"
          ],
          [
           "Private room",
           "Brooklyn"
          ],
          [
           "Entire home/apt",
           "Manhattan"
          ],
          [
           "Private room",
           "Brooklyn"
          ],
          [
           "Private room",
           "Brooklyn"
          ],
          [
           "Entire home/apt",
           "Queens"
          ],
          [
           "Entire home/apt",
           "Manhattan"
          ],
          [
           "Private room",
           "Brooklyn"
          ],
          [
           "Entire home/apt",
           "Brooklyn"
          ],
          [
           "Entire home/apt",
           "Brooklyn"
          ],
          [
           "Entire home/apt",
           "Brooklyn"
          ],
          [
           "Entire home/apt",
           "Brooklyn"
          ],
          [
           "Entire home/apt",
           "Brooklyn"
          ],
          [
           "Private room",
           "Brooklyn"
          ],
          [
           "Entire home/apt",
           "Brooklyn"
          ],
          [
           "Entire home/apt",
           "Manhattan"
          ],
          [
           "Entire home/apt",
           "Brooklyn"
          ],
          [
           "Entire home/apt",
           "Brooklyn"
          ],
          [
           "Private room",
           "Queens"
          ],
          [
           "Entire home/apt",
           "Brooklyn"
          ],
          [
           "Entire home/apt",
           "Manhattan"
          ],
          [
           "Entire home/apt",
           "Brooklyn"
          ],
          [
           "Entire home/apt",
           "Brooklyn"
          ],
          [
           "Entire home/apt",
           "Brooklyn"
          ],
          [
           "Private room",
           "Brooklyn"
          ],
          [
           "Entire home/apt",
           "Manhattan"
          ],
          [
           "Private room",
           "Manhattan"
          ],
          [
           "Private room",
           "Brooklyn"
          ],
          [
           "Private room",
           "Queens"
          ],
          [
           "Private room",
           "Queens"
          ],
          [
           "Private room",
           "Brooklyn"
          ],
          [
           "Private room",
           "Manhattan"
          ],
          [
           "Private room",
           "Queens"
          ],
          [
           "Private room",
           "Brooklyn"
          ],
          [
           "Private room",
           "Queens"
          ],
          [
           "Private room",
           "Manhattan"
          ],
          [
           "Private room",
           "Brooklyn"
          ],
          [
           "Private room",
           "Queens"
          ],
          [
           "Private room",
           "Brooklyn"
          ],
          [
           "Entire home/apt",
           "Brooklyn"
          ],
          [
           "Entire home/apt",
           "Manhattan"
          ],
          [
           "Entire home/apt",
           "Queens"
          ],
          [
           "Entire home/apt",
           "Manhattan"
          ],
          [
           "Entire home/apt",
           "Brooklyn"
          ],
          [
           "Private room",
           "Manhattan"
          ],
          [
           "Entire home/apt",
           "Queens"
          ],
          [
           "Entire home/apt",
           "Manhattan"
          ],
          [
           "Private room",
           "Bronx"
          ],
          [
           "Shared room",
           "Bronx"
          ],
          [
           "Shared room",
           "Brooklyn"
          ],
          [
           "Entire home/apt",
           "Brooklyn"
          ],
          [
           "Entire home/apt",
           "Brooklyn"
          ],
          [
           "Entire home/apt",
           "Queens"
          ],
          [
           "Private room",
           "Brooklyn"
          ],
          [
           "Private room",
           "Queens"
          ],
          [
           "Private room",
           "Queens"
          ],
          [
           "Entire home/apt",
           "Manhattan"
          ],
          [
           "Private room",
           "Brooklyn"
          ],
          [
           "Private room",
           "Brooklyn"
          ],
          [
           "Private room",
           "Brooklyn"
          ],
          [
           "Private room",
           "Brooklyn"
          ],
          [
           "Entire home/apt",
           "Manhattan"
          ],
          [
           "Private room",
           "Manhattan"
          ],
          [
           "Entire home/apt",
           "Manhattan"
          ],
          [
           "Private room",
           "Queens"
          ],
          [
           "Entire home/apt",
           "Manhattan"
          ],
          [
           "Entire home/apt",
           "Manhattan"
          ],
          [
           "Entire home/apt",
           "Brooklyn"
          ],
          [
           "Private room",
           "Manhattan"
          ],
          [
           "Shared room",
           "Manhattan"
          ],
          [
           "Entire home/apt",
           "Manhattan"
          ],
          [
           "Private room",
           "Brooklyn"
          ],
          [
           "Private room",
           "Manhattan"
          ],
          [
           "Entire home/apt",
           "Manhattan"
          ],
          [
           "Private room",
           "Brooklyn"
          ],
          [
           "Entire home/apt",
           "Manhattan"
          ],
          [
           "Entire home/apt",
           "Manhattan"
          ],
          [
           "Entire home/apt",
           "Brooklyn"
          ],
          [
           "Private room",
           "Manhattan"
          ],
          [
           "Entire home/apt",
           "Brooklyn"
          ],
          [
           "Entire home/apt",
           "Brooklyn"
          ],
          [
           "Entire home/apt",
           "Manhattan"
          ],
          [
           "Entire home/apt",
           "Manhattan"
          ],
          [
           "Entire home/apt",
           "Brooklyn"
          ],
          [
           "Private room",
           "Queens"
          ],
          [
           "Entire home/apt",
           "Queens"
          ],
          [
           "Entire home/apt",
           "Manhattan"
          ],
          [
           "Private room",
           "Brooklyn"
          ],
          [
           "Private room",
           "Brooklyn"
          ],
          [
           "Entire home/apt",
           "Brooklyn"
          ],
          [
           "Entire home/apt",
           "Manhattan"
          ],
          [
           "Entire home/apt",
           "Brooklyn"
          ],
          [
           "Entire home/apt",
           "Brooklyn"
          ],
          [
           "Entire home/apt",
           "Brooklyn"
          ],
          [
           "Entire home/apt",
           "Brooklyn"
          ],
          [
           "Entire home/apt",
           "Brooklyn"
          ],
          [
           "Private room",
           "Manhattan"
          ],
          [
           "Private room",
           "Brooklyn"
          ],
          [
           "Private room",
           "Brooklyn"
          ],
          [
           "Private room",
           "Brooklyn"
          ],
          [
           "Private room",
           "Manhattan"
          ],
          [
           "Entire home/apt",
           "Manhattan"
          ],
          [
           "Entire home/apt",
           "Brooklyn"
          ],
          [
           "Private room",
           "Manhattan"
          ],
          [
           "Private room",
           "Manhattan"
          ],
          [
           "Entire home/apt",
           "Manhattan"
          ],
          [
           "Entire home/apt",
           "Manhattan"
          ],
          [
           "Entire home/apt",
           "Manhattan"
          ],
          [
           "Entire home/apt",
           "Brooklyn"
          ],
          [
           "Entire home/apt",
           "Brooklyn"
          ],
          [
           "Private room",
           "Brooklyn"
          ],
          [
           "Private room",
           "Brooklyn"
          ],
          [
           "Private room",
           "Queens"
          ],
          [
           "Private room",
           "Brooklyn"
          ],
          [
           "Entire home/apt",
           "Manhattan"
          ],
          [
           "Private room",
           "Brooklyn"
          ],
          [
           "Private room",
           "Brooklyn"
          ],
          [
           "Private room",
           "Manhattan"
          ],
          [
           "Private room",
           "Brooklyn"
          ],
          [
           "Private room",
           "Manhattan"
          ],
          [
           "Entire home/apt",
           "Queens"
          ],
          [
           "Private room",
           "Manhattan"
          ],
          [
           "Entire home/apt",
           "Manhattan"
          ],
          [
           "Entire home/apt",
           "Manhattan"
          ],
          [
           "Private room",
           "Manhattan"
          ],
          [
           "Entire home/apt",
           "Brooklyn"
          ],
          [
           "Private room",
           "Brooklyn"
          ],
          [
           "Entire home/apt",
           "Manhattan"
          ],
          [
           "Private room",
           "Queens"
          ],
          [
           "Entire home/apt",
           "Brooklyn"
          ],
          [
           "Private room",
           "Brooklyn"
          ],
          [
           "Entire home/apt",
           "Brooklyn"
          ],
          [
           "Entire home/apt",
           "Brooklyn"
          ],
          [
           "Entire home/apt",
           "Manhattan"
          ],
          [
           "Private room",
           "Brooklyn"
          ],
          [
           "Private room",
           "Queens"
          ],
          [
           "Private room",
           "Manhattan"
          ],
          [
           "Entire home/apt",
           "Brooklyn"
          ],
          [
           "Private room",
           "Manhattan"
          ],
          [
           "Private room",
           "Brooklyn"
          ],
          [
           "Entire home/apt",
           "Manhattan"
          ],
          [
           "Private room",
           "Manhattan"
          ],
          [
           "Private room",
           "Queens"
          ],
          [
           "Entire home/apt",
           "Manhattan"
          ],
          [
           "Entire home/apt",
           "Manhattan"
          ],
          [
           "Private room",
           "Manhattan"
          ],
          [
           "Private room",
           "Brooklyn"
          ],
          [
           "Private room",
           "Queens"
          ],
          [
           "Private room",
           "Brooklyn"
          ],
          [
           "Private room",
           "Brooklyn"
          ],
          [
           "Private room",
           "Queens"
          ],
          [
           "Private room",
           "Manhattan"
          ],
          [
           "Entire home/apt",
           "Manhattan"
          ],
          [
           "Private room",
           "Queens"
          ],
          [
           "Entire home/apt",
           "Manhattan"
          ],
          [
           "Entire home/apt",
           "Brooklyn"
          ],
          [
           "Entire home/apt",
           "Brooklyn"
          ],
          [
           "Entire home/apt",
           "Queens"
          ],
          [
           "Private room",
           "Queens"
          ],
          [
           "Entire home/apt",
           "Manhattan"
          ],
          [
           "Entire home/apt",
           "Brooklyn"
          ],
          [
           "Entire home/apt",
           "Brooklyn"
          ],
          [
           "Entire home/apt",
           "Brooklyn"
          ],
          [
           "Private room",
           "Brooklyn"
          ],
          [
           "Private room",
           "Manhattan"
          ],
          [
           "Private room",
           "Bronx"
          ],
          [
           "Entire home/apt",
           "Brooklyn"
          ],
          [
           "Private room",
           "Brooklyn"
          ],
          [
           "Private room",
           "Brooklyn"
          ],
          [
           "Private room",
           "Brooklyn"
          ],
          [
           "Private room",
           "Brooklyn"
          ],
          [
           "Entire home/apt",
           "Manhattan"
          ],
          [
           "Entire home/apt",
           "Brooklyn"
          ],
          [
           "Private room",
           "Manhattan"
          ],
          [
           "Private room",
           "Queens"
          ],
          [
           "Entire home/apt",
           "Manhattan"
          ],
          [
           "Entire home/apt",
           "Brooklyn"
          ],
          [
           "Private room",
           "Brooklyn"
          ],
          [
           "Shared room",
           "Brooklyn"
          ],
          [
           "Entire home/apt",
           "Manhattan"
          ],
          [
           "Entire home/apt",
           "Brooklyn"
          ],
          [
           "Entire home/apt",
           "Manhattan"
          ],
          [
           "Private room",
           "Manhattan"
          ],
          [
           "Private room",
           "Manhattan"
          ],
          [
           "Private room",
           "Brooklyn"
          ],
          [
           "Private room",
           "Brooklyn"
          ],
          [
           "Entire home/apt",
           "Queens"
          ],
          [
           "Private room",
           "Brooklyn"
          ],
          [
           "Private room",
           "Manhattan"
          ],
          [
           "Entire home/apt",
           "Manhattan"
          ],
          [
           "Private room",
           "Brooklyn"
          ],
          [
           "Entire home/apt",
           "Brooklyn"
          ],
          [
           "Entire home/apt",
           "Manhattan"
          ],
          [
           "Entire home/apt",
           "Brooklyn"
          ],
          [
           "Shared room",
           "Manhattan"
          ],
          [
           "Entire home/apt",
           "Brooklyn"
          ],
          [
           "Entire home/apt",
           "Queens"
          ],
          [
           "Entire home/apt",
           "Manhattan"
          ],
          [
           "Private room",
           "Manhattan"
          ],
          [
           "Private room",
           "Queens"
          ],
          [
           "Private room",
           "Manhattan"
          ],
          [
           "Entire home/apt",
           "Brooklyn"
          ],
          [
           "Entire home/apt",
           "Manhattan"
          ],
          [
           "Entire home/apt",
           "Brooklyn"
          ],
          [
           "Entire home/apt",
           "Queens"
          ],
          [
           "Private room",
           "Brooklyn"
          ],
          [
           "Entire home/apt",
           "Manhattan"
          ],
          [
           "Entire home/apt",
           "Manhattan"
          ],
          [
           "Private room",
           "Manhattan"
          ],
          [
           "Private room",
           "Queens"
          ],
          [
           "Entire home/apt",
           "Manhattan"
          ],
          [
           "Private room",
           "Manhattan"
          ],
          [
           "Private room",
           "Manhattan"
          ],
          [
           "Private room",
           "Brooklyn"
          ],
          [
           "Entire home/apt",
           "Manhattan"
          ],
          [
           "Entire home/apt",
           "Bronx"
          ],
          [
           "Entire home/apt",
           "Brooklyn"
          ],
          [
           "Private room",
           "Brooklyn"
          ],
          [
           "Private room",
           "Brooklyn"
          ],
          [
           "Entire home/apt",
           "Bronx"
          ],
          [
           "Entire home/apt",
           "Manhattan"
          ],
          [
           "Private room",
           "Manhattan"
          ],
          [
           "Private room",
           "Brooklyn"
          ],
          [
           "Private room",
           "Manhattan"
          ],
          [
           "Private room",
           "Brooklyn"
          ],
          [
           "Entire home/apt",
           "Brooklyn"
          ],
          [
           "Private room",
           "Brooklyn"
          ],
          [
           "Entire home/apt",
           "Brooklyn"
          ],
          [
           "Private room",
           "Queens"
          ],
          [
           "Private room",
           "Manhattan"
          ],
          [
           "Entire home/apt",
           "Manhattan"
          ],
          [
           "Entire home/apt",
           "Manhattan"
          ],
          [
           "Private room",
           "Brooklyn"
          ],
          [
           "Private room",
           "Brooklyn"
          ],
          [
           "Private room",
           "Queens"
          ],
          [
           "Private room",
           "Manhattan"
          ],
          [
           "Entire home/apt",
           "Manhattan"
          ],
          [
           "Entire home/apt",
           "Manhattan"
          ],
          [
           "Entire home/apt",
           "Manhattan"
          ],
          [
           "Private room",
           "Brooklyn"
          ],
          [
           "Private room",
           "Manhattan"
          ],
          [
           "Entire home/apt",
           "Brooklyn"
          ],
          [
           "Entire home/apt",
           "Brooklyn"
          ],
          [
           "Private room",
           "Brooklyn"
          ],
          [
           "Entire home/apt",
           "Brooklyn"
          ],
          [
           "Entire home/apt",
           "Brooklyn"
          ],
          [
           "Private room",
           "Manhattan"
          ],
          [
           "Entire home/apt",
           "Brooklyn"
          ],
          [
           "Private room",
           "Manhattan"
          ],
          [
           "Entire home/apt",
           "Brooklyn"
          ],
          [
           "Private room",
           "Brooklyn"
          ],
          [
           "Entire home/apt",
           "Manhattan"
          ],
          [
           "Entire home/apt",
           "Manhattan"
          ],
          [
           "Entire home/apt",
           "Brooklyn"
          ],
          [
           "Entire home/apt",
           "Manhattan"
          ],
          [
           "Private room",
           "Staten Island"
          ],
          [
           "Private room",
           "Manhattan"
          ],
          [
           "Private room",
           "Manhattan"
          ],
          [
           "Private room",
           "Brooklyn"
          ],
          [
           "Entire home/apt",
           "Manhattan"
          ],
          [
           "Private room",
           "Manhattan"
          ],
          [
           "Entire home/apt",
           "Manhattan"
          ],
          [
           "Entire home/apt",
           "Brooklyn"
          ],
          [
           "Entire home/apt",
           "Brooklyn"
          ],
          [
           "Entire home/apt",
           "Brooklyn"
          ],
          [
           "Entire home/apt",
           "Manhattan"
          ],
          [
           "Private room",
           "Brooklyn"
          ],
          [
           "Entire home/apt",
           "Brooklyn"
          ],
          [
           "Private room",
           "Brooklyn"
          ],
          [
           "Entire home/apt",
           "Bronx"
          ],
          [
           "Private room",
           "Brooklyn"
          ],
          [
           "Entire home/apt",
           "Brooklyn"
          ],
          [
           "Entire home/apt",
           "Manhattan"
          ],
          [
           "Entire home/apt",
           "Manhattan"
          ],
          [
           "Entire home/apt",
           "Brooklyn"
          ],
          [
           "Private room",
           "Brooklyn"
          ],
          [
           "Entire home/apt",
           "Queens"
          ],
          [
           "Entire home/apt",
           "Manhattan"
          ],
          [
           "Shared room",
           "Brooklyn"
          ],
          [
           "Entire home/apt",
           "Bronx"
          ],
          [
           "Entire home/apt",
           "Brooklyn"
          ],
          [
           "Entire home/apt",
           "Brooklyn"
          ],
          [
           "Entire home/apt",
           "Manhattan"
          ],
          [
           "Entire home/apt",
           "Manhattan"
          ],
          [
           "Entire home/apt",
           "Staten Island"
          ],
          [
           "Private room",
           "Brooklyn"
          ],
          [
           "Private room",
           "Manhattan"
          ],
          [
           "Entire home/apt",
           "Queens"
          ],
          [
           "Private room",
           "Queens"
          ],
          [
           "Private room",
           "Brooklyn"
          ],
          [
           "Entire home/apt",
           "Brooklyn"
          ],
          [
           "Private room",
           "Brooklyn"
          ],
          [
           "Entire home/apt",
           "Queens"
          ],
          [
           "Entire home/apt",
           "Manhattan"
          ],
          [
           "Entire home/apt",
           "Brooklyn"
          ],
          [
           "Private room",
           "Manhattan"
          ],
          [
           "Private room",
           "Manhattan"
          ],
          [
           "Entire home/apt",
           "Brooklyn"
          ],
          [
           "Entire home/apt",
           "Manhattan"
          ],
          [
           "Private room",
           "Manhattan"
          ],
          [
           "Shared room",
           "Manhattan"
          ],
          [
           "Private room",
           "Brooklyn"
          ],
          [
           "Entire home/apt",
           "Manhattan"
          ],
          [
           "Entire home/apt",
           "Brooklyn"
          ],
          [
           "Entire home/apt",
           "Brooklyn"
          ],
          [
           "Entire home/apt",
           "Brooklyn"
          ],
          [
           "Private room",
           "Brooklyn"
          ],
          [
           "Entire home/apt",
           "Queens"
          ],
          [
           "Entire home/apt",
           "Manhattan"
          ],
          [
           "Private room",
           "Brooklyn"
          ],
          [
           "Shared room",
           "Manhattan"
          ],
          [
           "Entire home/apt",
           "Manhattan"
          ],
          [
           "Entire home/apt",
           "Brooklyn"
          ],
          [
           "Entire home/apt",
           "Brooklyn"
          ],
          [
           "Entire home/apt",
           "Brooklyn"
          ],
          [
           "Entire home/apt",
           "Brooklyn"
          ],
          [
           "Private room",
           "Manhattan"
          ],
          [
           "Private room",
           "Manhattan"
          ],
          [
           "Entire home/apt",
           "Brooklyn"
          ],
          [
           "Private room",
           "Brooklyn"
          ],
          [
           "Entire home/apt",
           "Brooklyn"
          ],
          [
           "Private room",
           "Queens"
          ],
          [
           "Entire home/apt",
           "Brooklyn"
          ],
          [
           "Entire home/apt",
           "Queens"
          ],
          [
           "Entire home/apt",
           "Manhattan"
          ],
          [
           "Private room",
           "Manhattan"
          ],
          [
           "Entire home/apt",
           "Manhattan"
          ],
          [
           "Entire home/apt",
           "Manhattan"
          ],
          [
           "Private room",
           "Brooklyn"
          ],
          [
           "Shared room",
           "Manhattan"
          ],
          [
           "Private room",
           "Brooklyn"
          ],
          [
           "Shared room",
           "Manhattan"
          ],
          [
           "Private room",
           "Manhattan"
          ],
          [
           "Entire home/apt",
           "Manhattan"
          ],
          [
           "Private room",
           "Brooklyn"
          ],
          [
           "Entire home/apt",
           "Bronx"
          ],
          [
           "Private room",
           "Manhattan"
          ],
          [
           "Entire home/apt",
           "Manhattan"
          ],
          [
           "Entire home/apt",
           "Manhattan"
          ],
          [
           "Entire home/apt",
           "Bronx"
          ],
          [
           "Private room",
           "Queens"
          ],
          [
           "Entire home/apt",
           "Manhattan"
          ],
          [
           "Private room",
           "Manhattan"
          ],
          [
           "Private room",
           "Brooklyn"
          ],
          [
           "Private room",
           "Queens"
          ],
          [
           "Private room",
           "Brooklyn"
          ],
          [
           "Entire home/apt",
           "Brooklyn"
          ],
          [
           "Private room",
           "Manhattan"
          ],
          [
           "Entire home/apt",
           "Manhattan"
          ],
          [
           "Entire home/apt",
           "Manhattan"
          ],
          [
           "Private room",
           "Manhattan"
          ],
          [
           "Shared room",
           "Brooklyn"
          ],
          [
           "Entire home/apt",
           "Manhattan"
          ],
          [
           "Entire home/apt",
           "Manhattan"
          ],
          [
           "Private room",
           "Brooklyn"
          ],
          [
           "Private room",
           "Queens"
          ],
          [
           "Entire home/apt",
           "Brooklyn"
          ],
          [
           "Private room",
           "Queens"
          ],
          [
           "Private room",
           "Brooklyn"
          ],
          [
           "Entire home/apt",
           "Brooklyn"
          ],
          [
           "Entire home/apt",
           "Brooklyn"
          ],
          [
           "Entire home/apt",
           "Queens"
          ],
          [
           "Entire home/apt",
           "Manhattan"
          ],
          [
           "Private room",
           "Brooklyn"
          ],
          [
           "Entire home/apt",
           "Manhattan"
          ],
          [
           "Private room",
           "Brooklyn"
          ],
          [
           "Entire home/apt",
           "Brooklyn"
          ],
          [
           "Entire home/apt",
           "Manhattan"
          ],
          [
           "Private room",
           "Queens"
          ],
          [
           "Entire home/apt",
           "Manhattan"
          ],
          [
           "Entire home/apt",
           "Manhattan"
          ],
          [
           "Entire home/apt",
           "Bronx"
          ],
          [
           "Entire home/apt",
           "Manhattan"
          ],
          [
           "Private room",
           "Manhattan"
          ],
          [
           "Entire home/apt",
           "Brooklyn"
          ],
          [
           "Private room",
           "Brooklyn"
          ],
          [
           "Private room",
           "Manhattan"
          ],
          [
           "Entire home/apt",
           "Brooklyn"
          ],
          [
           "Entire home/apt",
           "Queens"
          ],
          [
           "Entire home/apt",
           "Brooklyn"
          ],
          [
           "Private room",
           "Queens"
          ],
          [
           "Entire home/apt",
           "Brooklyn"
          ],
          [
           "Private room",
           "Queens"
          ],
          [
           "Private room",
           "Manhattan"
          ],
          [
           "Shared room",
           "Brooklyn"
          ],
          [
           "Private room",
           "Manhattan"
          ],
          [
           "Private room",
           "Brooklyn"
          ],
          [
           "Private room",
           "Manhattan"
          ],
          [
           "Private room",
           "Brooklyn"
          ],
          [
           "Private room",
           "Brooklyn"
          ],
          [
           "Entire home/apt",
           "Manhattan"
          ],
          [
           "Entire home/apt",
           "Manhattan"
          ],
          [
           "Private room",
           "Brooklyn"
          ],
          [
           "Entire home/apt",
           "Brooklyn"
          ],
          [
           "Private room",
           "Manhattan"
          ],
          [
           "Entire home/apt",
           "Queens"
          ],
          [
           "Private room",
           "Brooklyn"
          ],
          [
           "Entire home/apt",
           "Brooklyn"
          ],
          [
           "Entire home/apt",
           "Brooklyn"
          ],
          [
           "Entire home/apt",
           "Manhattan"
          ],
          [
           "Entire home/apt",
           "Manhattan"
          ],
          [
           "Entire home/apt",
           "Manhattan"
          ],
          [
           "Private room",
           "Brooklyn"
          ],
          [
           "Private room",
           "Manhattan"
          ],
          [
           "Entire home/apt",
           "Manhattan"
          ],
          [
           "Entire home/apt",
           "Manhattan"
          ],
          [
           "Entire home/apt",
           "Manhattan"
          ],
          [
           "Entire home/apt",
           "Brooklyn"
          ],
          [
           "Private room",
           "Brooklyn"
          ],
          [
           "Entire home/apt",
           "Manhattan"
          ],
          [
           "Private room",
           "Manhattan"
          ],
          [
           "Entire home/apt",
           "Manhattan"
          ],
          [
           "Entire home/apt",
           "Brooklyn"
          ],
          [
           "Private room",
           "Brooklyn"
          ],
          [
           "Private room",
           "Queens"
          ],
          [
           "Entire home/apt",
           "Manhattan"
          ],
          [
           "Private room",
           "Brooklyn"
          ],
          [
           "Private room",
           "Brooklyn"
          ],
          [
           "Entire home/apt",
           "Queens"
          ],
          [
           "Entire home/apt",
           "Manhattan"
          ],
          [
           "Entire home/apt",
           "Brooklyn"
          ],
          [
           "Entire home/apt",
           "Brooklyn"
          ],
          [
           "Entire home/apt",
           "Brooklyn"
          ],
          [
           "Shared room",
           "Staten Island"
          ],
          [
           "Private room",
           "Queens"
          ],
          [
           "Entire home/apt",
           "Brooklyn"
          ],
          [
           "Private room",
           "Manhattan"
          ],
          [
           "Private room",
           "Queens"
          ],
          [
           "Entire home/apt",
           "Brooklyn"
          ],
          [
           "Private room",
           "Manhattan"
          ],
          [
           "Private room",
           "Brooklyn"
          ],
          [
           "Private room",
           "Queens"
          ],
          [
           "Entire home/apt",
           "Manhattan"
          ],
          [
           "Private room",
           "Queens"
          ],
          [
           "Entire home/apt",
           "Manhattan"
          ],
          [
           "Entire home/apt",
           "Manhattan"
          ],
          [
           "Private room",
           "Brooklyn"
          ],
          [
           "Entire home/apt",
           "Manhattan"
          ],
          [
           "Entire home/apt",
           "Queens"
          ],
          [
           "Entire home/apt",
           "Brooklyn"
          ],
          [
           "Private room",
           "Queens"
          ],
          [
           "Entire home/apt",
           "Brooklyn"
          ],
          [
           "Private room",
           "Brooklyn"
          ],
          [
           "Private room",
           "Brooklyn"
          ],
          [
           "Private room",
           "Brooklyn"
          ],
          [
           "Entire home/apt",
           "Manhattan"
          ],
          [
           "Entire home/apt",
           "Manhattan"
          ],
          [
           "Entire home/apt",
           "Manhattan"
          ],
          [
           "Private room",
           "Brooklyn"
          ],
          [
           "Private room",
           "Queens"
          ],
          [
           "Entire home/apt",
           "Brooklyn"
          ],
          [
           "Private room",
           "Manhattan"
          ],
          [
           "Shared room",
           "Manhattan"
          ],
          [
           "Private room",
           "Brooklyn"
          ],
          [
           "Private room",
           "Manhattan"
          ],
          [
           "Private room",
           "Brooklyn"
          ],
          [
           "Entire home/apt",
           "Manhattan"
          ],
          [
           "Entire home/apt",
           "Brooklyn"
          ],
          [
           "Entire home/apt",
           "Queens"
          ],
          [
           "Entire home/apt",
           "Brooklyn"
          ],
          [
           "Entire home/apt",
           "Manhattan"
          ],
          [
           "Private room",
           "Brooklyn"
          ],
          [
           "Entire home/apt",
           "Manhattan"
          ],
          [
           "Private room",
           "Brooklyn"
          ],
          [
           "Private room",
           "Brooklyn"
          ],
          [
           "Entire home/apt",
           "Manhattan"
          ],
          [
           "Entire home/apt",
           "Manhattan"
          ],
          [
           "Entire home/apt",
           "Manhattan"
          ],
          [
           "Entire home/apt",
           "Manhattan"
          ],
          [
           "Private room",
           "Manhattan"
          ],
          [
           "Private room",
           "Brooklyn"
          ],
          [
           "Entire home/apt",
           "Manhattan"
          ],
          [
           "Shared room",
           "Manhattan"
          ],
          [
           "Private room",
           "Brooklyn"
          ],
          [
           "Private room",
           "Brooklyn"
          ],
          [
           "Entire home/apt",
           "Manhattan"
          ],
          [
           "Private room",
           "Brooklyn"
          ],
          [
           "Private room",
           "Queens"
          ],
          [
           "Entire home/apt",
           "Manhattan"
          ],
          [
           "Private room",
           "Brooklyn"
          ],
          [
           "Private room",
           "Brooklyn"
          ],
          [
           "Private room",
           "Manhattan"
          ],
          [
           "Private room",
           "Queens"
          ],
          [
           "Entire home/apt",
           "Brooklyn"
          ],
          [
           "Entire home/apt",
           "Manhattan"
          ],
          [
           "Shared room",
           "Brooklyn"
          ],
          [
           "Private room",
           "Manhattan"
          ],
          [
           "Entire home/apt",
           "Manhattan"
          ],
          [
           "Entire home/apt",
           "Manhattan"
          ],
          [
           "Entire home/apt",
           "Manhattan"
          ],
          [
           "Entire home/apt",
           "Brooklyn"
          ],
          [
           "Private room",
           "Manhattan"
          ],
          [
           "Entire home/apt",
           "Manhattan"
          ],
          [
           "Entire home/apt",
           "Brooklyn"
          ],
          [
           "Entire home/apt",
           "Brooklyn"
          ],
          [
           "Private room",
           "Manhattan"
          ],
          [
           "Entire home/apt",
           "Brooklyn"
          ],
          [
           "Private room",
           "Bronx"
          ],
          [
           "Entire home/apt",
           "Manhattan"
          ],
          [
           "Entire home/apt",
           "Manhattan"
          ],
          [
           "Private room",
           "Manhattan"
          ],
          [
           "Private room",
           "Manhattan"
          ],
          [
           "Entire home/apt",
           "Brooklyn"
          ],
          [
           "Private room",
           "Manhattan"
          ],
          [
           "Private room",
           "Manhattan"
          ],
          [
           "Entire home/apt",
           "Manhattan"
          ],
          [
           "Entire home/apt",
           "Manhattan"
          ],
          [
           "Private room",
           "Brooklyn"
          ],
          [
           "Private room",
           "Brooklyn"
          ],
          [
           "Entire home/apt",
           "Brooklyn"
          ],
          [
           "Entire home/apt",
           "Brooklyn"
          ],
          [
           "Entire home/apt",
           "Queens"
          ],
          [
           "Private room",
           "Brooklyn"
          ],
          [
           "Entire home/apt",
           "Brooklyn"
          ],
          [
           "Entire home/apt",
           "Queens"
          ],
          [
           "Private room",
           "Brooklyn"
          ],
          [
           "Private room",
           "Brooklyn"
          ],
          [
           "Private room",
           "Queens"
          ],
          [
           "Private room",
           "Manhattan"
          ],
          [
           "Private room",
           "Manhattan"
          ],
          [
           "Private room",
           "Queens"
          ],
          [
           "Entire home/apt",
           "Queens"
          ],
          [
           "Entire home/apt",
           "Brooklyn"
          ],
          [
           "Entire home/apt",
           "Queens"
          ],
          [
           "Private room",
           "Manhattan"
          ],
          [
           "Entire home/apt",
           "Manhattan"
          ],
          [
           "Private room",
           "Queens"
          ],
          [
           "Entire home/apt",
           "Brooklyn"
          ],
          [
           "Private room",
           "Manhattan"
          ],
          [
           "Entire home/apt",
           "Manhattan"
          ],
          [
           "Entire home/apt",
           "Queens"
          ],
          [
           "Private room",
           "Queens"
          ],
          [
           "Private room",
           "Brooklyn"
          ],
          [
           "Entire home/apt",
           "Manhattan"
          ],
          [
           "Private room",
           "Manhattan"
          ],
          [
           "Private room",
           "Queens"
          ],
          [
           "Private room",
           "Queens"
          ],
          [
           "Entire home/apt",
           "Brooklyn"
          ],
          [
           "Private room",
           "Brooklyn"
          ],
          [
           "Entire home/apt",
           "Manhattan"
          ],
          [
           "Private room",
           "Manhattan"
          ],
          [
           "Entire home/apt",
           "Manhattan"
          ],
          [
           "Entire home/apt",
           "Brooklyn"
          ],
          [
           "Private room",
           "Manhattan"
          ],
          [
           "Private room",
           "Queens"
          ],
          [
           "Private room",
           "Brooklyn"
          ],
          [
           "Entire home/apt",
           "Brooklyn"
          ],
          [
           "Private room",
           "Manhattan"
          ],
          [
           "Entire home/apt",
           "Manhattan"
          ],
          [
           "Entire home/apt",
           "Manhattan"
          ],
          [
           "Private room",
           "Brooklyn"
          ],
          [
           "Private room",
           "Brooklyn"
          ],
          [
           "Entire home/apt",
           "Manhattan"
          ],
          [
           "Private room",
           "Manhattan"
          ],
          [
           "Private room",
           "Manhattan"
          ],
          [
           "Entire home/apt",
           "Brooklyn"
          ],
          [
           "Private room",
           "Brooklyn"
          ],
          [
           "Private room",
           "Manhattan"
          ],
          [
           "Entire home/apt",
           "Manhattan"
          ],
          [
           "Private room",
           "Brooklyn"
          ],
          [
           "Entire home/apt",
           "Brooklyn"
          ],
          [
           "Private room",
           "Brooklyn"
          ],
          [
           "Private room",
           "Manhattan"
          ],
          [
           "Private room",
           "Manhattan"
          ],
          [
           "Entire home/apt",
           "Brooklyn"
          ],
          [
           "Entire home/apt",
           "Queens"
          ],
          [
           "Private room",
           "Brooklyn"
          ],
          [
           "Private room",
           "Manhattan"
          ],
          [
           "Private room",
           "Brooklyn"
          ],
          [
           "Private room",
           "Manhattan"
          ],
          [
           "Entire home/apt",
           "Manhattan"
          ],
          [
           "Entire home/apt",
           "Manhattan"
          ],
          [
           "Entire home/apt",
           "Brooklyn"
          ],
          [
           "Entire home/apt",
           "Brooklyn"
          ],
          [
           "Entire home/apt",
           "Brooklyn"
          ],
          [
           "Private room",
           "Brooklyn"
          ],
          [
           "Entire home/apt",
           "Brooklyn"
          ],
          [
           "Entire home/apt",
           "Queens"
          ],
          [
           "Private room",
           "Bronx"
          ],
          [
           "Private room",
           "Manhattan"
          ],
          [
           "Entire home/apt",
           "Brooklyn"
          ],
          [
           "Entire home/apt",
           "Brooklyn"
          ],
          [
           "Entire home/apt",
           "Manhattan"
          ],
          [
           "Private room",
           "Brooklyn"
          ],
          [
           "Entire home/apt",
           "Manhattan"
          ],
          [
           "Private room",
           "Brooklyn"
          ],
          [
           "Entire home/apt",
           "Brooklyn"
          ],
          [
           "Entire home/apt",
           "Brooklyn"
          ],
          [
           "Entire home/apt",
           "Brooklyn"
          ],
          [
           "Private room",
           "Queens"
          ],
          [
           "Private room",
           "Manhattan"
          ],
          [
           "Private room",
           "Brooklyn"
          ],
          [
           "Private room",
           "Bronx"
          ],
          [
           "Entire home/apt",
           "Manhattan"
          ],
          [
           "Entire home/apt",
           "Manhattan"
          ],
          [
           "Entire home/apt",
           "Brooklyn"
          ],
          [
           "Entire home/apt",
           "Manhattan"
          ],
          [
           "Private room",
           "Manhattan"
          ],
          [
           "Private room",
           "Brooklyn"
          ],
          [
           "Private room",
           "Brooklyn"
          ],
          [
           "Private room",
           "Manhattan"
          ],
          [
           "Private room",
           "Manhattan"
          ],
          [
           "Entire home/apt",
           "Queens"
          ],
          [
           "Entire home/apt",
           "Brooklyn"
          ],
          [
           "Private room",
           "Brooklyn"
          ],
          [
           "Entire home/apt",
           "Manhattan"
          ],
          [
           "Private room",
           "Brooklyn"
          ],
          [
           "Private room",
           "Queens"
          ],
          [
           "Private room",
           "Brooklyn"
          ],
          [
           "Private room",
           "Brooklyn"
          ],
          [
           "Entire home/apt",
           "Manhattan"
          ],
          [
           "Private room",
           "Manhattan"
          ],
          [
           "Shared room",
           "Queens"
          ],
          [
           "Private room",
           "Brooklyn"
          ],
          [
           "Private room",
           "Queens"
          ],
          [
           "Entire home/apt",
           "Manhattan"
          ],
          [
           "Entire home/apt",
           "Brooklyn"
          ],
          [
           "Private room",
           "Manhattan"
          ],
          [
           "Private room",
           "Brooklyn"
          ],
          [
           "Entire home/apt",
           "Manhattan"
          ],
          [
           "Private room",
           "Bronx"
          ],
          [
           "Entire home/apt",
           "Manhattan"
          ],
          [
           "Private room",
           "Brooklyn"
          ],
          [
           "Private room",
           "Brooklyn"
          ],
          [
           "Entire home/apt",
           "Manhattan"
          ],
          [
           "Entire home/apt",
           "Manhattan"
          ],
          [
           "Entire home/apt",
           "Manhattan"
          ],
          [
           "Entire home/apt",
           "Manhattan"
          ],
          [
           "Private room",
           "Queens"
          ],
          [
           "Entire home/apt",
           "Manhattan"
          ],
          [
           "Private room",
           "Manhattan"
          ],
          [
           "Entire home/apt",
           "Brooklyn"
          ],
          [
           "Private room",
           "Bronx"
          ],
          [
           "Private room",
           "Manhattan"
          ],
          [
           "Entire home/apt",
           "Manhattan"
          ],
          [
           "Private room",
           "Brooklyn"
          ],
          [
           "Private room",
           "Manhattan"
          ],
          [
           "Entire home/apt",
           "Brooklyn"
          ],
          [
           "Entire home/apt",
           "Brooklyn"
          ],
          [
           "Entire home/apt",
           "Queens"
          ],
          [
           "Entire home/apt",
           "Manhattan"
          ],
          [
           "Entire home/apt",
           "Manhattan"
          ],
          [
           "Entire home/apt",
           "Manhattan"
          ],
          [
           "Private room",
           "Brooklyn"
          ],
          [
           "Private room",
           "Manhattan"
          ],
          [
           "Entire home/apt",
           "Manhattan"
          ],
          [
           "Private room",
           "Manhattan"
          ],
          [
           "Private room",
           "Manhattan"
          ],
          [
           "Entire home/apt",
           "Manhattan"
          ],
          [
           "Private room",
           "Manhattan"
          ],
          [
           "Shared room",
           "Queens"
          ],
          [
           "Private room",
           "Manhattan"
          ],
          [
           "Entire home/apt",
           "Brooklyn"
          ],
          [
           "Private room",
           "Queens"
          ],
          [
           "Private room",
           "Manhattan"
          ],
          [
           "Entire home/apt",
           "Manhattan"
          ],
          [
           "Private room",
           "Brooklyn"
          ],
          [
           "Entire home/apt",
           "Manhattan"
          ],
          [
           "Entire home/apt",
           "Brooklyn"
          ],
          [
           "Private room",
           "Staten Island"
          ],
          [
           "Private room",
           "Manhattan"
          ],
          [
           "Entire home/apt",
           "Manhattan"
          ],
          [
           "Private room",
           "Manhattan"
          ],
          [
           "Entire home/apt",
           "Manhattan"
          ],
          [
           "Entire home/apt",
           "Brooklyn"
          ],
          [
           "Entire home/apt",
           "Brooklyn"
          ],
          [
           "Private room",
           "Brooklyn"
          ],
          [
           "Shared room",
           "Brooklyn"
          ],
          [
           "Entire home/apt",
           "Queens"
          ],
          [
           "Private room",
           "Brooklyn"
          ],
          [
           "Private room",
           "Manhattan"
          ],
          [
           "Entire home/apt",
           "Brooklyn"
          ],
          [
           "Entire home/apt",
           "Manhattan"
          ],
          [
           "Private room",
           "Brooklyn"
          ],
          [
           "Entire home/apt",
           "Brooklyn"
          ],
          [
           "Private room",
           "Manhattan"
          ],
          [
           "Private room",
           "Brooklyn"
          ],
          [
           "Entire home/apt",
           "Manhattan"
          ],
          [
           "Entire home/apt",
           "Brooklyn"
          ],
          [
           "Entire home/apt",
           "Manhattan"
          ],
          [
           "Entire home/apt",
           "Manhattan"
          ],
          [
           "Entire home/apt",
           "Manhattan"
          ],
          [
           "Entire home/apt",
           "Brooklyn"
          ],
          [
           "Entire home/apt",
           "Queens"
          ],
          [
           "Private room",
           "Queens"
          ],
          [
           "Private room",
           "Queens"
          ],
          [
           "Private room",
           "Brooklyn"
          ],
          [
           "Shared room",
           "Brooklyn"
          ],
          [
           "Private room",
           "Brooklyn"
          ],
          [
           "Shared room",
           "Manhattan"
          ],
          [
           "Private room",
           "Manhattan"
          ],
          [
           "Entire home/apt",
           "Manhattan"
          ],
          [
           "Private room",
           "Brooklyn"
          ],
          [
           "Entire home/apt",
           "Brooklyn"
          ],
          [
           "Entire home/apt",
           "Manhattan"
          ],
          [
           "Entire home/apt",
           "Manhattan"
          ],
          [
           "Private room",
           "Brooklyn"
          ],
          [
           "Entire home/apt",
           "Manhattan"
          ],
          [
           "Entire home/apt",
           "Manhattan"
          ],
          [
           "Private room",
           "Manhattan"
          ],
          [
           "Private room",
           "Manhattan"
          ],
          [
           "Private room",
           "Brooklyn"
          ],
          [
           "Private room",
           "Queens"
          ],
          [
           "Entire home/apt",
           "Manhattan"
          ],
          [
           "Entire home/apt",
           "Brooklyn"
          ],
          [
           "Private room",
           "Manhattan"
          ],
          [
           "Private room",
           "Manhattan"
          ],
          [
           "Entire home/apt",
           "Brooklyn"
          ],
          [
           "Private room",
           "Manhattan"
          ],
          [
           "Private room",
           "Brooklyn"
          ],
          [
           "Private room",
           "Brooklyn"
          ],
          [
           "Private room",
           "Brooklyn"
          ],
          [
           "Private room",
           "Manhattan"
          ],
          [
           "Private room",
           "Manhattan"
          ],
          [
           "Entire home/apt",
           "Brooklyn"
          ],
          [
           "Private room",
           "Brooklyn"
          ],
          [
           "Private room",
           "Manhattan"
          ],
          [
           "Entire home/apt",
           "Manhattan"
          ],
          [
           "Private room",
           "Manhattan"
          ],
          [
           "Entire home/apt",
           "Brooklyn"
          ],
          [
           "Private room",
           "Manhattan"
          ],
          [
           "Entire home/apt",
           "Manhattan"
          ],
          [
           "Private room",
           "Bronx"
          ],
          [
           "Private room",
           "Queens"
          ],
          [
           "Entire home/apt",
           "Manhattan"
          ],
          [
           "Private room",
           "Brooklyn"
          ],
          [
           "Entire home/apt",
           "Manhattan"
          ],
          [
           "Private room",
           "Brooklyn"
          ],
          [
           "Private room",
           "Brooklyn"
          ],
          [
           "Entire home/apt",
           "Manhattan"
          ],
          [
           "Entire home/apt",
           "Brooklyn"
          ],
          [
           "Entire home/apt",
           "Brooklyn"
          ],
          [
           "Entire home/apt",
           "Queens"
          ],
          [
           "Entire home/apt",
           "Brooklyn"
          ],
          [
           "Entire home/apt",
           "Manhattan"
          ],
          [
           "Private room",
           "Brooklyn"
          ],
          [
           "Private room",
           "Manhattan"
          ],
          [
           "Entire home/apt",
           "Manhattan"
          ],
          [
           "Shared room",
           "Brooklyn"
          ],
          [
           "Private room",
           "Manhattan"
          ],
          [
           "Private room",
           "Brooklyn"
          ],
          [
           "Entire home/apt",
           "Brooklyn"
          ],
          [
           "Private room",
           "Manhattan"
          ],
          [
           "Private room",
           "Brooklyn"
          ],
          [
           "Entire home/apt",
           "Brooklyn"
          ],
          [
           "Private room",
           "Staten Island"
          ],
          [
           "Entire home/apt",
           "Queens"
          ],
          [
           "Private room",
           "Brooklyn"
          ],
          [
           "Entire home/apt",
           "Brooklyn"
          ],
          [
           "Private room",
           "Brooklyn"
          ],
          [
           "Entire home/apt",
           "Brooklyn"
          ],
          [
           "Shared room",
           "Manhattan"
          ],
          [
           "Private room",
           "Brooklyn"
          ],
          [
           "Private room",
           "Manhattan"
          ],
          [
           "Entire home/apt",
           "Queens"
          ],
          [
           "Entire home/apt",
           "Queens"
          ],
          [
           "Private room",
           "Brooklyn"
          ],
          [
           "Private room",
           "Brooklyn"
          ],
          [
           "Private room",
           "Queens"
          ],
          [
           "Private room",
           "Manhattan"
          ],
          [
           "Entire home/apt",
           "Staten Island"
          ],
          [
           "Entire home/apt",
           "Queens"
          ],
          [
           "Entire home/apt",
           "Manhattan"
          ],
          [
           "Private room",
           "Brooklyn"
          ],
          [
           "Entire home/apt",
           "Brooklyn"
          ],
          [
           "Private room",
           "Manhattan"
          ],
          [
           "Private room",
           "Manhattan"
          ],
          [
           "Entire home/apt",
           "Manhattan"
          ],
          [
           "Entire home/apt",
           "Brooklyn"
          ],
          [
           "Entire home/apt",
           "Queens"
          ],
          [
           "Private room",
           "Brooklyn"
          ],
          [
           "Private room",
           "Brooklyn"
          ],
          [
           "Entire home/apt",
           "Manhattan"
          ],
          [
           "Entire home/apt",
           "Manhattan"
          ],
          [
           "Entire home/apt",
           "Brooklyn"
          ],
          [
           "Entire home/apt",
           "Brooklyn"
          ],
          [
           "Entire home/apt",
           "Manhattan"
          ],
          [
           "Entire home/apt",
           "Bronx"
          ],
          [
           "Entire home/apt",
           "Brooklyn"
          ],
          [
           "Private room",
           "Brooklyn"
          ],
          [
           "Entire home/apt",
           "Brooklyn"
          ],
          [
           "Entire home/apt",
           "Manhattan"
          ],
          [
           "Entire home/apt",
           "Brooklyn"
          ],
          [
           "Private room",
           "Brooklyn"
          ],
          [
           "Entire home/apt",
           "Brooklyn"
          ],
          [
           "Entire home/apt",
           "Manhattan"
          ],
          [
           "Entire home/apt",
           "Manhattan"
          ],
          [
           "Private room",
           "Manhattan"
          ],
          [
           "Private room",
           "Queens"
          ],
          [
           "Private room",
           "Brooklyn"
          ],
          [
           "Entire home/apt",
           "Brooklyn"
          ],
          [
           "Private room",
           "Brooklyn"
          ],
          [
           "Private room",
           "Manhattan"
          ],
          [
           "Entire home/apt",
           "Queens"
          ],
          [
           "Entire home/apt",
           "Brooklyn"
          ],
          [
           "Entire home/apt",
           "Manhattan"
          ],
          [
           "Entire home/apt",
           "Brooklyn"
          ],
          [
           "Entire home/apt",
           "Manhattan"
          ],
          [
           "Entire home/apt",
           "Manhattan"
          ],
          [
           "Private room",
           "Bronx"
          ],
          [
           "Private room",
           "Manhattan"
          ],
          [
           "Entire home/apt",
           "Manhattan"
          ],
          [
           "Private room",
           "Brooklyn"
          ],
          [
           "Private room",
           "Brooklyn"
          ],
          [
           "Private room",
           "Manhattan"
          ],
          [
           "Private room",
           "Queens"
          ],
          [
           "Private room",
           "Staten Island"
          ],
          [
           "Private room",
           "Brooklyn"
          ],
          [
           "Entire home/apt",
           "Manhattan"
          ],
          [
           "Entire home/apt",
           "Manhattan"
          ],
          [
           "Entire home/apt",
           "Manhattan"
          ],
          [
           "Entire home/apt",
           "Brooklyn"
          ],
          [
           "Private room",
           "Manhattan"
          ],
          [
           "Private room",
           "Brooklyn"
          ],
          [
           "Private room",
           "Manhattan"
          ],
          [
           "Private room",
           "Brooklyn"
          ],
          [
           "Private room",
           "Brooklyn"
          ],
          [
           "Private room",
           "Manhattan"
          ],
          [
           "Entire home/apt",
           "Manhattan"
          ],
          [
           "Entire home/apt",
           "Brooklyn"
          ],
          [
           "Entire home/apt",
           "Manhattan"
          ],
          [
           "Entire home/apt",
           "Manhattan"
          ],
          [
           "Private room",
           "Brooklyn"
          ],
          [
           "Private room",
           "Manhattan"
          ],
          [
           "Entire home/apt",
           "Brooklyn"
          ],
          [
           "Private room",
           "Brooklyn"
          ],
          [
           "Private room",
           "Brooklyn"
          ],
          [
           "Entire home/apt",
           "Manhattan"
          ],
          [
           "Private room",
           "Manhattan"
          ],
          [
           "Private room",
           "Brooklyn"
          ],
          [
           "Entire home/apt",
           "Manhattan"
          ],
          [
           "Entire home/apt",
           "Manhattan"
          ],
          [
           "Entire home/apt",
           "Brooklyn"
          ],
          [
           "Private room",
           "Queens"
          ],
          [
           "Entire home/apt",
           "Brooklyn"
          ],
          [
           "Private room",
           "Brooklyn"
          ],
          [
           "Entire home/apt",
           "Manhattan"
          ],
          [
           "Entire home/apt",
           "Manhattan"
          ],
          [
           "Private room",
           "Brooklyn"
          ],
          [
           "Private room",
           "Queens"
          ],
          [
           "Entire home/apt",
           "Manhattan"
          ],
          [
           "Entire home/apt",
           "Manhattan"
          ],
          [
           "Entire home/apt",
           "Brooklyn"
          ],
          [
           "Private room",
           "Brooklyn"
          ],
          [
           "Entire home/apt",
           "Brooklyn"
          ],
          [
           "Entire home/apt",
           "Manhattan"
          ],
          [
           "Private room",
           "Brooklyn"
          ],
          [
           "Entire home/apt",
           "Manhattan"
          ],
          [
           "Entire home/apt",
           "Manhattan"
          ],
          [
           "Private room",
           "Brooklyn"
          ],
          [
           "Private room",
           "Manhattan"
          ]
         ],
         "hovertemplate": "price=%{marker.color}<br>latitude=%{lat}<br>longitude=%{lon}<br>room_type=%{customdata[0]}<br>neighbourhood_group=%{customdata[1]}<extra></extra>",
         "lat": {
          "bdata": "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",
          "dtype": "f8"
         },
         "legendgroup": "",
         "lon": {
          "bdata": "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",
          "dtype": "f8"
         },
         "marker": {
          "color": {
           "bdata": "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",
           "dtype": "i2"
          },
          "coloraxis": "coloraxis",
          "size": {
           "bdata": "XAAXASgASwAyADwAKABVALkAtAC7ADIAPAA3ADwAfQBVADIAeABRAPoAMgAsAbQAVQDIAFAAeABuAF8AjACWAGQASwA7AMgASwCgAFoAggBPAEEAQQA3AGMAlgCHADAAZAA8AJ8AYwD6AGQArwDIAEYALAHHACwBYwDmACgAxgBjADcAYQClAMgAfQAoADMAeACWAE8APABBABMBlgA3AC0AeACWAEEAmgBkAEUAvQBiAB0ARQDzAG0ASwCBAHcAqgA3APoALwAeAO8AQQAiAMgALwBBACwAJwFrAGQAMQCuADEALQAjADEAMQD5AFkArwAjADAA4QC0AF8A+gAoAF8AWgA5AEEARwAdAYcAlAAsAWgAfQCCAFAAbgDGAGMAYwAyACgAGAE+ABsAUABQAEYAeABLAJYA+gA8AJ4AIwCFADwAyADIAHcAVQBkACwB+gASAfUAGAFVABMBOgBCAEYAZACLACsAJgBzAHgARQBBAKoAjACWAF8ARgCNADcAMABFAK8AFABjAPoAyABCAJwAuQArAcgAMgCWAPoAxwBFAI0AZAAoAGMAOQBQACwBSgBaAEUAyABjAGQAPABLAHsAMgBGALMAdAAsASgAYwBaADIAcwBaAJEAKgD6AEEASwBfAHgAKgBCAGUAWQBMAL4APABMAFUAfQAsAWMAmwAsAVkALQAkAFoAUADhAFoALgEyADEAeACXACEBRgAqALQAoQBpAH0AHgCWACgA+gB8AIcALQANATcABAF+AHgAbgAtAFUAVQCWAJUARgBqAGQAcwBfAJYAQQBDABkAPAAnAJcAYwBuAK8AcwBGAJYAoACqAEsAUAAyAOYAqAA8ABsARgClAFoArwDZAJsAqQB9ADcAHgBfAGoAKAC5AFMAJQDwAF8AWABkAFsAoADWAKAANwBuAGQAfQAnAYwAWgAyAGQAEwGvAK8AZABkAC8AfQD6AEgAYwBGAMYAvgApAFAAlgB9AFgAcwCCACwBOgA8AGQAlgCaAJYAqQA8AS0AyABGAC4AeQDIAH0ASwB4ACsBfQBaAGQAqgAdACwBWgBgAMYAMgBpAEEAOgBVAIMAZAAgAGMAWQBkADwAXwBiAGMAswC0AFAAWgBjAD8AoABkAEoAjABGAGQATQDwANwAtAAoACYAZAA7AIwAQQCvAK8AYwBZAHgA+gDSAGkAJwFaAMgAZQDhAKUARQClAMgAoACvAF8AfQD6AKAAVQBQAFoAxwBZAC0AuABpAHEAUACNADIALQA8AKAAfQAoADUAQQA8AUEApQCWACgAdwBBAG4A+gAtADoASwAvAIcAXwAqALQALAFxACMAUACRAK8APAAsASMAtABaADwAMgBuAOYAcAA8ADIASwA8AEsAfQBjANsAUABGAJEAOQC9AH0AmwBLACsBfQBfADIArwBaAD0AVQAyADIAVQCMADcAUABQABgBlgBVAEUBaQAyAEEAOgBLAGQAKABLAKAAxwAoACwBGQC0ACYAJQCLAEoAlgBuAPoAfQBVACwBSwBkAFgAUAAyAFsAfQCbAGQAUAAoAMgAMgA3ADwALwBkAK8AlADHANsACQFUAPoAXwAyAEEAwwBaACwBoAB4AMgAfQB+AFAAIwCHADIAWgBfANwAaQBUACgAPACpAFAAiwBQAGQAlADcADwAcwClAEsAtAC0AIUALAFYADcAcwBkAIcAYwAqAPoAwwCWADAAQQBBAFoAeAD0ACEAUABaAFUAlgA3AEEAZAAsATEAbQDEAPoAJgBkAIwASwDHACMAQABLADIACQGMADIAwwBLAEsAfQBPAEsA+QC0ACgAoAAuADcAwwB9AC0ALAHIAFoANAAiAEYANwBBAGQAaQAYAAQBeABZAGQANgClAFAAggBFAHsArwBVACwBWADRAJsAXwBfAL4AWQCgAL4AZAB9AMgAZABFADEA4QDIAEsAWgA8AFUANwBQAK8ALAE8AKAAIwCOAGkA4QAtAKoAKQCvAP8AnwA3AGQAMgDHAE4ANQCWAHMAyABZAFoAgQBCABoAlgDDADsAfAAyAA4BkgCbAFwAewAyAPoAcwBkAEEAVQD6AJYAtAA3AGMAWgC0AJYAWgAtAMMAXwBaAE4AgABjAEEAXQATAVUAJwAyAGUAZABNADEAXAC5AF8AbgC5ANEAcwDIACUARgAnATcAgwBLAEQANAD5ADcAlgCWAEQAUABZAEYAUAB9AMgAvgDIAHgAlQCWAHgASwBzAJYAeACWADwAyABLAEsARQBaADsApQC5AIcAeACvAJYA/wCvAEsAZAB4AGQAkQCCAAkBMQBpACkAgAA3ADoAZADHADAAOQB4ADUAfQBQAFcArwAhADsAggAsAZYAcwBPAI4AQQAYAWkAPAA3ADcASwA+ALQAZABEAHgAQQBBAGcARgBVAGQAPAAtAEsAUABPAD0AQQATASEBqgB9AKUANQArATIA9QA8AGQArwAdADcANwBkAGQA4QC8AG4ASwBkAPAA+gADAZ8ANgCzAEsAhwBZAC0AIABQAEsAlgBGAFQALAFOAEYANwA8AJYATwCqADAAfQBuAOYAZAAnAZYAzwBaAFoAVQAiATcAswBkAIsAeABBAJgAfQA0AUUBUAAxARAB0QBQACwASQBuAE8AEwF9AD8AOwB9APoAKgCpAHgAPQA8AIIARgCCAJsAoADiAD4AeACMANIAlQCCAIcAXAAoALkARgCHAE8AqgB4AFoAeAAoAB0ANAAyAAwBYwBGALEAPwCgACsAZAAdATcANgA3APoALQCqAEsAcwD6AEsAvgCgADEAMwCCAGQARQFjACgAMgA6AFkALwD5ADQA+gBGAGQAKABjAO8AggBuAC0ASwAvAEkAIwCRAEsASQBjAGQAZABLAMMAaQA7AKAA+gATAZYAKAA3ADwAlgBvAKAAlgBpAGQAJwB4ACIARQAyADEAeACTAIwASQCvACsBYwB9AL4AKgBfACsBNwAuAZsA8ADDAFAAXwBsACAAOwBkAFkAmwBkAFIAtABfAEUADAFVAIcASwBGAGQALwAsAb4AcwCgAIwAQQBBADQA7wBLAKAAZABFAEYAcwBBADcAPAAqASgAdAC5AK8AUABBAGIALQBkAH0A+gBlAJYA9QAYAUEApQA8ACgAKwCRADcANwBzANcAxwDIANwATwBZAFwAbgD6AJYAPAElAEYAlgArAdwAjAD0ADIAMgBiAGQAyABkACcAYwBGAMgALQBKASgAYwDhAKAAkQB1AC8AlgAyAMgAyAA6AF4ALQDIAE8ArwBBAHcAGgBGAFoAQgAtAEYAuQB4AJYAJQBBAOoAJABaACABXwA8AFoAmwBgAIwAlgCVAHoAQQCJAO8AjQDIAJYAtAA3AC0AnwAjADEAZABaAF8AKABaADEBUABtAJYA4QDIAGQAlgArAZYAcwCCAFkAqgAmAGEAMQB9AGYAWgA3AJsAbgB4AB8ARADIADcARQAtAHgAlgC+AIsAUAA8AFAA5gBkADcAfQBkAEEAUACgAJYAMQBLAEsAYwD5AE8AbACgAF8ASwAeAMMAUAD6AF8AXwBDAIIAeADlAJEA+gBVAEUAVABaAFAAagAsAYsAyACWADwA0QB9AKUAQQCWALQAvgA+AEEA+gBGAMgA+gAtACwBbAC+AC0AZAB4AOUAlgBGADEAtAAmAXAAZABGAHcAUADvAIIAXwDwADwASACPAF8AjACWAK8AOgDIAG4AcgAlAOEABgFGABkAKAClAE8AWgC0AJYAggCfACIAIwApAD8ARgCWADcAxwBjADcAtAANATsALwC5AFAAcwBkAFQA+gC9AMgA+gB4ADwALwCWAO8ATgAyAGIAeABLACMAIwA3AFoAPAAtAC0AKgAsAF8AYwBBAIcApQBLAGQAUAB4ACgAeADDACgAfQAoAMgAxwC0ACIBYQCpAGQAOgCWAJ8AIQGQACQAoAAeADIAMgAoAFoALQBkAC0AyAD6AEsAPABVAH0ACgBfAFkAyACUAHgAQQBLAD8ARgA7APoAUAAfAH0ARgCWAEEAMgCkAOEALQA8AHgAfQBuAIIA+gBPAFAALwCvAJYAIwAoAHgAXwD6AIIAUABkACMAUAAoAFAAlgD6AHUAOwBiAEMAMgBiALQAyABQACYAIgDpAMgAJwBLAC0AbgBBAJYA+gD6APoA+QCVAG4AsgCHADIAPAA8ADwAMgBGAFAAGAFVAMgApwAtAEsAUACMAHgAaQDIADcAeABLADQAvgClAKoAbABpAEEArwAvAK8AyAAxADwAGAF9AMgALQBBAOYAewBuADwAJwBjADYAMgBoAPoA/wBEAGQARgAkAB4ARQEsAZQAbgAyAPoAvgCWAIEAlQBLAEUApQBQALQAwwC0AJYATgA+ADEAxwBuAL4ASABkABkAiAB9AEsAfQCgAIwAtAB9AIsAxwB9AEsAPAD1AG0A4QCMAE4AtAC+AFgAMgA4AHMAMgDcADUAqgBGAIIANwAfAUEAkQCWAC0ALQClAEYArwD6AGQAggA7AEYAPABLACgA+gDcAJYALQA3AG4AyAAsATEAxABOAJIAlgB4AGQADAFPAFAAeABGADcAZAAeAGMASgEjAIIAVQBVAEgAbgBkAPoAZABaAA0BTQBGAEEAVAA6AH0AgwA3ADIAMgBjACgA+QAiAIwAPwBrAEcA4QC+AHcA9wB2AC8AMACCADwARgAsAR0A+QCCAF8AZAB9ACwBcgAyALEAMgBtAEYAQQDGAH0AyAAlALkAIwBVAJYARgCWAHgARgBEAIIAyABGAF8AUAB9AGQA3ADlAFUALACvAH0ADgFaAIoAXwBkAIIAVQD6AHgAlQAtAC0AJwB9AHgAtABsAPoANwDIADwAlgCEAEMAUAC+AEEAvgA8AHYAjABBAIcAhwAoAFAAXgCWADcA1wBQAEsAxwCqALoAxwBaAMYATwA8AH0AlgBaAGMAdwCAAKkAPAA8AJYArwBDACwBMgAyAKgA3ABFAEYAjADIAN0ARgAgABQAIwDhAEYAmQD6AGQAuQAnAMgAcAA3ALQAJgDhACABowBjAFoAPAB4AEYAEwGvAJYARQDIAMgAyABrAMcAMQBLAIIAaQC5ADwAcwC0AKcAaQDzAL4ArwAgALwA+gBkAFkALAE5ANwARABIAMcAUABzAFgAeAB9AGkAPgDbAGQAMQFaAF8AKwGCADIAMgB6AOYARADHAJYAyAAtAEEAMgBOAGQAeABfAB4AlgCbAG8AeAAyAJYAbgB3AFAAKQFfAMgAWQBzAMcAlgA8AMUAyAB4AJYAggCWAJYAkwA7AJYA2wCWAF8AfABaAIIApQCRAL4AKQBrAEkASwBQAB0A9QBBAOEAlgCCADwA+gDIAPoANwD6AFoAbgD5AGQAlgCVAH0ALAFfAEYAWgD6AH0A8QBmAB4AYgD6AC0AUABkAL0AVQA8ADcAMgCBADwAIwC6AKUAyAClAGQAVQBLADwAZQCpADwAaQC+ABMBaQC2AIwAlQBcAHoAgQAyAFAANwBQAHMAbgCvAGQAlQA3ADoARgBaAEYAlgAlAJUAqACGAEYAhQAtALMAPQDhAEsAhwBaAC0ATwBBAIIAMgBPAJ8AHgBCAGQAWgBkAFoAhwBVAGQAYwB9AFUAxwA1AH0AQgBkAIwAbgA8AG0ASwAqAFIAQQCCAF8AeAA2ACMANgBLAFAAXwBjAC0AoACjADwAyABVAHMAfQBaAC0ARQAdAbQAKgB9AG4AUACCAGIAUAB1ADEAUwBRAJYAWgAiAXMAbgBNAD8ATwAsAeoAMgD6AC8AyABGAGMAfQBnAHgAugBFADwAUABjAEsAKAB9AMcAkQC0ACgAlgBEAGQAyAAyAFUAlgDIAEEARgBkAGQAKABpADwAUABLAFAAPAAjAGkAGQAmADoAZACWAMgAKgBzAJ8ADgFVAFoAoADIAEEANwB4AKUAQQBTAK8APAAsAfoA4QA7AMgAdwCUAGQAVQCfAF8AZABGAEEA6wAvAFAARgBVACgAlgA3AFAAPgD6AFoAMQGMAHgARgBBACQAJwAwACgARgBfAEEAMQGvACgAlgAzAEYAlgBjADIAHgAlAEEAOgEqACMAbgAhABcARQCvAGMATwCRAJYAwwAsAT4ANAC0AMcAJgBBAKAARgDxADcASwDIAEoAoQBkAD8AUAAnALYAUABBADcALQBBAEYASwAoAHgAZAAtAEsA+gCBACgAvgBkAG4AbgBQAIcAggBkADcAHAAYAW4AZABVAKAAfQB3AEEAWgBFAVkARQE/AccAPAAeACcBcwDhAG4ArwD6ANwAxwA+AFoAJwGfADcAfQC+AMcAKQBxAHgApAB4AEsAWgBLADwAkQDIAHMAQwC5AFUAZADIAK8AYQA8ACwBlQCzAB4AjAAUAE4AYwBBAGUALAFaACgAgQBzAJYAxwCWAIEAYwBvADcAYwB2AAEBRgAtAG4APAAyAH0AUAAyAPoA7ABuADwAKwBPAF4ARgBsADIAlgCWAEYAMQD6ACcBMgD6AGQAuAB8AG4ANwBVAL0A4QAyAJUAtADIAEsAZABGACwAlgBQAGQAxwBBADwAJwHIAEEAlQCMAFAARgBzAGkAWgBjAFkApQBaAPUAYwAmAMgAfQBGAC0ASwBBAGEAYwD9ADcAIgBGAEYAOQBKADsAQAC+AMgAmAAjAE8APgCWAHgAeADhAPoASwAZAEYAVQAsADwAZABpAFAAWgA3AFUANwDIAGQAlgCWAPoAyAAYAXgAlgBkAKUARgBLAEEAZwCRAPoAKwGMANAAVgAmACIAiwCRAGQAyAAtAIsAEwGUAEkA8AB9AGUANgDIADIASwAyALkAJQB4AGQAwwDTADsAvgBsAHgANwCvAPoAoAA8ADsAMwDIAOEAIwAyAEsAWgCMAGQAWQALATIAUQBBAH0AYwAoAPoArwCgADwAjwA3AFQAKwAyAJUA9gCRAPUAJwDvAKUAPACvAFAAcwBPAF8AhwBQAEYAIwCMAFAANwBEADwAMwAtADsAvgAnACgAKwB7AK8AUACvADwAcwAeAEEAWgADAZ8AeAApAD4AyAA/AHgArwCWAHgAMgB9AJYAPAB9ACgAWQA7ADAAgQClALMA2wCbAIwAbQAdAF8AUADcAHgAWgBZACsAPwA8AEsAQAEwAMkAMgA+AHMAiwCCADIAMgCWADwAlgAqAXMAzQDmAPoAeABfAHoAKAB9AH0AwwAlANEANwBfAEYASwA8AJYAYwCpAIsASwA8AIcAZAA8AC0APABGAJYAjABuADwAKwDkAKAAVwBLAKAAIwCWAL0AvQA8AOUACwEyAJYAtACMAH0AYwDIAFAATQClACsArwDIAEcAaQC3AGQAUAA8ADwAtACvADcAUAD6ADEATwBjAFoAEwEtAG4AwwDSALQAlACHAKAAlgAhAGMAZAAsAEQAOQAvALMAfQBQADIAMgBaAHgAMQAoAG0AHgBPAGQAWgDHAJYAlQB9AOEAlgBuAGQA8ACCAMMAxwATAdcAPAA8AIIArwCWAA4BZACRAF8AhwCrAJYARwBkAAQBbAAeAJgASwA8AG4ALQBfADIAIQC5APMAZAAjAPoArwC0AJYALgA8ADIAmwA4AB4AxwC0AFsASwBPAC4ATQBXAEsAMgD6AHgAIgBBAJYAOwBFAWQAUABSAHgAdwBVAPoA+gA3AJYATgBUAMYA4QB+AGUALwA3AP8AHwD6AMcAUABpAJ8A4QBQAMgAJABLACwAMQDIAPoAfABjANMAhwBzADAAMABaAH0AWgCzACwB4QA7AEsAoACVAC8AMgC9AMgAQQAoAKoAUACWAFcAWgCqAGQAWACWAAsAXACbAF0ArwBzAG4AbgCMAHUAbgAgADwATgD6AJYARgBfANEAKAATAeoATgBQAPoALAGWAG4AeAA0AGQAzQB9AKsAbgA8AMgAZACCADcAZADIAG0ALAF4AGIAXQCBAJYAggCWAD8AlgBEACMAMgCzAIcAWQC9AFMAZABLACsB3ABkAEYAJAAeADEAUABLAN0AfQCCADIAMgBzAIsALQBFAEYAggAjAJEAQQCvACQAmwDHAPAALQBuAIIAKgBfAFQAVQBZAHcAMgBkADIAuQB4AEsAQwB9AEEAKAB4ADgALQATAZYAVQBaAH0AXwAsAa8ALAFBAD8APAB4AGQAlgA8AHwARAAyAAcBUADrACwBWgCWAMgATwBQAFoAUADDAGMAcwCHAJYAQQD6AH0AqgAVAcgAXgCqAGQAiQCgAB4AiQA3ADcAxgBLAPoAPABGAFoATAArAbkASwCWADcAoAAtAHgA7wCvADIAbgB4ADwAyAD6AOsAMgGVAA4BZADDADIAKAB4AFoApQAoACYAuQB7AGQARQBuAIwAkQDSAGQANwAgADkAIwAlAHgAWABuAEYAUABJACgAVQBQADcAfQCBAFgAfQBBABMBhwD6AM0AvgBGAEcAlgB3AOEAZACbANwAKwF9AMgASwCWAC0AiwDhACcAVQBkAGQAVQAqADYA+gDDADkARQAoANcA0QBBADcAeABnADcAtABuAG4AQQA8AF8AGQB4AIcAxgAjAEYAQgB9AGkAIwAxAGkASwBsAC8AWgAsAUsASwDIAFUAVQBuAJUA+gAoAJ0AUAAEAUYAxwAoANwAMgA8AEsAJQD/ADsBxwDhAFkAOACWAFUAyADhAF8ASwCbAL4AcwC0AFEAbQBaAC0ALQA8AIEAaQBfAH0AJQBDAF8AlgCBAJgAPABhAIcAPABtAJYAxwA4AH0AWgCKAC0AZwBVAKkAlgBIAMMA4QBOAGQAjAA+AGQAZAD6ADAAyACCAFAA3ABLAKkAlgBfAFUAMgAjAG4AKgBQAH0AZAAjAHcAIwAoAEEAeABkALQAsQDRAFAANwCGAMgAyACvADwAQgBVAOQAWgCgAD4APAAdAKoAvAA6AE0ARQBIAC0AaQC0ACQAdQB9AIwAXwDHAKAAUAB4ACwAlgAjAMgApQA8ABkAUABBABMBEwFBAC0AeABaADAAaACWADMAlQAIAcgAMgD5ACgAWgAyADwAMQCvAGQAfQAoACMAaQBLAHEANAB9AJYAZABLAFUAPAA8AAYBeAD6AHgA7wCNAMQAlgATAUoAXwAyADsAIQBFAb4AJQBLAJYAlgAoAFoAfQBzAHcAyABuAPoATQBaABMB+gBGAFUASwCfAFUA6wDIAE8AbgBkAGQA+gBQAJYARgCCAG4AUgAiAAkBbABAAJEAtACGAMgAWgD1APoA7wA4AK8AVQDwADwAOwA+AOYAEwFQAEEAbgBLAEQAjADDAIIASwBpAC0AmwClAGQAHgB8AF8AmgBfAGQAyABQAD0AoABBAEsAbQAsAS0APABLADcAyAB3AGQAggCVANsAIwBLAPoAVQCCADcAQgC+AKAALQAWADIArwCXAHgAsQAjAOEAMQAZADYAbgDmAFQAlgCgAJYAOwBiAEoA+gBnAHgATwAtAEAAQQDcAGMAGAH6AHgAPgCOAEUAnAClAIYAQQBZAFgAXwCWADwAMAA2AFAANgBkADwARgBuAGAAyAAeAKAAlQA6AJYARgCHAGYAXwDmAEUAyAA1ADwAQgB4ADcAyADIAC0ABAFaAI4AZABNAFAAJgEyACcBOgCXAEEARgBUAFoAKwAyADwAUgBRAFoALQCWADcAlgAsAVUApQBIAGQAPACKAEcA9AATAVUAcwCCAEEAfQAiAWMAIAAwAKUA+gBNAEYAlgC5ADAALAE7APoALwB2AFoA6wB4AGQAOQDIAJYAYwClABgBbgB4AJYAoACWAKkAlgDhADIAhwB9AJYA4QBaAFMAjABQAHcAWQDIADwAyAAjAKUAXwBkAFAAdwCmAK8AUAA2AFAAUABGACMAuQCHACwBfQAoACcAIwAtAEgAWgBQAC0ALQB4ACgAqQBzAFAAXgA8ADcAggBjAB0AggBGAEUAyACWAPoAIgFGAHgAlgD/AH0AZgBkAIwAlgBGAEEAZABAAGQAZAA/AEUASwA8AK8ANwBkAFkAggAyACIAWgAzACMAfQAyAJUASwCWAB4AyAB9AKAA0QB9AEkBPABkADUAvQCAAEEAfQAoABMBeAB4AKAAoAAjABMBJgC0ADIAqQBLAEEANwA8AJYARABKAFAAaQCWAGQAyAA0AEUAQQA5AL0APAA8ADcAyAAcABMBrwDIAEsA+gBuADIAGQDFAGMAKgBuAJYArwA8AFkAYAAEAe8AJgBVAIIAIwBAAP8AXwBaACYARgA8AIwALQCCADcAiwBGALQAfQCMAHgAKwB4ACwBLQAhAFYAhwBVAEIAPQBBAMgAuQBaAIwAUABaAJYAtAAdAVkAyABGADsArwBkACsACgBkAMYA3gC4ADwAeQAxAD4AlQBfACwBSwD6AFoALAGCAFAALQBkAMgAxwD6AFIAVQBuACcBPABaADIAKgCWAKUAZABGAJYAOACvAKAAlgA8AIcAOQDNAK8A1wDIAIwANgC5AGMAZABfAOEAlgCvAH0AbwBGAMUA0gBGAGQAgQC+AFUA2wBQAEsAeAAwACYAZAArATkAPAA7ALMAJwDHAIcAYwCWAEsALQBLAEUByABGAJ8AMgBkAJ0AtgAuAFUAKQBeAFUALABBANwASAEyADcANwA7AFQAbgBLAJYAPgBVALMAMgAyABMBXwCWAH0AVQB4AEUAGAGRAIwAPAD6AFAAUABLADwAWgAjAEYAXQAyAHcAHQE8ACkAqQBVAEoASAB9AF0ALQCWAIwAbgAyAH0AkAA3AK4AjAB4AD8APAAnAa8AtABjAM0AeAAyAGkAUgC0AG4ATgD6AC0AlQAtAH0AqgAyADIAbgCvAHgAfQBBAOEAcgClACYAVgDcAF8APAAyADwAMgAhADoAXwB9ADIAwwCvACsAqwDHAEsAWQBkADwAnwCeAC8AlgA/AOsAWgA8AHMAPABRADIANwBNADEAtABkAK8AUAA3ADoAiQAZAJYAZADdAFUAwwBLACgAtAAtAFoAHgDhAMYAoABZAC0AXwCqAGIApQCqAGQAQQA8AHgAIABPAMgAxwCWAG4ASwBLAFoAkQAyAJYARQFjAJYARgCqAJ8AyADXAIEAIwCLAEEAVAAnADIAWgA9AHgAMgA8AOkAKAA3AC0AiwAdAZYA1ABaAB4AVQB9ACgAFAAyAPoA0wBuAC0AeAA8ABQBNQAsAFAAjACvAFYArwBkAEsASwCWAEsAMQA2AWQABAEsAUEAfQBqAEMATwBQAMgA0wDSAGQAMgC+ALkANQAmALQALAF4AGQAeABkAPoAgQBkADIAfQBkAMMAmwAyAG4A+gCvAMgAlgD6ADIANABVAEEA+gA9AFUAWgBLAFoASADHAG4AlgBkAM8ARgD6ADwAVQAwAIsApQB1AEsAVQBkAJUASwAyAMgAWgA8AMgAmAAeAFAAMgDIAIwANwAlAJEASwBWAH0AcwCqACEAqQCVAG4AggAqAG4AMgCDAJ8AIABfAH0AoACgAFoAZABVAH0ARgA8AOMAWgD6AK8AWgBuAIIA+gCRAEsAVQBLAGMA+wBAAVAAxwBzAMgAnwBAAFAAkQDIAIIAwwBGAJsAlgBGAEEAyAAnAGEAQQBQAPoAxwA8AFYAKwHeADIATgBVADsAvgBuAJEAJQArAeEADgFBAFAAUAB9AG0AbACpAEIAMgCRAIoAPAB8AJYAPAArATsAXwAxAPoAbgAEAeYAIwAvAC0APACCAEEArwBFAFAApQDGAEEAZAAtACEBQQDHAOEAhACgAFAAZABfACgAVQBQAPUAtACvAEYAKABGAFoALQA8AHgANwBkAOUAjAAtAMgAVQD6AFAAWQAyAIYA4QD6AMcALQBQAMcAGQA7ACwBeACvAKAAUABkADIAyAA3AMUAHgDDAK8AuQBfAGQAqQA7ACMA4QBfADkAtAAyAFAATwCvAJsAPAA8ANcAoABQAFAAKADDAGgAlgD6AFcANgCfAIwAWgA8AF8APACWAHcASwBuAKkASQBrADoAhwCvAD4AggCqAMgA4QBkAHgAUABkAEsAeACWADsAlgAtACwBPABBAFUATwBfACYAxwDHAD8AlwBkAGQAUAB4AEYAhwD6ALQAPABfAMMA+QBzAIgAKAAKAEsAyADIAC0AXADIAMgAlgDIAPoAdQDcAHYASwAoAGQAqQBkAJcAaQBuACQAkQAoAH0AfQBVAKwAlgDIADcAdwBQAHgALQBbAHgAggBLADwAXwBkAEQASwA6ADwAwgAsAW4AtAAsAVAAggBQADwAdwAXAdwAnwA3AEEArwCCAFkAMACCACkAMgB4AC0AWgBuACgA4QBjACYAjAD6ACcBiwBLADIAmwDIAJ8AUACCADIAYACLAB0BGwCWAFUAMQCZAHMAWgAoANEAyAD6AH0AyAA7ACgAKAAjAHgASACWAEEAaQCWAH0AcwA7AMMAYADhAPgAMgAjALkAZABGAEsAggA8ALQAVQBNAT8AcwBGACwAuQBkAMgAxwA8AC4AeABWADIAfQBLAHgA+QA3AFcAWQBPAGIARgBjAEIArwDHAFAAfQDrAIUAZAAsAUsApQD/AEoAwwCCAJYAvgAqAPoAIwBWAGQAdwBOAG4APAAyACsBGgF9AOUAWgBfADIAdwBaAGQAlgBfAPQAIwA6AGQAMgCWAE8AHABBADIAyAB4AEYAQQDHAEsATABCALMAiQCWALMAaQA8AMgAUAB4ADoALABdAEYAXwCvAHYAbgB9AMMA9AAoALQAsQBkAFcAxwBpACIAfQCWACcAmwDmAD8AKwFQACIAQACWAGEAhQBaAFgAZAAZAFUAYABBAEYAHwEyAMMAfQBaAI4AggBOAIMArwCsAEcANwA2ADwAGQAvAEUAggCWAEsAlwDDANIAJQCpAK8AOQBIAEEAPACVAG4AdwC9AMgAQQAoAFAAKAA9AKAAggBMADwAvQBEAH0AXwBtAB0AVQCCAEYADQF3AIEAwwBaAFkAWABkAOEAQQCWAKAAGQBjAEsA3ACWADIA4QAeAL4ALgB4AE8AVQA8ADUAgwD6AGQAUAAyACUAZABtAIwAvgAyAK8ARQBkAIsAZACWAGwAZACqAMMALAHhAMcAZAAsAS0AqgD6ANcAPAA7AYIAlgB9ACwANwCgAJwAPABFAIIAwACHAOEAawAtADwA3ABCAC0AggAyAJYAJACpAGQAlgATAVoAPAB4AB4AQQBQAMcAhwDvAFUAVQBGAL4AUABGAIIARQCdANMA4QC+ADIAlQArAL0A7wAwAB4AqgAsAZYANwBGAFkAQQAYAcgAKABjAA==",
           "dtype": "i2"
          },
          "sizemode": "area",
          "sizeref": 0.8325
         },
         "mode": "markers",
         "name": "",
         "showlegend": false,
         "subplot": "mapbox",
         "type": "scattermapbox"
        }
       ],
       "layout": {
        "coloraxis": {
         "colorbar": {
          "title": {
           "text": "price"
          }
         },
         "colorscale": [
          [
           0,
           "#0d0887"
          ],
          [
           0.1111111111111111,
           "#46039f"
          ],
          [
           0.2222222222222222,
           "#7201a8"
          ],
          [
           0.3333333333333333,
           "#9c179e"
          ],
          [
           0.4444444444444444,
           "#bd3786"
          ],
          [
           0.5555555555555556,
           "#d8576b"
          ],
          [
           0.6666666666666666,
           "#ed7953"
          ],
          [
           0.7777777777777778,
           "#fb9f3a"
          ],
          [
           0.8888888888888888,
           "#fdca26"
          ],
          [
           1,
           "#f0f921"
          ]
         ]
        },
        "height": 500,
        "legend": {
         "itemsizing": "constant",
         "tracegroupgap": 0
        },
        "mapbox": {
         "center": {
          "lat": 40.728219392,
          "lon": -73.950459842
         },
         "domain": {
          "x": [
           0,
           1
          ],
          "y": [
           0,
           1
          ]
         },
         "style": "open-street-map",
         "zoom": 10
        },
        "template": {
         "data": {
          "bar": [
           {
            "error_x": {
             "color": "#2a3f5f"
            },
            "error_y": {
             "color": "#2a3f5f"
            },
            "marker": {
             "line": {
              "color": "#E5ECF6",
              "width": 0.5
             },
             "pattern": {
              "fillmode": "overlay",
              "size": 10,
              "solidity": 0.2
             }
            },
            "type": "bar"
           }
          ],
          "barpolar": [
           {
            "marker": {
             "line": {
              "color": "#E5ECF6",
              "width": 0.5
             },
             "pattern": {
              "fillmode": "overlay",
              "size": 10,
              "solidity": 0.2
             }
            },
            "type": "barpolar"
           }
          ],
          "carpet": [
           {
            "aaxis": {
             "endlinecolor": "#2a3f5f",
             "gridcolor": "white",
             "linecolor": "white",
             "minorgridcolor": "white",
             "startlinecolor": "#2a3f5f"
            },
            "baxis": {
             "endlinecolor": "#2a3f5f",
             "gridcolor": "white",
             "linecolor": "white",
             "minorgridcolor": "white",
             "startlinecolor": "#2a3f5f"
            },
            "type": "carpet"
           }
          ],
          "choropleth": [
           {
            "colorbar": {
             "outlinewidth": 0,
             "ticks": ""
            },
            "type": "choropleth"
           }
          ],
          "contour": [
           {
            "colorbar": {
             "outlinewidth": 0,
             "ticks": ""
            },
            "colorscale": [
             [
              0,
              "#0d0887"
             ],
             [
              0.1111111111111111,
              "#46039f"
             ],
             [
              0.2222222222222222,
              "#7201a8"
             ],
             [
              0.3333333333333333,
              "#9c179e"
             ],
             [
              0.4444444444444444,
              "#bd3786"
             ],
             [
              0.5555555555555556,
              "#d8576b"
             ],
             [
              0.6666666666666666,
              "#ed7953"
             ],
             [
              0.7777777777777778,
              "#fb9f3a"
             ],
             [
              0.8888888888888888,
              "#fdca26"
             ],
             [
              1,
              "#f0f921"
             ]
            ],
            "type": "contour"
           }
          ],
          "contourcarpet": [
           {
            "colorbar": {
             "outlinewidth": 0,
             "ticks": ""
            },
            "type": "contourcarpet"
           }
          ],
          "heatmap": [
           {
            "colorbar": {
             "outlinewidth": 0,
             "ticks": ""
            },
            "colorscale": [
             [
              0,
              "#0d0887"
             ],
             [
              0.1111111111111111,
              "#46039f"
             ],
             [
              0.2222222222222222,
              "#7201a8"
             ],
             [
              0.3333333333333333,
              "#9c179e"
             ],
             [
              0.4444444444444444,
              "#bd3786"
             ],
             [
              0.5555555555555556,
              "#d8576b"
             ],
             [
              0.6666666666666666,
              "#ed7953"
             ],
             [
              0.7777777777777778,
              "#fb9f3a"
             ],
             [
              0.8888888888888888,
              "#fdca26"
             ],
             [
              1,
              "#f0f921"
             ]
            ],
            "type": "heatmap"
           }
          ],
          "histogram": [
           {
            "marker": {
             "pattern": {
              "fillmode": "overlay",
              "size": 10,
              "solidity": 0.2
             }
            },
            "type": "histogram"
           }
          ],
          "histogram2d": [
           {
            "colorbar": {
             "outlinewidth": 0,
             "ticks": ""
            },
            "colorscale": [
             [
              0,
              "#0d0887"
             ],
             [
              0.1111111111111111,
              "#46039f"
             ],
             [
              0.2222222222222222,
              "#7201a8"
             ],
             [
              0.3333333333333333,
              "#9c179e"
             ],
             [
              0.4444444444444444,
              "#bd3786"
             ],
             [
              0.5555555555555556,
              "#d8576b"
             ],
             [
              0.6666666666666666,
              "#ed7953"
             ],
             [
              0.7777777777777778,
              "#fb9f3a"
             ],
             [
              0.8888888888888888,
              "#fdca26"
             ],
             [
              1,
              "#f0f921"
             ]
            ],
            "type": "histogram2d"
           }
          ],
          "histogram2dcontour": [
           {
            "colorbar": {
             "outlinewidth": 0,
             "ticks": ""
            },
            "colorscale": [
             [
              0,
              "#0d0887"
             ],
             [
              0.1111111111111111,
              "#46039f"
             ],
             [
              0.2222222222222222,
              "#7201a8"
             ],
             [
              0.3333333333333333,
              "#9c179e"
             ],
             [
              0.4444444444444444,
              "#bd3786"
             ],
             [
              0.5555555555555556,
              "#d8576b"
             ],
             [
              0.6666666666666666,
              "#ed7953"
             ],
             [
              0.7777777777777778,
              "#fb9f3a"
             ],
             [
              0.8888888888888888,
              "#fdca26"
             ],
             [
              1,
              "#f0f921"
             ]
            ],
            "type": "histogram2dcontour"
           }
          ],
          "mesh3d": [
           {
            "colorbar": {
             "outlinewidth": 0,
             "ticks": ""
            },
            "type": "mesh3d"
           }
          ],
          "parcoords": [
           {
            "line": {
             "colorbar": {
              "outlinewidth": 0,
              "ticks": ""
             }
            },
            "type": "parcoords"
           }
          ],
          "pie": [
           {
            "automargin": true,
            "type": "pie"
           }
          ],
          "scatter": [
           {
            "fillpattern": {
             "fillmode": "overlay",
             "size": 10,
             "solidity": 0.2
            },
            "type": "scatter"
           }
          ],
          "scatter3d": [
           {
            "line": {
             "colorbar": {
              "outlinewidth": 0,
              "ticks": ""
             }
            },
            "marker": {
             "colorbar": {
              "outlinewidth": 0,
              "ticks": ""
             }
            },
            "type": "scatter3d"
           }
          ],
          "scattercarpet": [
           {
            "marker": {
             "colorbar": {
              "outlinewidth": 0,
              "ticks": ""
             }
            },
            "type": "scattercarpet"
           }
          ],
          "scattergeo": [
           {
            "marker": {
             "colorbar": {
              "outlinewidth": 0,
              "ticks": ""
             }
            },
            "type": "scattergeo"
           }
          ],
          "scattergl": [
           {
            "marker": {
             "colorbar": {
              "outlinewidth": 0,
              "ticks": ""
             }
            },
            "type": "scattergl"
           }
          ],
          "scattermap": [
           {
            "marker": {
             "colorbar": {
              "outlinewidth": 0,
              "ticks": ""
             }
            },
            "type": "scattermap"
           }
          ],
          "scattermapbox": [
           {
            "marker": {
             "colorbar": {
              "outlinewidth": 0,
              "ticks": ""
             }
            },
            "type": "scattermapbox"
           }
          ],
          "scatterpolar": [
           {
            "marker": {
             "colorbar": {
              "outlinewidth": 0,
              "ticks": ""
             }
            },
            "type": "scatterpolar"
           }
          ],
          "scatterpolargl": [
           {
            "marker": {
             "colorbar": {
              "outlinewidth": 0,
              "ticks": ""
             }
            },
            "type": "scatterpolargl"
           }
          ],
          "scatterternary": [
           {
            "marker": {
             "colorbar": {
              "outlinewidth": 0,
              "ticks": ""
             }
            },
            "type": "scatterternary"
           }
          ],
          "surface": [
           {
            "colorbar": {
             "outlinewidth": 0,
             "ticks": ""
            },
            "colorscale": [
             [
              0,
              "#0d0887"
             ],
             [
              0.1111111111111111,
              "#46039f"
             ],
             [
              0.2222222222222222,
              "#7201a8"
             ],
             [
              0.3333333333333333,
              "#9c179e"
             ],
             [
              0.4444444444444444,
              "#bd3786"
             ],
             [
              0.5555555555555556,
              "#d8576b"
             ],
             [
              0.6666666666666666,
              "#ed7953"
             ],
             [
              0.7777777777777778,
              "#fb9f3a"
             ],
             [
              0.8888888888888888,
              "#fdca26"
             ],
             [
              1,
              "#f0f921"
             ]
            ],
            "type": "surface"
           }
          ],
          "table": [
           {
            "cells": {
             "fill": {
              "color": "#EBF0F8"
             },
             "line": {
              "color": "white"
             }
            },
            "header": {
             "fill": {
              "color": "#C8D4E3"
             },
             "line": {
              "color": "white"
             }
            },
            "type": "table"
           }
          ]
         },
         "layout": {
          "annotationdefaults": {
           "arrowcolor": "#2a3f5f",
           "arrowhead": 0,
           "arrowwidth": 1
          },
          "autotypenumbers": "strict",
          "coloraxis": {
           "colorbar": {
            "outlinewidth": 0,
            "ticks": ""
           }
          },
          "colorscale": {
           "diverging": [
            [
             0,
             "#8e0152"
            ],
            [
             0.1,
             "#c51b7d"
            ],
            [
             0.2,
             "#de77ae"
            ],
            [
             0.3,
             "#f1b6da"
            ],
            [
             0.4,
             "#fde0ef"
            ],
            [
             0.5,
             "#f7f7f7"
            ],
            [
             0.6,
             "#e6f5d0"
            ],
            [
             0.7,
             "#b8e186"
            ],
            [
             0.8,
             "#7fbc41"
            ],
            [
             0.9,
             "#4d9221"
            ],
            [
             1,
             "#276419"
            ]
           ],
           "sequential": [
            [
             0,
             "#0d0887"
            ],
            [
             0.1111111111111111,
             "#46039f"
            ],
            [
             0.2222222222222222,
             "#7201a8"
            ],
            [
             0.3333333333333333,
             "#9c179e"
            ],
            [
             0.4444444444444444,
             "#bd3786"
            ],
            [
             0.5555555555555556,
             "#d8576b"
            ],
            [
             0.6666666666666666,
             "#ed7953"
            ],
            [
             0.7777777777777778,
             "#fb9f3a"
            ],
            [
             0.8888888888888888,
             "#fdca26"
            ],
            [
             1,
             "#f0f921"
            ]
           ],
           "sequentialminus": [
            [
             0,
             "#0d0887"
            ],
            [
             0.1111111111111111,
             "#46039f"
            ],
            [
             0.2222222222222222,
             "#7201a8"
            ],
            [
             0.3333333333333333,
             "#9c179e"
            ],
            [
             0.4444444444444444,
             "#bd3786"
            ],
            [
             0.5555555555555556,
             "#d8576b"
            ],
            [
             0.6666666666666666,
             "#ed7953"
            ],
            [
             0.7777777777777778,
             "#fb9f3a"
            ],
            [
             0.8888888888888888,
             "#fdca26"
            ],
            [
             1,
             "#f0f921"
            ]
           ]
          },
          "colorway": [
           "#636efa",
           "#EF553B",
           "#00cc96",
           "#ab63fa",
           "#FFA15A",
           "#19d3f3",
           "#FF6692",
           "#B6E880",
           "#FF97FF",
           "#FECB52"
          ],
          "font": {
           "color": "#2a3f5f"
          },
          "geo": {
           "bgcolor": "white",
           "lakecolor": "white",
           "landcolor": "#E5ECF6",
           "showlakes": true,
           "showland": true,
           "subunitcolor": "white"
          },
          "hoverlabel": {
           "align": "left"
          },
          "hovermode": "closest",
          "mapbox": {
           "style": "light"
          },
          "paper_bgcolor": "white",
          "plot_bgcolor": "#E5ECF6",
          "polar": {
           "angularaxis": {
            "gridcolor": "white",
            "linecolor": "white",
            "ticks": ""
           },
           "bgcolor": "#E5ECF6",
           "radialaxis": {
            "gridcolor": "white",
            "linecolor": "white",
            "ticks": ""
           }
          },
          "scene": {
           "xaxis": {
            "backgroundcolor": "#E5ECF6",
            "gridcolor": "white",
            "gridwidth": 2,
            "linecolor": "white",
            "showbackground": true,
            "ticks": "",
            "zerolinecolor": "white"
           },
           "yaxis": {
            "backgroundcolor": "#E5ECF6",
            "gridcolor": "white",
            "gridwidth": 2,
            "linecolor": "white",
            "showbackground": true,
            "ticks": "",
            "zerolinecolor": "white"
           },
           "zaxis": {
            "backgroundcolor": "#E5ECF6",
            "gridcolor": "white",
            "gridwidth": 2,
            "linecolor": "white",
            "showbackground": true,
            "ticks": "",
            "zerolinecolor": "white"
           }
          },
          "shapedefaults": {
           "line": {
            "color": "#2a3f5f"
           }
          },
          "ternary": {
           "aaxis": {
            "gridcolor": "white",
            "linecolor": "white",
            "ticks": ""
           },
           "baxis": {
            "gridcolor": "white",
            "linecolor": "white",
            "ticks": ""
           },
           "bgcolor": "#E5ECF6",
           "caxis": {
            "gridcolor": "white",
            "linecolor": "white",
            "ticks": ""
           }
          },
          "title": {
           "x": 0.05
          },
          "xaxis": {
           "automargin": true,
           "gridcolor": "white",
           "linecolor": "white",
           "ticks": "",
           "title": {
            "standoff": 15
           },
           "zerolinecolor": "white",
           "zerolinewidth": 2
          },
          "yaxis": {
           "automargin": true,
           "gridcolor": "white",
           "linecolor": "white",
           "ticks": "",
           "title": {
            "standoff": 15
           },
           "zerolinecolor": "white",
           "zerolinewidth": 2
          }
         }
        },
        "title": {
         "text": "Geographic Distribution of Listings (Sample)"
        }
       }
      }
     },
     "metadata": {},
     "output_type": "display_data"
    }
   ],
   "source": [
    "# Geographic distribution with price\n",
    "fig = px.scatter_mapbox(df_clean.sample(5000),  # Sample for performance\n",
    "                        lat=\"latitude\", \n",
    "                        lon=\"longitude\", \n",
    "                        color=\"price\",\n",
    "                        size=\"price\",\n",
    "                        hover_data=[\"room_type\", \"neighbourhood_group\"],\n",
    "                        mapbox_style=\"open-street-map\",\n",
    "                        zoom=10,\n",
    "                        height=500,\n",
    "                        title=\"Geographic Distribution of Listings (Sample)\")\n",
    "fig.show()"
   ]
  },
  {
   "cell_type": "markdown",
   "metadata": {},
   "source": [
    "## 2.5 Feature Engineering\n",
    "\n",
    "Create additional features that might be useful for machine learning."
   ]
  },
  {
   "cell_type": "code",
   "execution_count": 11,
   "metadata": {},
   "outputs": [
    {
     "name": "stdout",
     "output_type": "stream",
     "text": [
      "Feature Engineering Verification:\n",
      "- price_category: {'Mid-range': 17364, 'Premium': 16577, 'Budget': 6547, 'Luxury': 5411}\n",
      "- availability_category: {'High': 13015, 'Medium': 10997, 'Low': 5043}\n",
      "- host_type: {'Single': 30297, 'Multiple': 15602}\n",
      "- review_frequency: {'Low': 19116, 'Medium': 11029, 'High': 6750}\n"
     ]
    }
   ],
   "source": [
    "# Create new features\n",
    "df_processed = df_clean.copy()\n",
    "\n",
    "# Price categories\n",
    "df_processed['price_category'] = pd.cut(df_processed['price'], \n",
    "                                       bins=[0, 50, 100, 200, float('inf')],\n",
    "                                       labels=['Budget', 'Mid-range', 'Premium', 'Luxury'])\n",
    "\n",
    "# Availability categories\n",
    "df_processed['availability_category'] = pd.cut(df_processed['availability_365'],\n",
    "                                              bins=[0, 30, 180, 365],\n",
    "                                              labels=['Low', 'Medium', 'High'])\n",
    "\n",
    "# Host type (single vs multiple listings)\n",
    "df_processed['host_type'] = df_processed['calculated_host_listings_count'].apply(\n",
    "    lambda x: 'Single' if x == 1 else 'Multiple'\n",
    ")\n",
    "\n",
    "# Review frequency (reviews per month equivalent)\n",
    "df_processed['review_frequency'] = pd.cut(df_processed['number_of_reviews'],\n",
    "                                         bins=[0, 10, 50, float('inf')],\n",
    "                                         labels=['Low', 'Medium', 'High'])\n",
    "\n",
    "# Display feature distributions for verification\n",
    "price_cat_dist = df_processed['price_category'].value_counts()\n",
    "avail_cat_dist = df_processed['availability_category'].value_counts()\n",
    "host_type_dist = df_processed['host_type'].value_counts()\n",
    "review_freq_dist = df_processed['review_frequency'].value_counts()\n",
    "\n",
    "print(\"Feature Engineering Verification:\")\n",
    "print(f\"- price_category: {price_cat_dist.to_dict()}\")\n",
    "print(f\"- availability_category: {avail_cat_dist.to_dict()}\")\n",
    "print(f\"- host_type: {host_type_dist.to_dict()}\")\n",
    "print(f\"- review_frequency: {review_freq_dist.to_dict()}\")"
   ]
  },
  {
   "cell_type": "markdown",
   "metadata": {},
   "source": [
    "### Feature Engineering Summary\n",
    "\n",
    "**New Features Created:**\n",
    "- **price_category**: Segments listings into Budget, Mid-range, Premium, and Luxury categories\n",
    "- **availability_category**: Classifies availability into Low (0-30 days), Medium (30-180 days), and High (180+ days)\n",
    "- **host_type**: Distinguishes between Single property hosts vs Multiple property hosts\n",
    "- **review_frequency**: Categorizes review activity into Low (0-10), Medium (10-50), and High (50+) reviews\n",
    "\n",
    "These engineered features will help capture non-linear relationships and provide additional predictive power for the machine learning models."
   ]
  },
  {
   "cell_type": "markdown",
   "metadata": {},
   "source": [
    "## 2.6 Data Transformation and Normalization\n",
    "\n",
    "Transform and normalize features to optimize them for machine learning algorithms."
   ]
  },
  {
   "cell_type": "code",
   "execution_count": 12,
   "metadata": {},
   "outputs": [
    {
     "name": "stdout",
     "output_type": "stream",
     "text": [
      "Data Transformation Steps:\n",
      "========================================\n",
      "\n",
      "1. Feature Type Detection:\n",
      "   Numerical features: ['latitude', 'longitude', 'minimum_nights', 'number_of_reviews', 'calculated_host_listings_count', 'availability_365']\n",
      "   Categorical features: ['neighbourhood_group', 'neighbourhood', 'room_type', 'price_category', 'availability_category', 'host_type', 'review_frequency']\n",
      "\n",
      "   Feature Type Validation:\n",
      "   neighbourhood_group: 5 unique values\n",
      "   neighbourhood: 219 unique values\n",
      "   room_type: 3 unique values\n",
      "   price_category: 4 unique values\n",
      "   availability_category: 3 unique values\n",
      "   host_type: 2 unique values\n",
      "   review_frequency: 3 unique values\n",
      "\n",
      "2. Encoding Categorical Variables:\n",
      "   Low cardinality: neighbourhood_group (5 unique values) - will use one-hot encoding\n",
      "   High cardinality: neighbourhood (219 unique values) - will use target encoding\n",
      "   Low cardinality: room_type (3 unique values) - will use one-hot encoding\n",
      "   Low cardinality: price_category (4 unique values) - will use one-hot encoding\n",
      "   Low cardinality: availability_category (3 unique values) - will use one-hot encoding\n",
      "   Low cardinality: host_type (2 unique values) - will use one-hot encoding\n",
      "   Low cardinality: review_frequency (3 unique values) - will use one-hot encoding\n",
      "   After one-hot encoding: 28 features\n",
      "   Target encoded: neighbourhood -> neighbourhood_price_encoded\n",
      "\n",
      "   Final feature count after encoding: 28 features\n"
     ]
    }
   ],
   "source": [
    "# Create a copy for transformation\n",
    "df_transformed = df_processed.copy()\n",
    "\n",
    "print(\"Data Transformation Steps:\")\n",
    "print(\"=\" * 40)\n",
    "\n",
    "# 1. Feature Type Detection using pandas dtypes\n",
    "print(\"\\n1. Feature Type Detection:\")\n",
    "\n",
    "# Exclude the target variable 'price' from feature detection\n",
    "features_for_analysis = df_transformed.drop('price', axis=1)\n",
    "\n",
    "# Use pandas dtypes to identify feature types\n",
    "numerical_features = features_for_analysis.select_dtypes(include=[np.number]).columns.tolist()\n",
    "categorical_features = features_for_analysis.select_dtypes(include=['object', 'category']).columns.tolist()\n",
    "\n",
    "print(f\"   Numerical features: {numerical_features}\")\n",
    "print(f\"   Categorical features: {categorical_features}\")\n",
    "\n",
    "# Validate our classification\n",
    "print(f\"\\n   Feature Type Validation:\")\n",
    "for col in categorical_features:\n",
    "    unique_count = features_for_analysis[col].nunique()\n",
    "    print(f\"   {col}: {unique_count} unique values\")\n",
    "\n",
    "print(f\"\\n2. Encoding Categorical Variables:\")\n",
    "\n",
    "# Determine encoding strategy based on cardinality\n",
    "high_cardinality_threshold = 50  # Threshold for high cardinality\n",
    "\n",
    "low_cardinality_cats = []\n",
    "high_cardinality_cats = []\n",
    "\n",
    "for col in categorical_features:\n",
    "    unique_count = df_transformed[col].nunique()\n",
    "    if unique_count > high_cardinality_threshold:\n",
    "        high_cardinality_cats.append(col)\n",
    "        print(f\"   High cardinality: {col} ({unique_count} unique values) - will use target encoding\")\n",
    "    else:\n",
    "        low_cardinality_cats.append(col)\n",
    "        print(f\"   Low cardinality: {col} ({unique_count} unique values) - will use one-hot encoding\")\n",
    "\n",
    "# Apply one-hot encoding to low cardinality features\n",
    "if low_cardinality_cats:\n",
    "    df_encoded = pd.get_dummies(df_transformed, columns=low_cardinality_cats, prefix=low_cardinality_cats)\n",
    "    print(f\"   After one-hot encoding: {df_encoded.shape[1]} features\")\n",
    "else:\n",
    "    df_encoded = df_transformed.copy()\n",
    "    print(f\"   No low cardinality features to one-hot encode\")\n",
    "\n",
    "# Handle high-cardinality categorical features with target encoding\n",
    "if high_cardinality_cats:\n",
    "    for col in high_cardinality_cats:\n",
    "        # Use target encoding for high cardinality features\n",
    "        target_mean = df_transformed.groupby(col)['price'].mean()\n",
    "        df_encoded[f'{col}_price_encoded'] = df_transformed[col].map(target_mean)\n",
    "        \n",
    "        # Drop original high cardinality column\n",
    "        if col in df_encoded.columns:\n",
    "            df_encoded = df_encoded.drop(col, axis=1)\n",
    "        \n",
    "        print(f\"   Target encoded: {col} -> {col}_price_encoded\")\n",
    "\n",
    "print(f\"\\n   Final feature count after encoding: {df_encoded.shape[1]} features\")"
   ]
  },
  {
   "cell_type": "markdown",
   "metadata": {},
   "source": [
    "### Data Transformation Results\n",
    "\n",
    "**Encoding Applied:**\n",
    "- **One-Hot Encoding**: Applied to low cardinality categorical features (< 50 unique values)\n",
    "- **Target Encoding**: Applied to high cardinality categorical features (≥ 50 unique values)\n",
    "- **Feature Count**: Expanded from original features to accommodate encoded variables\n",
    "- **Data Quality**: All categorical variables successfully converted to numerical format for ML algorithms"
   ]
  },
  {
   "cell_type": "code",
   "execution_count": 13,
   "metadata": {},
   "outputs": [
    {
     "name": "stdout",
     "output_type": "stream",
     "text": [
      "\n",
      "3. Scaling Numerical Features:\n",
      "   Numerical columns identified for scaling: ['latitude', 'longitude', 'minimum_nights', 'number_of_reviews', 'calculated_host_listings_count', 'availability_365', 'neighbourhood_price_encoded']\n",
      "   Scaled 7 numerical features\n",
      "   Scaling method: StandardScaler (mean=0, std=1)\n",
      "\n",
      "4. Transformation Verification:\n",
      "   Final feature count: 27 (excluding target 'price')\n",
      "   Sample size: 45899\n",
      "\n",
      "   Scaled numerical features stats:\n",
      "        latitude  longitude  minimum_nights  number_of_reviews  \\\n",
      "count  45899.000  45899.000       45899.000          45899.000   \n",
      "mean      -0.000     -0.000          -0.000             -0.000   \n",
      "std        1.000      1.000           1.000              1.000   \n",
      "min       -4.133     -6.319          -0.360             -0.528   \n",
      "25%       -0.710     -0.671          -0.360             -0.506   \n",
      "50%       -0.121     -0.078          -0.297             -0.418   \n",
      "75%        0.631      0.353          -0.110              0.001   \n",
      "max        3.336      5.115          22.387             13.350   \n",
      "\n",
      "       calculated_host_listings_count  availability_365  \\\n",
      "count                       45899.000         45899.000   \n",
      "mean                           -0.000             0.000   \n",
      "std                             1.000             1.000   \n",
      "min                            -0.182            -0.839   \n",
      "25%                            -0.182            -0.839   \n",
      "50%                            -0.182            -0.540   \n",
      "75%                            -0.150             0.819   \n",
      "max                            10.329             1.963   \n",
      "\n",
      "       neighbourhood_price_encoded  \n",
      "count                    45899.000  \n",
      "mean                        -0.000  \n",
      "std                          1.000  \n",
      "min                         -2.126  \n",
      "25%                         -0.770  \n",
      "50%                         -0.224  \n",
      "75%                          0.873  \n",
      "max                          3.775  \n"
     ]
    }
   ],
   "source": [
    "# 6. Scale numerical features\n",
    "print(\"\\n3. Scaling Numerical Features:\")\n",
    "\n",
    "# Automatically identify numerical columns from the encoded dataset (excluding target)\n",
    "numerical_cols_encoded = df_encoded.drop('price', axis=1).select_dtypes(include=[np.number]).columns.tolist()\n",
    "\n",
    "print(f\"   Numerical columns identified for scaling: {numerical_cols_encoded}\")\n",
    "\n",
    "# Initialize StandardScaler\n",
    "scaler = StandardScaler()\n",
    "\n",
    "# Fit and transform numerical features\n",
    "if numerical_cols_encoded:\n",
    "    df_encoded[numerical_cols_encoded] = scaler.fit_transform(df_encoded[numerical_cols_encoded])\n",
    "    print(f\"   Scaled {len(numerical_cols_encoded)} numerical features\")\n",
    "    print(f\"   Scaling method: StandardScaler (mean=0, std=1)\")\n",
    "else:\n",
    "    print(f\"   No numerical features found to scale\")\n",
    "\n",
    "# 7. Verify transformations\n",
    "print(\"\\n4. Transformation Verification:\")\n",
    "print(f\"   Final feature count: {df_encoded.shape[1] - 1} (excluding target 'price')\")\n",
    "print(f\"   Sample size: {df_encoded.shape[0]}\")\n",
    "\n",
    "# Show some statistics for numerical features after scaling\n",
    "if numerical_cols_encoded:\n",
    "    print(f\"\\n   Scaled numerical features stats:\")\n",
    "    print(df_encoded[numerical_cols_encoded].describe().round(3))\n",
    "else:\n",
    "    print(f\"\\n   No numerical features to display stats for\")"
   ]
  },
  {
   "cell_type": "markdown",
   "metadata": {},
   "source": [
    "### Scaling Results\n",
    "\n",
    "**StandardScaler Applied:**\n",
    "- **Method**: Z-score normalization (mean=0, std=1)\n",
    "- **Benefits**: All numerical features now have the same scale\n",
    "- **ML Ready**: Features optimized for distance-based and gradient-based algorithms\n",
    "- **Quality**: Scaling preserves the relative relationships between data points"
   ]
  },
  {
   "cell_type": "markdown",
   "metadata": {},
   "source": [
    "## 2.7 Train/Test Split\n",
    "\n",
    "Divide the transformed and normalized dataset into training and testing sets for machine learning model development."
   ]
  },
  {
   "cell_type": "code",
   "execution_count": 14,
   "metadata": {},
   "outputs": [
    {
     "name": "stdout",
     "output_type": "stream",
     "text": [
      "Train/Test Split Summary (Transformed Data):\n",
      "Training set: 36719 samples\n",
      "Test set: 9180 samples\n",
      "Features: 27\n",
      "\n",
      "Sample of transformed features:\n",
      "       latitude  longitude  minimum_nights  number_of_reviews  \\\n",
      "12552 -1.969333  -0.398975        1.327454          -0.484222   \n",
      "27658 -0.850134   0.417766        2.389804          -0.484222   \n",
      "37388 -0.256288  -0.903951       -0.234825          -0.042924   \n",
      "\n",
      "       calculated_host_listings_count  availability_365  \\\n",
      "12552                         -0.1819          1.962919   \n",
      "27658                         -0.1819         -0.509214   \n",
      "37388                         -0.1819          0.143368   \n",
      "\n",
      "       neighbourhood_group_Bronx  neighbourhood_group_Brooklyn  \\\n",
      "12552                      False                          True   \n",
      "27658                      False                          True   \n",
      "37388                      False                         False   \n",
      "\n",
      "       neighbourhood_group_Manhattan  neighbourhood_group_Queens  ...  \\\n",
      "12552                          False                       False  ...   \n",
      "27658                          False                       False  ...   \n",
      "37388                           True                       False  ...   \n",
      "\n",
      "       price_category_Luxury  availability_category_Low  \\\n",
      "12552                  False                      False   \n",
      "27658                  False                      False   \n",
      "37388                  False                      False   \n",
      "\n",
      "       availability_category_Medium  availability_category_High  \\\n",
      "12552                         False                        True   \n",
      "27658                          True                       False   \n",
      "37388                          True                       False   \n",
      "\n",
      "       host_type_Multiple  host_type_Single  review_frequency_Low  \\\n",
      "12552               False              True                  True   \n",
      "27658               False              True                  True   \n",
      "37388               False              True                 False   \n",
      "\n",
      "       review_frequency_Medium  review_frequency_High  \\\n",
      "12552                    False                  False   \n",
      "27658                    False                  False   \n",
      "37388                     True                  False   \n",
      "\n",
      "       neighbourhood_price_encoded  \n",
      "12552                    -1.160486  \n",
      "27658                    -0.759844  \n",
      "37388                     0.547188  \n",
      "\n",
      "[3 rows x 27 columns]\n",
      "\n",
      "Target variable (price) statistics:\n",
      "Train - Mean: $119.87, Std: $68.08\n",
      "Test - Mean: $120.52, Std: $68.34\n"
     ]
    }
   ],
   "source": [
    "# Prepare features and target variable from the transformed data\n",
    "# Use the encoded and scaled features for better ML performance\n",
    "X = df_encoded.drop(['price'], axis=1)  # All features except target\n",
    "y = df_encoded['price']  # Target variable\n",
    "\n",
    "# Split the data (80% train, 20% test)\n",
    "X_train, X_test, y_train, y_test = train_test_split(\n",
    "    X, y, test_size=0.2, random_state=42\n",
    ")\n",
    "\n",
    "print(\"Train/Test Split Summary (Transformed Data):\")\n",
    "print(f\"Training set: {X_train.shape[0]} samples\")\n",
    "print(f\"Test set: {X_test.shape[0]} samples\")\n",
    "print(f\"Features: {X_train.shape[1]}\")\n",
    "\n",
    "# Show sample of transformed features\n",
    "print(f\"\\nSample of transformed features:\")\n",
    "print(X_train.head(3))\n",
    "\n",
    "print(f\"\\nTarget variable (price) statistics:\")\n",
    "print(f\"Train - Mean: ${y_train.mean():.2f}, Std: ${y_train.std():.2f}\")\n",
    "print(f\"Test - Mean: ${y_test.mean():.2f}, Std: ${y_test.std():.2f}\")"
   ]
  },
  {
   "cell_type": "markdown",
   "metadata": {},
   "source": [
    "### Train/Test Split Results\n",
    "\n",
    "**Split Configuration:**\n",
    "- **Training Set**: 80% of data for model training and validation\n",
    "- **Test Set**: 20% of data for final model evaluation\n",
    "- **Random State**: 42 (ensures reproducible results)\n",
    "- **Features**: All transformed and scaled features ready for ML algorithms\n",
    "- **Target Distribution**: Balanced between train and test sets\n",
    "\n",
    "**Data Quality Check:**\n",
    "- All features are properly encoded and scaled\n",
    "- No missing values in final datasets\n",
    "- Target variable maintains similar distribution across splits"
   ]
  },
  {
   "cell_type": "markdown",
   "metadata": {},
   "source": [
    "## 2.8 Final Data Quality Check"
   ]
  },
  {
   "cell_type": "code",
   "execution_count": 15,
   "metadata": {},
   "outputs": [
    {
     "name": "stdout",
     "output_type": "stream",
     "text": [
      "Final Dataset Summary (After Transformation):\n",
      "==================================================\n",
      "Total samples: 45899\n",
      "Features: 27\n",
      "Missing values: 0\n",
      "Price range: $10.00 - $334.00\n",
      "Average price: $120.00\n",
      "\n",
      "Transformed Feature Types:\n",
      "Numerical features: 7\n",
      "Categorical features: 0\n",
      "Total features ready for ML: 27\n"
     ]
    }
   ],
   "source": [
    "# Final data quality summary using the transformed dataset\n",
    "print(\"Final Dataset Summary (After Transformation):\")\n",
    "print(\"=\" * 50)\n",
    "print(f\"Total samples: {len(df_encoded)}\")\n",
    "print(f\"Features: {df_encoded.shape[1] - 1}\")  # Exclude target variable\n",
    "print(f\"Missing values: {df_encoded.isnull().sum().sum()}\")\n",
    "print(f\"Price range: ${df_encoded['price'].min():.2f} - ${df_encoded['price'].max():.2f}\")\n",
    "print(f\"Average price: ${df_encoded['price'].mean():.2f}\")\n",
    "\n",
    "# Show feature types after transformation\n",
    "feature_cols = df_encoded.drop('price', axis=1).columns\n",
    "numerical_transformed = df_encoded[feature_cols].select_dtypes(include=[np.number]).columns\n",
    "categorical_transformed = df_encoded[feature_cols].select_dtypes(include=['object']).columns\n",
    "\n",
    "print(f\"\\nTransformed Feature Types:\")\n",
    "print(f\"Numerical features: {len(numerical_transformed)}\")\n",
    "print(f\"Categorical features: {len(categorical_transformed)}\")\n",
    "print(f\"Total features ready for ML: {len(feature_cols)}\")"
   ]
  },
  {
   "cell_type": "markdown",
   "metadata": {},
   "source": [
    "# Step 3: Save the Processed Dataset\n",
    "\n",
    "Save the cleaned and processed data in the `./data/processed` folder for machine learning model training."
   ]
  },
  {
   "cell_type": "code",
   "execution_count": 16,
   "metadata": {},
   "outputs": [
    {
     "name": "stdout",
     "output_type": "stream",
     "text": [
      "Saving processed datasets...\n"
     ]
    },
    {
     "name": "stdout",
     "output_type": "stream",
     "text": [
      " All datasets saved successfully!\n",
      "\n",
      "Saved files:\n",
      "- airbnb_processed.csv (full processed dataset)\n",
      "- airbnb_train.csv (training set with target)\n",
      "- airbnb_test.csv (test set with target)\n",
      "- X_train.csv, X_test.csv (features only)\n",
      "- y_train.csv, y_test.csv (target only)\n"
     ]
    }
   ],
   "source": [
    "# Save processed datasets\n",
    "print(\"Saving processed datasets...\")\n",
    "\n",
    "# Save full processed dataset\n",
    "df_processed.to_csv('./data/processed/airbnb_processed.csv', index=False)\n",
    "\n",
    "# Save train/test splits\n",
    "train_data = X_train.copy()\n",
    "train_data['price'] = y_train\n",
    "test_data = X_test.copy() \n",
    "test_data['price'] = y_test\n",
    "\n",
    "train_data.to_csv('./data/processed/airbnb_train.csv', index=False)\n",
    "test_data.to_csv('./data/processed/airbnb_test.csv', index=False)\n",
    "\n",
    "# Save feature and target separately for ML pipelines\n",
    "X_train.to_csv('./data/processed/X_train.csv', index=False)\n",
    "X_test.to_csv('./data/processed/X_test.csv', index=False)\n",
    "y_train.to_csv('./data/processed/y_train.csv', index=False)\n",
    "y_test.to_csv('./data/processed/y_test.csv', index=False)\n",
    "\n",
    "print(\" All datasets saved successfully!\")\n",
    "print(\"\\nSaved files:\")\n",
    "print(\"- airbnb_processed.csv (full processed dataset)\")\n",
    "print(\"- airbnb_train.csv (training set with target)\")\n",
    "print(\"- airbnb_test.csv (test set with target)\")\n",
    "print(\"- X_train.csv, X_test.csv (features only)\")\n",
    "print(\"- y_train.csv, y_test.csv (target only)\")"
   ]
  },
  {
   "cell_type": "markdown",
   "metadata": {},
   "source": [
    "## Summary\n",
    "\n",
    "### Data Processing Pipeline Completed \n",
    "\n",
    "1. **Dataset Loaded**: 48,895 original listings from Airbnb NYC 2019\n",
    "2. **Data Cleaned**: Removed invalid prices, extreme outliers, handled missing values\n",
    "3. **Features Selected**: 10 core features + 4 engineered features for ML\n",
    "4. **Train/Test Split**: 80/20 split with stratification by neighbourhood group\n",
    "5. **Data Saved**: Multiple formats ready for machine learning workflows\n",
    "\n",
    "### Key Insights:\n",
    "- **Price Range**: Most listings between $50-$200/night\n",
    "- **Geographic Distribution**: Concentrated in Manhattan and Brooklyn\n",
    "- **Room Types**: Entire homes/apartments are most expensive\n",
    "- **Data Quality**: Clean dataset ready for modeling\n",
    "\n",
    "### Next Steps:\n",
    "- Use the processed data in `./data/processed/` for machine learning\n",
    "- Consider encoding categorical variables for specific algorithms\n",
    "- Feature scaling may be needed for some ML models\n",
    "- Ready for regression modeling with 'price' as target variable"
   ]
  },
  {
   "cell_type": "markdown",
   "metadata": {},
   "source": []
  }
 ],
 "metadata": {
  "kernelspec": {
   "display_name": ".venv",
   "language": "python",
   "name": "python3"
  },
  "language_info": {
   "codemirror_mode": {
    "name": "ipython",
    "version": 3
   },
   "file_extension": ".py",
   "mimetype": "text/x-python",
   "name": "python",
   "nbconvert_exporter": "python",
   "pygments_lexer": "ipython3",
   "version": "3.11.4"
  },
  "orig_nbformat": 4
 },
 "nbformat": 4,
 "nbformat_minor": 2
}
